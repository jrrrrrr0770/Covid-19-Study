{
 "cells": [
  {
   "cell_type": "markdown",
   "id": "d6973686-97f0-4a21-88cb-c8ceaa853d4d",
   "metadata": {},
   "source": [
    "<img src=\"./images/coronavirus_icon-1.jpg\" style=\"float: left; margin: 20px; height: 75px\">\n",
    "\n",
    "# Capstone: Covid-19 Study"
   ]
  },
  {
   "cell_type": "markdown",
   "id": "af1111ee-091a-48d7-93f5-b620fce86a28",
   "metadata": {},
   "source": [
    "# Problem Statement\n",
    "\n",
    "Covid-19 Study"
   ]
  },
  {
   "cell_type": "markdown",
   "id": "fbfe016e-b709-4423-a023-a97b479f235a",
   "metadata": {},
   "source": [
    "# 1.  Data collection and cleaning"
   ]
  },
  {
   "cell_type": "code",
   "execution_count": 1,
   "id": "be95fa41-4b34-4bb3-89b9-d4e77e1011cc",
   "metadata": {
    "tags": []
   },
   "outputs": [],
   "source": [
    "# Import libraries\n",
    "\n",
    "import pandas as pd\n",
    "import numpy as np\n",
    "import requests\n",
    "import os"
   ]
  },
  {
   "cell_type": "code",
   "execution_count": 2,
   "id": "f2e0d9fc-53b9-4803-ac46-54f7f1e92bb1",
   "metadata": {
    "tags": []
   },
   "outputs": [],
   "source": [
    "# Create dictionary to download all relevant google csv's\n",
    "\n",
    "google_dict = {'index' : \"https://storage.googleapis.com/covid19-open-data/v3/index.csv\",\n",
    "               'demographics' : \"https://storage.googleapis.com/covid19-open-data/v3/demographics.csv\",\n",
    "               'epidemiology' : \"https://storage.googleapis.com/covid19-open-data/v3/epidemiology.csv\",\n",
    "               'health' : \"https://storage.googleapis.com/covid19-open-data/v3/health.csv\",\n",
    "               'vaccinations' : \"https://storage.googleapis.com/covid19-open-data/v3/vaccinations.csv\",\n",
    "               'government_response' : \"https://storage.googleapis.com/covid19-open-data/v3/oxford-government-response.csv\",\n",
    "               'weather' : \"https://storage.googleapis.com/covid19-open-data/v3/weather.csv\"\n",
    "               }"
   ]
  },
  {
   "cell_type": "code",
   "execution_count": 3,
   "id": "0d6f22b0-2144-4b23-b7bd-de2387855f65",
   "metadata": {
    "tags": []
   },
   "outputs": [],
   "source": [
    "# read in and save google csv files\n",
    "# Referenced https://medium.com/@mudassar_lhr/how-to-download-the-csv-file-from-url-using-python-650eae6d3478\n",
    "\n",
    "for k,v in google_dict.items():\n",
    "    req = requests.get(v)\n",
    "    url_content = req.content\n",
    "    csv_file = open(f'../world_datasets/{k}.csv', 'wb')\n",
    "    csv_file.write(url_content)\n",
    "    csv_file.close"
   ]
  },
  {
   "cell_type": "code",
   "execution_count": 15,
   "id": "734800ce-1203-4939-8a11-e850acb82444",
   "metadata": {},
   "outputs": [],
   "source": [
    "# Create Dataframes\n",
    "\n",
    "index = pd.read_csv('../world_datasets/index.csv')\n",
    "demographics = pd.read_csv('../world_datasets/demographics.csv')\n",
    "epidemiology = pd.read_csv('../world_datasets/epidemiology.csv')\n",
    "health= pd.read_csv('../world_datasets/health.csv')\n",
    "vaccinations = pd.read_csv('../world_datasets/vaccinations.csv')\n",
    "government_response = pd.read_csv('../world_datasets/government_response.csv')\n",
    "weather = pd.read_csv('../world_datasets/weather.csv')"
   ]
  },
  {
   "cell_type": "code",
   "execution_count": 101,
   "id": "13ce8bc7-f765-40c5-869b-ff32e33633cd",
   "metadata": {
    "tags": []
   },
   "outputs": [],
   "source": [
    "# Create dataframe list \n",
    "\n",
    "df_list = [index,\n",
    "           demographics,\n",
    "           epidemiology,\n",
    "           health,\n",
    "           vaccinations,\n",
    "           government_response,\n",
    "           weather]"
   ]
  },
  {
   "cell_type": "code",
   "execution_count": 102,
   "id": "c7526ffa-e079-4c31-8d5b-69c42934f3e0",
   "metadata": {
    "tags": []
   },
   "outputs": [
    {
     "name": "stdout",
     "output_type": "stream",
     "text": [
      "<class 'pandas.core.frame.DataFrame'>\n",
      "RangeIndex: 22963 entries, 0 to 22962\n",
      "Data columns (total 15 columns):\n",
      " #   Column              Non-Null Count  Dtype \n",
      "---  ------              --------------  ----- \n",
      " 0   location_key        22962 non-null  object\n",
      " 1   place_id            21661 non-null  object\n",
      " 2   wikidata_id         22184 non-null  object\n",
      " 3   datacommons_id      4216 non-null   object\n",
      " 4   country_code        22962 non-null  object\n",
      " 5   country_name        22963 non-null  object\n",
      " 6   subregion1_code     22715 non-null  object\n",
      " 7   subregion1_name     22716 non-null  object\n",
      " 8   subregion2_code     21253 non-null  object\n",
      " 9   subregion2_name     21253 non-null  object\n",
      " 10  locality_code       32 non-null     object\n",
      " 11  locality_name       32 non-null     object\n",
      " 12  iso_3166_1_alpha_2  22961 non-null  object\n",
      " 13  iso_3166_1_alpha_3  22962 non-null  object\n",
      " 14  aggregation_level   22963 non-null  int64 \n",
      "dtypes: int64(1), object(14)\n",
      "memory usage: 2.6+ MB\n",
      "\n",
      "---------------------------------------------------------------------------\n",
      "\n",
      "<class 'pandas.core.frame.DataFrame'>\n",
      "RangeIndex: 21689 entries, 0 to 21688\n",
      "Data columns (total 19 columns):\n",
      " #   Column                       Non-Null Count  Dtype  \n",
      "---  ------                       --------------  -----  \n",
      " 0   location_key                 21688 non-null  object \n",
      " 1   population                   21659 non-null  float64\n",
      " 2   population_male              17607 non-null  float64\n",
      " 3   population_female            17607 non-null  float64\n",
      " 4   population_rural             213 non-null    float64\n",
      " 5   population_urban             213 non-null    float64\n",
      " 6   population_largest_city      152 non-null    float64\n",
      " 7   population_clustered         121 non-null    float64\n",
      " 8   population_density           1192 non-null   float64\n",
      " 9   human_development_index      5738 non-null   float64\n",
      " 10  population_age_00_09         17249 non-null  float64\n",
      " 11  population_age_10_19         17248 non-null  float64\n",
      " 12  population_age_20_29         17248 non-null  float64\n",
      " 13  population_age_30_39         17256 non-null  float64\n",
      " 14  population_age_40_49         17250 non-null  float64\n",
      " 15  population_age_50_59         17232 non-null  float64\n",
      " 16  population_age_60_69         17214 non-null  float64\n",
      " 17  population_age_70_79         17127 non-null  float64\n",
      " 18  population_age_80_and_older  16960 non-null  float64\n",
      "dtypes: float64(18), object(1)\n",
      "memory usage: 3.1+ MB\n",
      "\n",
      "---------------------------------------------------------------------------\n",
      "\n",
      "<class 'pandas.core.frame.DataFrame'>\n",
      "RangeIndex: 12525825 entries, 0 to 12525824\n",
      "Data columns (total 10 columns):\n",
      " #   Column                Dtype  \n",
      "---  ------                -----  \n",
      " 0   date                  object \n",
      " 1   location_key          object \n",
      " 2   new_confirmed         float64\n",
      " 3   new_deceased          float64\n",
      " 4   new_recovered         float64\n",
      " 5   new_tested            float64\n",
      " 6   cumulative_confirmed  float64\n",
      " 7   cumulative_deceased   float64\n",
      " 8   cumulative_recovered  float64\n",
      " 9   cumulative_tested     float64\n",
      "dtypes: float64(8), object(2)\n",
      "memory usage: 955.6+ MB\n",
      "\n",
      "---------------------------------------------------------------------------\n",
      "\n",
      "<class 'pandas.core.frame.DataFrame'>\n",
      "RangeIndex: 3504 entries, 0 to 3503\n",
      "Data columns (total 14 columns):\n",
      " #   Column                                Non-Null Count  Dtype  \n",
      "---  ------                                --------------  -----  \n",
      " 0   location_key                          3503 non-null   object \n",
      " 1   life_expectancy                       3499 non-null   float64\n",
      " 2   smoking_prevalence                    146 non-null    float64\n",
      " 3   diabetes_prevalence                   209 non-null    float64\n",
      " 4   infant_mortality_rate                 193 non-null    float64\n",
      " 5   adult_male_mortality_rate             189 non-null    float64\n",
      " 6   adult_female_mortality_rate           189 non-null    float64\n",
      " 7   pollution_mortality_rate              183 non-null    float64\n",
      " 8   comorbidity_mortality_rate            183 non-null    float64\n",
      " 9   hospital_beds_per_1000                25 non-null     float64\n",
      " 10  nurses_per_1000                       180 non-null    float64\n",
      " 11  physicians_per_1000                   164 non-null    float64\n",
      " 12  health_expenditure_usd                186 non-null    float64\n",
      " 13  out_of_pocket_health_expenditure_usd  186 non-null    float64\n",
      "dtypes: float64(13), object(1)\n",
      "memory usage: 383.4+ KB\n",
      "\n",
      "---------------------------------------------------------------------------\n",
      "\n",
      "<class 'pandas.core.frame.DataFrame'>\n",
      "RangeIndex: 2545118 entries, 0 to 2545117\n",
      "Data columns (total 32 columns):\n",
      " #   Column                                         Dtype  \n",
      "---  ------                                         -----  \n",
      " 0   date                                           object \n",
      " 1   location_key                                   object \n",
      " 2   new_persons_vaccinated                         float64\n",
      " 3   cumulative_persons_vaccinated                  float64\n",
      " 4   new_persons_fully_vaccinated                   float64\n",
      " 5   cumulative_persons_fully_vaccinated            float64\n",
      " 6   new_vaccine_doses_administered                 float64\n",
      " 7   cumulative_vaccine_doses_administered          float64\n",
      " 8   new_persons_vaccinated_pfizer                  float64\n",
      " 9   cumulative_persons_vaccinated_pfizer           float64\n",
      " 10  new_persons_fully_vaccinated_pfizer            float64\n",
      " 11  cumulative_persons_fully_vaccinated_pfizer     float64\n",
      " 12  new_vaccine_doses_administered_pfizer          float64\n",
      " 13  cumulative_vaccine_doses_administered_pfizer   float64\n",
      " 14  new_persons_vaccinated_moderna                 float64\n",
      " 15  cumulative_persons_vaccinated_moderna          float64\n",
      " 16  new_persons_fully_vaccinated_moderna           float64\n",
      " 17  cumulative_persons_fully_vaccinated_moderna    float64\n",
      " 18  new_vaccine_doses_administered_moderna         float64\n",
      " 19  cumulative_vaccine_doses_administered_moderna  float64\n",
      " 20  new_persons_vaccinated_janssen                 float64\n",
      " 21  cumulative_persons_vaccinated_janssen          float64\n",
      " 22  new_persons_fully_vaccinated_janssen           float64\n",
      " 23  cumulative_persons_fully_vaccinated_janssen    float64\n",
      " 24  new_vaccine_doses_administered_janssen         float64\n",
      " 25  cumulative_vaccine_doses_administered_janssen  float64\n",
      " 26  new_persons_vaccinated_sinovac                 float64\n",
      " 27  total_persons_vaccinated_sinovac               float64\n",
      " 28  new_persons_fully_vaccinated_sinovac           float64\n",
      " 29  total_persons_fully_vaccinated_sinovac         float64\n",
      " 30  new_vaccine_doses_administered_sinovac         float64\n",
      " 31  total_vaccine_doses_administered_sinovac       float64\n",
      "dtypes: float64(30), object(2)\n",
      "memory usage: 621.4+ MB\n",
      "\n",
      "---------------------------------------------------------------------------\n",
      "\n",
      "<class 'pandas.core.frame.DataFrame'>\n",
      "RangeIndex: 303969 entries, 0 to 303968\n",
      "Data columns (total 22 columns):\n",
      " #   Column                              Non-Null Count   Dtype  \n",
      "---  ------                              --------------   -----  \n",
      " 0   date                                303969 non-null  object \n",
      " 1   location_key                        303053 non-null  object \n",
      " 2   school_closing                      302415 non-null  float64\n",
      " 3   workplace_closing                   302243 non-null  float64\n",
      " 4   cancel_public_events                302068 non-null  float64\n",
      " 5   restrictions_on_gatherings          301981 non-null  float64\n",
      " 6   public_transport_closing            301845 non-null  float64\n",
      " 7   stay_at_home_requirements           302074 non-null  float64\n",
      " 8   restrictions_on_internal_movement   302034 non-null  float64\n",
      " 9   international_travel_controls       300241 non-null  float64\n",
      " 10  income_support                      286963 non-null  float64\n",
      " 11  debt_relief                         286854 non-null  float64\n",
      " 12  fiscal_measures                     146749 non-null  float64\n",
      " 13  international_support               146645 non-null  float64\n",
      " 14  public_information_campaigns        302001 non-null  float64\n",
      " 15  testing_policy                      300377 non-null  float64\n",
      " 16  contact_tracing                     298180 non-null  float64\n",
      " 17  emergency_investment_in_healthcare  151099 non-null  float64\n",
      " 18  investment_in_vaccines              232734 non-null  float64\n",
      " 19  facial_coverings                    301618 non-null  float64\n",
      " 20  vaccination_policy                  301242 non-null  float64\n",
      " 21  stringency_index                    301587 non-null  float64\n",
      "dtypes: float64(20), object(2)\n",
      "memory usage: 51.0+ MB\n",
      "\n",
      "---------------------------------------------------------------------------\n",
      "\n",
      "<class 'pandas.core.frame.DataFrame'>\n",
      "RangeIndex: 21680590 entries, 0 to 21680589\n",
      "Data columns (total 9 columns):\n",
      " #   Column                       Dtype  \n",
      "---  ------                       -----  \n",
      " 0   date                         object \n",
      " 1   location_key                 object \n",
      " 2   average_temperature_celsius  float64\n",
      " 3   minimum_temperature_celsius  float64\n",
      " 4   maximum_temperature_celsius  float64\n",
      " 5   rainfall_mm                  float64\n",
      " 6   snowfall_mm                  float64\n",
      " 7   dew_point                    float64\n",
      " 8   relative_humidity            float64\n",
      "dtypes: float64(7), object(2)\n",
      "memory usage: 1.5+ GB\n",
      "\n",
      "---------------------------------------------------------------------------\n",
      "\n"
     ]
    }
   ],
   "source": [
    "# Display data information\n",
    "\n",
    "for df in df_list:\n",
    "    df.info()\n",
    "    print()\n",
    "    print('-'*75)\n",
    "    print()"
   ]
  },
  {
   "cell_type": "code",
   "execution_count": 18,
   "id": "67688aef-15c9-422b-93c6-98e8a3abac76",
   "metadata": {},
   "outputs": [],
   "source": [
    "# Extract US data from datasets\n",
    "\n",
    "us_index = index[index.location_key.str.startswith('US_') == True]\n",
    "us_demographics = demographics[demographics.location_key.str.startswith('US_') == True]\n",
    "us_epidemiology = epidemiology[epidemiology.location_key.str.startswith('US_') == True]\n",
    "us_health = health[health.location_key.str.startswith('US_') == True]\n",
    "us_vaccinations = vaccinations[vaccinations.location_key.str.startswith('US_') == True]\n",
    "us_government_response = government_response[government_response.location_key.str.startswith('US_') == True]\n",
    "us_weather = weather[weather.location_key.str.startswith('US_') == True]"
   ]
  },
  {
   "cell_type": "code",
   "execution_count": 15,
   "id": "cbcb2cef-728e-47e0-a7f9-f853135a53c1",
   "metadata": {},
   "outputs": [],
   "source": [
    "# Write US datasets to local for future use\n",
    "\n",
    "us_index.to_csv('../us_datasets/us_index.csv')\n",
    "us_demographics.to_csv('../us_datasets/us_demographics.csv')\n",
    "us_epidemiology.to_csv('../us_datasets/us_epidemiology.csv')\n",
    "us_health.to_csv('../us_datasets/us_health.csv')\n",
    "us_vaccinations.to_csv('../us_datasets/us_vaccinations.csv')\n",
    "us_government_response.to_csv('../us_datasets/us_government_response.csv')\n",
    "us_weather.to_csv('../us_datasets/us_weather.csv')"
   ]
  },
  {
   "cell_type": "code",
   "execution_count": 19,
   "id": "5b1e000f-f195-4539-8079-2db2b09fa7df",
   "metadata": {},
   "outputs": [],
   "source": [
    "# Create Dataframes\n",
    "\n",
    "us_index = pd.read_csv('../us_datasets/us_index.csv', index_col = 'location_key')\n",
    "us_demographics = pd.read_csv('../us_datasets/us_demographics.csv', index_col = 'location_key')\n",
    "us_epidemiology = pd.read_csv('../us_datasets/us_epidemiology.csv', index_col = 'location_key')\n",
    "us_health= pd.read_csv('../us_datasets/us_health.csv', index_col = 'location_key')\n",
    "us_vaccinations = pd.read_csv('../us_datasets/us_vaccinations.csv', index_col = 'location_key')\n",
    "us_government_response = pd.read_csv('../us_datasets/us_government_response.csv', index_col = 'location_key')\n",
    "us_weather = pd.read_csv('../us_datasets/us_weather.csv', index_col = 'location_key')"
   ]
  },
  {
   "cell_type": "code",
   "execution_count": 33,
   "id": "5dff4c06-993d-4c49-b537-7c5f0baba134",
   "metadata": {
    "tags": []
   },
   "outputs": [
    {
     "name": "stdout",
     "output_type": "stream",
     "text": [
      "<class 'pandas.core.frame.DataFrame'>\n",
      "Index: 3142 entries, US_AK_02013 to US_WY_56045\n",
      "Data columns (total 1 columns):\n",
      " #   Column           Non-Null Count  Dtype \n",
      "---  ------           --------------  ----- \n",
      " 0   subregion2_name  3142 non-null   object\n",
      "dtypes: object(1)\n",
      "memory usage: 49.1+ KB\n",
      "\n",
      "---------------------------------------------------------------------------\n",
      "\n",
      "<class 'pandas.core.frame.DataFrame'>\n",
      "Index: 3284 entries, US_AK to US_WY_56045\n",
      "Data columns (total 20 columns):\n",
      " #   Column                       Non-Null Count  Dtype  \n",
      "---  ------                       --------------  -----  \n",
      " 0   Unnamed: 0.1                 3284 non-null   int64  \n",
      " 1   Unnamed: 0                   3284 non-null   int64  \n",
      " 2   population                   3284 non-null   float64\n",
      " 3   population_male              3202 non-null   float64\n",
      " 4   population_female            3202 non-null   float64\n",
      " 5   population_rural             0 non-null      float64\n",
      " 6   population_urban             0 non-null      float64\n",
      " 7   population_largest_city      0 non-null      float64\n",
      " 8   population_clustered         0 non-null      float64\n",
      " 9   population_density           0 non-null      float64\n",
      " 10  human_development_index      0 non-null      float64\n",
      " 11  population_age_00_09         3202 non-null   float64\n",
      " 12  population_age_10_19         3202 non-null   float64\n",
      " 13  population_age_20_29         3202 non-null   float64\n",
      " 14  population_age_30_39         3202 non-null   float64\n",
      " 15  population_age_40_49         3202 non-null   float64\n",
      " 16  population_age_50_59         3202 non-null   float64\n",
      " 17  population_age_60_69         3202 non-null   float64\n",
      " 18  population_age_70_79         3202 non-null   float64\n",
      " 19  population_age_80_and_older  3202 non-null   float64\n",
      "dtypes: float64(18), int64(2)\n",
      "memory usage: 538.8+ KB\n",
      "\n",
      "---------------------------------------------------------------------------\n",
      "\n",
      "<class 'pandas.core.frame.DataFrame'>\n",
      "Index: 2550043 entries, US_AK to US_WY_56045\n",
      "Data columns (total 11 columns):\n",
      " #   Column                Dtype  \n",
      "---  ------                -----  \n",
      " 0   Unnamed: 0.1          int64  \n",
      " 1   Unnamed: 0            int64  \n",
      " 2   date                  object \n",
      " 3   new_confirmed         float64\n",
      " 4   new_deceased          float64\n",
      " 5   new_recovered         float64\n",
      " 6   new_tested            float64\n",
      " 7   cumulative_confirmed  float64\n",
      " 8   cumulative_deceased   float64\n",
      " 9   cumulative_recovered  float64\n",
      " 10  cumulative_tested     float64\n",
      "dtypes: float64(8), int64(2), object(1)\n",
      "memory usage: 233.5+ MB\n",
      "\n",
      "---------------------------------------------------------------------------\n",
      "\n",
      "<class 'pandas.core.frame.DataFrame'>\n",
      "Index: 3075 entries, US_AK to US_WY_56045\n",
      "Data columns (total 15 columns):\n",
      " #   Column                                Non-Null Count  Dtype  \n",
      "---  ------                                --------------  -----  \n",
      " 0   Unnamed: 0.1                          3075 non-null   int64  \n",
      " 1   Unnamed: 0                            3075 non-null   int64  \n",
      " 2   life_expectancy                       3075 non-null   float64\n",
      " 3   smoking_prevalence                    0 non-null      float64\n",
      " 4   diabetes_prevalence                   0 non-null      float64\n",
      " 5   infant_mortality_rate                 0 non-null      float64\n",
      " 6   adult_male_mortality_rate             0 non-null      float64\n",
      " 7   adult_female_mortality_rate           0 non-null      float64\n",
      " 8   pollution_mortality_rate              0 non-null      float64\n",
      " 9   comorbidity_mortality_rate            0 non-null      float64\n",
      " 10  hospital_beds_per_1000                0 non-null      float64\n",
      " 11  nurses_per_1000                       0 non-null      float64\n",
      " 12  physicians_per_1000                   0 non-null      float64\n",
      " 13  health_expenditure_usd                0 non-null      float64\n",
      " 14  out_of_pocket_health_expenditure_usd  0 non-null      float64\n",
      "dtypes: float64(13), int64(2)\n",
      "memory usage: 384.4+ KB\n",
      "\n",
      "---------------------------------------------------------------------------\n",
      "\n",
      "<class 'pandas.core.frame.DataFrame'>\n",
      "Index: 57164 entries, US_AK to US_WY\n",
      "Data columns (total 12 columns):\n",
      " #   Column                              Non-Null Count  Dtype  \n",
      "---  ------                              --------------  -----  \n",
      " 0   Unnamed: 0.1                        57164 non-null  int64  \n",
      " 1   Unnamed: 0                          57164 non-null  int64  \n",
      " 2   date                                57164 non-null  object \n",
      " 3   new_hospitalized_patients           56261 non-null  float64\n",
      " 4   cumulative_hospitalized_patients    52116 non-null  float64\n",
      " 5   current_hospitalized_patients       48403 non-null  float64\n",
      " 6   new_intensive_care_patients         4102 non-null   float64\n",
      " 7   cumulative_intensive_care_patients  3789 non-null   float64\n",
      " 8   current_intensive_care_patients     46209 non-null  float64\n",
      " 9   new_ventilator_patients             1286 non-null   float64\n",
      " 10  cumulative_ventilator_patients      1290 non-null   float64\n",
      " 11  current_ventilator_patients         9126 non-null   float64\n",
      "dtypes: float64(9), int64(2), object(1)\n",
      "memory usage: 5.7+ MB\n",
      "\n",
      "---------------------------------------------------------------------------\n",
      "\n",
      "<class 'pandas.core.frame.DataFrame'>\n",
      "Index: 1624891 entries, US_AK to US_WY_56045\n",
      "Data columns (total 33 columns):\n",
      " #   Column                                         Non-Null Count    Dtype  \n",
      "---  ------                                         --------------    -----  \n",
      " 0   Unnamed: 0.1                                   1624891 non-null  int64  \n",
      " 1   Unnamed: 0                                     1624891 non-null  int64  \n",
      " 2   date                                           1624891 non-null  object \n",
      " 3   new_persons_vaccinated                         33325 non-null    float64\n",
      " 4   cumulative_persons_vaccinated                  33382 non-null    float64\n",
      " 5   new_persons_fully_vaccinated                   1621498 non-null  float64\n",
      " 6   cumulative_persons_fully_vaccinated            1624725 non-null  float64\n",
      " 7   new_vaccine_doses_administered                 33422 non-null    float64\n",
      " 8   cumulative_vaccine_doses_administered          33479 non-null    float64\n",
      " 9   new_persons_vaccinated_pfizer                  0 non-null        float64\n",
      " 10  cumulative_persons_vaccinated_pfizer           0 non-null        float64\n",
      " 11  new_persons_fully_vaccinated_pfizer            30352 non-null    float64\n",
      " 12  cumulative_persons_fully_vaccinated_pfizer     30408 non-null    float64\n",
      " 13  new_vaccine_doses_administered_pfizer          30352 non-null    float64\n",
      " 14  cumulative_vaccine_doses_administered_pfizer   30408 non-null    float64\n",
      " 15  new_persons_vaccinated_moderna                 0 non-null        float64\n",
      " 16  cumulative_persons_vaccinated_moderna          0 non-null        float64\n",
      " 17  new_persons_fully_vaccinated_moderna           30352 non-null    float64\n",
      " 18  cumulative_persons_fully_vaccinated_moderna    30408 non-null    float64\n",
      " 19  new_vaccine_doses_administered_moderna         30352 non-null    float64\n",
      " 20  cumulative_vaccine_doses_administered_moderna  30408 non-null    float64\n",
      " 21  new_persons_vaccinated_janssen                 0 non-null        float64\n",
      " 22  cumulative_persons_vaccinated_janssen          0 non-null        float64\n",
      " 23  new_persons_fully_vaccinated_janssen           30352 non-null    float64\n",
      " 24  cumulative_persons_fully_vaccinated_janssen    30408 non-null    float64\n",
      " 25  new_vaccine_doses_administered_janssen         30352 non-null    float64\n",
      " 26  cumulative_vaccine_doses_administered_janssen  30408 non-null    float64\n",
      " 27  new_persons_vaccinated_sinovac                 0 non-null        float64\n",
      " 28  total_persons_vaccinated_sinovac               0 non-null        float64\n",
      " 29  new_persons_fully_vaccinated_sinovac           0 non-null        float64\n",
      " 30  total_persons_fully_vaccinated_sinovac         0 non-null        float64\n",
      " 31  new_vaccine_doses_administered_sinovac         0 non-null        float64\n",
      " 32  total_vaccine_doses_administered_sinovac       0 non-null        float64\n",
      "dtypes: float64(30), int64(2), object(1)\n",
      "memory usage: 421.5+ MB\n",
      "\n",
      "---------------------------------------------------------------------------\n",
      "\n",
      "<class 'pandas.core.frame.DataFrame'>\n",
      "Index: 47299 entries, US_AK to US_WY\n",
      "Data columns (total 23 columns):\n",
      " #   Column                              Non-Null Count  Dtype  \n",
      "---  ------                              --------------  -----  \n",
      " 0   Unnamed: 0.1                        47299 non-null  int64  \n",
      " 1   Unnamed: 0                          47299 non-null  int64  \n",
      " 2   date                                47299 non-null  object \n",
      " 3   school_closing                      47298 non-null  float64\n",
      " 4   workplace_closing                   47299 non-null  float64\n",
      " 5   cancel_public_events                47299 non-null  float64\n",
      " 6   restrictions_on_gatherings          47299 non-null  float64\n",
      " 7   public_transport_closing            47291 non-null  float64\n",
      " 8   stay_at_home_requirements           47299 non-null  float64\n",
      " 9   restrictions_on_internal_movement   47293 non-null  float64\n",
      " 10  international_travel_controls       47284 non-null  float64\n",
      " 11  income_support                      47294 non-null  float64\n",
      " 12  debt_relief                         47249 non-null  float64\n",
      " 13  fiscal_measures                     12047 non-null  float64\n",
      " 14  international_support               11919 non-null  float64\n",
      " 15  public_information_campaigns        47296 non-null  float64\n",
      " 16  testing_policy                      47296 non-null  float64\n",
      " 17  contact_tracing                     47284 non-null  float64\n",
      " 18  emergency_investment_in_healthcare  11851 non-null  float64\n",
      " 19  investment_in_vaccines              13868 non-null  float64\n",
      " 20  facial_coverings                    47293 non-null  float64\n",
      " 21  vaccination_policy                  47289 non-null  float64\n",
      " 22  stringency_index                    47293 non-null  float64\n",
      "dtypes: float64(20), int64(2), object(1)\n",
      "memory usage: 8.7+ MB\n",
      "\n",
      "---------------------------------------------------------------------------\n",
      "\n",
      "<class 'pandas.core.frame.DataFrame'>\n",
      "Index: 3240613 entries, US_AK to US_WY_56045\n",
      "Data columns (total 10 columns):\n",
      " #   Column                       Dtype  \n",
      "---  ------                       -----  \n",
      " 0   Unnamed: 0.1                 int64  \n",
      " 1   Unnamed: 0                   int64  \n",
      " 2   date                         object \n",
      " 3   average_temperature_celsius  float64\n",
      " 4   minimum_temperature_celsius  float64\n",
      " 5   maximum_temperature_celsius  float64\n",
      " 6   rainfall_mm                  float64\n",
      " 7   snowfall_mm                  float64\n",
      " 8   dew_point                    float64\n",
      " 9   relative_humidity            float64\n",
      "dtypes: float64(7), int64(2), object(1)\n",
      "memory usage: 272.0+ MB\n",
      "\n",
      "---------------------------------------------------------------------------\n",
      "\n"
     ]
    }
   ],
   "source": [
    "# Display data information from US only datasets\n",
    "\n",
    "us_df_list = [us_index,\n",
    "           us_demographics,\n",
    "           us_epidemiology,\n",
    "           us_health,\n",
    "           us_vaccinations,\n",
    "           us_government_response,\n",
    "           us_weather]\n",
    "\n",
    "for df in us_df_list:\n",
    "    df.info()\n",
    "    print()\n",
    "    print('-'*75)\n",
    "    print()"
   ]
  },
  {
   "cell_type": "markdown",
   "id": "1c40145e-0cdc-46ed-9721-1a91af396f5d",
   "metadata": {},
   "source": [
    "## Drop unnecessary columns and rows, prepare datasets for merging"
   ]
  },
  {
   "cell_type": "markdown",
   "id": "0662f6be-6824-452e-a34f-d2a6d529ccfc",
   "metadata": {},
   "source": [
    "### Clean index dataset"
   ]
  },
  {
   "cell_type": "code",
   "execution_count": 21,
   "id": "8ba05521-a017-4fd4-8d1f-19fa54f735e8",
   "metadata": {},
   "outputs": [],
   "source": [
    "# Only keep data on US states by county, drop state level and US territory data\n",
    "\n",
    "us_index = us_index[us_index.subregion1_code.isin(['MP', 'PR', 'VI']) == False]\n",
    "us_index = us_index[['subregion2_name']].dropna()"
   ]
  },
  {
   "cell_type": "code",
   "execution_count": 22,
   "id": "36b5d6a4-4ca8-4ea6-9e71-44373e00d311",
   "metadata": {
    "tags": []
   },
   "outputs": [
    {
     "name": "stdout",
     "output_type": "stream",
     "text": [
      "<class 'pandas.core.frame.DataFrame'>\n",
      "Index: 3142 entries, US_AK_02013 to US_WY_56045\n",
      "Data columns (total 1 columns):\n",
      " #   Column           Non-Null Count  Dtype \n",
      "---  ------           --------------  ----- \n",
      " 0   subregion2_name  3142 non-null   object\n",
      "dtypes: object(1)\n",
      "memory usage: 49.1+ KB\n"
     ]
    }
   ],
   "source": [
    "us_index.info()"
   ]
  },
  {
   "cell_type": "code",
   "execution_count": 23,
   "id": "0c3eac3f-7076-4969-87c2-1a4cd6e461be",
   "metadata": {
    "tags": []
   },
   "outputs": [],
   "source": [
    "# Save index to merge data on for reference\n",
    "\n",
    "us_index.to_csv('../us_datasets/us_index_merge_on.csv')"
   ]
  },
  {
   "cell_type": "markdown",
   "id": "42a326e9-6bf8-4fab-b28d-9395dcfb9344",
   "metadata": {},
   "source": [
    "### Clean us_demographics dataset"
   ]
  },
  {
   "cell_type": "code",
   "execution_count": 119,
   "id": "703633c3-a9e8-41fe-bbd6-031a3d9020da",
   "metadata": {
    "tags": []
   },
   "outputs": [
    {
     "name": "stdout",
     "output_type": "stream",
     "text": [
      "<class 'pandas.core.frame.DataFrame'>\n",
      "Index: 3284 entries, US_AK to US_WY_56045\n",
      "Data columns (total 20 columns):\n",
      " #   Column                       Non-Null Count  Dtype  \n",
      "---  ------                       --------------  -----  \n",
      " 0   Unnamed: 0.1                 3284 non-null   int64  \n",
      " 1   Unnamed: 0                   3284 non-null   int64  \n",
      " 2   population                   3284 non-null   float64\n",
      " 3   population_male              3202 non-null   float64\n",
      " 4   population_female            3202 non-null   float64\n",
      " 5   population_rural             0 non-null      float64\n",
      " 6   population_urban             0 non-null      float64\n",
      " 7   population_largest_city      0 non-null      float64\n",
      " 8   population_clustered         0 non-null      float64\n",
      " 9   population_density           0 non-null      float64\n",
      " 10  human_development_index      0 non-null      float64\n",
      " 11  population_age_00_09         3202 non-null   float64\n",
      " 12  population_age_10_19         3202 non-null   float64\n",
      " 13  population_age_20_29         3202 non-null   float64\n",
      " 14  population_age_30_39         3202 non-null   float64\n",
      " 15  population_age_40_49         3202 non-null   float64\n",
      " 16  population_age_50_59         3202 non-null   float64\n",
      " 17  population_age_60_69         3202 non-null   float64\n",
      " 18  population_age_70_79         3202 non-null   float64\n",
      " 19  population_age_80_and_older  3202 non-null   float64\n",
      "dtypes: float64(18), int64(2)\n",
      "memory usage: 538.8+ KB\n"
     ]
    }
   ],
   "source": [
    "# identify columns to drop\n",
    "\n",
    "us_demographics.info()"
   ]
  },
  {
   "cell_type": "code",
   "execution_count": 120,
   "id": "38b9479c-3fd0-4335-a116-45bf1b8963ff",
   "metadata": {
    "tags": []
   },
   "outputs": [],
   "source": [
    "# Drop empty and unnecessary columns\n",
    "\n",
    "us_demographics.drop(axis = 1, columns = ['Unnamed: 0.1',\n",
    "                                          'Unnamed: 0',\n",
    "                                          'population_rural', \n",
    "                                          'population_urban', \n",
    "                                          'population_largest_city', \n",
    "                                          'population_clustered', \n",
    "                                          'population_density', \n",
    "                                          'human_development_index'], \n",
    "                     inplace = True)"
   ]
  },
  {
   "cell_type": "code",
   "execution_count": 121,
   "id": "ea1dc86e-9c0d-4033-80a6-05f1b5b7cd7e",
   "metadata": {
    "tags": []
   },
   "outputs": [],
   "source": [
    "# Create population and sex ratios\n",
    "\n",
    "us_demographics['male_female_ratio'] = us_demographics['population_male'] / us_demographics['population']\n",
    "us_demographics['age_00_09_ratio'] = us_demographics['population_age_00_09'] / us_demographics['population']\n",
    "us_demographics['age_10_19_ratio'] = us_demographics['population_age_10_19'] / us_demographics['population']\n",
    "us_demographics['age_20_29_ratio'] = us_demographics['population_age_20_29'] / us_demographics['population']\n",
    "us_demographics['age_30_3_ratio'] = us_demographics['population_age_30_39'] / us_demographics['population']\n",
    "us_demographics['age_40_49_ratio'] = us_demographics['population_age_40_49'] / us_demographics['population']\n",
    "us_demographics['age_50_59_ratio'] = us_demographics['population_age_50_59'] / us_demographics['population']\n",
    "us_demographics['age_60_69_ratio'] = us_demographics['population_age_60_69'] / us_demographics['population']\n",
    "us_demographics['age_70_79_ratio'] = us_demographics['population_age_70_79'] / us_demographics['population']\n",
    "us_demographics['age_80_and_older_ratio'] = us_demographics['population_age_80_and_older'] / us_demographics['population']"
   ]
  },
  {
   "cell_type": "code",
   "execution_count": 122,
   "id": "674e03f5-ff59-471a-8025-e7573524e554",
   "metadata": {
    "tags": []
   },
   "outputs": [
    {
     "name": "stdout",
     "output_type": "stream",
     "text": [
      "<class 'pandas.core.frame.DataFrame'>\n",
      "Index: 3284 entries, US_AK to US_WY_56045\n",
      "Data columns (total 22 columns):\n",
      " #   Column                       Non-Null Count  Dtype  \n",
      "---  ------                       --------------  -----  \n",
      " 0   population                   3284 non-null   float64\n",
      " 1   population_male              3202 non-null   float64\n",
      " 2   population_female            3202 non-null   float64\n",
      " 3   population_age_00_09         3202 non-null   float64\n",
      " 4   population_age_10_19         3202 non-null   float64\n",
      " 5   population_age_20_29         3202 non-null   float64\n",
      " 6   population_age_30_39         3202 non-null   float64\n",
      " 7   population_age_40_49         3202 non-null   float64\n",
      " 8   population_age_50_59         3202 non-null   float64\n",
      " 9   population_age_60_69         3202 non-null   float64\n",
      " 10  population_age_70_79         3202 non-null   float64\n",
      " 11  population_age_80_and_older  3202 non-null   float64\n",
      " 12  male_female_ratio            3202 non-null   float64\n",
      " 13  age_00_09_ratio              3202 non-null   float64\n",
      " 14  age_10_19_ratio              3202 non-null   float64\n",
      " 15  age_20_29_ratio              3202 non-null   float64\n",
      " 16  age_30_3_ratio               3202 non-null   float64\n",
      " 17  age_40_49_ratio              3202 non-null   float64\n",
      " 18  age_50_59_ratio              3202 non-null   float64\n",
      " 19  age_60_69_ratio              3202 non-null   float64\n",
      " 20  age_70_79_ratio              3202 non-null   float64\n",
      " 21  age_80_and_older_ratio       3202 non-null   float64\n",
      "dtypes: float64(22)\n",
      "memory usage: 590.1+ KB\n"
     ]
    }
   ],
   "source": [
    "us_demographics.info()"
   ]
  },
  {
   "cell_type": "code",
   "execution_count": 123,
   "id": "459046e9-e0a6-4d8e-bf06-bff9480fd3b9",
   "metadata": {
    "tags": []
   },
   "outputs": [],
   "source": [
    "# Drop remaining unnecessary columns\n",
    "\n",
    "us_demographics.drop(axis = 1, columns = ['population',\n",
    "                                          'population_male',\n",
    "                                          'population_female', \n",
    "                                          'population_age_00_09',\n",
    "                                          'population_age_10_19',\n",
    "                                          'population_age_20_29', \n",
    "                                          'population_age_30_39', \n",
    "                                          'population_age_40_49', \n",
    "                                          'population_age_50_59',\n",
    "                                          'population_age_60_69',\n",
    "                                          'population_age_70_79',\n",
    "                                          'population_age_80_and_older'\n",
    "                                         ], \n",
    "                     inplace = True)"
   ]
  },
  {
   "cell_type": "markdown",
   "id": "b78a16b6-b69e-4033-9fde-e6bb2b098c56",
   "metadata": {},
   "source": [
    "### Clean us_health dataset"
   ]
  },
  {
   "cell_type": "code",
   "execution_count": 51,
   "id": "2a46ef97-3705-49ee-a78c-55e77c4076f2",
   "metadata": {
    "tags": []
   },
   "outputs": [
    {
     "name": "stdout",
     "output_type": "stream",
     "text": [
      "<class 'pandas.core.frame.DataFrame'>\n",
      "Index: 3075 entries, US_AK to US_WY_56045\n",
      "Data columns (total 15 columns):\n",
      " #   Column                                Non-Null Count  Dtype  \n",
      "---  ------                                --------------  -----  \n",
      " 0   Unnamed: 0.1                          3075 non-null   int64  \n",
      " 1   Unnamed: 0                            3075 non-null   int64  \n",
      " 2   life_expectancy                       3075 non-null   float64\n",
      " 3   smoking_prevalence                    0 non-null      float64\n",
      " 4   diabetes_prevalence                   0 non-null      float64\n",
      " 5   infant_mortality_rate                 0 non-null      float64\n",
      " 6   adult_male_mortality_rate             0 non-null      float64\n",
      " 7   adult_female_mortality_rate           0 non-null      float64\n",
      " 8   pollution_mortality_rate              0 non-null      float64\n",
      " 9   comorbidity_mortality_rate            0 non-null      float64\n",
      " 10  hospital_beds_per_1000                0 non-null      float64\n",
      " 11  nurses_per_1000                       0 non-null      float64\n",
      " 12  physicians_per_1000                   0 non-null      float64\n",
      " 13  health_expenditure_usd                0 non-null      float64\n",
      " 14  out_of_pocket_health_expenditure_usd  0 non-null      float64\n",
      "dtypes: float64(13), int64(2)\n",
      "memory usage: 384.4+ KB\n"
     ]
    }
   ],
   "source": [
    "# identify columns to drop\n",
    "\n",
    "us_health.info()"
   ]
  },
  {
   "cell_type": "code",
   "execution_count": 53,
   "id": "0a130234-7817-4a5c-bb95-c17683b26993",
   "metadata": {
    "tags": []
   },
   "outputs": [],
   "source": [
    "# life_expectancy only useful column in health dataset\n",
    "\n",
    "us_health = us_health[['life_expectancy']]"
   ]
  },
  {
   "cell_type": "markdown",
   "id": "e844c357-2388-4ff7-9b17-f330eb2bb3af",
   "metadata": {},
   "source": [
    "### Extract vaccination data from time based dataset"
   ]
  },
  {
   "cell_type": "code",
   "execution_count": 48,
   "id": "2d91970d-f93e-4b20-853f-409beb2b77fc",
   "metadata": {
    "tags": []
   },
   "outputs": [],
   "source": [
    "# first merge will not include vaccination data\n",
    "\n",
    "us_vaccinations_2 = us_vaccinations.loc[us_vaccinations.date == '2021-09-01', ['cumulative_persons_fully_vaccinated']]\n",
    "us_vaccinations_3 = us_vaccinations.loc[us_vaccinations.date == '2022-05-13', ['cumulative_persons_fully_vaccinated']]"
   ]
  },
  {
   "cell_type": "code",
   "execution_count": 49,
   "id": "03838596-f18e-4e36-9a5c-9eadb24aab93",
   "metadata": {
    "tags": []
   },
   "outputs": [
    {
     "name": "stdout",
     "output_type": "stream",
     "text": [
      "<class 'pandas.core.frame.DataFrame'>\n",
      "Index: 3278 entries, US_AK to US_WY_56045\n",
      "Data columns (total 1 columns):\n",
      " #   Column                               Non-Null Count  Dtype  \n",
      "---  ------                               --------------  -----  \n",
      " 0   cumulative_persons_fully_vaccinated  3278 non-null   float64\n",
      "dtypes: float64(1)\n",
      "memory usage: 51.2+ KB\n"
     ]
    }
   ],
   "source": [
    "us_vaccinations_3.info()"
   ]
  },
  {
   "cell_type": "markdown",
   "id": "782933c2-86f7-489e-8db8-fbf5ad01c4e9",
   "metadata": {},
   "source": [
    "### Extract government response data from time based dataset"
   ]
  },
  {
   "cell_type": "code",
   "execution_count": 107,
   "id": "0c649156-dcd0-42a9-bf62-e9b68be9b56f",
   "metadata": {
    "tags": []
   },
   "outputs": [
    {
     "name": "stdout",
     "output_type": "stream",
     "text": [
      "<class 'pandas.core.frame.DataFrame'>\n",
      "Index: 47299 entries, US_AK to US_WY\n",
      "Data columns (total 23 columns):\n",
      " #   Column                              Non-Null Count  Dtype  \n",
      "---  ------                              --------------  -----  \n",
      " 0   Unnamed: 0.1                        47299 non-null  int64  \n",
      " 1   Unnamed: 0                          47299 non-null  int64  \n",
      " 2   date                                47299 non-null  object \n",
      " 3   school_closing                      47298 non-null  float64\n",
      " 4   workplace_closing                   47299 non-null  float64\n",
      " 5   cancel_public_events                47299 non-null  float64\n",
      " 6   restrictions_on_gatherings          47299 non-null  float64\n",
      " 7   public_transport_closing            47291 non-null  float64\n",
      " 8   stay_at_home_requirements           47299 non-null  float64\n",
      " 9   restrictions_on_internal_movement   47293 non-null  float64\n",
      " 10  international_travel_controls       47284 non-null  float64\n",
      " 11  income_support                      47294 non-null  float64\n",
      " 12  debt_relief                         47249 non-null  float64\n",
      " 13  fiscal_measures                     12047 non-null  float64\n",
      " 14  international_support               11919 non-null  float64\n",
      " 15  public_information_campaigns        47296 non-null  float64\n",
      " 16  testing_policy                      47296 non-null  float64\n",
      " 17  contact_tracing                     47284 non-null  float64\n",
      " 18  emergency_investment_in_healthcare  11851 non-null  float64\n",
      " 19  investment_in_vaccines              13868 non-null  float64\n",
      " 20  facial_coverings                    47293 non-null  float64\n",
      " 21  vaccination_policy                  47289 non-null  float64\n",
      " 22  stringency_index                    47293 non-null  float64\n",
      "dtypes: float64(20), int64(2), object(1)\n",
      "memory usage: 8.7+ MB\n"
     ]
    }
   ],
   "source": [
    "# see data quality\n",
    "\n",
    "us_government_response.info()"
   ]
  },
  {
   "cell_type": "code",
   "execution_count": 108,
   "id": "5cb28982-e226-4e90-96b6-4b7a7aa7f059",
   "metadata": {
    "tags": []
   },
   "outputs": [
    {
     "data": {
      "text/plain": [
       "'location_key'"
      ]
     },
     "execution_count": 108,
     "metadata": {},
     "output_type": "execute_result"
    }
   ],
   "source": [
    "# dataset location_key is by state, not county like the rest of the data.  Set the index as gr_key to merge on later\n",
    "\n",
    "us_government_response.index.name"
   ]
  },
  {
   "cell_type": "code",
   "execution_count": 109,
   "id": "af139a76-dce1-4b74-9343-322d21059023",
   "metadata": {
    "tags": []
   },
   "outputs": [],
   "source": [
    "us_government_response.index.name = 'gr_key'"
   ]
  },
  {
   "cell_type": "code",
   "execution_count": 111,
   "id": "892d4e41-e72e-484f-89cf-21400f694245",
   "metadata": {
    "tags": []
   },
   "outputs": [],
   "source": [
    "# Drop incomplete data rows and stringency index as its a combination of several other features\n",
    "\n",
    "us_government_response.drop(axis = 1, columns = ['Unnamed: 0.1',\n",
    "                                                 'Unnamed: 0',\n",
    "                                                 'fiscal_measures',\n",
    "                                                 'international_support',\n",
    "                                                 'emergency_investment_in_healthcare', \n",
    "                                                 'investment_in_vaccines',\n",
    "                                                 'stringency_index'\n",
    "                                                ], \n",
    "                            inplace = True)"
   ]
  },
  {
   "cell_type": "code",
   "execution_count": 112,
   "id": "2fbdea3f-71f2-4dff-9718-aa749877942d",
   "metadata": {
    "tags": []
   },
   "outputs": [],
   "source": [
    "# Create three us_government_response datasets for merging later\n",
    "\n",
    "us_government_response_1 = us_government_response.loc[us_government_response.date == '2021-01-01']\n",
    "us_government_response_2 = us_government_response.loc[us_government_response.date == '2021-09-01']\n",
    "us_government_response_3 = us_government_response.loc[us_government_response.date == '2022-05-13']"
   ]
  },
  {
   "cell_type": "code",
   "execution_count": 113,
   "id": "f15bd892-41d4-4e03-b7ac-013c5b179f3e",
   "metadata": {
    "tags": []
   },
   "outputs": [
    {
     "name": "stdout",
     "output_type": "stream",
     "text": [
      "<class 'pandas.core.frame.DataFrame'>\n",
      "Index: 51 entries, US_AK to US_WY\n",
      "Data columns (total 16 columns):\n",
      " #   Column                             Non-Null Count  Dtype  \n",
      "---  ------                             --------------  -----  \n",
      " 0   date                               51 non-null     object \n",
      " 1   school_closing                     51 non-null     float64\n",
      " 2   workplace_closing                  51 non-null     float64\n",
      " 3   cancel_public_events               51 non-null     float64\n",
      " 4   restrictions_on_gatherings         51 non-null     float64\n",
      " 5   public_transport_closing           51 non-null     float64\n",
      " 6   stay_at_home_requirements          51 non-null     float64\n",
      " 7   restrictions_on_internal_movement  51 non-null     float64\n",
      " 8   international_travel_controls      51 non-null     float64\n",
      " 9   income_support                     51 non-null     float64\n",
      " 10  debt_relief                        51 non-null     float64\n",
      " 11  public_information_campaigns       51 non-null     float64\n",
      " 12  testing_policy                     51 non-null     float64\n",
      " 13  contact_tracing                    51 non-null     float64\n",
      " 14  facial_coverings                   51 non-null     float64\n",
      " 15  vaccination_policy                 51 non-null     float64\n",
      "dtypes: float64(15), object(1)\n",
      "memory usage: 6.8+ KB\n"
     ]
    }
   ],
   "source": [
    "us_government_response_1.info()"
   ]
  },
  {
   "cell_type": "markdown",
   "id": "b22fa9c5-6cfd-4125-96de-79dcd2138da3",
   "metadata": {},
   "source": [
    "### Extract weather data from time based dataset"
   ]
  },
  {
   "cell_type": "code",
   "execution_count": 92,
   "id": "ea8471a9-c76b-4f5c-822f-47e4392f5c57",
   "metadata": {
    "tags": []
   },
   "outputs": [
    {
     "name": "stdout",
     "output_type": "stream",
     "text": [
      "<class 'pandas.core.frame.DataFrame'>\n",
      "RangeIndex: 21680590 entries, 0 to 21680589\n",
      "Data columns (total 9 columns):\n",
      " #   Column                       Dtype  \n",
      "---  ------                       -----  \n",
      " 0   date                         object \n",
      " 1   location_key                 object \n",
      " 2   average_temperature_celsius  float64\n",
      " 3   minimum_temperature_celsius  float64\n",
      " 4   maximum_temperature_celsius  float64\n",
      " 5   rainfall_mm                  float64\n",
      " 6   snowfall_mm                  float64\n",
      " 7   dew_point                    float64\n",
      " 8   relative_humidity            float64\n",
      "dtypes: float64(7), object(2)\n",
      "memory usage: 1.5+ GB\n"
     ]
    }
   ],
   "source": [
    "# see data quality\n",
    "\n",
    "weather.info()"
   ]
  },
  {
   "cell_type": "code",
   "execution_count": 93,
   "id": "e33d9c2c-fc48-46f1-809c-b6ae8d62bd92",
   "metadata": {
    "tags": []
   },
   "outputs": [],
   "source": [
    "# Create three weather datasets for merging later\n",
    "\n",
    "us_weather_1 = us_weather.loc[us_weather.date == '2021-01-01']\n",
    "us_weather_2 = us_weather.loc[us_weather.date == '2021-09-01']\n",
    "us_weather_3 = us_weather.loc[us_weather.date == '2022-05-13']"
   ]
  },
  {
   "cell_type": "code",
   "execution_count": 94,
   "id": "2b564169-4819-4140-8074-cec5c1729678",
   "metadata": {
    "tags": []
   },
   "outputs": [
    {
     "name": "stdout",
     "output_type": "stream",
     "text": [
      "<class 'pandas.core.frame.DataFrame'>\n",
      "Index: 3280 entries, US_AK to US_WY_56045\n",
      "Data columns (total 10 columns):\n",
      " #   Column                       Non-Null Count  Dtype  \n",
      "---  ------                       --------------  -----  \n",
      " 0   Unnamed: 0.1                 3280 non-null   int64  \n",
      " 1   Unnamed: 0                   3280 non-null   int64  \n",
      " 2   date                         3280 non-null   object \n",
      " 3   average_temperature_celsius  3280 non-null   float64\n",
      " 4   minimum_temperature_celsius  3280 non-null   float64\n",
      " 5   maximum_temperature_celsius  3280 non-null   float64\n",
      " 6   rainfall_mm                  3280 non-null   float64\n",
      " 7   snowfall_mm                  874 non-null    float64\n",
      " 8   dew_point                    3278 non-null   float64\n",
      " 9   relative_humidity            3278 non-null   float64\n",
      "dtypes: float64(7), int64(2), object(1)\n",
      "memory usage: 281.9+ KB\n"
     ]
    }
   ],
   "source": [
    "us_weather_1.info()"
   ]
  },
  {
   "cell_type": "code",
   "execution_count": 95,
   "id": "23c5a1ff-17d7-4103-9bd4-0743ffde5720",
   "metadata": {
    "tags": []
   },
   "outputs": [],
   "source": [
    "# Clean weather datasets, drop unnecessary index columns and set null snowfall cells to 0\n",
    "\n",
    "us_weather_1 = us_weather_1.drop(axis = 1, columns = ['Unnamed: 0.1','Unnamed: 0'])\n",
    "us_weather_2 = us_weather_2.drop(axis = 1, columns = ['Unnamed: 0.1','Unnamed: 0'])\n",
    "us_weather_3 = us_weather_3.drop(axis = 1, columns = ['Unnamed: 0.1','Unnamed: 0'])"
   ]
  },
  {
   "cell_type": "code",
   "execution_count": 96,
   "id": "c989d1cf-dfb1-49db-9110-8acb842396f2",
   "metadata": {
    "tags": []
   },
   "outputs": [],
   "source": [
    "us_weather_1.loc[(us_weather_1['snowfall_mm'].isnull()), ['snowfall_mm']] = 0\n",
    "us_weather_2.loc[(us_weather_2['snowfall_mm'].isnull()), ['snowfall_mm']] = 0\n",
    "us_weather_3.loc[(us_weather_3['snowfall_mm'].isnull()), ['snowfall_mm']] = 0"
   ]
  },
  {
   "cell_type": "markdown",
   "id": "7466dd99-812f-40d5-9b7d-f36ec4bf5a14",
   "metadata": {},
   "source": [
    "### Extract epidemiology from time based dataset"
   ]
  },
  {
   "cell_type": "code",
   "execution_count": 97,
   "id": "4c87ecb9-b878-40b3-9705-8b8ca8f1b6a6",
   "metadata": {
    "tags": []
   },
   "outputs": [
    {
     "name": "stdout",
     "output_type": "stream",
     "text": [
      "<class 'pandas.core.frame.DataFrame'>\n",
      "Index: 2550043 entries, US_AK to US_WY_56045\n",
      "Data columns (total 11 columns):\n",
      " #   Column                Dtype  \n",
      "---  ------                -----  \n",
      " 0   Unnamed: 0.1          int64  \n",
      " 1   Unnamed: 0            int64  \n",
      " 2   date                  object \n",
      " 3   new_confirmed         float64\n",
      " 4   new_deceased          float64\n",
      " 5   new_recovered         float64\n",
      " 6   new_tested            float64\n",
      " 7   cumulative_confirmed  float64\n",
      " 8   cumulative_deceased   float64\n",
      " 9   cumulative_recovered  float64\n",
      " 10  cumulative_tested     float64\n",
      "dtypes: float64(8), int64(2), object(1)\n",
      "memory usage: 233.5+ MB\n"
     ]
    }
   ],
   "source": [
    "# View data quality\n",
    "\n",
    "us_epidemiology.info()"
   ]
  },
  {
   "cell_type": "code",
   "execution_count": 99,
   "id": "a1e74b98-1fd3-4f6c-ae8b-a6566b3ddeba",
   "metadata": {
    "tags": []
   },
   "outputs": [
    {
     "name": "stdout",
     "output_type": "stream",
     "text": [
      "<class 'pandas.core.frame.DataFrame'>\n",
      "Index: 3280 entries, US_AK to US_WY_56045\n",
      "Data columns (total 4 columns):\n",
      " #   Column                Non-Null Count  Dtype  \n",
      "---  ------                --------------  -----  \n",
      " 0   cumulative_confirmed  3280 non-null   float64\n",
      " 1   cumulative_deceased   3201 non-null   float64\n",
      " 2   cumulative_confirmed  3280 non-null   float64\n",
      " 3   cumulative_deceased   3201 non-null   float64\n",
      "dtypes: float64(4)\n",
      "memory usage: 128.1+ KB\n"
     ]
    }
   ],
   "source": [
    "# Use this cell to find last day for good epidemiology data\n",
    "\n",
    "us_epidemiology_3 = us_epidemiology.loc[us_epidemiology.date == '2022-05-13', ['cumulative_confirmed', 'cumulative_deceased', 'cumulative_confirmed', 'cumulative_deceased']]\n",
    "us_epidemiology_3.info()"
   ]
  },
  {
   "cell_type": "code",
   "execution_count": 100,
   "id": "ffcef5d0-2cd8-4cbb-93b7-aa4332cacaa7",
   "metadata": {
    "tags": []
   },
   "outputs": [],
   "source": [
    "# Create three epidemiology datasets for merging later\n",
    "\n",
    "us_epidemiology_1 = us_epidemiology.loc[us_epidemiology.date == '2021-01-01', ['new_confirmed', 'new_deceased', 'cumulative_confirmed', 'cumulative_deceased']]\n",
    "us_epidemiology_2 = us_epidemiology.loc[us_epidemiology.date == '2021-09-01', ['new_confirmed', 'new_deceased', 'cumulative_confirmed', 'cumulative_deceased']]\n",
    "us_epidemiology_3 = us_epidemiology.loc[us_epidemiology.date == '2022-05-13', ['new_confirmed', 'new_deceased', 'cumulative_confirmed', 'cumulative_deceased']]"
   ]
  },
  {
   "cell_type": "markdown",
   "id": "4d8ae8d1-1451-4830-a4b4-26fed0651713",
   "metadata": {},
   "source": [
    "## Merge datasets"
   ]
  },
  {
   "cell_type": "markdown",
   "id": "53f140b5-6d83-429f-8771-9346657d4302",
   "metadata": {},
   "source": [
    "### Merge first set of datasets 2021-01-01"
   ]
  },
  {
   "cell_type": "code",
   "execution_count": 181,
   "id": "6826ad18-c172-4d82-85ac-83e2ce8acc6b",
   "metadata": {},
   "outputs": [],
   "source": [
    "# concat county level datasets \n",
    "# merge us_government_response on previously created 'gr_key' to assign state level response values to respective counties\n",
    "\n",
    "merged_1 = pd.concat([us_index, us_demographics, us_health, us_weather_1, us_epidemiology_1], axis = 1, join = 'inner')\n",
    "merged_1['gr_key'] = merged_1.index.str[:5]\n",
    "merged_1 = pd.merge(us_government_response_1, merged_1, how = 'right', on = 'gr_key')"
   ]
  },
  {
   "cell_type": "code",
   "execution_count": 182,
   "id": "65ade811-9eb4-4d80-9d76-ed0e67a62980",
   "metadata": {
    "tags": []
   },
   "outputs": [
    {
     "name": "stdout",
     "output_type": "stream",
     "text": [
      "<class 'pandas.core.frame.DataFrame'>\n",
      "RangeIndex: 3014 entries, 0 to 3013\n",
      "Data columns (total 41 columns):\n",
      " #   Column                             Non-Null Count  Dtype  \n",
      "---  ------                             --------------  -----  \n",
      " 0   gr_key                             3014 non-null   object \n",
      " 1   date_x                             3014 non-null   object \n",
      " 2   school_closing                     3014 non-null   float64\n",
      " 3   workplace_closing                  3014 non-null   float64\n",
      " 4   cancel_public_events               3014 non-null   float64\n",
      " 5   restrictions_on_gatherings         3014 non-null   float64\n",
      " 6   public_transport_closing           3014 non-null   float64\n",
      " 7   stay_at_home_requirements          3014 non-null   float64\n",
      " 8   restrictions_on_internal_movement  3014 non-null   float64\n",
      " 9   international_travel_controls      3014 non-null   float64\n",
      " 10  income_support                     3014 non-null   float64\n",
      " 11  debt_relief                        3014 non-null   float64\n",
      " 12  public_information_campaigns       3014 non-null   float64\n",
      " 13  testing_policy                     3014 non-null   float64\n",
      " 14  contact_tracing                    3014 non-null   float64\n",
      " 15  facial_coverings                   3014 non-null   float64\n",
      " 16  vaccination_policy                 3014 non-null   float64\n",
      " 17  subregion2_name                    3014 non-null   object \n",
      " 18  male_female_ratio                  3014 non-null   float64\n",
      " 19  age_00_09_ratio                    3014 non-null   float64\n",
      " 20  age_10_19_ratio                    3014 non-null   float64\n",
      " 21  age_20_29_ratio                    3014 non-null   float64\n",
      " 22  age_30_3_ratio                     3014 non-null   float64\n",
      " 23  age_40_49_ratio                    3014 non-null   float64\n",
      " 24  age_50_59_ratio                    3014 non-null   float64\n",
      " 25  age_60_69_ratio                    3014 non-null   float64\n",
      " 26  age_70_79_ratio                    3014 non-null   float64\n",
      " 27  age_80_and_older_ratio             3014 non-null   float64\n",
      " 28  life_expectancy                    3014 non-null   float64\n",
      " 29  date_y                             3014 non-null   object \n",
      " 30  average_temperature_celsius        3014 non-null   float64\n",
      " 31  minimum_temperature_celsius        3014 non-null   float64\n",
      " 32  maximum_temperature_celsius        3014 non-null   float64\n",
      " 33  rainfall_mm                        3014 non-null   float64\n",
      " 34  snowfall_mm                        3014 non-null   float64\n",
      " 35  dew_point                          3013 non-null   float64\n",
      " 36  relative_humidity                  3013 non-null   float64\n",
      " 37  new_confirmed                      3014 non-null   float64\n",
      " 38  new_deceased                       3014 non-null   float64\n",
      " 39  cumulative_confirmed               3014 non-null   float64\n",
      " 40  cumulative_deceased                3014 non-null   float64\n",
      "dtypes: float64(37), object(4)\n",
      "memory usage: 965.6+ KB\n"
     ]
    }
   ],
   "source": [
    "merged_1.info()"
   ]
  },
  {
   "cell_type": "code",
   "execution_count": 183,
   "id": "c840b241-71a3-42e9-a2f2-c15d4037a9f1",
   "metadata": {
    "tags": []
   },
   "outputs": [],
   "source": [
    "# Drop unnecessary and redudant columns then dropna()\n",
    "\n",
    "merged_1.drop(axis = 1, columns = ['subregion2_name',\n",
    "                                   'date_x',\n",
    "                                   'minimum_temperature_celsius',\n",
    "                                   'maximum_temperature_celsius',\n",
    "                                   'relative_humidity',\n",
    "                                   'gr_key', \n",
    "                                   'date_y'\n",
    "                                  ],\n",
    "              inplace = True)\n",
    "\n",
    "merged_1.dropna(inplace = True)"
   ]
  },
  {
   "cell_type": "code",
   "execution_count": 184,
   "id": "81dcc1b0-d002-4251-9c0c-7832dad0513f",
   "metadata": {
    "tags": []
   },
   "outputs": [
    {
     "name": "stdout",
     "output_type": "stream",
     "text": [
      "<class 'pandas.core.frame.DataFrame'>\n",
      "Index: 3013 entries, 0 to 3013\n",
      "Data columns (total 34 columns):\n",
      " #   Column                             Non-Null Count  Dtype  \n",
      "---  ------                             --------------  -----  \n",
      " 0   school_closing                     3013 non-null   float64\n",
      " 1   workplace_closing                  3013 non-null   float64\n",
      " 2   cancel_public_events               3013 non-null   float64\n",
      " 3   restrictions_on_gatherings         3013 non-null   float64\n",
      " 4   public_transport_closing           3013 non-null   float64\n",
      " 5   stay_at_home_requirements          3013 non-null   float64\n",
      " 6   restrictions_on_internal_movement  3013 non-null   float64\n",
      " 7   international_travel_controls      3013 non-null   float64\n",
      " 8   income_support                     3013 non-null   float64\n",
      " 9   debt_relief                        3013 non-null   float64\n",
      " 10  public_information_campaigns       3013 non-null   float64\n",
      " 11  testing_policy                     3013 non-null   float64\n",
      " 12  contact_tracing                    3013 non-null   float64\n",
      " 13  facial_coverings                   3013 non-null   float64\n",
      " 14  vaccination_policy                 3013 non-null   float64\n",
      " 15  male_female_ratio                  3013 non-null   float64\n",
      " 16  age_00_09_ratio                    3013 non-null   float64\n",
      " 17  age_10_19_ratio                    3013 non-null   float64\n",
      " 18  age_20_29_ratio                    3013 non-null   float64\n",
      " 19  age_30_3_ratio                     3013 non-null   float64\n",
      " 20  age_40_49_ratio                    3013 non-null   float64\n",
      " 21  age_50_59_ratio                    3013 non-null   float64\n",
      " 22  age_60_69_ratio                    3013 non-null   float64\n",
      " 23  age_70_79_ratio                    3013 non-null   float64\n",
      " 24  age_80_and_older_ratio             3013 non-null   float64\n",
      " 25  life_expectancy                    3013 non-null   float64\n",
      " 26  average_temperature_celsius        3013 non-null   float64\n",
      " 27  rainfall_mm                        3013 non-null   float64\n",
      " 28  snowfall_mm                        3013 non-null   float64\n",
      " 29  dew_point                          3013 non-null   float64\n",
      " 30  new_confirmed                      3013 non-null   float64\n",
      " 31  new_deceased                       3013 non-null   float64\n",
      " 32  cumulative_confirmed               3013 non-null   float64\n",
      " 33  cumulative_deceased                3013 non-null   float64\n",
      "dtypes: float64(34)\n",
      "memory usage: 823.9 KB\n"
     ]
    }
   ],
   "source": [
    "merged_1.info()"
   ]
  },
  {
   "cell_type": "code",
   "execution_count": 185,
   "id": "4d2780cd-0971-4f78-9ea7-14f0c23d4ba8",
   "metadata": {
    "tags": []
   },
   "outputs": [],
   "source": [
    "# save merged_1 for future use\n",
    "\n",
    "merged_1.to_csv('../us_datasets/merged_1.csv')"
   ]
  },
  {
   "cell_type": "markdown",
   "id": "585cc42e-482d-477b-92d7-931c5d5a1f23",
   "metadata": {},
   "source": [
    "### Merge second set of datasets 2021-09-01"
   ]
  },
  {
   "cell_type": "code",
   "execution_count": 186,
   "id": "9f001e3d-c07d-4ada-8a90-31366d25cf9b",
   "metadata": {
    "tags": []
   },
   "outputs": [],
   "source": [
    "# concat county level datasets \n",
    "# merge us_government_response on previously created 'gr_key' to assign state level response values to respective counties\n",
    "\n",
    "merged_2 = pd.concat([us_index, us_demographics, us_health, us_vaccinations_2, us_weather_2, us_epidemiology_1], axis = 1, join = 'inner')\n",
    "merged_2['gr_key'] = merged_2.index.str[:5]\n",
    "merged_2 = pd.merge(us_government_response_2, merged_2, how = 'right', on = 'gr_key')"
   ]
  },
  {
   "cell_type": "code",
   "execution_count": 187,
   "id": "c828e1d5-449b-4953-a822-171ae05ca6b2",
   "metadata": {
    "tags": []
   },
   "outputs": [
    {
     "name": "stdout",
     "output_type": "stream",
     "text": [
      "<class 'pandas.core.frame.DataFrame'>\n",
      "RangeIndex: 3013 entries, 0 to 3012\n",
      "Data columns (total 42 columns):\n",
      " #   Column                               Non-Null Count  Dtype  \n",
      "---  ------                               --------------  -----  \n",
      " 0   gr_key                               3013 non-null   object \n",
      " 1   date_x                               3013 non-null   object \n",
      " 2   school_closing                       3013 non-null   float64\n",
      " 3   workplace_closing                    3013 non-null   float64\n",
      " 4   cancel_public_events                 3013 non-null   float64\n",
      " 5   restrictions_on_gatherings           3013 non-null   float64\n",
      " 6   public_transport_closing             3013 non-null   float64\n",
      " 7   stay_at_home_requirements            3013 non-null   float64\n",
      " 8   restrictions_on_internal_movement    3013 non-null   float64\n",
      " 9   international_travel_controls        3013 non-null   float64\n",
      " 10  income_support                       3013 non-null   float64\n",
      " 11  debt_relief                          3013 non-null   float64\n",
      " 12  public_information_campaigns         3013 non-null   float64\n",
      " 13  testing_policy                       3013 non-null   float64\n",
      " 14  contact_tracing                      3013 non-null   float64\n",
      " 15  facial_coverings                     3013 non-null   float64\n",
      " 16  vaccination_policy                   3013 non-null   float64\n",
      " 17  subregion2_name                      3013 non-null   object \n",
      " 18  male_female_ratio                    3013 non-null   float64\n",
      " 19  age_00_09_ratio                      3013 non-null   float64\n",
      " 20  age_10_19_ratio                      3013 non-null   float64\n",
      " 21  age_20_29_ratio                      3013 non-null   float64\n",
      " 22  age_30_3_ratio                       3013 non-null   float64\n",
      " 23  age_40_49_ratio                      3013 non-null   float64\n",
      " 24  age_50_59_ratio                      3013 non-null   float64\n",
      " 25  age_60_69_ratio                      3013 non-null   float64\n",
      " 26  age_70_79_ratio                      3013 non-null   float64\n",
      " 27  age_80_and_older_ratio               3013 non-null   float64\n",
      " 28  life_expectancy                      3013 non-null   float64\n",
      " 29  cumulative_persons_fully_vaccinated  3013 non-null   float64\n",
      " 30  date_y                               3013 non-null   object \n",
      " 31  average_temperature_celsius          3013 non-null   float64\n",
      " 32  minimum_temperature_celsius          3013 non-null   float64\n",
      " 33  maximum_temperature_celsius          3013 non-null   float64\n",
      " 34  rainfall_mm                          3013 non-null   float64\n",
      " 35  snowfall_mm                          3013 non-null   float64\n",
      " 36  dew_point                            3012 non-null   float64\n",
      " 37  relative_humidity                    3012 non-null   float64\n",
      " 38  new_confirmed                        3013 non-null   float64\n",
      " 39  new_deceased                         3013 non-null   float64\n",
      " 40  cumulative_confirmed                 3013 non-null   float64\n",
      " 41  cumulative_deceased                  3013 non-null   float64\n",
      "dtypes: float64(38), object(4)\n",
      "memory usage: 988.8+ KB\n"
     ]
    }
   ],
   "source": [
    "merged_2.info()"
   ]
  },
  {
   "cell_type": "code",
   "execution_count": 188,
   "id": "6f2dbebe-a42f-4cc8-b213-f3836f88c2be",
   "metadata": {
    "tags": []
   },
   "outputs": [],
   "source": [
    "# Drop unnecessary and redudant columns then dropna()\n",
    "\n",
    "merged_2.drop(axis = 1, columns = ['subregion2_name',\n",
    "                                   'date_x',\n",
    "                                   'minimum_temperature_celsius',\n",
    "                                   'maximum_temperature_celsius',\n",
    "                                   'relative_humidity',\n",
    "                                   'gr_key', \n",
    "                                   'date_y'\n",
    "                                  ],\n",
    "              inplace = True)\n",
    "\n",
    "merged_2.dropna(inplace = True)"
   ]
  },
  {
   "cell_type": "code",
   "execution_count": 189,
   "id": "7e0f5164-966e-4740-8dff-ec6a62fd2d12",
   "metadata": {
    "tags": []
   },
   "outputs": [
    {
     "name": "stdout",
     "output_type": "stream",
     "text": [
      "<class 'pandas.core.frame.DataFrame'>\n",
      "Index: 3012 entries, 0 to 3012\n",
      "Data columns (total 35 columns):\n",
      " #   Column                               Non-Null Count  Dtype  \n",
      "---  ------                               --------------  -----  \n",
      " 0   school_closing                       3012 non-null   float64\n",
      " 1   workplace_closing                    3012 non-null   float64\n",
      " 2   cancel_public_events                 3012 non-null   float64\n",
      " 3   restrictions_on_gatherings           3012 non-null   float64\n",
      " 4   public_transport_closing             3012 non-null   float64\n",
      " 5   stay_at_home_requirements            3012 non-null   float64\n",
      " 6   restrictions_on_internal_movement    3012 non-null   float64\n",
      " 7   international_travel_controls        3012 non-null   float64\n",
      " 8   income_support                       3012 non-null   float64\n",
      " 9   debt_relief                          3012 non-null   float64\n",
      " 10  public_information_campaigns         3012 non-null   float64\n",
      " 11  testing_policy                       3012 non-null   float64\n",
      " 12  contact_tracing                      3012 non-null   float64\n",
      " 13  facial_coverings                     3012 non-null   float64\n",
      " 14  vaccination_policy                   3012 non-null   float64\n",
      " 15  male_female_ratio                    3012 non-null   float64\n",
      " 16  age_00_09_ratio                      3012 non-null   float64\n",
      " 17  age_10_19_ratio                      3012 non-null   float64\n",
      " 18  age_20_29_ratio                      3012 non-null   float64\n",
      " 19  age_30_3_ratio                       3012 non-null   float64\n",
      " 20  age_40_49_ratio                      3012 non-null   float64\n",
      " 21  age_50_59_ratio                      3012 non-null   float64\n",
      " 22  age_60_69_ratio                      3012 non-null   float64\n",
      " 23  age_70_79_ratio                      3012 non-null   float64\n",
      " 24  age_80_and_older_ratio               3012 non-null   float64\n",
      " 25  life_expectancy                      3012 non-null   float64\n",
      " 26  cumulative_persons_fully_vaccinated  3012 non-null   float64\n",
      " 27  average_temperature_celsius          3012 non-null   float64\n",
      " 28  rainfall_mm                          3012 non-null   float64\n",
      " 29  snowfall_mm                          3012 non-null   float64\n",
      " 30  dew_point                            3012 non-null   float64\n",
      " 31  new_confirmed                        3012 non-null   float64\n",
      " 32  new_deceased                         3012 non-null   float64\n",
      " 33  cumulative_confirmed                 3012 non-null   float64\n",
      " 34  cumulative_deceased                  3012 non-null   float64\n",
      "dtypes: float64(35)\n",
      "memory usage: 847.1 KB\n"
     ]
    }
   ],
   "source": [
    "merged_2.info()"
   ]
  },
  {
   "cell_type": "code",
   "execution_count": 190,
   "id": "26c8d939-19c6-4df6-948d-3ae375da1cb9",
   "metadata": {
    "tags": []
   },
   "outputs": [],
   "source": [
    "# save merged_2 for future use\n",
    "\n",
    "merged_2.to_csv('../us_datasets/merged_2.csv')"
   ]
  },
  {
   "cell_type": "markdown",
   "id": "837a127c-3b3c-4f70-bf9d-c994779d6e09",
   "metadata": {},
   "source": [
    "### Merge third set of datasets 2021-05-13"
   ]
  },
  {
   "cell_type": "code",
   "execution_count": 191,
   "id": "fcab2a56-2fdb-49fa-b506-b036ef015b03",
   "metadata": {
    "tags": []
   },
   "outputs": [],
   "source": [
    "# concat county level datasets \n",
    "# merge us_government_response on previously created 'gr_key' to assign state level response values to respective counties\n",
    "\n",
    "merged_3 = pd.concat([us_index, us_demographics, us_health, us_vaccinations_3, us_weather_3, us_epidemiology_3], axis = 1, join = 'inner')\n",
    "merged_3['gr_key'] = merged_3.index.str[:5]\n",
    "merged_3 = pd.merge(us_government_response_3, merged_3, how = 'right', on = 'gr_key')"
   ]
  },
  {
   "cell_type": "code",
   "execution_count": 192,
   "id": "6e2e58bf-2067-4ee5-b2b2-0729274a530c",
   "metadata": {
    "tags": []
   },
   "outputs": [
    {
     "name": "stdout",
     "output_type": "stream",
     "text": [
      "<class 'pandas.core.frame.DataFrame'>\n",
      "RangeIndex: 3014 entries, 0 to 3013\n",
      "Data columns (total 42 columns):\n",
      " #   Column                               Non-Null Count  Dtype  \n",
      "---  ------                               --------------  -----  \n",
      " 0   gr_key                               3014 non-null   object \n",
      " 1   date_x                               3014 non-null   object \n",
      " 2   school_closing                       3014 non-null   float64\n",
      " 3   workplace_closing                    3014 non-null   float64\n",
      " 4   cancel_public_events                 3014 non-null   float64\n",
      " 5   restrictions_on_gatherings           3014 non-null   float64\n",
      " 6   public_transport_closing             3014 non-null   float64\n",
      " 7   stay_at_home_requirements            3014 non-null   float64\n",
      " 8   restrictions_on_internal_movement    3014 non-null   float64\n",
      " 9   international_travel_controls        3014 non-null   float64\n",
      " 10  income_support                       3014 non-null   float64\n",
      " 11  debt_relief                          3014 non-null   float64\n",
      " 12  public_information_campaigns         3014 non-null   float64\n",
      " 13  testing_policy                       3014 non-null   float64\n",
      " 14  contact_tracing                      3014 non-null   float64\n",
      " 15  facial_coverings                     3014 non-null   float64\n",
      " 16  vaccination_policy                   3014 non-null   float64\n",
      " 17  subregion2_name                      3014 non-null   object \n",
      " 18  male_female_ratio                    3014 non-null   float64\n",
      " 19  age_00_09_ratio                      3014 non-null   float64\n",
      " 20  age_10_19_ratio                      3014 non-null   float64\n",
      " 21  age_20_29_ratio                      3014 non-null   float64\n",
      " 22  age_30_3_ratio                       3014 non-null   float64\n",
      " 23  age_40_49_ratio                      3014 non-null   float64\n",
      " 24  age_50_59_ratio                      3014 non-null   float64\n",
      " 25  age_60_69_ratio                      3014 non-null   float64\n",
      " 26  age_70_79_ratio                      3014 non-null   float64\n",
      " 27  age_80_and_older_ratio               3014 non-null   float64\n",
      " 28  life_expectancy                      3014 non-null   float64\n",
      " 29  cumulative_persons_fully_vaccinated  3014 non-null   float64\n",
      " 30  date_y                               3014 non-null   object \n",
      " 31  average_temperature_celsius          3014 non-null   float64\n",
      " 32  minimum_temperature_celsius          3014 non-null   float64\n",
      " 33  maximum_temperature_celsius          3014 non-null   float64\n",
      " 34  rainfall_mm                          3014 non-null   float64\n",
      " 35  snowfall_mm                          3014 non-null   float64\n",
      " 36  dew_point                            3013 non-null   float64\n",
      " 37  relative_humidity                    3013 non-null   float64\n",
      " 38  new_confirmed                        3014 non-null   float64\n",
      " 39  new_deceased                         3014 non-null   float64\n",
      " 40  cumulative_confirmed                 3014 non-null   float64\n",
      " 41  cumulative_deceased                  3014 non-null   float64\n",
      "dtypes: float64(38), object(4)\n",
      "memory usage: 989.1+ KB\n"
     ]
    }
   ],
   "source": [
    "merged_3.info()"
   ]
  },
  {
   "cell_type": "code",
   "execution_count": 193,
   "id": "053f6328-6fd6-4651-b69a-abcce7a896b6",
   "metadata": {
    "tags": []
   },
   "outputs": [],
   "source": [
    "# Drop unnecessary and redudant columns then dropna()\n",
    "\n",
    "merged_3.drop(axis = 1, columns = ['subregion2_name',\n",
    "                                   'date_x',\n",
    "                                   'minimum_temperature_celsius',\n",
    "                                   'maximum_temperature_celsius',\n",
    "                                   'relative_humidity',\n",
    "                                   'gr_key', \n",
    "                                   'date_y'\n",
    "                                  ],\n",
    "              inplace = True)\n",
    "\n",
    "merged_3.dropna(inplace = True)"
   ]
  },
  {
   "cell_type": "code",
   "execution_count": 194,
   "id": "4606c0f2-efae-4de4-be18-f8b2e07f98ee",
   "metadata": {
    "tags": []
   },
   "outputs": [
    {
     "name": "stdout",
     "output_type": "stream",
     "text": [
      "<class 'pandas.core.frame.DataFrame'>\n",
      "Index: 3013 entries, 0 to 3013\n",
      "Data columns (total 35 columns):\n",
      " #   Column                               Non-Null Count  Dtype  \n",
      "---  ------                               --------------  -----  \n",
      " 0   school_closing                       3013 non-null   float64\n",
      " 1   workplace_closing                    3013 non-null   float64\n",
      " 2   cancel_public_events                 3013 non-null   float64\n",
      " 3   restrictions_on_gatherings           3013 non-null   float64\n",
      " 4   public_transport_closing             3013 non-null   float64\n",
      " 5   stay_at_home_requirements            3013 non-null   float64\n",
      " 6   restrictions_on_internal_movement    3013 non-null   float64\n",
      " 7   international_travel_controls        3013 non-null   float64\n",
      " 8   income_support                       3013 non-null   float64\n",
      " 9   debt_relief                          3013 non-null   float64\n",
      " 10  public_information_campaigns         3013 non-null   float64\n",
      " 11  testing_policy                       3013 non-null   float64\n",
      " 12  contact_tracing                      3013 non-null   float64\n",
      " 13  facial_coverings                     3013 non-null   float64\n",
      " 14  vaccination_policy                   3013 non-null   float64\n",
      " 15  male_female_ratio                    3013 non-null   float64\n",
      " 16  age_00_09_ratio                      3013 non-null   float64\n",
      " 17  age_10_19_ratio                      3013 non-null   float64\n",
      " 18  age_20_29_ratio                      3013 non-null   float64\n",
      " 19  age_30_3_ratio                       3013 non-null   float64\n",
      " 20  age_40_49_ratio                      3013 non-null   float64\n",
      " 21  age_50_59_ratio                      3013 non-null   float64\n",
      " 22  age_60_69_ratio                      3013 non-null   float64\n",
      " 23  age_70_79_ratio                      3013 non-null   float64\n",
      " 24  age_80_and_older_ratio               3013 non-null   float64\n",
      " 25  life_expectancy                      3013 non-null   float64\n",
      " 26  cumulative_persons_fully_vaccinated  3013 non-null   float64\n",
      " 27  average_temperature_celsius          3013 non-null   float64\n",
      " 28  rainfall_mm                          3013 non-null   float64\n",
      " 29  snowfall_mm                          3013 non-null   float64\n",
      " 30  dew_point                            3013 non-null   float64\n",
      " 31  new_confirmed                        3013 non-null   float64\n",
      " 32  new_deceased                         3013 non-null   float64\n",
      " 33  cumulative_confirmed                 3013 non-null   float64\n",
      " 34  cumulative_deceased                  3013 non-null   float64\n",
      "dtypes: float64(35)\n",
      "memory usage: 847.4 KB\n"
     ]
    }
   ],
   "source": [
    "merged_3.info()"
   ]
  },
  {
   "cell_type": "code",
   "execution_count": 51,
   "id": "4a099b4b-18b8-4c45-b344-9d240113da6c",
   "metadata": {
    "tags": []
   },
   "outputs": [],
   "source": [
    "# Save merged_3 for future use\n",
    "\n",
    "merged_3.to_csv('../us_datasets/merged_3.csv')"
   ]
  },
  {
   "cell_type": "code",
   "execution_count": null,
   "id": "6cd35368-d8c0-4937-b873-2075f1e799bb",
   "metadata": {},
   "outputs": [],
   "source": []
  }
 ],
 "metadata": {
  "kernelspec": {
   "display_name": "Python 3 (ipykernel)",
   "language": "python",
   "name": "python3"
  },
  "language_info": {
   "codemirror_mode": {
    "name": "ipython",
    "version": 3
   },
   "file_extension": ".py",
   "mimetype": "text/x-python",
   "name": "python",
   "nbconvert_exporter": "python",
   "pygments_lexer": "ipython3",
   "version": "3.11.5"
  }
 },
 "nbformat": 4,
 "nbformat_minor": 5
}
