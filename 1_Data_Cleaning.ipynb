{
 "cells": [
  {
   "cell_type": "markdown",
   "id": "d6973686-97f0-4a21-88cb-c8ceaa853d4d",
   "metadata": {},
   "source": [
    "<img src=\"./images/coronavirus_icon-1.jpg\" style=\"float: left; margin: 20px; height: 75px\">\n",
    "\n",
    "# Capstone: Covid-19 Study"
   ]
  },
  {
   "cell_type": "markdown",
   "id": "af1111ee-091a-48d7-93f5-b620fce86a28",
   "metadata": {},
   "source": [
    "## Problem Statement\n",
    "\n",
    "Covid-19 Study"
   ]
  },
  {
   "cell_type": "markdown",
   "id": "fbfe016e-b709-4423-a023-a97b479f235a",
   "metadata": {},
   "source": [
    "## 1.  Data Cleaning"
   ]
  },
  {
   "cell_type": "code",
   "execution_count": 1,
   "id": "be95fa41-4b34-4bb3-89b9-d4e77e1011cc",
   "metadata": {
    "tags": []
   },
   "outputs": [],
   "source": [
    "# Import libraries\n",
    "\n",
    "import pandas as pd\n",
    "import numpy as np\n",
    "from bs4 import BeautifulSoup\n",
    "import requests\n",
    "import os"
   ]
  },
  {
   "cell_type": "code",
   "execution_count": null,
   "id": "f2e0d9fc-53b9-4803-ac46-54f7f1e92bb1",
   "metadata": {
    "tags": []
   },
   "outputs": [],
   "source": [
    "# Create dictionary to download all relevant google csv's\n",
    "\n",
    "google_dict = {'index' : \"https://storage.googleapis.com/covid19-open-data/v3/index.csv\",\n",
    "               'demographics' : \"https://storage.googleapis.com/covid19-open-data/v3/demographics.csv\",\n",
    "               'epidemiology' : \"https://storage.googleapis.com/covid19-open-data/v3/epidemiology.csv\",\n",
    "               'health' : \"https://storage.googleapis.com/covid19-open-data/v3/health.csv\",\n",
    "               'hospitalizations' : \"https://storage.googleapis.com/covid19-open-data/v3/hospitalizations.csv\",\n",
    "               'vaccinations' : \"https://storage.googleapis.com/covid19-open-data/v3/vaccinations.csv\",\n",
    "               'government_response' : \"https://storage.googleapis.com/covid19-open-data/v3/oxford-government-response.csv\",\n",
    "               'weather' : \"https://storage.googleapis.com/covid19-open-data/v3/weather.csv\"\n",
    "               }"
   ]
  },
  {
   "cell_type": "code",
   "execution_count": 4,
   "id": "0d6f22b0-2144-4b23-b7bd-de2387855f65",
   "metadata": {
    "tags": []
   },
   "outputs": [],
   "source": [
    "# read in and save google csv files\n",
    "\n",
    "for k,v in google_dict.items():\n",
    "    req = requests.get(v)\n",
    "    url_content = req.content\n",
    "    csv_file = open(f'../world_datasets/{k}.csv', 'wb')\n",
    "    csv_file.write(url_content)\n",
    "    csv_file.close"
   ]
  },
  {
   "cell_type": "code",
   "execution_count": 6,
   "id": "734800ce-1203-4939-8a11-e850acb82444",
   "metadata": {},
   "outputs": [],
   "source": [
    "# Create Dataframes\n",
    "\n",
    "index = pd.read_csv('../world_datasets/index.csv')\n",
    "demographics = pd.read_csv('../world_datasets/demographics.csv')\n",
    "epidemiology = pd.read_csv('../world_datasets/epidemiology.csv')\n",
    "health= pd.read_csv('../world_datasets/health.csv')\n",
    "hospitalizations = pd.read_csv('../world_datasets/hospitalizations.csv')\n",
    "vaccinations = pd.read_csv('../world_datasets/vaccinations.csv')\n",
    "government_response = pd.read_csv('../world_datasets/government_response.csv')\n",
    "weather = pd.read_csv('../world_datasets/weather.csv')"
   ]
  },
  {
   "cell_type": "code",
   "execution_count": 7,
   "id": "13ce8bc7-f765-40c5-869b-ff32e33633cd",
   "metadata": {
    "tags": []
   },
   "outputs": [],
   "source": [
    "df_list = [index,\n",
    "           demographics,\n",
    "           epidemiology,\n",
    "           health,\n",
    "           hospitalizations,\n",
    "           vaccinations,\n",
    "           government_response,\n",
    "           weather]"
   ]
  },
  {
   "cell_type": "code",
   "execution_count": 8,
   "id": "c7526ffa-e079-4c31-8d5b-69c42934f3e0",
   "metadata": {
    "tags": []
   },
   "outputs": [
    {
     "name": "stdout",
     "output_type": "stream",
     "text": [
      "<class 'pandas.core.frame.DataFrame'>\n",
      "RangeIndex: 22963 entries, 0 to 22962\n",
      "Data columns (total 15 columns):\n",
      " #   Column              Non-Null Count  Dtype \n",
      "---  ------              --------------  ----- \n",
      " 0   location_key        22962 non-null  object\n",
      " 1   place_id            21661 non-null  object\n",
      " 2   wikidata_id         22184 non-null  object\n",
      " 3   datacommons_id      4216 non-null   object\n",
      " 4   country_code        22962 non-null  object\n",
      " 5   country_name        22963 non-null  object\n",
      " 6   subregion1_code     22715 non-null  object\n",
      " 7   subregion1_name     22716 non-null  object\n",
      " 8   subregion2_code     21253 non-null  object\n",
      " 9   subregion2_name     21253 non-null  object\n",
      " 10  locality_code       32 non-null     object\n",
      " 11  locality_name       32 non-null     object\n",
      " 12  iso_3166_1_alpha_2  22961 non-null  object\n",
      " 13  iso_3166_1_alpha_3  22962 non-null  object\n",
      " 14  aggregation_level   22963 non-null  int64 \n",
      "dtypes: int64(1), object(14)\n",
      "memory usage: 2.6+ MB\n",
      "\n",
      "---------------------------------------------------------------------------\n",
      "\n",
      "<class 'pandas.core.frame.DataFrame'>\n",
      "RangeIndex: 21689 entries, 0 to 21688\n",
      "Data columns (total 19 columns):\n",
      " #   Column                       Non-Null Count  Dtype  \n",
      "---  ------                       --------------  -----  \n",
      " 0   location_key                 21688 non-null  object \n",
      " 1   population                   21659 non-null  float64\n",
      " 2   population_male              17607 non-null  float64\n",
      " 3   population_female            17607 non-null  float64\n",
      " 4   population_rural             213 non-null    float64\n",
      " 5   population_urban             213 non-null    float64\n",
      " 6   population_largest_city      152 non-null    float64\n",
      " 7   population_clustered         121 non-null    float64\n",
      " 8   population_density           1192 non-null   float64\n",
      " 9   human_development_index      5738 non-null   float64\n",
      " 10  population_age_00_09         17249 non-null  float64\n",
      " 11  population_age_10_19         17248 non-null  float64\n",
      " 12  population_age_20_29         17248 non-null  float64\n",
      " 13  population_age_30_39         17256 non-null  float64\n",
      " 14  population_age_40_49         17250 non-null  float64\n",
      " 15  population_age_50_59         17232 non-null  float64\n",
      " 16  population_age_60_69         17214 non-null  float64\n",
      " 17  population_age_70_79         17127 non-null  float64\n",
      " 18  population_age_80_and_older  16960 non-null  float64\n",
      "dtypes: float64(18), object(1)\n",
      "memory usage: 3.1+ MB\n",
      "\n",
      "---------------------------------------------------------------------------\n",
      "\n",
      "<class 'pandas.core.frame.DataFrame'>\n",
      "RangeIndex: 12525825 entries, 0 to 12525824\n",
      "Data columns (total 10 columns):\n",
      " #   Column                Dtype  \n",
      "---  ------                -----  \n",
      " 0   date                  object \n",
      " 1   location_key          object \n",
      " 2   new_confirmed         float64\n",
      " 3   new_deceased          float64\n",
      " 4   new_recovered         float64\n",
      " 5   new_tested            float64\n",
      " 6   cumulative_confirmed  float64\n",
      " 7   cumulative_deceased   float64\n",
      " 8   cumulative_recovered  float64\n",
      " 9   cumulative_tested     float64\n",
      "dtypes: float64(8), object(2)\n",
      "memory usage: 955.6+ MB\n",
      "\n",
      "---------------------------------------------------------------------------\n",
      "\n",
      "<class 'pandas.core.frame.DataFrame'>\n",
      "RangeIndex: 3504 entries, 0 to 3503\n",
      "Data columns (total 14 columns):\n",
      " #   Column                                Non-Null Count  Dtype  \n",
      "---  ------                                --------------  -----  \n",
      " 0   location_key                          3503 non-null   object \n",
      " 1   life_expectancy                       3499 non-null   float64\n",
      " 2   smoking_prevalence                    146 non-null    float64\n",
      " 3   diabetes_prevalence                   209 non-null    float64\n",
      " 4   infant_mortality_rate                 193 non-null    float64\n",
      " 5   adult_male_mortality_rate             189 non-null    float64\n",
      " 6   adult_female_mortality_rate           189 non-null    float64\n",
      " 7   pollution_mortality_rate              183 non-null    float64\n",
      " 8   comorbidity_mortality_rate            183 non-null    float64\n",
      " 9   hospital_beds_per_1000                25 non-null     float64\n",
      " 10  nurses_per_1000                       180 non-null    float64\n",
      " 11  physicians_per_1000                   164 non-null    float64\n",
      " 12  health_expenditure_usd                186 non-null    float64\n",
      " 13  out_of_pocket_health_expenditure_usd  186 non-null    float64\n",
      "dtypes: float64(13), object(1)\n",
      "memory usage: 383.4+ KB\n",
      "\n",
      "---------------------------------------------------------------------------\n",
      "\n",
      "<class 'pandas.core.frame.DataFrame'>\n",
      "RangeIndex: 1768485 entries, 0 to 1768484\n",
      "Data columns (total 11 columns):\n",
      " #   Column                              Dtype  \n",
      "---  ------                              -----  \n",
      " 0   date                                object \n",
      " 1   location_key                        object \n",
      " 2   new_hospitalized_patients           float64\n",
      " 3   cumulative_hospitalized_patients    float64\n",
      " 4   current_hospitalized_patients       float64\n",
      " 5   new_intensive_care_patients         float64\n",
      " 6   cumulative_intensive_care_patients  float64\n",
      " 7   current_intensive_care_patients     float64\n",
      " 8   new_ventilator_patients             float64\n",
      " 9   cumulative_ventilator_patients      float64\n",
      " 10  current_ventilator_patients         float64\n",
      "dtypes: float64(9), object(2)\n",
      "memory usage: 148.4+ MB\n",
      "\n",
      "---------------------------------------------------------------------------\n",
      "\n",
      "<class 'pandas.core.frame.DataFrame'>\n",
      "RangeIndex: 2545118 entries, 0 to 2545117\n",
      "Data columns (total 32 columns):\n",
      " #   Column                                         Dtype  \n",
      "---  ------                                         -----  \n",
      " 0   date                                           object \n",
      " 1   location_key                                   object \n",
      " 2   new_persons_vaccinated                         float64\n",
      " 3   cumulative_persons_vaccinated                  float64\n",
      " 4   new_persons_fully_vaccinated                   float64\n",
      " 5   cumulative_persons_fully_vaccinated            float64\n",
      " 6   new_vaccine_doses_administered                 float64\n",
      " 7   cumulative_vaccine_doses_administered          float64\n",
      " 8   new_persons_vaccinated_pfizer                  float64\n",
      " 9   cumulative_persons_vaccinated_pfizer           float64\n",
      " 10  new_persons_fully_vaccinated_pfizer            float64\n",
      " 11  cumulative_persons_fully_vaccinated_pfizer     float64\n",
      " 12  new_vaccine_doses_administered_pfizer          float64\n",
      " 13  cumulative_vaccine_doses_administered_pfizer   float64\n",
      " 14  new_persons_vaccinated_moderna                 float64\n",
      " 15  cumulative_persons_vaccinated_moderna          float64\n",
      " 16  new_persons_fully_vaccinated_moderna           float64\n",
      " 17  cumulative_persons_fully_vaccinated_moderna    float64\n",
      " 18  new_vaccine_doses_administered_moderna         float64\n",
      " 19  cumulative_vaccine_doses_administered_moderna  float64\n",
      " 20  new_persons_vaccinated_janssen                 float64\n",
      " 21  cumulative_persons_vaccinated_janssen          float64\n",
      " 22  new_persons_fully_vaccinated_janssen           float64\n",
      " 23  cumulative_persons_fully_vaccinated_janssen    float64\n",
      " 24  new_vaccine_doses_administered_janssen         float64\n",
      " 25  cumulative_vaccine_doses_administered_janssen  float64\n",
      " 26  new_persons_vaccinated_sinovac                 float64\n",
      " 27  total_persons_vaccinated_sinovac               float64\n",
      " 28  new_persons_fully_vaccinated_sinovac           float64\n",
      " 29  total_persons_fully_vaccinated_sinovac         float64\n",
      " 30  new_vaccine_doses_administered_sinovac         float64\n",
      " 31  total_vaccine_doses_administered_sinovac       float64\n",
      "dtypes: float64(30), object(2)\n",
      "memory usage: 621.4+ MB\n",
      "\n",
      "---------------------------------------------------------------------------\n",
      "\n",
      "<class 'pandas.core.frame.DataFrame'>\n",
      "RangeIndex: 303969 entries, 0 to 303968\n",
      "Data columns (total 22 columns):\n",
      " #   Column                              Non-Null Count   Dtype  \n",
      "---  ------                              --------------   -----  \n",
      " 0   date                                303969 non-null  object \n",
      " 1   location_key                        303053 non-null  object \n",
      " 2   school_closing                      302415 non-null  float64\n",
      " 3   workplace_closing                   302243 non-null  float64\n",
      " 4   cancel_public_events                302068 non-null  float64\n",
      " 5   restrictions_on_gatherings          301981 non-null  float64\n",
      " 6   public_transport_closing            301845 non-null  float64\n",
      " 7   stay_at_home_requirements           302074 non-null  float64\n",
      " 8   restrictions_on_internal_movement   302034 non-null  float64\n",
      " 9   international_travel_controls       300241 non-null  float64\n",
      " 10  income_support                      286963 non-null  float64\n",
      " 11  debt_relief                         286854 non-null  float64\n",
      " 12  fiscal_measures                     146749 non-null  float64\n",
      " 13  international_support               146645 non-null  float64\n",
      " 14  public_information_campaigns        302001 non-null  float64\n",
      " 15  testing_policy                      300377 non-null  float64\n",
      " 16  contact_tracing                     298180 non-null  float64\n",
      " 17  emergency_investment_in_healthcare  151099 non-null  float64\n",
      " 18  investment_in_vaccines              232734 non-null  float64\n",
      " 19  facial_coverings                    301618 non-null  float64\n",
      " 20  vaccination_policy                  301242 non-null  float64\n",
      " 21  stringency_index                    301587 non-null  float64\n",
      "dtypes: float64(20), object(2)\n",
      "memory usage: 51.0+ MB\n",
      "\n",
      "---------------------------------------------------------------------------\n",
      "\n",
      "<class 'pandas.core.frame.DataFrame'>\n",
      "RangeIndex: 21680590 entries, 0 to 21680589\n",
      "Data columns (total 9 columns):\n",
      " #   Column                       Dtype  \n",
      "---  ------                       -----  \n",
      " 0   date                         object \n",
      " 1   location_key                 object \n",
      " 2   average_temperature_celsius  float64\n",
      " 3   minimum_temperature_celsius  float64\n",
      " 4   maximum_temperature_celsius  float64\n",
      " 5   rainfall_mm                  float64\n",
      " 6   snowfall_mm                  float64\n",
      " 7   dew_point                    float64\n",
      " 8   relative_humidity            float64\n",
      "dtypes: float64(7), object(2)\n",
      "memory usage: 1.5+ GB\n",
      "\n",
      "---------------------------------------------------------------------------\n",
      "\n"
     ]
    }
   ],
   "source": [
    "# Display data information\n",
    "\n",
    "for df in df_list:\n",
    "    df.info()\n",
    "    print()\n",
    "    print('-'*75)\n",
    "    print()"
   ]
  },
  {
   "cell_type": "code",
   "execution_count": 14,
   "id": "67688aef-15c9-422b-93c6-98e8a3abac76",
   "metadata": {},
   "outputs": [],
   "source": [
    "# Extract US data from datasets\n",
    "us_index = index[index.location_key.str.startswith('US_') == True]\n",
    "us_demographics = demographics[demographics.location_key.str.startswith('US_') == True]\n",
    "us_epidemiology = epidemiology[epidemiology.location_key.str.startswith('US_') == True]\n",
    "us_health = health[health.location_key.str.startswith('US_') == True]\n",
    "us_hospitalizations = hospitalizations[hospitalizations.location_key.str.startswith('US_') == True]\n",
    "us_vaccinations = vaccinations[vaccinations.location_key.str.startswith('US_') == True]\n",
    "us_government_response = government_response[government_response.location_key.str.startswith('US_') == True]\n",
    "us_weather = weather[weather.location_key.str.startswith('US_') == True]"
   ]
  },
  {
   "cell_type": "code",
   "execution_count": 15,
   "id": "cbcb2cef-728e-47e0-a7f9-f853135a53c1",
   "metadata": {},
   "outputs": [],
   "source": [
    "# Write US datasets to local for future use\n",
    "\n",
    "us_index.to_csv('../us_datasets/us_index.csv')\n",
    "us_demographics.to_csv('../us_datasets/us_demographics.csv')\n",
    "us_epidemiology.to_csv('../us_datasets/us_epidemiology.csv')\n",
    "us_health.to_csv('../us_datasets/us_health.csv')\n",
    "us_hospitalizations.to_csv('../us_datasets/us_hospitalizations.csv')\n",
    "us_vaccinations.to_csv('../us_datasets/us_vaccinations.csv')\n",
    "us_government_response.to_csv('../us_datasets/us_government_response.csv')\n",
    "us_weather.to_csv('../us_datasets/us_weather.csv')"
   ]
  },
  {
   "cell_type": "code",
   "execution_count": 2,
   "id": "5b1e000f-f195-4539-8079-2db2b09fa7df",
   "metadata": {},
   "outputs": [],
   "source": [
    "# Create Dataframes\n",
    "\n",
    "us_index = pd.read_csv('../us_datasets/us_index.csv', index_col = 'location_key')\n",
    "us_demographics = pd.read_csv('../us_datasets/us_demographics.csv', index_col = 'location_key')\n",
    "us_epidemiology = pd.read_csv('../us_datasets/us_epidemiology.csv', index_col = 'location_key')\n",
    "us_health= pd.read_csv('../us_datasets/us_health.csv', index_col = 'location_key')\n",
    "us_hospitalizations = pd.read_csv('../us_datasets/us_hospitalizations.csv', index_col = 'location_key')\n",
    "us_vaccinations = pd.read_csv('../us_datasets/us_vaccinations.csv', index_col = 'location_key')\n",
    "us_government_response = pd.read_csv('../us_datasets/us_government_response.csv', index_col = 'location_key')\n",
    "us_weather = pd.read_csv('../us_datasets/us_weather.csv', index_col = 'location_key')"
   ]
  },
  {
   "cell_type": "code",
   "execution_count": 3,
   "id": "5dff4c06-993d-4c49-b537-7c5f0baba134",
   "metadata": {
    "tags": []
   },
   "outputs": [
    {
     "name": "stdout",
     "output_type": "stream",
     "text": [
      "<class 'pandas.core.frame.DataFrame'>\n",
      "Index: 3284 entries, US_AK to US_WY_56045\n",
      "Data columns (total 16 columns):\n",
      " #   Column              Non-Null Count  Dtype  \n",
      "---  ------              --------------  -----  \n",
      " 0   Unnamed: 0.1        3284 non-null   int64  \n",
      " 1   Unnamed: 0          3284 non-null   int64  \n",
      " 2   place_id            3281 non-null   object \n",
      " 3   wikidata_id         3284 non-null   object \n",
      " 4   datacommons_id      3282 non-null   object \n",
      " 5   country_code        3284 non-null   object \n",
      " 6   country_name        3284 non-null   object \n",
      " 7   subregion1_code     3284 non-null   object \n",
      " 8   subregion1_name     3284 non-null   object \n",
      " 9   subregion2_code     3225 non-null   float64\n",
      " 10  subregion2_name     3225 non-null   object \n",
      " 11  locality_code       3 non-null      object \n",
      " 12  locality_name       3 non-null      object \n",
      " 13  iso_3166_1_alpha_2  3284 non-null   object \n",
      " 14  iso_3166_1_alpha_3  3284 non-null   object \n",
      " 15  aggregation_level   3284 non-null   int64  \n",
      "dtypes: float64(1), int64(3), object(12)\n",
      "memory usage: 436.2+ KB\n",
      "\n",
      "---------------------------------------------------------------------------\n",
      "\n",
      "<class 'pandas.core.frame.DataFrame'>\n",
      "Index: 3284 entries, US_AK to US_WY_56045\n",
      "Data columns (total 20 columns):\n",
      " #   Column                       Non-Null Count  Dtype  \n",
      "---  ------                       --------------  -----  \n",
      " 0   Unnamed: 0.1                 3284 non-null   int64  \n",
      " 1   Unnamed: 0                   3284 non-null   int64  \n",
      " 2   population                   3284 non-null   float64\n",
      " 3   population_male              3202 non-null   float64\n",
      " 4   population_female            3202 non-null   float64\n",
      " 5   population_rural             0 non-null      float64\n",
      " 6   population_urban             0 non-null      float64\n",
      " 7   population_largest_city      0 non-null      float64\n",
      " 8   population_clustered         0 non-null      float64\n",
      " 9   population_density           0 non-null      float64\n",
      " 10  human_development_index      0 non-null      float64\n",
      " 11  population_age_00_09         3202 non-null   float64\n",
      " 12  population_age_10_19         3202 non-null   float64\n",
      " 13  population_age_20_29         3202 non-null   float64\n",
      " 14  population_age_30_39         3202 non-null   float64\n",
      " 15  population_age_40_49         3202 non-null   float64\n",
      " 16  population_age_50_59         3202 non-null   float64\n",
      " 17  population_age_60_69         3202 non-null   float64\n",
      " 18  population_age_70_79         3202 non-null   float64\n",
      " 19  population_age_80_and_older  3202 non-null   float64\n",
      "dtypes: float64(18), int64(2)\n",
      "memory usage: 538.8+ KB\n",
      "\n",
      "---------------------------------------------------------------------------\n",
      "\n",
      "<class 'pandas.core.frame.DataFrame'>\n",
      "Index: 2550043 entries, US_AK to US_WY_56045\n",
      "Data columns (total 11 columns):\n",
      " #   Column                Dtype  \n",
      "---  ------                -----  \n",
      " 0   Unnamed: 0.1          int64  \n",
      " 1   Unnamed: 0            int64  \n",
      " 2   date                  object \n",
      " 3   new_confirmed         float64\n",
      " 4   new_deceased          float64\n",
      " 5   new_recovered         float64\n",
      " 6   new_tested            float64\n",
      " 7   cumulative_confirmed  float64\n",
      " 8   cumulative_deceased   float64\n",
      " 9   cumulative_recovered  float64\n",
      " 10  cumulative_tested     float64\n",
      "dtypes: float64(8), int64(2), object(1)\n",
      "memory usage: 233.5+ MB\n",
      "\n",
      "---------------------------------------------------------------------------\n",
      "\n",
      "<class 'pandas.core.frame.DataFrame'>\n",
      "Index: 3075 entries, US_AK to US_WY_56045\n",
      "Data columns (total 15 columns):\n",
      " #   Column                                Non-Null Count  Dtype  \n",
      "---  ------                                --------------  -----  \n",
      " 0   Unnamed: 0.1                          3075 non-null   int64  \n",
      " 1   Unnamed: 0                            3075 non-null   int64  \n",
      " 2   life_expectancy                       3075 non-null   float64\n",
      " 3   smoking_prevalence                    0 non-null      float64\n",
      " 4   diabetes_prevalence                   0 non-null      float64\n",
      " 5   infant_mortality_rate                 0 non-null      float64\n",
      " 6   adult_male_mortality_rate             0 non-null      float64\n",
      " 7   adult_female_mortality_rate           0 non-null      float64\n",
      " 8   pollution_mortality_rate              0 non-null      float64\n",
      " 9   comorbidity_mortality_rate            0 non-null      float64\n",
      " 10  hospital_beds_per_1000                0 non-null      float64\n",
      " 11  nurses_per_1000                       0 non-null      float64\n",
      " 12  physicians_per_1000                   0 non-null      float64\n",
      " 13  health_expenditure_usd                0 non-null      float64\n",
      " 14  out_of_pocket_health_expenditure_usd  0 non-null      float64\n",
      "dtypes: float64(13), int64(2)\n",
      "memory usage: 384.4+ KB\n",
      "\n",
      "---------------------------------------------------------------------------\n",
      "\n",
      "<class 'pandas.core.frame.DataFrame'>\n",
      "Index: 57164 entries, US_AK to US_WY\n",
      "Data columns (total 12 columns):\n",
      " #   Column                              Non-Null Count  Dtype  \n",
      "---  ------                              --------------  -----  \n",
      " 0   Unnamed: 0.1                        57164 non-null  int64  \n",
      " 1   Unnamed: 0                          57164 non-null  int64  \n",
      " 2   date                                57164 non-null  object \n",
      " 3   new_hospitalized_patients           56261 non-null  float64\n",
      " 4   cumulative_hospitalized_patients    52116 non-null  float64\n",
      " 5   current_hospitalized_patients       48403 non-null  float64\n",
      " 6   new_intensive_care_patients         4102 non-null   float64\n",
      " 7   cumulative_intensive_care_patients  3789 non-null   float64\n",
      " 8   current_intensive_care_patients     46209 non-null  float64\n",
      " 9   new_ventilator_patients             1286 non-null   float64\n",
      " 10  cumulative_ventilator_patients      1290 non-null   float64\n",
      " 11  current_ventilator_patients         9126 non-null   float64\n",
      "dtypes: float64(9), int64(2), object(1)\n",
      "memory usage: 5.7+ MB\n",
      "\n",
      "---------------------------------------------------------------------------\n",
      "\n",
      "<class 'pandas.core.frame.DataFrame'>\n",
      "Index: 1624891 entries, US_AK to US_WY_56045\n",
      "Data columns (total 33 columns):\n",
      " #   Column                                         Non-Null Count    Dtype  \n",
      "---  ------                                         --------------    -----  \n",
      " 0   Unnamed: 0.1                                   1624891 non-null  int64  \n",
      " 1   Unnamed: 0                                     1624891 non-null  int64  \n",
      " 2   date                                           1624891 non-null  object \n",
      " 3   new_persons_vaccinated                         33325 non-null    float64\n",
      " 4   cumulative_persons_vaccinated                  33382 non-null    float64\n",
      " 5   new_persons_fully_vaccinated                   1621498 non-null  float64\n",
      " 6   cumulative_persons_fully_vaccinated            1624725 non-null  float64\n",
      " 7   new_vaccine_doses_administered                 33422 non-null    float64\n",
      " 8   cumulative_vaccine_doses_administered          33479 non-null    float64\n",
      " 9   new_persons_vaccinated_pfizer                  0 non-null        float64\n",
      " 10  cumulative_persons_vaccinated_pfizer           0 non-null        float64\n",
      " 11  new_persons_fully_vaccinated_pfizer            30352 non-null    float64\n",
      " 12  cumulative_persons_fully_vaccinated_pfizer     30408 non-null    float64\n",
      " 13  new_vaccine_doses_administered_pfizer          30352 non-null    float64\n",
      " 14  cumulative_vaccine_doses_administered_pfizer   30408 non-null    float64\n",
      " 15  new_persons_vaccinated_moderna                 0 non-null        float64\n",
      " 16  cumulative_persons_vaccinated_moderna          0 non-null        float64\n",
      " 17  new_persons_fully_vaccinated_moderna           30352 non-null    float64\n",
      " 18  cumulative_persons_fully_vaccinated_moderna    30408 non-null    float64\n",
      " 19  new_vaccine_doses_administered_moderna         30352 non-null    float64\n",
      " 20  cumulative_vaccine_doses_administered_moderna  30408 non-null    float64\n",
      " 21  new_persons_vaccinated_janssen                 0 non-null        float64\n",
      " 22  cumulative_persons_vaccinated_janssen          0 non-null        float64\n",
      " 23  new_persons_fully_vaccinated_janssen           30352 non-null    float64\n",
      " 24  cumulative_persons_fully_vaccinated_janssen    30408 non-null    float64\n",
      " 25  new_vaccine_doses_administered_janssen         30352 non-null    float64\n",
      " 26  cumulative_vaccine_doses_administered_janssen  30408 non-null    float64\n",
      " 27  new_persons_vaccinated_sinovac                 0 non-null        float64\n",
      " 28  total_persons_vaccinated_sinovac               0 non-null        float64\n",
      " 29  new_persons_fully_vaccinated_sinovac           0 non-null        float64\n",
      " 30  total_persons_fully_vaccinated_sinovac         0 non-null        float64\n",
      " 31  new_vaccine_doses_administered_sinovac         0 non-null        float64\n",
      " 32  total_vaccine_doses_administered_sinovac       0 non-null        float64\n",
      "dtypes: float64(30), int64(2), object(1)\n",
      "memory usage: 421.5+ MB\n",
      "\n",
      "---------------------------------------------------------------------------\n",
      "\n",
      "<class 'pandas.core.frame.DataFrame'>\n",
      "Index: 47299 entries, US_AK to US_WY\n",
      "Data columns (total 23 columns):\n",
      " #   Column                              Non-Null Count  Dtype  \n",
      "---  ------                              --------------  -----  \n",
      " 0   Unnamed: 0.1                        47299 non-null  int64  \n",
      " 1   Unnamed: 0                          47299 non-null  int64  \n",
      " 2   date                                47299 non-null  object \n",
      " 3   school_closing                      47298 non-null  float64\n",
      " 4   workplace_closing                   47299 non-null  float64\n",
      " 5   cancel_public_events                47299 non-null  float64\n",
      " 6   restrictions_on_gatherings          47299 non-null  float64\n",
      " 7   public_transport_closing            47291 non-null  float64\n",
      " 8   stay_at_home_requirements           47299 non-null  float64\n",
      " 9   restrictions_on_internal_movement   47293 non-null  float64\n",
      " 10  international_travel_controls       47284 non-null  float64\n",
      " 11  income_support                      47294 non-null  float64\n",
      " 12  debt_relief                         47249 non-null  float64\n",
      " 13  fiscal_measures                     12047 non-null  float64\n",
      " 14  international_support               11919 non-null  float64\n",
      " 15  public_information_campaigns        47296 non-null  float64\n",
      " 16  testing_policy                      47296 non-null  float64\n",
      " 17  contact_tracing                     47284 non-null  float64\n",
      " 18  emergency_investment_in_healthcare  11851 non-null  float64\n",
      " 19  investment_in_vaccines              13868 non-null  float64\n",
      " 20  facial_coverings                    47293 non-null  float64\n",
      " 21  vaccination_policy                  47289 non-null  float64\n",
      " 22  stringency_index                    47293 non-null  float64\n",
      "dtypes: float64(20), int64(2), object(1)\n",
      "memory usage: 8.7+ MB\n",
      "\n",
      "---------------------------------------------------------------------------\n",
      "\n",
      "<class 'pandas.core.frame.DataFrame'>\n",
      "Index: 3240613 entries, US_AK to US_WY_56045\n",
      "Data columns (total 10 columns):\n",
      " #   Column                       Dtype  \n",
      "---  ------                       -----  \n",
      " 0   Unnamed: 0.1                 int64  \n",
      " 1   Unnamed: 0                   int64  \n",
      " 2   date                         object \n",
      " 3   average_temperature_celsius  float64\n",
      " 4   minimum_temperature_celsius  float64\n",
      " 5   maximum_temperature_celsius  float64\n",
      " 6   rainfall_mm                  float64\n",
      " 7   snowfall_mm                  float64\n",
      " 8   dew_point                    float64\n",
      " 9   relative_humidity            float64\n",
      "dtypes: float64(7), int64(2), object(1)\n",
      "memory usage: 272.0+ MB\n",
      "\n",
      "---------------------------------------------------------------------------\n",
      "\n"
     ]
    }
   ],
   "source": [
    "# Display data information from US only datasets\n",
    "\n",
    "us_df_list = [us_index,\n",
    "           us_demographics,\n",
    "           us_epidemiology,\n",
    "           us_health,\n",
    "           us_hospitalizations,\n",
    "           us_vaccinations,\n",
    "           us_government_response,\n",
    "           us_weather]\n",
    "\n",
    "for df in us_df_list:\n",
    "    df.info()\n",
    "    print()\n",
    "    print('-'*75)\n",
    "    print()"
   ]
  },
  {
   "cell_type": "markdown",
   "id": "1c40145e-0cdc-46ed-9721-1a91af396f5d",
   "metadata": {},
   "source": [
    "## Drop unnecessary columns and rows, prepare datasets for merging"
   ]
  },
  {
   "cell_type": "code",
   "execution_count": 4,
   "id": "8ba05521-a017-4fd4-8d1f-19fa54f735e8",
   "metadata": {},
   "outputs": [],
   "source": [
    "# Only keep data on US states by county, drop state level and US territory data\n",
    "\n",
    "us_index = us_index[us_index.subregion1_code.isin(['MP', 'PR', 'VI']) == False]\n",
    "us_index = us_index[['subregion2_name']].dropna()"
   ]
  },
  {
   "cell_type": "code",
   "execution_count": 5,
   "id": "36b5d6a4-4ca8-4ea6-9e71-44373e00d311",
   "metadata": {
    "tags": []
   },
   "outputs": [
    {
     "name": "stdout",
     "output_type": "stream",
     "text": [
      "<class 'pandas.core.frame.DataFrame'>\n",
      "Index: 3142 entries, US_AK_02013 to US_WY_56045\n",
      "Data columns (total 1 columns):\n",
      " #   Column           Non-Null Count  Dtype \n",
      "---  ------           --------------  ----- \n",
      " 0   subregion2_name  3142 non-null   object\n",
      "dtypes: object(1)\n",
      "memory usage: 49.1+ KB\n"
     ]
    }
   ],
   "source": [
    "us_index.info()"
   ]
  },
  {
   "cell_type": "code",
   "execution_count": 6,
   "id": "0c3eac3f-7076-4969-87c2-1a4cd6e461be",
   "metadata": {
    "tags": []
   },
   "outputs": [],
   "source": [
    "us_index.to_csv('../us_datasets/us_index_merge_on.csv')"
   ]
  },
  {
   "cell_type": "code",
   "execution_count": 7,
   "id": "703633c3-a9e8-41fe-bbd6-031a3d9020da",
   "metadata": {
    "tags": []
   },
   "outputs": [
    {
     "name": "stdout",
     "output_type": "stream",
     "text": [
      "<class 'pandas.core.frame.DataFrame'>\n",
      "Index: 3284 entries, US_AK to US_WY_56045\n",
      "Data columns (total 20 columns):\n",
      " #   Column                       Non-Null Count  Dtype  \n",
      "---  ------                       --------------  -----  \n",
      " 0   Unnamed: 0.1                 3284 non-null   int64  \n",
      " 1   Unnamed: 0                   3284 non-null   int64  \n",
      " 2   population                   3284 non-null   float64\n",
      " 3   population_male              3202 non-null   float64\n",
      " 4   population_female            3202 non-null   float64\n",
      " 5   population_rural             0 non-null      float64\n",
      " 6   population_urban             0 non-null      float64\n",
      " 7   population_largest_city      0 non-null      float64\n",
      " 8   population_clustered         0 non-null      float64\n",
      " 9   population_density           0 non-null      float64\n",
      " 10  human_development_index      0 non-null      float64\n",
      " 11  population_age_00_09         3202 non-null   float64\n",
      " 12  population_age_10_19         3202 non-null   float64\n",
      " 13  population_age_20_29         3202 non-null   float64\n",
      " 14  population_age_30_39         3202 non-null   float64\n",
      " 15  population_age_40_49         3202 non-null   float64\n",
      " 16  population_age_50_59         3202 non-null   float64\n",
      " 17  population_age_60_69         3202 non-null   float64\n",
      " 18  population_age_70_79         3202 non-null   float64\n",
      " 19  population_age_80_and_older  3202 non-null   float64\n",
      "dtypes: float64(18), int64(2)\n",
      "memory usage: 538.8+ KB\n"
     ]
    }
   ],
   "source": [
    "us_demographics.info()"
   ]
  },
  {
   "cell_type": "code",
   "execution_count": 8,
   "id": "38b9479c-3fd0-4335-a116-45bf1b8963ff",
   "metadata": {
    "tags": []
   },
   "outputs": [],
   "source": [
    "us_demographics.drop(axis = 1, columns = ['Unnamed: 0.1',\n",
    "                                       'Unnamed: 0', \n",
    "                                       'population_rural', \n",
    "                                       'population_urban', \n",
    "                                       'population_largest_city', \n",
    "                                       'population_clustered', \n",
    "                                       'population_density', \n",
    "                                       'human_development_index'], \n",
    "                  inplace = True)"
   ]
  },
  {
   "cell_type": "code",
   "execution_count": 9,
   "id": "0a130234-7817-4a5c-bb95-c17683b26993",
   "metadata": {
    "tags": []
   },
   "outputs": [],
   "source": [
    "us_health = us_health[['life_expectancy']]"
   ]
  },
  {
   "cell_type": "code",
   "execution_count": 10,
   "id": "979a3aec-2e0f-46b7-b4b6-688c9c3f273c",
   "metadata": {
    "tags": []
   },
   "outputs": [
    {
     "name": "stdout",
     "output_type": "stream",
     "text": [
      "<class 'pandas.core.frame.DataFrame'>\n",
      "Index: 3075 entries, US_AK to US_WY_56045\n",
      "Data columns (total 1 columns):\n",
      " #   Column           Non-Null Count  Dtype  \n",
      "---  ------           --------------  -----  \n",
      " 0   life_expectancy  3075 non-null   float64\n",
      "dtypes: float64(1)\n",
      "memory usage: 48.0+ KB\n"
     ]
    }
   ],
   "source": [
    "us_health.info()"
   ]
  },
  {
   "cell_type": "code",
   "execution_count": 11,
   "id": "a3e66054-03a2-4b5e-b72e-10cb7922152c",
   "metadata": {
    "tags": []
   },
   "outputs": [],
   "source": [
    "merged = pd.concat([us_index, us_demographics, us_health], axis = 1, join = 'inner')"
   ]
  },
  {
   "cell_type": "code",
   "execution_count": 12,
   "id": "62edcbc8-8fae-4fd3-a255-af0a5b0250d4",
   "metadata": {
    "tags": []
   },
   "outputs": [
    {
     "name": "stdout",
     "output_type": "stream",
     "text": [
      "<class 'pandas.core.frame.DataFrame'>\n",
      "Index: 3020 entries, US_AK_02013 to US_WY_56045\n",
      "Data columns (total 14 columns):\n",
      " #   Column                       Non-Null Count  Dtype  \n",
      "---  ------                       --------------  -----  \n",
      " 0   subregion2_name              3020 non-null   object \n",
      " 1   population                   3020 non-null   float64\n",
      " 2   population_male              3020 non-null   float64\n",
      " 3   population_female            3020 non-null   float64\n",
      " 4   population_age_00_09         3020 non-null   float64\n",
      " 5   population_age_10_19         3020 non-null   float64\n",
      " 6   population_age_20_29         3020 non-null   float64\n",
      " 7   population_age_30_39         3020 non-null   float64\n",
      " 8   population_age_40_49         3020 non-null   float64\n",
      " 9   population_age_50_59         3020 non-null   float64\n",
      " 10  population_age_60_69         3020 non-null   float64\n",
      " 11  population_age_70_79         3020 non-null   float64\n",
      " 12  population_age_80_and_older  3020 non-null   float64\n",
      " 13  life_expectancy              3020 non-null   float64\n",
      "dtypes: float64(13), object(1)\n",
      "memory usage: 418.4+ KB\n"
     ]
    }
   ],
   "source": [
    "merged.info()"
   ]
  },
  {
   "cell_type": "code",
   "execution_count": 13,
   "id": "03257791-bef4-4c50-bd87-f2de21acb17b",
   "metadata": {
    "tags": []
   },
   "outputs": [],
   "source": [
    "# def extract(df_name, df, date, columns):\n",
    "#     df_name = df.loc[df.date == date, columns]\n",
    "#     return"
   ]
  },
  {
   "cell_type": "code",
   "execution_count": 14,
   "id": "2d91970d-f93e-4b20-853f-409beb2b77fc",
   "metadata": {
    "tags": []
   },
   "outputs": [],
   "source": [
    "us_vaccinations_2 = us_vaccinations.loc[us_vaccinations.date == '2021-09-01', ['date','cumulative_persons_fully_vaccinated']]\n",
    "us_vaccinations_3 = us_vaccinations.loc[us_vaccinations.date == '2022-05-13', ['date','cumulative_persons_fully_vaccinated']]"
   ]
  },
  {
   "cell_type": "code",
   "execution_count": 15,
   "id": "03838596-f18e-4e36-9a5c-9eadb24aab93",
   "metadata": {
    "tags": []
   },
   "outputs": [
    {
     "name": "stdout",
     "output_type": "stream",
     "text": [
      "<class 'pandas.core.frame.DataFrame'>\n",
      "Index: 3278 entries, US_AK to US_WY_56045\n",
      "Data columns (total 2 columns):\n",
      " #   Column                               Non-Null Count  Dtype  \n",
      "---  ------                               --------------  -----  \n",
      " 0   date                                 3278 non-null   object \n",
      " 1   cumulative_persons_fully_vaccinated  3278 non-null   float64\n",
      "dtypes: float64(1), object(1)\n",
      "memory usage: 76.8+ KB\n"
     ]
    }
   ],
   "source": [
    "us_vaccinations_3.info()"
   ]
  },
  {
   "cell_type": "code",
   "execution_count": 16,
   "id": "0c649156-dcd0-42a9-bf62-e9b68be9b56f",
   "metadata": {
    "tags": []
   },
   "outputs": [
    {
     "name": "stdout",
     "output_type": "stream",
     "text": [
      "<class 'pandas.core.frame.DataFrame'>\n",
      "Index: 47299 entries, US_AK to US_WY\n",
      "Data columns (total 23 columns):\n",
      " #   Column                              Non-Null Count  Dtype  \n",
      "---  ------                              --------------  -----  \n",
      " 0   Unnamed: 0.1                        47299 non-null  int64  \n",
      " 1   Unnamed: 0                          47299 non-null  int64  \n",
      " 2   date                                47299 non-null  object \n",
      " 3   school_closing                      47298 non-null  float64\n",
      " 4   workplace_closing                   47299 non-null  float64\n",
      " 5   cancel_public_events                47299 non-null  float64\n",
      " 6   restrictions_on_gatherings          47299 non-null  float64\n",
      " 7   public_transport_closing            47291 non-null  float64\n",
      " 8   stay_at_home_requirements           47299 non-null  float64\n",
      " 9   restrictions_on_internal_movement   47293 non-null  float64\n",
      " 10  international_travel_controls       47284 non-null  float64\n",
      " 11  income_support                      47294 non-null  float64\n",
      " 12  debt_relief                         47249 non-null  float64\n",
      " 13  fiscal_measures                     12047 non-null  float64\n",
      " 14  international_support               11919 non-null  float64\n",
      " 15  public_information_campaigns        47296 non-null  float64\n",
      " 16  testing_policy                      47296 non-null  float64\n",
      " 17  contact_tracing                     47284 non-null  float64\n",
      " 18  emergency_investment_in_healthcare  11851 non-null  float64\n",
      " 19  investment_in_vaccines              13868 non-null  float64\n",
      " 20  facial_coverings                    47293 non-null  float64\n",
      " 21  vaccination_policy                  47289 non-null  float64\n",
      " 22  stringency_index                    47293 non-null  float64\n",
      "dtypes: float64(20), int64(2), object(1)\n",
      "memory usage: 8.7+ MB\n"
     ]
    }
   ],
   "source": [
    "us_government_response.info()"
   ]
  },
  {
   "cell_type": "code",
   "execution_count": 17,
   "id": "5cb28982-e226-4e90-96b6-4b7a7aa7f059",
   "metadata": {
    "tags": []
   },
   "outputs": [
    {
     "data": {
      "text/plain": [
       "'location_key'"
      ]
     },
     "execution_count": 17,
     "metadata": {},
     "output_type": "execute_result"
    }
   ],
   "source": [
    "us_government_response.index.name"
   ]
  },
  {
   "cell_type": "code",
   "execution_count": 18,
   "id": "af139a76-dce1-4b74-9343-322d21059023",
   "metadata": {
    "tags": []
   },
   "outputs": [],
   "source": [
    "us_government_response.index.name = 'gr_key'"
   ]
  },
  {
   "cell_type": "code",
   "execution_count": 19,
   "id": "2fbdea3f-71f2-4dff-9718-aa749877942d",
   "metadata": {
    "tags": []
   },
   "outputs": [],
   "source": [
    "us_government_response_1 = us_government_response.loc[us_government_response.date == '2021-01-01']"
   ]
  },
  {
   "cell_type": "code",
   "execution_count": 20,
   "id": "14f9462c-0e53-439d-b2cd-58fcdebbb830",
   "metadata": {
    "tags": []
   },
   "outputs": [
    {
     "data": {
      "text/plain": [
       "Index(['US_AK', 'US_AL', 'US_AR', 'US_AZ', 'US_CA', 'US_CO', 'US_CT', 'US_DC',\n",
       "       'US_DE', 'US_FL', 'US_GA', 'US_HI', 'US_IA', 'US_ID', 'US_IL', 'US_IN',\n",
       "       'US_KS', 'US_KY', 'US_LA', 'US_MA', 'US_MD', 'US_ME', 'US_MI', 'US_MN',\n",
       "       'US_MO', 'US_MS', 'US_MT', 'US_NC', 'US_ND', 'US_NE', 'US_NH', 'US_NJ',\n",
       "       'US_NM', 'US_NV', 'US_NY', 'US_OH', 'US_OK', 'US_OR', 'US_PA', 'US_RI',\n",
       "       'US_SC', 'US_SD', 'US_TN', 'US_TX', 'US_UT', 'US_VA', 'US_VT', 'US_WA',\n",
       "       'US_WI', 'US_WV', 'US_WY'],\n",
       "      dtype='object', name='gr_key')"
      ]
     },
     "execution_count": 20,
     "metadata": {},
     "output_type": "execute_result"
    }
   ],
   "source": [
    "us_government_response_1.index"
   ]
  },
  {
   "cell_type": "code",
   "execution_count": 21,
   "id": "f15bd892-41d4-4e03-b7ac-013c5b179f3e",
   "metadata": {
    "tags": []
   },
   "outputs": [
    {
     "name": "stdout",
     "output_type": "stream",
     "text": [
      "<class 'pandas.core.frame.DataFrame'>\n",
      "Index: 51 entries, US_AK to US_WY\n",
      "Data columns (total 23 columns):\n",
      " #   Column                              Non-Null Count  Dtype  \n",
      "---  ------                              --------------  -----  \n",
      " 0   Unnamed: 0.1                        51 non-null     int64  \n",
      " 1   Unnamed: 0                          51 non-null     int64  \n",
      " 2   date                                51 non-null     object \n",
      " 3   school_closing                      51 non-null     float64\n",
      " 4   workplace_closing                   51 non-null     float64\n",
      " 5   cancel_public_events                51 non-null     float64\n",
      " 6   restrictions_on_gatherings          51 non-null     float64\n",
      " 7   public_transport_closing            51 non-null     float64\n",
      " 8   stay_at_home_requirements           51 non-null     float64\n",
      " 9   restrictions_on_internal_movement   51 non-null     float64\n",
      " 10  international_travel_controls       51 non-null     float64\n",
      " 11  income_support                      51 non-null     float64\n",
      " 12  debt_relief                         51 non-null     float64\n",
      " 13  fiscal_measures                     21 non-null     float64\n",
      " 14  international_support               21 non-null     float64\n",
      " 15  public_information_campaigns        51 non-null     float64\n",
      " 16  testing_policy                      51 non-null     float64\n",
      " 17  contact_tracing                     51 non-null     float64\n",
      " 18  emergency_investment_in_healthcare  19 non-null     float64\n",
      " 19  investment_in_vaccines              19 non-null     float64\n",
      " 20  facial_coverings                    51 non-null     float64\n",
      " 21  vaccination_policy                  51 non-null     float64\n",
      " 22  stringency_index                    51 non-null     float64\n",
      "dtypes: float64(20), int64(2), object(1)\n",
      "memory usage: 9.6+ KB\n"
     ]
    }
   ],
   "source": [
    "us_government_response_1.info()"
   ]
  },
  {
   "cell_type": "code",
   "execution_count": 22,
   "id": "4826b65e-ee39-4f69-8757-a724425cf592",
   "metadata": {
    "tags": []
   },
   "outputs": [],
   "source": [
    "us_government_response_2 = us_government_response.loc[us_government_response.date == '2021-09-01']"
   ]
  },
  {
   "cell_type": "code",
   "execution_count": 23,
   "id": "41dc571c-a8dd-4794-9249-0b0f9259fb8c",
   "metadata": {
    "tags": []
   },
   "outputs": [
    {
     "name": "stdout",
     "output_type": "stream",
     "text": [
      "<class 'pandas.core.frame.DataFrame'>\n",
      "Index: 51 entries, US_AK to US_WY\n",
      "Data columns (total 23 columns):\n",
      " #   Column                              Non-Null Count  Dtype  \n",
      "---  ------                              --------------  -----  \n",
      " 0   Unnamed: 0.1                        51 non-null     int64  \n",
      " 1   Unnamed: 0                          51 non-null     int64  \n",
      " 2   date                                51 non-null     object \n",
      " 3   school_closing                      51 non-null     float64\n",
      " 4   workplace_closing                   51 non-null     float64\n",
      " 5   cancel_public_events                51 non-null     float64\n",
      " 6   restrictions_on_gatherings          51 non-null     float64\n",
      " 7   public_transport_closing            51 non-null     float64\n",
      " 8   stay_at_home_requirements           51 non-null     float64\n",
      " 9   restrictions_on_internal_movement   51 non-null     float64\n",
      " 10  international_travel_controls       51 non-null     float64\n",
      " 11  income_support                      51 non-null     float64\n",
      " 12  debt_relief                         51 non-null     float64\n",
      " 13  fiscal_measures                     0 non-null      float64\n",
      " 14  international_support               0 non-null      float64\n",
      " 15  public_information_campaigns        51 non-null     float64\n",
      " 16  testing_policy                      51 non-null     float64\n",
      " 17  contact_tracing                     51 non-null     float64\n",
      " 18  emergency_investment_in_healthcare  0 non-null      float64\n",
      " 19  investment_in_vaccines              10 non-null     float64\n",
      " 20  facial_coverings                    51 non-null     float64\n",
      " 21  vaccination_policy                  51 non-null     float64\n",
      " 22  stringency_index                    51 non-null     float64\n",
      "dtypes: float64(20), int64(2), object(1)\n",
      "memory usage: 9.6+ KB\n"
     ]
    }
   ],
   "source": [
    "us_government_response_2.info()"
   ]
  },
  {
   "cell_type": "code",
   "execution_count": 24,
   "id": "a6709998-0378-499c-b611-e67b1337d3fc",
   "metadata": {
    "tags": []
   },
   "outputs": [],
   "source": [
    "us_government_response_3 = us_government_response.loc[us_government_response.date == '2022-05-13']"
   ]
  },
  {
   "cell_type": "code",
   "execution_count": 25,
   "id": "d6732240-1fb3-4fcb-9798-efbd4f12350d",
   "metadata": {
    "tags": []
   },
   "outputs": [
    {
     "name": "stdout",
     "output_type": "stream",
     "text": [
      "<class 'pandas.core.frame.DataFrame'>\n",
      "Index: 51 entries, US_AK to US_WY\n",
      "Data columns (total 23 columns):\n",
      " #   Column                              Non-Null Count  Dtype  \n",
      "---  ------                              --------------  -----  \n",
      " 0   Unnamed: 0.1                        51 non-null     int64  \n",
      " 1   Unnamed: 0                          51 non-null     int64  \n",
      " 2   date                                51 non-null     object \n",
      " 3   school_closing                      51 non-null     float64\n",
      " 4   workplace_closing                   51 non-null     float64\n",
      " 5   cancel_public_events                51 non-null     float64\n",
      " 6   restrictions_on_gatherings          51 non-null     float64\n",
      " 7   public_transport_closing            51 non-null     float64\n",
      " 8   stay_at_home_requirements           51 non-null     float64\n",
      " 9   restrictions_on_internal_movement   51 non-null     float64\n",
      " 10  international_travel_controls       51 non-null     float64\n",
      " 11  income_support                      51 non-null     float64\n",
      " 12  debt_relief                         51 non-null     float64\n",
      " 13  fiscal_measures                     0 non-null      float64\n",
      " 14  international_support               0 non-null      float64\n",
      " 15  public_information_campaigns        51 non-null     float64\n",
      " 16  testing_policy                      51 non-null     float64\n",
      " 17  contact_tracing                     51 non-null     float64\n",
      " 18  emergency_investment_in_healthcare  0 non-null      float64\n",
      " 19  investment_in_vaccines              4 non-null      float64\n",
      " 20  facial_coverings                    51 non-null     float64\n",
      " 21  vaccination_policy                  51 non-null     float64\n",
      " 22  stringency_index                    51 non-null     float64\n",
      "dtypes: float64(20), int64(2), object(1)\n",
      "memory usage: 9.6+ KB\n"
     ]
    }
   ],
   "source": [
    "us_government_response_3.info()"
   ]
  },
  {
   "cell_type": "code",
   "execution_count": 26,
   "id": "e33d9c2c-fc48-46f1-809c-b6ae8d62bd92",
   "metadata": {
    "tags": []
   },
   "outputs": [],
   "source": [
    "us_weather_1 = us_weather.loc[us_weather.date == '2021-01-01']\n",
    "us_weather_2 = us_weather.loc[us_weather.date == '2021-09-01']\n",
    "us_weather_3 = us_weather.loc[us_weather.date == '2022-05-13']"
   ]
  },
  {
   "cell_type": "code",
   "execution_count": 27,
   "id": "2b564169-4819-4140-8074-cec5c1729678",
   "metadata": {
    "tags": []
   },
   "outputs": [
    {
     "name": "stdout",
     "output_type": "stream",
     "text": [
      "<class 'pandas.core.frame.DataFrame'>\n",
      "Index: 3280 entries, US_AK to US_WY_56045\n",
      "Data columns (total 10 columns):\n",
      " #   Column                       Non-Null Count  Dtype  \n",
      "---  ------                       --------------  -----  \n",
      " 0   Unnamed: 0.1                 3280 non-null   int64  \n",
      " 1   Unnamed: 0                   3280 non-null   int64  \n",
      " 2   date                         3280 non-null   object \n",
      " 3   average_temperature_celsius  3280 non-null   float64\n",
      " 4   minimum_temperature_celsius  3280 non-null   float64\n",
      " 5   maximum_temperature_celsius  3280 non-null   float64\n",
      " 6   rainfall_mm                  3280 non-null   float64\n",
      " 7   snowfall_mm                  16 non-null     float64\n",
      " 8   dew_point                    3278 non-null   float64\n",
      " 9   relative_humidity            3278 non-null   float64\n",
      "dtypes: float64(7), int64(2), object(1)\n",
      "memory usage: 281.9+ KB\n"
     ]
    }
   ],
   "source": [
    "us_weather_3.info()"
   ]
  },
  {
   "cell_type": "code",
   "execution_count": 28,
   "id": "ffcef5d0-2cd8-4cbb-93b7-aa4332cacaa7",
   "metadata": {
    "tags": []
   },
   "outputs": [],
   "source": [
    "us_epidemiology_1 = us_epidemiology.loc[us_epidemiology.date == '2021-01-01', ['new_confirmed', 'new_deceased', 'cumulative_confirmed', 'cumulative_deceased']]\n",
    "us_epidemiology_2 = us_epidemiology.loc[us_epidemiology.date == '2021-09-01', ['new_confirmed', 'new_deceased', 'cumulative_confirmed', 'cumulative_deceased']]\n",
    "us_epidemiology_3 = us_epidemiology.loc[us_epidemiology.date == '2022-05-13', ['new_confirmed', 'new_deceased', 'cumulative_confirmed', 'cumulative_deceased']]"
   ]
  },
  {
   "cell_type": "code",
   "execution_count": 29,
   "id": "a1e74b98-1fd3-4f6c-ae8b-a6566b3ddeba",
   "metadata": {
    "tags": []
   },
   "outputs": [
    {
     "name": "stdout",
     "output_type": "stream",
     "text": [
      "<class 'pandas.core.frame.DataFrame'>\n",
      "Index: 3280 entries, US_AK to US_WY_56045\n",
      "Data columns (total 4 columns):\n",
      " #   Column                Non-Null Count  Dtype  \n",
      "---  ------                --------------  -----  \n",
      " 0   new_confirmed         3280 non-null   float64\n",
      " 1   new_deceased          3201 non-null   float64\n",
      " 2   cumulative_confirmed  3280 non-null   float64\n",
      " 3   cumulative_deceased   3201 non-null   float64\n",
      "dtypes: float64(4)\n",
      "memory usage: 128.1+ KB\n"
     ]
    }
   ],
   "source": [
    "us_epidemiology_3 = us_epidemiology.loc[us_epidemiology.date == '2022-05-13', ['new_confirmed', 'new_deceased', 'cumulative_confirmed', 'cumulative_deceased']]\n",
    "us_epidemiology_3.info()"
   ]
  },
  {
   "cell_type": "code",
   "execution_count": 30,
   "id": "6826ad18-c172-4d82-85ac-83e2ce8acc6b",
   "metadata": {},
   "outputs": [],
   "source": [
    "merged_1 = pd.concat([us_index, us_demographics, us_health, us_weather_1, us_epidemiology_1], axis = 1, join = 'inner')"
   ]
  },
  {
   "cell_type": "code",
   "execution_count": 31,
   "id": "65ade811-9eb4-4d80-9d76-ed0e67a62980",
   "metadata": {
    "tags": []
   },
   "outputs": [
    {
     "data": {
      "text/html": [
       "<div>\n",
       "<style scoped>\n",
       "    .dataframe tbody tr th:only-of-type {\n",
       "        vertical-align: middle;\n",
       "    }\n",
       "\n",
       "    .dataframe tbody tr th {\n",
       "        vertical-align: top;\n",
       "    }\n",
       "\n",
       "    .dataframe thead th {\n",
       "        text-align: right;\n",
       "    }\n",
       "</style>\n",
       "<table border=\"1\" class=\"dataframe\">\n",
       "  <thead>\n",
       "    <tr style=\"text-align: right;\">\n",
       "      <th></th>\n",
       "      <th>subregion2_name</th>\n",
       "      <th>population</th>\n",
       "      <th>population_male</th>\n",
       "      <th>population_female</th>\n",
       "      <th>population_age_00_09</th>\n",
       "      <th>population_age_10_19</th>\n",
       "      <th>population_age_20_29</th>\n",
       "      <th>population_age_30_39</th>\n",
       "      <th>population_age_40_49</th>\n",
       "      <th>population_age_50_59</th>\n",
       "      <th>...</th>\n",
       "      <th>minimum_temperature_celsius</th>\n",
       "      <th>maximum_temperature_celsius</th>\n",
       "      <th>rainfall_mm</th>\n",
       "      <th>snowfall_mm</th>\n",
       "      <th>dew_point</th>\n",
       "      <th>relative_humidity</th>\n",
       "      <th>new_confirmed</th>\n",
       "      <th>new_deceased</th>\n",
       "      <th>cumulative_confirmed</th>\n",
       "      <th>cumulative_deceased</th>\n",
       "    </tr>\n",
       "    <tr>\n",
       "      <th>location_key</th>\n",
       "      <th></th>\n",
       "      <th></th>\n",
       "      <th></th>\n",
       "      <th></th>\n",
       "      <th></th>\n",
       "      <th></th>\n",
       "      <th></th>\n",
       "      <th></th>\n",
       "      <th></th>\n",
       "      <th></th>\n",
       "      <th></th>\n",
       "      <th></th>\n",
       "      <th></th>\n",
       "      <th></th>\n",
       "      <th></th>\n",
       "      <th></th>\n",
       "      <th></th>\n",
       "      <th></th>\n",
       "      <th></th>\n",
       "      <th></th>\n",
       "      <th></th>\n",
       "    </tr>\n",
       "  </thead>\n",
       "  <tbody>\n",
       "    <tr>\n",
       "      <th>US_AK_02013</th>\n",
       "      <td>Aleutians East</td>\n",
       "      <td>3455.0</td>\n",
       "      <td>2345.0</td>\n",
       "      <td>1110.0</td>\n",
       "      <td>178.0</td>\n",
       "      <td>165.0</td>\n",
       "      <td>571.0</td>\n",
       "      <td>532.0</td>\n",
       "      <td>792.0</td>\n",
       "      <td>696.0</td>\n",
       "      <td>...</td>\n",
       "      <td>-0.541667</td>\n",
       "      <td>4.118056</td>\n",
       "      <td>2.641600</td>\n",
       "      <td>NaN</td>\n",
       "      <td>0.400000</td>\n",
       "      <td>87.043727</td>\n",
       "      <td>0.0</td>\n",
       "      <td>0.0</td>\n",
       "      <td>38.0</td>\n",
       "      <td>0.0</td>\n",
       "    </tr>\n",
       "    <tr>\n",
       "      <th>US_AK_02016</th>\n",
       "      <td>Aleutians West</td>\n",
       "      <td>5729.0</td>\n",
       "      <td>3795.0</td>\n",
       "      <td>1934.0</td>\n",
       "      <td>359.0</td>\n",
       "      <td>400.0</td>\n",
       "      <td>951.0</td>\n",
       "      <td>957.0</td>\n",
       "      <td>1149.0</td>\n",
       "      <td>1146.0</td>\n",
       "      <td>...</td>\n",
       "      <td>0.037037</td>\n",
       "      <td>3.203704</td>\n",
       "      <td>4.910667</td>\n",
       "      <td>NaN</td>\n",
       "      <td>-1.333333</td>\n",
       "      <td>82.088381</td>\n",
       "      <td>0.0</td>\n",
       "      <td>0.0</td>\n",
       "      <td>197.0</td>\n",
       "      <td>0.0</td>\n",
       "    </tr>\n",
       "    <tr>\n",
       "      <th>US_AK_02020</th>\n",
       "      <td>Anchorage Municipality</td>\n",
       "      <td>294338.0</td>\n",
       "      <td>149817.0</td>\n",
       "      <td>144521.0</td>\n",
       "      <td>41514.0</td>\n",
       "      <td>37461.0</td>\n",
       "      <td>49984.0</td>\n",
       "      <td>45570.0</td>\n",
       "      <td>35093.0</td>\n",
       "      <td>37143.0</td>\n",
       "      <td>...</td>\n",
       "      <td>-18.203704</td>\n",
       "      <td>-7.314815</td>\n",
       "      <td>0.000000</td>\n",
       "      <td>346.286667</td>\n",
       "      <td>-17.347222</td>\n",
       "      <td>83.766762</td>\n",
       "      <td>0.0</td>\n",
       "      <td>0.0</td>\n",
       "      <td>22820.0</td>\n",
       "      <td>118.0</td>\n",
       "    </tr>\n",
       "    <tr>\n",
       "      <th>US_AK_02050</th>\n",
       "      <td>Bethel</td>\n",
       "      <td>18090.0</td>\n",
       "      <td>9369.0</td>\n",
       "      <td>8721.0</td>\n",
       "      <td>3888.0</td>\n",
       "      <td>3211.0</td>\n",
       "      <td>2833.0</td>\n",
       "      <td>2294.0</td>\n",
       "      <td>1682.0</td>\n",
       "      <td>2053.0</td>\n",
       "      <td>...</td>\n",
       "      <td>-5.833333</td>\n",
       "      <td>-1.240741</td>\n",
       "      <td>0.000000</td>\n",
       "      <td>NaN</td>\n",
       "      <td>-5.555556</td>\n",
       "      <td>80.648175</td>\n",
       "      <td>0.0</td>\n",
       "      <td>0.0</td>\n",
       "      <td>2427.0</td>\n",
       "      <td>9.0</td>\n",
       "    </tr>\n",
       "    <tr>\n",
       "      <th>US_AK_02070</th>\n",
       "      <td>Dillingham</td>\n",
       "      <td>4940.0</td>\n",
       "      <td>2500.0</td>\n",
       "      <td>2440.0</td>\n",
       "      <td>959.0</td>\n",
       "      <td>732.0</td>\n",
       "      <td>821.0</td>\n",
       "      <td>601.0</td>\n",
       "      <td>436.0</td>\n",
       "      <td>641.0</td>\n",
       "      <td>...</td>\n",
       "      <td>-5.500000</td>\n",
       "      <td>-0.201389</td>\n",
       "      <td>0.031750</td>\n",
       "      <td>NaN</td>\n",
       "      <td>-4.039683</td>\n",
       "      <td>87.846869</td>\n",
       "      <td>0.0</td>\n",
       "      <td>0.0</td>\n",
       "      <td>121.0</td>\n",
       "      <td>1.0</td>\n",
       "    </tr>\n",
       "  </tbody>\n",
       "</table>\n",
       "<p>5 rows × 28 columns</p>\n",
       "</div>"
      ],
      "text/plain": [
       "                     subregion2_name  population  population_male  \\\n",
       "location_key                                                        \n",
       "US_AK_02013           Aleutians East      3455.0           2345.0   \n",
       "US_AK_02016           Aleutians West      5729.0           3795.0   \n",
       "US_AK_02020   Anchorage Municipality    294338.0         149817.0   \n",
       "US_AK_02050                   Bethel     18090.0           9369.0   \n",
       "US_AK_02070               Dillingham      4940.0           2500.0   \n",
       "\n",
       "              population_female  population_age_00_09  population_age_10_19  \\\n",
       "location_key                                                                  \n",
       "US_AK_02013              1110.0                 178.0                 165.0   \n",
       "US_AK_02016              1934.0                 359.0                 400.0   \n",
       "US_AK_02020            144521.0               41514.0               37461.0   \n",
       "US_AK_02050              8721.0                3888.0                3211.0   \n",
       "US_AK_02070              2440.0                 959.0                 732.0   \n",
       "\n",
       "              population_age_20_29  population_age_30_39  \\\n",
       "location_key                                               \n",
       "US_AK_02013                  571.0                 532.0   \n",
       "US_AK_02016                  951.0                 957.0   \n",
       "US_AK_02020                49984.0               45570.0   \n",
       "US_AK_02050                 2833.0                2294.0   \n",
       "US_AK_02070                  821.0                 601.0   \n",
       "\n",
       "              population_age_40_49  population_age_50_59  ...  \\\n",
       "location_key                                              ...   \n",
       "US_AK_02013                  792.0                 696.0  ...   \n",
       "US_AK_02016                 1149.0                1146.0  ...   \n",
       "US_AK_02020                35093.0               37143.0  ...   \n",
       "US_AK_02050                 1682.0                2053.0  ...   \n",
       "US_AK_02070                  436.0                 641.0  ...   \n",
       "\n",
       "              minimum_temperature_celsius  maximum_temperature_celsius  \\\n",
       "location_key                                                             \n",
       "US_AK_02013                     -0.541667                     4.118056   \n",
       "US_AK_02016                      0.037037                     3.203704   \n",
       "US_AK_02020                    -18.203704                    -7.314815   \n",
       "US_AK_02050                     -5.833333                    -1.240741   \n",
       "US_AK_02070                     -5.500000                    -0.201389   \n",
       "\n",
       "              rainfall_mm  snowfall_mm  dew_point  relative_humidity  \\\n",
       "location_key                                                           \n",
       "US_AK_02013      2.641600          NaN   0.400000          87.043727   \n",
       "US_AK_02016      4.910667          NaN  -1.333333          82.088381   \n",
       "US_AK_02020      0.000000   346.286667 -17.347222          83.766762   \n",
       "US_AK_02050      0.000000          NaN  -5.555556          80.648175   \n",
       "US_AK_02070      0.031750          NaN  -4.039683          87.846869   \n",
       "\n",
       "             new_confirmed  new_deceased  cumulative_confirmed  \\\n",
       "location_key                                                     \n",
       "US_AK_02013            0.0           0.0                  38.0   \n",
       "US_AK_02016            0.0           0.0                 197.0   \n",
       "US_AK_02020            0.0           0.0               22820.0   \n",
       "US_AK_02050            0.0           0.0                2427.0   \n",
       "US_AK_02070            0.0           0.0                 121.0   \n",
       "\n",
       "              cumulative_deceased  \n",
       "location_key                       \n",
       "US_AK_02013                   0.0  \n",
       "US_AK_02016                   0.0  \n",
       "US_AK_02020                 118.0  \n",
       "US_AK_02050                   9.0  \n",
       "US_AK_02070                   1.0  \n",
       "\n",
       "[5 rows x 28 columns]"
      ]
     },
     "execution_count": 31,
     "metadata": {},
     "output_type": "execute_result"
    }
   ],
   "source": [
    "merged_1.head()"
   ]
  },
  {
   "cell_type": "code",
   "execution_count": 32,
   "id": "0d1ec17e-2566-4b7d-ae13-1dfd134967f4",
   "metadata": {
    "tags": []
   },
   "outputs": [],
   "source": [
    "merged_1['gr_key'] = merged_1.index.str[:5]"
   ]
  },
  {
   "cell_type": "code",
   "execution_count": 33,
   "id": "2f159b5f-5dec-4081-bce0-8bd0bb4aa292",
   "metadata": {
    "tags": []
   },
   "outputs": [
    {
     "name": "stdout",
     "output_type": "stream",
     "text": [
      "<class 'pandas.core.frame.DataFrame'>\n",
      "Index: 3014 entries, US_AK_02013 to US_WY_56045\n",
      "Data columns (total 29 columns):\n",
      " #   Column                       Non-Null Count  Dtype  \n",
      "---  ------                       --------------  -----  \n",
      " 0   subregion2_name              3014 non-null   object \n",
      " 1   population                   3014 non-null   float64\n",
      " 2   population_male              3014 non-null   float64\n",
      " 3   population_female            3014 non-null   float64\n",
      " 4   population_age_00_09         3014 non-null   float64\n",
      " 5   population_age_10_19         3014 non-null   float64\n",
      " 6   population_age_20_29         3014 non-null   float64\n",
      " 7   population_age_30_39         3014 non-null   float64\n",
      " 8   population_age_40_49         3014 non-null   float64\n",
      " 9   population_age_50_59         3014 non-null   float64\n",
      " 10  population_age_60_69         3014 non-null   float64\n",
      " 11  population_age_70_79         3014 non-null   float64\n",
      " 12  population_age_80_and_older  3014 non-null   float64\n",
      " 13  life_expectancy              3014 non-null   float64\n",
      " 14  Unnamed: 0.1                 3014 non-null   int64  \n",
      " 15  Unnamed: 0                   3014 non-null   int64  \n",
      " 16  date                         3014 non-null   object \n",
      " 17  average_temperature_celsius  3014 non-null   float64\n",
      " 18  minimum_temperature_celsius  3014 non-null   float64\n",
      " 19  maximum_temperature_celsius  3014 non-null   float64\n",
      " 20  rainfall_mm                  3014 non-null   float64\n",
      " 21  snowfall_mm                  778 non-null    float64\n",
      " 22  dew_point                    3013 non-null   float64\n",
      " 23  relative_humidity            3013 non-null   float64\n",
      " 24  new_confirmed                3014 non-null   float64\n",
      " 25  new_deceased                 3014 non-null   float64\n",
      " 26  cumulative_confirmed         3014 non-null   float64\n",
      " 27  cumulative_deceased          3014 non-null   float64\n",
      " 28  gr_key                       3014 non-null   object \n",
      "dtypes: float64(24), int64(2), object(3)\n",
      "memory usage: 770.9+ KB\n"
     ]
    }
   ],
   "source": [
    "merged_1.info()"
   ]
  },
  {
   "cell_type": "code",
   "execution_count": 34,
   "id": "4099a2aa-b7cd-4833-b70d-c335bad49201",
   "metadata": {
    "tags": []
   },
   "outputs": [],
   "source": [
    "merged_1 = pd.merge(merged_1, us_government_response_1, how = 'left', on = 'gr_key')"
   ]
  },
  {
   "cell_type": "code",
   "execution_count": 35,
   "id": "911d21a3-9395-4b3c-9bc5-cd037d1cd410",
   "metadata": {
    "tags": []
   },
   "outputs": [
    {
     "data": {
      "text/html": [
       "<div>\n",
       "<style scoped>\n",
       "    .dataframe tbody tr th:only-of-type {\n",
       "        vertical-align: middle;\n",
       "    }\n",
       "\n",
       "    .dataframe tbody tr th {\n",
       "        vertical-align: top;\n",
       "    }\n",
       "\n",
       "    .dataframe thead th {\n",
       "        text-align: right;\n",
       "    }\n",
       "</style>\n",
       "<table border=\"1\" class=\"dataframe\">\n",
       "  <thead>\n",
       "    <tr style=\"text-align: right;\">\n",
       "      <th></th>\n",
       "      <th>subregion2_name</th>\n",
       "      <th>population</th>\n",
       "      <th>population_male</th>\n",
       "      <th>population_female</th>\n",
       "      <th>population_age_00_09</th>\n",
       "      <th>population_age_10_19</th>\n",
       "      <th>population_age_20_29</th>\n",
       "      <th>population_age_30_39</th>\n",
       "      <th>population_age_40_49</th>\n",
       "      <th>population_age_50_59</th>\n",
       "      <th>...</th>\n",
       "      <th>fiscal_measures</th>\n",
       "      <th>international_support</th>\n",
       "      <th>public_information_campaigns</th>\n",
       "      <th>testing_policy</th>\n",
       "      <th>contact_tracing</th>\n",
       "      <th>emergency_investment_in_healthcare</th>\n",
       "      <th>investment_in_vaccines</th>\n",
       "      <th>facial_coverings</th>\n",
       "      <th>vaccination_policy</th>\n",
       "      <th>stringency_index</th>\n",
       "    </tr>\n",
       "  </thead>\n",
       "  <tbody>\n",
       "    <tr>\n",
       "      <th>0</th>\n",
       "      <td>Aleutians East</td>\n",
       "      <td>3455.0</td>\n",
       "      <td>2345.0</td>\n",
       "      <td>1110.0</td>\n",
       "      <td>178.0</td>\n",
       "      <td>165.0</td>\n",
       "      <td>571.0</td>\n",
       "      <td>532.0</td>\n",
       "      <td>792.0</td>\n",
       "      <td>696.0</td>\n",
       "      <td>...</td>\n",
       "      <td>0.0</td>\n",
       "      <td>0.0</td>\n",
       "      <td>2.0</td>\n",
       "      <td>3.0</td>\n",
       "      <td>1.0</td>\n",
       "      <td>0.0</td>\n",
       "      <td>0.0</td>\n",
       "      <td>3.0</td>\n",
       "      <td>2.0</td>\n",
       "      <td>61.57</td>\n",
       "    </tr>\n",
       "    <tr>\n",
       "      <th>1</th>\n",
       "      <td>Aleutians West</td>\n",
       "      <td>5729.0</td>\n",
       "      <td>3795.0</td>\n",
       "      <td>1934.0</td>\n",
       "      <td>359.0</td>\n",
       "      <td>400.0</td>\n",
       "      <td>951.0</td>\n",
       "      <td>957.0</td>\n",
       "      <td>1149.0</td>\n",
       "      <td>1146.0</td>\n",
       "      <td>...</td>\n",
       "      <td>0.0</td>\n",
       "      <td>0.0</td>\n",
       "      <td>2.0</td>\n",
       "      <td>3.0</td>\n",
       "      <td>1.0</td>\n",
       "      <td>0.0</td>\n",
       "      <td>0.0</td>\n",
       "      <td>3.0</td>\n",
       "      <td>2.0</td>\n",
       "      <td>61.57</td>\n",
       "    </tr>\n",
       "    <tr>\n",
       "      <th>2</th>\n",
       "      <td>Anchorage Municipality</td>\n",
       "      <td>294338.0</td>\n",
       "      <td>149817.0</td>\n",
       "      <td>144521.0</td>\n",
       "      <td>41514.0</td>\n",
       "      <td>37461.0</td>\n",
       "      <td>49984.0</td>\n",
       "      <td>45570.0</td>\n",
       "      <td>35093.0</td>\n",
       "      <td>37143.0</td>\n",
       "      <td>...</td>\n",
       "      <td>0.0</td>\n",
       "      <td>0.0</td>\n",
       "      <td>2.0</td>\n",
       "      <td>3.0</td>\n",
       "      <td>1.0</td>\n",
       "      <td>0.0</td>\n",
       "      <td>0.0</td>\n",
       "      <td>3.0</td>\n",
       "      <td>2.0</td>\n",
       "      <td>61.57</td>\n",
       "    </tr>\n",
       "    <tr>\n",
       "      <th>3</th>\n",
       "      <td>Bethel</td>\n",
       "      <td>18090.0</td>\n",
       "      <td>9369.0</td>\n",
       "      <td>8721.0</td>\n",
       "      <td>3888.0</td>\n",
       "      <td>3211.0</td>\n",
       "      <td>2833.0</td>\n",
       "      <td>2294.0</td>\n",
       "      <td>1682.0</td>\n",
       "      <td>2053.0</td>\n",
       "      <td>...</td>\n",
       "      <td>0.0</td>\n",
       "      <td>0.0</td>\n",
       "      <td>2.0</td>\n",
       "      <td>3.0</td>\n",
       "      <td>1.0</td>\n",
       "      <td>0.0</td>\n",
       "      <td>0.0</td>\n",
       "      <td>3.0</td>\n",
       "      <td>2.0</td>\n",
       "      <td>61.57</td>\n",
       "    </tr>\n",
       "    <tr>\n",
       "      <th>4</th>\n",
       "      <td>Dillingham</td>\n",
       "      <td>4940.0</td>\n",
       "      <td>2500.0</td>\n",
       "      <td>2440.0</td>\n",
       "      <td>959.0</td>\n",
       "      <td>732.0</td>\n",
       "      <td>821.0</td>\n",
       "      <td>601.0</td>\n",
       "      <td>436.0</td>\n",
       "      <td>641.0</td>\n",
       "      <td>...</td>\n",
       "      <td>0.0</td>\n",
       "      <td>0.0</td>\n",
       "      <td>2.0</td>\n",
       "      <td>3.0</td>\n",
       "      <td>1.0</td>\n",
       "      <td>0.0</td>\n",
       "      <td>0.0</td>\n",
       "      <td>3.0</td>\n",
       "      <td>2.0</td>\n",
       "      <td>61.57</td>\n",
       "    </tr>\n",
       "  </tbody>\n",
       "</table>\n",
       "<p>5 rows × 52 columns</p>\n",
       "</div>"
      ],
      "text/plain": [
       "          subregion2_name  population  population_male  population_female  \\\n",
       "0          Aleutians East      3455.0           2345.0             1110.0   \n",
       "1          Aleutians West      5729.0           3795.0             1934.0   \n",
       "2  Anchorage Municipality    294338.0         149817.0           144521.0   \n",
       "3                  Bethel     18090.0           9369.0             8721.0   \n",
       "4              Dillingham      4940.0           2500.0             2440.0   \n",
       "\n",
       "   population_age_00_09  population_age_10_19  population_age_20_29  \\\n",
       "0                 178.0                 165.0                 571.0   \n",
       "1                 359.0                 400.0                 951.0   \n",
       "2               41514.0               37461.0               49984.0   \n",
       "3                3888.0                3211.0                2833.0   \n",
       "4                 959.0                 732.0                 821.0   \n",
       "\n",
       "   population_age_30_39  population_age_40_49  population_age_50_59  ...  \\\n",
       "0                 532.0                 792.0                 696.0  ...   \n",
       "1                 957.0                1149.0                1146.0  ...   \n",
       "2               45570.0               35093.0               37143.0  ...   \n",
       "3                2294.0                1682.0                2053.0  ...   \n",
       "4                 601.0                 436.0                 641.0  ...   \n",
       "\n",
       "   fiscal_measures  international_support  public_information_campaigns  \\\n",
       "0              0.0                    0.0                           2.0   \n",
       "1              0.0                    0.0                           2.0   \n",
       "2              0.0                    0.0                           2.0   \n",
       "3              0.0                    0.0                           2.0   \n",
       "4              0.0                    0.0                           2.0   \n",
       "\n",
       "   testing_policy  contact_tracing  emergency_investment_in_healthcare  \\\n",
       "0             3.0              1.0                                 0.0   \n",
       "1             3.0              1.0                                 0.0   \n",
       "2             3.0              1.0                                 0.0   \n",
       "3             3.0              1.0                                 0.0   \n",
       "4             3.0              1.0                                 0.0   \n",
       "\n",
       "  investment_in_vaccines  facial_coverings  vaccination_policy  \\\n",
       "0                    0.0               3.0                 2.0   \n",
       "1                    0.0               3.0                 2.0   \n",
       "2                    0.0               3.0                 2.0   \n",
       "3                    0.0               3.0                 2.0   \n",
       "4                    0.0               3.0                 2.0   \n",
       "\n",
       "   stringency_index  \n",
       "0             61.57  \n",
       "1             61.57  \n",
       "2             61.57  \n",
       "3             61.57  \n",
       "4             61.57  \n",
       "\n",
       "[5 rows x 52 columns]"
      ]
     },
     "execution_count": 35,
     "metadata": {},
     "output_type": "execute_result"
    }
   ],
   "source": [
    "merged_1.head()"
   ]
  },
  {
   "cell_type": "code",
   "execution_count": 36,
   "id": "c840b241-71a3-42e9-a2f2-c15d4037a9f1",
   "metadata": {
    "tags": []
   },
   "outputs": [],
   "source": [
    "merged_1.loc[(merged_1['snowfall_mm'].isnull()), ['snowfall_mm']] = 0\n",
    "merged_1.drop(axis = 1, columns = ['subregion2_name',\n",
    "                                       'Unnamed: 0.1_x', \n",
    "                                       'Unnamed: 0_x', \n",
    "                                       'date_x', \n",
    "                                       'gr_key', \n",
    "                                       'Unnamed: 0.1_y', \n",
    "                                       'Unnamed: 0_y', \n",
    "                                       'date_y',\n",
    "                                  'fiscal_measures',\n",
    "                                  'international_support',\n",
    "                                   'emergency_investment_in_healthcare',\n",
    "                                   'investment_in_vaccines',\n",
    "                                  ], \n",
    "                  inplace = True)\n",
    "merged_1.dropna(inplace = True)"
   ]
  },
  {
   "cell_type": "code",
   "execution_count": 37,
   "id": "81dcc1b0-d002-4251-9c0c-7832dad0513f",
   "metadata": {
    "tags": []
   },
   "outputs": [
    {
     "name": "stdout",
     "output_type": "stream",
     "text": [
      "<class 'pandas.core.frame.DataFrame'>\n",
      "Index: 3013 entries, 0 to 3013\n",
      "Data columns (total 40 columns):\n",
      " #   Column                             Non-Null Count  Dtype  \n",
      "---  ------                             --------------  -----  \n",
      " 0   population                         3013 non-null   float64\n",
      " 1   population_male                    3013 non-null   float64\n",
      " 2   population_female                  3013 non-null   float64\n",
      " 3   population_age_00_09               3013 non-null   float64\n",
      " 4   population_age_10_19               3013 non-null   float64\n",
      " 5   population_age_20_29               3013 non-null   float64\n",
      " 6   population_age_30_39               3013 non-null   float64\n",
      " 7   population_age_40_49               3013 non-null   float64\n",
      " 8   population_age_50_59               3013 non-null   float64\n",
      " 9   population_age_60_69               3013 non-null   float64\n",
      " 10  population_age_70_79               3013 non-null   float64\n",
      " 11  population_age_80_and_older        3013 non-null   float64\n",
      " 12  life_expectancy                    3013 non-null   float64\n",
      " 13  average_temperature_celsius        3013 non-null   float64\n",
      " 14  minimum_temperature_celsius        3013 non-null   float64\n",
      " 15  maximum_temperature_celsius        3013 non-null   float64\n",
      " 16  rainfall_mm                        3013 non-null   float64\n",
      " 17  snowfall_mm                        3013 non-null   float64\n",
      " 18  dew_point                          3013 non-null   float64\n",
      " 19  relative_humidity                  3013 non-null   float64\n",
      " 20  new_confirmed                      3013 non-null   float64\n",
      " 21  new_deceased                       3013 non-null   float64\n",
      " 22  cumulative_confirmed               3013 non-null   float64\n",
      " 23  cumulative_deceased                3013 non-null   float64\n",
      " 24  school_closing                     3013 non-null   float64\n",
      " 25  workplace_closing                  3013 non-null   float64\n",
      " 26  cancel_public_events               3013 non-null   float64\n",
      " 27  restrictions_on_gatherings         3013 non-null   float64\n",
      " 28  public_transport_closing           3013 non-null   float64\n",
      " 29  stay_at_home_requirements          3013 non-null   float64\n",
      " 30  restrictions_on_internal_movement  3013 non-null   float64\n",
      " 31  international_travel_controls      3013 non-null   float64\n",
      " 32  income_support                     3013 non-null   float64\n",
      " 33  debt_relief                        3013 non-null   float64\n",
      " 34  public_information_campaigns       3013 non-null   float64\n",
      " 35  testing_policy                     3013 non-null   float64\n",
      " 36  contact_tracing                    3013 non-null   float64\n",
      " 37  facial_coverings                   3013 non-null   float64\n",
      " 38  vaccination_policy                 3013 non-null   float64\n",
      " 39  stringency_index                   3013 non-null   float64\n",
      "dtypes: float64(40)\n",
      "memory usage: 965.1 KB\n"
     ]
    }
   ],
   "source": [
    "merged_1.info()"
   ]
  },
  {
   "cell_type": "code",
   "execution_count": 38,
   "id": "634bf6c9-87cd-4335-acc4-905d785d014c",
   "metadata": {
    "tags": []
   },
   "outputs": [],
   "source": [
    "merged_1.drop(axis = 1, columns = ['population',\n",
    "                                       'minimum_temperature_celsius', \n",
    "                                       'maximum_temperature_celsius', \n",
    "                                    ], \n",
    "                  inplace = True)"
   ]
  },
  {
   "cell_type": "code",
   "execution_count": 39,
   "id": "4d2780cd-0971-4f78-9ea7-14f0c23d4ba8",
   "metadata": {
    "tags": []
   },
   "outputs": [],
   "source": [
    "merged_1.to_csv('../us_datasets/merged_1.csv')"
   ]
  },
  {
   "cell_type": "code",
   "execution_count": null,
   "id": "061d4b5e-a7ea-4a7b-8224-a3bee30da7b0",
   "metadata": {},
   "outputs": [],
   "source": [
    "\n"
   ]
  },
  {
   "cell_type": "code",
   "execution_count": null,
   "id": "afa3217a-1100-4177-8342-5449e4ada12d",
   "metadata": {},
   "outputs": [],
   "source": []
  },
  {
   "cell_type": "code",
   "execution_count": 40,
   "id": "7e0f5164-966e-4740-8dff-ec6a62fd2d12",
   "metadata": {
    "tags": []
   },
   "outputs": [],
   "source": [
    "merged_2 = pd.concat([us_index, us_demographics, us_health, us_vaccinations_2, us_weather_2, us_epidemiology_2], axis = 1, join = 'inner')\n",
    "merged_2['gr_key'] = merged_2.index.str[:5]\n",
    "merged_2 = pd.merge(merged_2, us_government_response_2, how = 'left', on = 'gr_key')"
   ]
  },
  {
   "cell_type": "code",
   "execution_count": 41,
   "id": "26c8d939-19c6-4df6-948d-3ae375da1cb9",
   "metadata": {
    "tags": []
   },
   "outputs": [
    {
     "name": "stdout",
     "output_type": "stream",
     "text": [
      "<class 'pandas.core.frame.DataFrame'>\n",
      "RangeIndex: 3013 entries, 0 to 3012\n",
      "Data columns (total 54 columns):\n",
      " #   Column                               Non-Null Count  Dtype  \n",
      "---  ------                               --------------  -----  \n",
      " 0   subregion2_name                      3013 non-null   object \n",
      " 1   population                           3013 non-null   float64\n",
      " 2   population_male                      3013 non-null   float64\n",
      " 3   population_female                    3013 non-null   float64\n",
      " 4   population_age_00_09                 3013 non-null   float64\n",
      " 5   population_age_10_19                 3013 non-null   float64\n",
      " 6   population_age_20_29                 3013 non-null   float64\n",
      " 7   population_age_30_39                 3013 non-null   float64\n",
      " 8   population_age_40_49                 3013 non-null   float64\n",
      " 9   population_age_50_59                 3013 non-null   float64\n",
      " 10  population_age_60_69                 3013 non-null   float64\n",
      " 11  population_age_70_79                 3013 non-null   float64\n",
      " 12  population_age_80_and_older          3013 non-null   float64\n",
      " 13  life_expectancy                      3013 non-null   float64\n",
      " 14  date_x                               3013 non-null   object \n",
      " 15  cumulative_persons_fully_vaccinated  3013 non-null   float64\n",
      " 16  Unnamed: 0.1_x                       3013 non-null   int64  \n",
      " 17  Unnamed: 0_x                         3013 non-null   int64  \n",
      " 18  date_x                               3013 non-null   object \n",
      " 19  average_temperature_celsius          3013 non-null   float64\n",
      " 20  minimum_temperature_celsius          3013 non-null   float64\n",
      " 21  maximum_temperature_celsius          3013 non-null   float64\n",
      " 22  rainfall_mm                          3013 non-null   float64\n",
      " 23  snowfall_mm                          0 non-null      float64\n",
      " 24  dew_point                            3012 non-null   float64\n",
      " 25  relative_humidity                    3012 non-null   float64\n",
      " 26  new_confirmed                        3013 non-null   float64\n",
      " 27  new_deceased                         3013 non-null   float64\n",
      " 28  cumulative_confirmed                 3013 non-null   float64\n",
      " 29  cumulative_deceased                  3013 non-null   float64\n",
      " 30  gr_key                               3013 non-null   object \n",
      " 31  Unnamed: 0.1_y                       3013 non-null   int64  \n",
      " 32  Unnamed: 0_y                         3013 non-null   int64  \n",
      " 33  date_y                               3013 non-null   object \n",
      " 34  school_closing                       3013 non-null   float64\n",
      " 35  workplace_closing                    3013 non-null   float64\n",
      " 36  cancel_public_events                 3013 non-null   float64\n",
      " 37  restrictions_on_gatherings           3013 non-null   float64\n",
      " 38  public_transport_closing             3013 non-null   float64\n",
      " 39  stay_at_home_requirements            3013 non-null   float64\n",
      " 40  restrictions_on_internal_movement    3013 non-null   float64\n",
      " 41  international_travel_controls        3013 non-null   float64\n",
      " 42  income_support                       3013 non-null   float64\n",
      " 43  debt_relief                          3013 non-null   float64\n",
      " 44  fiscal_measures                      0 non-null      float64\n",
      " 45  international_support                0 non-null      float64\n",
      " 46  public_information_campaigns         3013 non-null   float64\n",
      " 47  testing_policy                       3013 non-null   float64\n",
      " 48  contact_tracing                      3013 non-null   float64\n",
      " 49  emergency_investment_in_healthcare   0 non-null      float64\n",
      " 50  investment_in_vaccines               703 non-null    float64\n",
      " 51  facial_coverings                     3013 non-null   float64\n",
      " 52  vaccination_policy                   3013 non-null   float64\n",
      " 53  stringency_index                     3013 non-null   float64\n",
      "dtypes: float64(45), int64(4), object(5)\n",
      "memory usage: 1.2+ MB\n"
     ]
    }
   ],
   "source": [
    "merged_2.info()"
   ]
  },
  {
   "cell_type": "code",
   "execution_count": 42,
   "id": "0d98aa46-71de-4c69-8d6e-9b601aba1c4b",
   "metadata": {
    "tags": []
   },
   "outputs": [],
   "source": [
    "merged_2.loc[(merged_2['snowfall_mm'].isnull()), ['snowfall_mm']] = 0\n",
    "merged_2.drop(axis = 1, columns = ['subregion2_name',\n",
    "                                       'Unnamed: 0.1_x', \n",
    "                                       'Unnamed: 0_x', \n",
    "                                       'date_x', \n",
    "                                       'gr_key', \n",
    "                                       'Unnamed: 0.1_y', \n",
    "                                       'Unnamed: 0_y', \n",
    "                                       'date_y',\n",
    "                                  'fiscal_measures',\n",
    "                                  'international_support',\n",
    "                                   'emergency_investment_in_healthcare',\n",
    "                                   'investment_in_vaccines',\n",
    "                                  ], \n",
    "                  inplace = True)\n",
    "merged_2.dropna(inplace = True)"
   ]
  },
  {
   "cell_type": "code",
   "execution_count": 43,
   "id": "560e2878-5d64-4ba4-b520-f0b5422b3629",
   "metadata": {
    "tags": []
   },
   "outputs": [
    {
     "name": "stdout",
     "output_type": "stream",
     "text": [
      "<class 'pandas.core.frame.DataFrame'>\n",
      "Index: 3012 entries, 0 to 3012\n",
      "Data columns (total 41 columns):\n",
      " #   Column                               Non-Null Count  Dtype  \n",
      "---  ------                               --------------  -----  \n",
      " 0   population                           3012 non-null   float64\n",
      " 1   population_male                      3012 non-null   float64\n",
      " 2   population_female                    3012 non-null   float64\n",
      " 3   population_age_00_09                 3012 non-null   float64\n",
      " 4   population_age_10_19                 3012 non-null   float64\n",
      " 5   population_age_20_29                 3012 non-null   float64\n",
      " 6   population_age_30_39                 3012 non-null   float64\n",
      " 7   population_age_40_49                 3012 non-null   float64\n",
      " 8   population_age_50_59                 3012 non-null   float64\n",
      " 9   population_age_60_69                 3012 non-null   float64\n",
      " 10  population_age_70_79                 3012 non-null   float64\n",
      " 11  population_age_80_and_older          3012 non-null   float64\n",
      " 12  life_expectancy                      3012 non-null   float64\n",
      " 13  cumulative_persons_fully_vaccinated  3012 non-null   float64\n",
      " 14  average_temperature_celsius          3012 non-null   float64\n",
      " 15  minimum_temperature_celsius          3012 non-null   float64\n",
      " 16  maximum_temperature_celsius          3012 non-null   float64\n",
      " 17  rainfall_mm                          3012 non-null   float64\n",
      " 18  snowfall_mm                          3012 non-null   float64\n",
      " 19  dew_point                            3012 non-null   float64\n",
      " 20  relative_humidity                    3012 non-null   float64\n",
      " 21  new_confirmed                        3012 non-null   float64\n",
      " 22  new_deceased                         3012 non-null   float64\n",
      " 23  cumulative_confirmed                 3012 non-null   float64\n",
      " 24  cumulative_deceased                  3012 non-null   float64\n",
      " 25  school_closing                       3012 non-null   float64\n",
      " 26  workplace_closing                    3012 non-null   float64\n",
      " 27  cancel_public_events                 3012 non-null   float64\n",
      " 28  restrictions_on_gatherings           3012 non-null   float64\n",
      " 29  public_transport_closing             3012 non-null   float64\n",
      " 30  stay_at_home_requirements            3012 non-null   float64\n",
      " 31  restrictions_on_internal_movement    3012 non-null   float64\n",
      " 32  international_travel_controls        3012 non-null   float64\n",
      " 33  income_support                       3012 non-null   float64\n",
      " 34  debt_relief                          3012 non-null   float64\n",
      " 35  public_information_campaigns         3012 non-null   float64\n",
      " 36  testing_policy                       3012 non-null   float64\n",
      " 37  contact_tracing                      3012 non-null   float64\n",
      " 38  facial_coverings                     3012 non-null   float64\n",
      " 39  vaccination_policy                   3012 non-null   float64\n",
      " 40  stringency_index                     3012 non-null   float64\n",
      "dtypes: float64(41)\n",
      "memory usage: 988.3 KB\n"
     ]
    }
   ],
   "source": [
    "merged_2.info()"
   ]
  },
  {
   "cell_type": "code",
   "execution_count": 44,
   "id": "457c644b-374f-4e29-9f6f-57c97982236d",
   "metadata": {
    "tags": []
   },
   "outputs": [],
   "source": [
    "merged_2.drop(axis = 1, columns = ['population',\n",
    "                                       'minimum_temperature_celsius', \n",
    "                                       'maximum_temperature_celsius', \n",
    "                                    ], \n",
    "                  inplace = True)"
   ]
  },
  {
   "cell_type": "code",
   "execution_count": 45,
   "id": "1c560082-9462-4d67-9d0c-49ea05724a4f",
   "metadata": {
    "tags": []
   },
   "outputs": [],
   "source": [
    "merged_2.to_csv('../us_datasets/merged_2.csv')"
   ]
  },
  {
   "cell_type": "code",
   "execution_count": null,
   "id": "8cef5cba-9d25-4ed4-b7ac-3f6bdc885557",
   "metadata": {},
   "outputs": [],
   "source": []
  },
  {
   "cell_type": "code",
   "execution_count": null,
   "id": "799704e4-8d82-4111-88b6-64fb824a7f97",
   "metadata": {},
   "outputs": [],
   "source": []
  },
  {
   "cell_type": "code",
   "execution_count": null,
   "id": "f642a574-5db0-40f3-bc9a-965e0e6ce616",
   "metadata": {},
   "outputs": [],
   "source": []
  },
  {
   "cell_type": "code",
   "execution_count": null,
   "id": "95accf76-1fc0-4e8e-918c-51605e6948ed",
   "metadata": {},
   "outputs": [],
   "source": []
  },
  {
   "cell_type": "code",
   "execution_count": 46,
   "id": "fcab2a56-2fdb-49fa-b506-b036ef015b03",
   "metadata": {
    "tags": []
   },
   "outputs": [],
   "source": [
    "merged_3 = pd.concat([us_index, us_demographics, us_health, us_vaccinations_3, us_weather_3, us_epidemiology_3], axis = 1, join = 'inner')\n",
    "merged_3['gr_key'] = merged_3.index.str[:5]\n",
    "merged_3 = pd.merge(merged_3, us_government_response_3, how = 'left', on = 'gr_key')"
   ]
  },
  {
   "cell_type": "code",
   "execution_count": 47,
   "id": "6e2e58bf-2067-4ee5-b2b2-0729274a530c",
   "metadata": {
    "tags": []
   },
   "outputs": [
    {
     "name": "stdout",
     "output_type": "stream",
     "text": [
      "<class 'pandas.core.frame.DataFrame'>\n",
      "RangeIndex: 3014 entries, 0 to 3013\n",
      "Data columns (total 54 columns):\n",
      " #   Column                               Non-Null Count  Dtype  \n",
      "---  ------                               --------------  -----  \n",
      " 0   subregion2_name                      3014 non-null   object \n",
      " 1   population                           3014 non-null   float64\n",
      " 2   population_male                      3014 non-null   float64\n",
      " 3   population_female                    3014 non-null   float64\n",
      " 4   population_age_00_09                 3014 non-null   float64\n",
      " 5   population_age_10_19                 3014 non-null   float64\n",
      " 6   population_age_20_29                 3014 non-null   float64\n",
      " 7   population_age_30_39                 3014 non-null   float64\n",
      " 8   population_age_40_49                 3014 non-null   float64\n",
      " 9   population_age_50_59                 3014 non-null   float64\n",
      " 10  population_age_60_69                 3014 non-null   float64\n",
      " 11  population_age_70_79                 3014 non-null   float64\n",
      " 12  population_age_80_and_older          3014 non-null   float64\n",
      " 13  life_expectancy                      3014 non-null   float64\n",
      " 14  date_x                               3014 non-null   object \n",
      " 15  cumulative_persons_fully_vaccinated  3014 non-null   float64\n",
      " 16  Unnamed: 0.1_x                       3014 non-null   int64  \n",
      " 17  Unnamed: 0_x                         3014 non-null   int64  \n",
      " 18  date_x                               3014 non-null   object \n",
      " 19  average_temperature_celsius          3014 non-null   float64\n",
      " 20  minimum_temperature_celsius          3014 non-null   float64\n",
      " 21  maximum_temperature_celsius          3014 non-null   float64\n",
      " 22  rainfall_mm                          3014 non-null   float64\n",
      " 23  snowfall_mm                          12 non-null     float64\n",
      " 24  dew_point                            3013 non-null   float64\n",
      " 25  relative_humidity                    3013 non-null   float64\n",
      " 26  new_confirmed                        3014 non-null   float64\n",
      " 27  new_deceased                         3014 non-null   float64\n",
      " 28  cumulative_confirmed                 3014 non-null   float64\n",
      " 29  cumulative_deceased                  3014 non-null   float64\n",
      " 30  gr_key                               3014 non-null   object \n",
      " 31  Unnamed: 0.1_y                       3014 non-null   int64  \n",
      " 32  Unnamed: 0_y                         3014 non-null   int64  \n",
      " 33  date_y                               3014 non-null   object \n",
      " 34  school_closing                       3014 non-null   float64\n",
      " 35  workplace_closing                    3014 non-null   float64\n",
      " 36  cancel_public_events                 3014 non-null   float64\n",
      " 37  restrictions_on_gatherings           3014 non-null   float64\n",
      " 38  public_transport_closing             3014 non-null   float64\n",
      " 39  stay_at_home_requirements            3014 non-null   float64\n",
      " 40  restrictions_on_internal_movement    3014 non-null   float64\n",
      " 41  international_travel_controls        3014 non-null   float64\n",
      " 42  income_support                       3014 non-null   float64\n",
      " 43  debt_relief                          3014 non-null   float64\n",
      " 44  fiscal_measures                      0 non-null      float64\n",
      " 45  international_support                0 non-null      float64\n",
      " 46  public_information_campaigns         3014 non-null   float64\n",
      " 47  testing_policy                       3014 non-null   float64\n",
      " 48  contact_tracing                      3014 non-null   float64\n",
      " 49  emergency_investment_in_healthcare   0 non-null      float64\n",
      " 50  investment_in_vaccines               250 non-null    float64\n",
      " 51  facial_coverings                     3014 non-null   float64\n",
      " 52  vaccination_policy                   3014 non-null   float64\n",
      " 53  stringency_index                     3014 non-null   float64\n",
      "dtypes: float64(45), int64(4), object(5)\n",
      "memory usage: 1.2+ MB\n"
     ]
    }
   ],
   "source": [
    "merged_3.info()"
   ]
  },
  {
   "cell_type": "code",
   "execution_count": 48,
   "id": "053f6328-6fd6-4651-b69a-abcce7a896b6",
   "metadata": {
    "tags": []
   },
   "outputs": [],
   "source": [
    "merged_3.loc[(merged_3['snowfall_mm'].isnull()), ['snowfall_mm']] = 0\n",
    "merged_3.drop(axis = 1, columns = ['subregion2_name',\n",
    "                                       'Unnamed: 0.1_x', \n",
    "                                       'Unnamed: 0_x', \n",
    "                                       'date_x', \n",
    "                                       'gr_key', \n",
    "                                       'Unnamed: 0.1_y', \n",
    "                                       'Unnamed: 0_y', \n",
    "                                       'date_y',\n",
    "                                  'fiscal_measures',\n",
    "                                  'international_support',\n",
    "                                   'emergency_investment_in_healthcare',\n",
    "                                   'investment_in_vaccines',\n",
    "                                  ], \n",
    "                  inplace = True)\n",
    "merged_3.dropna(inplace = True)"
   ]
  },
  {
   "cell_type": "code",
   "execution_count": 49,
   "id": "4606c0f2-efae-4de4-be18-f8b2e07f98ee",
   "metadata": {
    "tags": []
   },
   "outputs": [
    {
     "name": "stdout",
     "output_type": "stream",
     "text": [
      "<class 'pandas.core.frame.DataFrame'>\n",
      "Index: 3013 entries, 0 to 3013\n",
      "Data columns (total 41 columns):\n",
      " #   Column                               Non-Null Count  Dtype  \n",
      "---  ------                               --------------  -----  \n",
      " 0   population                           3013 non-null   float64\n",
      " 1   population_male                      3013 non-null   float64\n",
      " 2   population_female                    3013 non-null   float64\n",
      " 3   population_age_00_09                 3013 non-null   float64\n",
      " 4   population_age_10_19                 3013 non-null   float64\n",
      " 5   population_age_20_29                 3013 non-null   float64\n",
      " 6   population_age_30_39                 3013 non-null   float64\n",
      " 7   population_age_40_49                 3013 non-null   float64\n",
      " 8   population_age_50_59                 3013 non-null   float64\n",
      " 9   population_age_60_69                 3013 non-null   float64\n",
      " 10  population_age_70_79                 3013 non-null   float64\n",
      " 11  population_age_80_and_older          3013 non-null   float64\n",
      " 12  life_expectancy                      3013 non-null   float64\n",
      " 13  cumulative_persons_fully_vaccinated  3013 non-null   float64\n",
      " 14  average_temperature_celsius          3013 non-null   float64\n",
      " 15  minimum_temperature_celsius          3013 non-null   float64\n",
      " 16  maximum_temperature_celsius          3013 non-null   float64\n",
      " 17  rainfall_mm                          3013 non-null   float64\n",
      " 18  snowfall_mm                          3013 non-null   float64\n",
      " 19  dew_point                            3013 non-null   float64\n",
      " 20  relative_humidity                    3013 non-null   float64\n",
      " 21  new_confirmed                        3013 non-null   float64\n",
      " 22  new_deceased                         3013 non-null   float64\n",
      " 23  cumulative_confirmed                 3013 non-null   float64\n",
      " 24  cumulative_deceased                  3013 non-null   float64\n",
      " 25  school_closing                       3013 non-null   float64\n",
      " 26  workplace_closing                    3013 non-null   float64\n",
      " 27  cancel_public_events                 3013 non-null   float64\n",
      " 28  restrictions_on_gatherings           3013 non-null   float64\n",
      " 29  public_transport_closing             3013 non-null   float64\n",
      " 30  stay_at_home_requirements            3013 non-null   float64\n",
      " 31  restrictions_on_internal_movement    3013 non-null   float64\n",
      " 32  international_travel_controls        3013 non-null   float64\n",
      " 33  income_support                       3013 non-null   float64\n",
      " 34  debt_relief                          3013 non-null   float64\n",
      " 35  public_information_campaigns         3013 non-null   float64\n",
      " 36  testing_policy                       3013 non-null   float64\n",
      " 37  contact_tracing                      3013 non-null   float64\n",
      " 38  facial_coverings                     3013 non-null   float64\n",
      " 39  vaccination_policy                   3013 non-null   float64\n",
      " 40  stringency_index                     3013 non-null   float64\n",
      "dtypes: float64(41)\n",
      "memory usage: 988.6 KB\n"
     ]
    }
   ],
   "source": [
    "merged_3.info()"
   ]
  },
  {
   "cell_type": "code",
   "execution_count": 50,
   "id": "c05f29ad-d862-4ef8-80c5-91a2e63b50fc",
   "metadata": {
    "tags": []
   },
   "outputs": [],
   "source": [
    "merged_3.drop(axis = 1, columns = ['population',\n",
    "                                       'minimum_temperature_celsius', \n",
    "                                       'maximum_temperature_celsius', \n",
    "                                    ], \n",
    "                  inplace = True)"
   ]
  },
  {
   "cell_type": "code",
   "execution_count": 51,
   "id": "4a099b4b-18b8-4c45-b344-9d240113da6c",
   "metadata": {
    "tags": []
   },
   "outputs": [],
   "source": [
    "merged_3.to_csv('../us_datasets/merged_3.csv')"
   ]
  },
  {
   "cell_type": "code",
   "execution_count": null,
   "id": "6cd35368-d8c0-4937-b873-2075f1e799bb",
   "metadata": {},
   "outputs": [],
   "source": []
  }
 ],
 "metadata": {
  "kernelspec": {
   "display_name": "Python 3 (ipykernel)",
   "language": "python",
   "name": "python3"
  },
  "language_info": {
   "codemirror_mode": {
    "name": "ipython",
    "version": 3
   },
   "file_extension": ".py",
   "mimetype": "text/x-python",
   "name": "python",
   "nbconvert_exporter": "python",
   "pygments_lexer": "ipython3",
   "version": "3.11.5"
  }
 },
 "nbformat": 4,
 "nbformat_minor": 5
}
