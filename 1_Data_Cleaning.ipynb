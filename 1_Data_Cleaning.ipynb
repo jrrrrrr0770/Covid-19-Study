{
 "cells": [
  {
   "cell_type": "markdown",
   "id": "d6973686-97f0-4a21-88cb-c8ceaa853d4d",
   "metadata": {},
   "source": [
    "<img src=\"./images/coronavirus_icon-1.jpg\" style=\"float: left; margin: 20px; height: 75px\">\n",
    "\n",
    "# Capstone: Covid-19 Study"
   ]
  },
  {
   "cell_type": "markdown",
   "id": "af1111ee-091a-48d7-93f5-b620fce86a28",
   "metadata": {},
   "source": [
    "## Problem Statement\n",
    "\n",
    "Covid-19 Study"
   ]
  },
  {
   "cell_type": "markdown",
   "id": "fbfe016e-b709-4423-a023-a97b479f235a",
   "metadata": {},
   "source": [
    "## 1.  Data Cleaning"
   ]
  },
  {
   "cell_type": "code",
   "execution_count": 2,
   "id": "be95fa41-4b34-4bb3-89b9-d4e77e1011cc",
   "metadata": {
    "tags": []
   },
   "outputs": [],
   "source": [
    "# Import libraries\n",
    "\n",
    "import pandas as pd\n",
    "import numpy as np\n",
    "from bs4 import BeautifulSoup\n",
    "import requests"
   ]
  },
  {
   "cell_type": "code",
   "execution_count": null,
   "id": "f2e0d9fc-53b9-4803-ac46-54f7f1e92bb1",
   "metadata": {
    "tags": []
   },
   "outputs": [],
   "source": [
    "# Create dictionary to download all relevant google csv's\n",
    "\n",
    "google_dict = {'index' : \"https://storage.googleapis.com/covid19-open-data/v3/index.csv\",\n",
    "               'demographics' : \"https://storage.googleapis.com/covid19-open-data/v3/demographics.csv\",\n",
    "               'economy' : \"https://storage.googleapis.com/covid19-open-data/v3/economy.csv\",\n",
    "               'epidemiology' : \"https://storage.googleapis.com/covid19-open-data/v3/epidemiology.csv\",\n",
    "               'emergency_declarations' : \"https://storage.googleapis.com/covid19-open-data/v3/lawatlas-emergency-declarations.csv\",\n",
    "               'geography' : \"https://storage.googleapis.com/covid19-open-data/v3/geography.csv\",\n",
    "               'health' : \"https://storage.googleapis.com/covid19-open-data/v3/health.csv\",\n",
    "               'hospitalizations' : \"https://storage.googleapis.com/covid19-open-data/v3/hospitalizations.csv\",\n",
    "               'mobility' : \"https://storage.googleapis.com/covid19-open-data/v3/mobility.csv\",\n",
    "               'search_trends' : \"https://storage.googleapis.com/covid19-open-data/v3/google-search-trends.csv\",\n",
    "               'vaccination_access' : \"https://storage.googleapis.com/covid19-open-data/covid19-vaccination-access/facility-boundary-us-all.csv\",\n",
    "               'vaccination_search' : \"https://storage.googleapis.com/covid19-open-data/covid19-vaccination-search-insights/Global_vaccination_search_insights.csv\",\n",
    "               'vaccinations' : \"https://storage.googleapis.com/covid19-open-data/v3/vaccinations.csv\",\n",
    "               'government_response' : \"https://storage.googleapis.com/covid19-open-data/v3/oxford-government-response.csv\",\n",
    "               'weather' : \"https://storage.googleapis.com/covid19-open-data/v3/weather.csv\",\n",
    "               'worldbank' : \"https://storage.googleapis.com/covid19-open-data/v3/worldbank.csv\",\n",
    "               'by_age' : \"https://storage.googleapis.com/covid19-open-data/v3/by-age.csv\",\n",
    "               'by_sex' : \"https://storage.googleapis.com/covid19-open-data/v3/by-sex.csv\",\n",
    "               }"
   ]
  },
  {
   "cell_type": "code",
   "execution_count": 4,
   "id": "0d6f22b0-2144-4b23-b7bd-de2387855f65",
   "metadata": {
    "tags": []
   },
   "outputs": [],
   "source": [
    "# read in and save google csv files\n",
    "\n",
    "for k,v in google_dict.items():\n",
    "    req = requests.get(v)\n",
    "    url_content = req.content\n",
    "    csv_file = open(f'./datasets/{k}.csv', 'wb')\n",
    "    csv_file.write(url_content)\n",
    "    csv_file.close"
   ]
  },
  {
   "cell_type": "code",
   "execution_count": 5,
   "id": "ed0716ac-f795-4b4f-9de1-03935868105b",
   "metadata": {
    "tags": []
   },
   "outputs": [],
   "source": [
    "key_list = list(google_dict.keys())"
   ]
  },
  {
   "cell_type": "code",
   "execution_count": 6,
   "id": "4927dcd3-5a0f-4090-90e9-ca3f128b7dfc",
   "metadata": {
    "tags": []
   },
   "outputs": [
    {
     "data": {
      "text/plain": [
       "['index',\n",
       " 'demographics',\n",
       " 'economy',\n",
       " 'epidemiology',\n",
       " 'emergency_declarations',\n",
       " 'geography',\n",
       " 'health',\n",
       " 'hospitalizations',\n",
       " 'mobility',\n",
       " 'search_trends',\n",
       " 'vaccination_access',\n",
       " 'vaccination_search',\n",
       " 'vaccinations',\n",
       " 'government_response',\n",
       " 'weather',\n",
       " 'worldbank',\n",
       " 'by_age',\n",
       " 'by_sex']"
      ]
     },
     "execution_count": 6,
     "metadata": {},
     "output_type": "execute_result"
    }
   ],
   "source": [
    "key_list"
   ]
  },
  {
   "cell_type": "code",
   "execution_count": 7,
   "id": "2cd65ae8-6ee4-424d-8dd0-abfba3dae0f6",
   "metadata": {
    "tags": []
   },
   "outputs": [],
   "source": [
    "# Create Dataframes\n",
    "\n",
    "def create_dataframes(key):\n",
    "    key = pd.read_csv(f'./datasets/{key}.csv')"
   ]
  },
  {
   "cell_type": "code",
   "execution_count": 8,
   "id": "2608f67e-9856-4a35-abac-0615d2d6d8b7",
   "metadata": {
    "tags": []
   },
   "outputs": [
    {
     "ename": "NameError",
     "evalue": "name 'label' is not defined",
     "output_type": "error",
     "traceback": [
      "\u001b[0;31m---------------------------------------------------------------------------\u001b[0m",
      "\u001b[0;31mNameError\u001b[0m                                 Traceback (most recent call last)",
      "Cell \u001b[0;32mIn[8], line 2\u001b[0m\n\u001b[1;32m      1\u001b[0m \u001b[38;5;28;01mfor\u001b[39;00m key \u001b[38;5;129;01min\u001b[39;00m key_list:\n\u001b[0;32m----> 2\u001b[0m     key \u001b[38;5;241m=\u001b[39m pd\u001b[38;5;241m.\u001b[39mread_csv(\u001b[38;5;124mf\u001b[39m\u001b[38;5;124m'\u001b[39m\u001b[38;5;124m./datasets/\u001b[39m\u001b[38;5;132;01m{\u001b[39;00mlabel\u001b[38;5;132;01m}\u001b[39;00m\u001b[38;5;124m.csv\u001b[39m\u001b[38;5;124m'\u001b[39m)\n",
      "\u001b[0;31mNameError\u001b[0m: name 'label' is not defined"
     ]
    }
   ],
   "source": [
    "for key in key_list:\n",
    "    key = pd.read_csv(f'./datasets/{label}.csv')"
   ]
  },
  {
   "cell_type": "code",
   "execution_count": 19,
   "id": "5b1e000f-f195-4539-8079-2db2b09fa7df",
   "metadata": {},
   "outputs": [],
   "source": [
    "# Create Dataframes\n",
    "\n",
    "index = pd.read_csv('./datasets/index.csv')\n",
    "demographics = pd.read_csv('./datasets/demographics.csv')\n",
    "epidemiology = pd.read_csv('./datasets/epidemiology.csv')\n",
    "health= pd.read_csv('./datasets/health.csv')\n",
    "hospitalizations = pd.read_csv('./datasets/hospitalizations.csv')\n",
    "vaccinations = pd.read_csv('./datasets/vaccinations.csv')\n",
    "government_response = pd.read_csv('./datasets/government_response.csv')\n",
    "weather = pd.read_csv('./datasets/weather.csv')"
   ]
  },
  {
   "cell_type": "code",
   "execution_count": 5,
   "id": "13ce8bc7-f765-40c5-869b-ff32e33633cd",
   "metadata": {
    "tags": []
   },
   "outputs": [],
   "source": [
    "df_list = [index,\n",
    "           demographics,\n",
    "           epidemiology,\n",
    "           health,\n",
    "           hospitalizations,\n",
    "           vaccinations,\n",
    "           government_response,\n",
    "           weather]"
   ]
  },
  {
   "cell_type": "code",
   "execution_count": 6,
   "id": "c7526ffa-e079-4c31-8d5b-69c42934f3e0",
   "metadata": {
    "tags": []
   },
   "outputs": [
    {
     "name": "stdout",
     "output_type": "stream",
     "text": [
      "<class 'pandas.core.frame.DataFrame'>\n",
      "RangeIndex: 22963 entries, 0 to 22962\n",
      "Data columns (total 15 columns):\n",
      " #   Column              Non-Null Count  Dtype \n",
      "---  ------              --------------  ----- \n",
      " 0   location_key        22962 non-null  object\n",
      " 1   place_id            21661 non-null  object\n",
      " 2   wikidata_id         22184 non-null  object\n",
      " 3   datacommons_id      4216 non-null   object\n",
      " 4   country_code        22962 non-null  object\n",
      " 5   country_name        22963 non-null  object\n",
      " 6   subregion1_code     22715 non-null  object\n",
      " 7   subregion1_name     22716 non-null  object\n",
      " 8   subregion2_code     21253 non-null  object\n",
      " 9   subregion2_name     21253 non-null  object\n",
      " 10  locality_code       32 non-null     object\n",
      " 11  locality_name       32 non-null     object\n",
      " 12  iso_3166_1_alpha_2  22961 non-null  object\n",
      " 13  iso_3166_1_alpha_3  22962 non-null  object\n",
      " 14  aggregation_level   22963 non-null  int64 \n",
      "dtypes: int64(1), object(14)\n",
      "memory usage: 2.6+ MB\n",
      "\n",
      "---------------------------------------------------------------------------\n",
      "\n",
      "<class 'pandas.core.frame.DataFrame'>\n",
      "RangeIndex: 21689 entries, 0 to 21688\n",
      "Data columns (total 19 columns):\n",
      " #   Column                       Non-Null Count  Dtype  \n",
      "---  ------                       --------------  -----  \n",
      " 0   location_key                 21688 non-null  object \n",
      " 1   population                   21659 non-null  float64\n",
      " 2   population_male              17607 non-null  float64\n",
      " 3   population_female            17607 non-null  float64\n",
      " 4   population_rural             213 non-null    float64\n",
      " 5   population_urban             213 non-null    float64\n",
      " 6   population_largest_city      152 non-null    float64\n",
      " 7   population_clustered         121 non-null    float64\n",
      " 8   population_density           1192 non-null   float64\n",
      " 9   human_development_index      5738 non-null   float64\n",
      " 10  population_age_00_09         17249 non-null  float64\n",
      " 11  population_age_10_19         17248 non-null  float64\n",
      " 12  population_age_20_29         17248 non-null  float64\n",
      " 13  population_age_30_39         17256 non-null  float64\n",
      " 14  population_age_40_49         17250 non-null  float64\n",
      " 15  population_age_50_59         17232 non-null  float64\n",
      " 16  population_age_60_69         17214 non-null  float64\n",
      " 17  population_age_70_79         17127 non-null  float64\n",
      " 18  population_age_80_and_older  16960 non-null  float64\n",
      "dtypes: float64(18), object(1)\n",
      "memory usage: 3.1+ MB\n",
      "\n",
      "---------------------------------------------------------------------------\n",
      "\n",
      "<class 'pandas.core.frame.DataFrame'>\n",
      "RangeIndex: 12525825 entries, 0 to 12525824\n",
      "Data columns (total 10 columns):\n",
      " #   Column                Dtype  \n",
      "---  ------                -----  \n",
      " 0   date                  object \n",
      " 1   location_key          object \n",
      " 2   new_confirmed         float64\n",
      " 3   new_deceased          float64\n",
      " 4   new_recovered         float64\n",
      " 5   new_tested            float64\n",
      " 6   cumulative_confirmed  float64\n",
      " 7   cumulative_deceased   float64\n",
      " 8   cumulative_recovered  float64\n",
      " 9   cumulative_tested     float64\n",
      "dtypes: float64(8), object(2)\n",
      "memory usage: 955.6+ MB\n",
      "\n",
      "---------------------------------------------------------------------------\n",
      "\n",
      "<class 'pandas.core.frame.DataFrame'>\n",
      "RangeIndex: 3504 entries, 0 to 3503\n",
      "Data columns (total 14 columns):\n",
      " #   Column                                Non-Null Count  Dtype  \n",
      "---  ------                                --------------  -----  \n",
      " 0   location_key                          3503 non-null   object \n",
      " 1   life_expectancy                       3499 non-null   float64\n",
      " 2   smoking_prevalence                    146 non-null    float64\n",
      " 3   diabetes_prevalence                   209 non-null    float64\n",
      " 4   infant_mortality_rate                 193 non-null    float64\n",
      " 5   adult_male_mortality_rate             189 non-null    float64\n",
      " 6   adult_female_mortality_rate           189 non-null    float64\n",
      " 7   pollution_mortality_rate              183 non-null    float64\n",
      " 8   comorbidity_mortality_rate            183 non-null    float64\n",
      " 9   hospital_beds_per_1000                25 non-null     float64\n",
      " 10  nurses_per_1000                       180 non-null    float64\n",
      " 11  physicians_per_1000                   164 non-null    float64\n",
      " 12  health_expenditure_usd                186 non-null    float64\n",
      " 13  out_of_pocket_health_expenditure_usd  186 non-null    float64\n",
      "dtypes: float64(13), object(1)\n",
      "memory usage: 383.4+ KB\n",
      "\n",
      "---------------------------------------------------------------------------\n",
      "\n",
      "<class 'pandas.core.frame.DataFrame'>\n",
      "RangeIndex: 1768485 entries, 0 to 1768484\n",
      "Data columns (total 11 columns):\n",
      " #   Column                              Dtype  \n",
      "---  ------                              -----  \n",
      " 0   date                                object \n",
      " 1   location_key                        object \n",
      " 2   new_hospitalized_patients           float64\n",
      " 3   cumulative_hospitalized_patients    float64\n",
      " 4   current_hospitalized_patients       float64\n",
      " 5   new_intensive_care_patients         float64\n",
      " 6   cumulative_intensive_care_patients  float64\n",
      " 7   current_intensive_care_patients     float64\n",
      " 8   new_ventilator_patients             float64\n",
      " 9   cumulative_ventilator_patients      float64\n",
      " 10  current_ventilator_patients         float64\n",
      "dtypes: float64(9), object(2)\n",
      "memory usage: 148.4+ MB\n",
      "\n",
      "---------------------------------------------------------------------------\n",
      "\n",
      "<class 'pandas.core.frame.DataFrame'>\n",
      "RangeIndex: 2545118 entries, 0 to 2545117\n",
      "Data columns (total 32 columns):\n",
      " #   Column                                         Dtype  \n",
      "---  ------                                         -----  \n",
      " 0   date                                           object \n",
      " 1   location_key                                   object \n",
      " 2   new_persons_vaccinated                         float64\n",
      " 3   cumulative_persons_vaccinated                  float64\n",
      " 4   new_persons_fully_vaccinated                   float64\n",
      " 5   cumulative_persons_fully_vaccinated            float64\n",
      " 6   new_vaccine_doses_administered                 float64\n",
      " 7   cumulative_vaccine_doses_administered          float64\n",
      " 8   new_persons_vaccinated_pfizer                  float64\n",
      " 9   cumulative_persons_vaccinated_pfizer           float64\n",
      " 10  new_persons_fully_vaccinated_pfizer            float64\n",
      " 11  cumulative_persons_fully_vaccinated_pfizer     float64\n",
      " 12  new_vaccine_doses_administered_pfizer          float64\n",
      " 13  cumulative_vaccine_doses_administered_pfizer   float64\n",
      " 14  new_persons_vaccinated_moderna                 float64\n",
      " 15  cumulative_persons_vaccinated_moderna          float64\n",
      " 16  new_persons_fully_vaccinated_moderna           float64\n",
      " 17  cumulative_persons_fully_vaccinated_moderna    float64\n",
      " 18  new_vaccine_doses_administered_moderna         float64\n",
      " 19  cumulative_vaccine_doses_administered_moderna  float64\n",
      " 20  new_persons_vaccinated_janssen                 float64\n",
      " 21  cumulative_persons_vaccinated_janssen          float64\n",
      " 22  new_persons_fully_vaccinated_janssen           float64\n",
      " 23  cumulative_persons_fully_vaccinated_janssen    float64\n",
      " 24  new_vaccine_doses_administered_janssen         float64\n",
      " 25  cumulative_vaccine_doses_administered_janssen  float64\n",
      " 26  new_persons_vaccinated_sinovac                 float64\n",
      " 27  total_persons_vaccinated_sinovac               float64\n",
      " 28  new_persons_fully_vaccinated_sinovac           float64\n",
      " 29  total_persons_fully_vaccinated_sinovac         float64\n",
      " 30  new_vaccine_doses_administered_sinovac         float64\n",
      " 31  total_vaccine_doses_administered_sinovac       float64\n",
      "dtypes: float64(30), object(2)\n",
      "memory usage: 621.4+ MB\n",
      "\n",
      "---------------------------------------------------------------------------\n",
      "\n",
      "<class 'pandas.core.frame.DataFrame'>\n",
      "RangeIndex: 303969 entries, 0 to 303968\n",
      "Data columns (total 22 columns):\n",
      " #   Column                              Non-Null Count   Dtype  \n",
      "---  ------                              --------------   -----  \n",
      " 0   date                                303969 non-null  object \n",
      " 1   location_key                        303053 non-null  object \n",
      " 2   school_closing                      302415 non-null  float64\n",
      " 3   workplace_closing                   302243 non-null  float64\n",
      " 4   cancel_public_events                302068 non-null  float64\n",
      " 5   restrictions_on_gatherings          301981 non-null  float64\n",
      " 6   public_transport_closing            301845 non-null  float64\n",
      " 7   stay_at_home_requirements           302074 non-null  float64\n",
      " 8   restrictions_on_internal_movement   302034 non-null  float64\n",
      " 9   international_travel_controls       300241 non-null  float64\n",
      " 10  income_support                      286963 non-null  float64\n",
      " 11  debt_relief                         286854 non-null  float64\n",
      " 12  fiscal_measures                     146749 non-null  float64\n",
      " 13  international_support               146645 non-null  float64\n",
      " 14  public_information_campaigns        302001 non-null  float64\n",
      " 15  testing_policy                      300377 non-null  float64\n",
      " 16  contact_tracing                     298180 non-null  float64\n",
      " 17  emergency_investment_in_healthcare  151099 non-null  float64\n",
      " 18  investment_in_vaccines              232734 non-null  float64\n",
      " 19  facial_coverings                    301618 non-null  float64\n",
      " 20  vaccination_policy                  301242 non-null  float64\n",
      " 21  stringency_index                    301587 non-null  float64\n",
      "dtypes: float64(20), object(2)\n",
      "memory usage: 51.0+ MB\n",
      "\n",
      "---------------------------------------------------------------------------\n",
      "\n",
      "<class 'pandas.core.frame.DataFrame'>\n",
      "RangeIndex: 21680590 entries, 0 to 21680589\n",
      "Data columns (total 9 columns):\n",
      " #   Column                       Dtype  \n",
      "---  ------                       -----  \n",
      " 0   date                         object \n",
      " 1   location_key                 object \n",
      " 2   average_temperature_celsius  float64\n",
      " 3   minimum_temperature_celsius  float64\n",
      " 4   maximum_temperature_celsius  float64\n",
      " 5   rainfall_mm                  float64\n",
      " 6   snowfall_mm                  float64\n",
      " 7   dew_point                    float64\n",
      " 8   relative_humidity            float64\n",
      "dtypes: float64(7), object(2)\n",
      "memory usage: 1.5+ GB\n",
      "\n",
      "---------------------------------------------------------------------------\n",
      "\n"
     ]
    }
   ],
   "source": [
    "# Display data information\n",
    "\n",
    "for df in df_list:\n",
    "    df.info()\n",
    "    print()\n",
    "    print('-'*75)\n",
    "    print()"
   ]
  },
  {
   "cell_type": "code",
   "execution_count": 22,
   "id": "5dff4c06-993d-4c49-b537-7c5f0baba134",
   "metadata": {
    "tags": []
   },
   "outputs": [
    {
     "name": "stdout",
     "output_type": "stream",
     "text": [
      "<class 'pandas.core.frame.DataFrame'>\n",
      "RangeIndex: 22963 entries, 0 to 22962\n",
      "Data columns (total 15 columns):\n",
      " #   Column              Non-Null Count  Dtype \n",
      "---  ------              --------------  ----- \n",
      " 0   location_key        22962 non-null  object\n",
      " 1   place_id            21661 non-null  object\n",
      " 2   wikidata_id         22184 non-null  object\n",
      " 3   datacommons_id      4216 non-null   object\n",
      " 4   country_code        22962 non-null  object\n",
      " 5   country_name        22963 non-null  object\n",
      " 6   subregion1_code     22715 non-null  object\n",
      " 7   subregion1_name     22716 non-null  object\n",
      " 8   subregion2_code     21253 non-null  object\n",
      " 9   subregion2_name     21253 non-null  object\n",
      " 10  locality_code       32 non-null     object\n",
      " 11  locality_name       32 non-null     object\n",
      " 12  iso_3166_1_alpha_2  22961 non-null  object\n",
      " 13  iso_3166_1_alpha_3  22962 non-null  object\n",
      " 14  aggregation_level   22963 non-null  int64 \n",
      "dtypes: int64(1), object(14)\n",
      "memory usage: 2.6+ MB\n"
     ]
    }
   ],
   "source": [
    "index.info()"
   ]
  },
  {
   "cell_type": "code",
   "execution_count": 7,
   "id": "be44971e-c368-4787-9bc9-dcfe70a347eb",
   "metadata": {
    "tags": []
   },
   "outputs": [
    {
     "data": {
      "text/plain": [
       "location_key\n",
       "US             1\n",
       "US_OK_40037    1\n",
       "US_OK_40017    1\n",
       "US_OK_40019    1\n",
       "US_OK_40021    1\n",
       "              ..\n",
       "US_KY_21163    1\n",
       "US_KY_21165    1\n",
       "US_KY_21167    1\n",
       "US_KY_21169    1\n",
       "US_WY_56045    1\n",
       "Name: count, Length: 3285, dtype: int64"
      ]
     },
     "execution_count": 7,
     "metadata": {},
     "output_type": "execute_result"
    }
   ],
   "source": [
    "# Extract US data from datasets\n",
    "\n",
    "us_\n",
    "\n",
    "us_index = index[index['country_code'] == 'US']\n",
    "us_index.location_key.value_counts()"
   ]
  },
  {
   "cell_type": "code",
   "execution_count": 32,
   "id": "53a3d060-8114-40d8-82c1-e629abfd44bc",
   "metadata": {},
   "outputs": [],
   "source": [
    "# Extract US data from datasets\n",
    "us_index = index[index.location_key.str.startswith('US_') == True]\n",
    "us_demographics = demographics[demographics.location_key.str.startswith('US_') == True]\n",
    "us_epidemiology = epidemiology[epidemiology.location_key.str.startswith('US_') == True]\n",
    "us_health = health[health.location_key.str.startswith('US_') == True]\n",
    "us_hospitalizations = hospitalizations[hospitalizations.location_key.str.startswith('US_') == True]\n",
    "us_vaccinations = vaccinations[vaccinations.location_key.str.startswith('US_') == True]\n",
    "us_government_response = government_response[government_response.location_key.str.startswith('US_') == True]\n",
    "us_weather = weather[weather.location_key.str.startswith('US_') == True]"
   ]
  },
  {
   "cell_type": "code",
   "execution_count": 34,
   "id": "60cc5643-46f3-4e32-a87b-551d0ec99a8e",
   "metadata": {
    "tags": []
   },
   "outputs": [],
   "source": [
    "us_index.to_csv('./datasets/us_index.csv')\n",
    "us_demographics.to_csv('./datasets/us_demographics.csv')\n",
    "us_epidemiology.to_csv('./datasets/us_epidemiology.csv')\n",
    "us_health.to_csv('./datasets/us_health.csv')\n",
    "us_hospitalizations.to_csv('./datasets/us_hospitalizations.csv')\n",
    "us_vaccinations.to_csv('./datasets/us_vaccinations.csv')\n",
    "us_government_response.to_csv('./datasets/us_government_response.csv')\n",
    "us_weather.to_csv('./datasets/us_weather.csv')"
   ]
  },
  {
   "cell_type": "code",
   "execution_count": 30,
   "id": "27fa315a-9f77-4842-acd9-fd7647b0446f",
   "metadata": {
    "tags": []
   },
   "outputs": [
    {
     "name": "stdout",
     "output_type": "stream",
     "text": [
      "<class 'pandas.core.frame.DataFrame'>\n",
      "Index: 3284 entries, 19558 to 22841\n",
      "Data columns (total 15 columns):\n",
      " #   Column              Non-Null Count  Dtype \n",
      "---  ------              --------------  ----- \n",
      " 0   location_key        3284 non-null   object\n",
      " 1   place_id            3281 non-null   object\n",
      " 2   wikidata_id         3284 non-null   object\n",
      " 3   datacommons_id      3282 non-null   object\n",
      " 4   country_code        3284 non-null   object\n",
      " 5   country_name        3284 non-null   object\n",
      " 6   subregion1_code     3284 non-null   object\n",
      " 7   subregion1_name     3284 non-null   object\n",
      " 8   subregion2_code     3225 non-null   object\n",
      " 9   subregion2_name     3225 non-null   object\n",
      " 10  locality_code       3 non-null      object\n",
      " 11  locality_name       3 non-null      object\n",
      " 12  iso_3166_1_alpha_2  3284 non-null   object\n",
      " 13  iso_3166_1_alpha_3  3284 non-null   object\n",
      " 14  aggregation_level   3284 non-null   int64 \n",
      "dtypes: int64(1), object(14)\n",
      "memory usage: 410.5+ KB\n"
     ]
    }
   ],
   "source": [
    "us_index.info()"
   ]
  },
  {
   "cell_type": "code",
   "execution_count": 31,
   "id": "52ffd427-d421-4654-9094-c8f2053b4cc1",
   "metadata": {
    "tags": []
   },
   "outputs": [],
   "source": [
    "us_index.to_csv('check.csv')"
   ]
  },
  {
   "cell_type": "code",
   "execution_count": null,
   "id": "224b4e51-7c8a-4a26-8813-1d2d4ee94873",
   "metadata": {},
   "outputs": [],
   "source": []
  }
 ],
 "metadata": {
  "kernelspec": {
   "display_name": "Python 3 (ipykernel)",
   "language": "python",
   "name": "python3"
  },
  "language_info": {
   "codemirror_mode": {
    "name": "ipython",
    "version": 3
   },
   "file_extension": ".py",
   "mimetype": "text/x-python",
   "name": "python",
   "nbconvert_exporter": "python",
   "pygments_lexer": "ipython3",
   "version": "3.11.5"
  }
 },
 "nbformat": 4,
 "nbformat_minor": 5
}
