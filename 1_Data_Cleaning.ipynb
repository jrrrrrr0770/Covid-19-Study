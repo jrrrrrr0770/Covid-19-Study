{
 "cells": [
  {
   "cell_type": "markdown",
   "id": "d6973686-97f0-4a21-88cb-c8ceaa853d4d",
   "metadata": {},
   "source": [
    "<img src=\"./images/coronavirus_icon-1.jpg\" style=\"float: left; margin: 20px; height: 75px\">\n",
    "\n",
    "# **Capstone: Covid-19 Study**"
   ]
  },
  {
   "cell_type": "markdown",
   "id": "af1111ee-091a-48d7-93f5-b620fce86a28",
   "metadata": {},
   "source": [
    "# Problem Statement\n",
    "\n",
    "Covid-19 Study"
   ]
  },
  {
   "cell_type": "markdown",
   "id": "fbfe016e-b709-4423-a023-a97b479f235a",
   "metadata": {},
   "source": [
    "# 1.  Data collection and cleaning"
   ]
  },
  {
   "cell_type": "code",
   "execution_count": 3,
   "id": "be95fa41-4b34-4bb3-89b9-d4e77e1011cc",
   "metadata": {
    "tags": []
   },
   "outputs": [],
   "source": [
    "# Import libraries\n",
    "\n",
    "import pandas as pd\n",
    "import numpy as np\n",
    "import requests\n",
    "import os"
   ]
  },
  {
   "cell_type": "code",
   "execution_count": 2,
   "id": "f2e0d9fc-53b9-4803-ac46-54f7f1e92bb1",
   "metadata": {
    "tags": []
   },
   "outputs": [],
   "source": [
    "# Create dictionary to download all relevant google csv's\n",
    "\n",
    "google_dict = {'index' : \"https://storage.googleapis.com/covid19-open-data/v3/index.csv\",\n",
    "               'demographics' : \"https://storage.googleapis.com/covid19-open-data/v3/demographics.csv\",\n",
    "               'epidemiology' : \"https://storage.googleapis.com/covid19-open-data/v3/epidemiology.csv\",\n",
    "               'health' : \"https://storage.googleapis.com/covid19-open-data/v3/health.csv\",\n",
    "               'vaccinations' : \"https://storage.googleapis.com/covid19-open-data/v3/vaccinations.csv\",\n",
    "               'government_response' : \"https://storage.googleapis.com/covid19-open-data/v3/oxford-government-response.csv\",\n",
    "               'weather' : \"https://storage.googleapis.com/covid19-open-data/v3/weather.csv\"\n",
    "               }"
   ]
  },
  {
   "cell_type": "code",
   "execution_count": 3,
   "id": "0d6f22b0-2144-4b23-b7bd-de2387855f65",
   "metadata": {
    "tags": []
   },
   "outputs": [],
   "source": [
    "# read in and save google csv files\n",
    "# Referenced https://medium.com/@mudassar_lhr/how-to-download-the-csv-file-from-url-using-python-650eae6d3478\n",
    "\n",
    "for k,v in google_dict.items():\n",
    "    req = requests.get(v)\n",
    "    url_content = req.content\n",
    "    csv_file = open(f'../world_datasets/{k}.csv', 'wb')\n",
    "    csv_file.write(url_content)\n",
    "    csv_file.close"
   ]
  },
  {
   "cell_type": "code",
   "execution_count": 15,
   "id": "734800ce-1203-4939-8a11-e850acb82444",
   "metadata": {},
   "outputs": [],
   "source": [
    "# Create Dataframes\n",
    "\n",
    "index = pd.read_csv('../world_datasets/index.csv')\n",
    "demographics = pd.read_csv('../world_datasets/demographics.csv')\n",
    "epidemiology = pd.read_csv('../world_datasets/epidemiology.csv')\n",
    "health= pd.read_csv('../world_datasets/health.csv')\n",
    "vaccinations = pd.read_csv('../world_datasets/vaccinations.csv')\n",
    "government_response = pd.read_csv('../world_datasets/government_response.csv')\n",
    "weather = pd.read_csv('../world_datasets/weather.csv')"
   ]
  },
  {
   "cell_type": "code",
   "execution_count": 101,
   "id": "13ce8bc7-f765-40c5-869b-ff32e33633cd",
   "metadata": {
    "tags": []
   },
   "outputs": [],
   "source": [
    "# Create dataframe list \n",
    "\n",
    "df_list = [index,\n",
    "           demographics,\n",
    "           epidemiology,\n",
    "           health,\n",
    "           vaccinations,\n",
    "           government_response,\n",
    "           weather]"
   ]
  },
  {
   "cell_type": "code",
   "execution_count": 102,
   "id": "c7526ffa-e079-4c31-8d5b-69c42934f3e0",
   "metadata": {
    "tags": []
   },
   "outputs": [
    {
     "name": "stdout",
     "output_type": "stream",
     "text": [
      "<class 'pandas.core.frame.DataFrame'>\n",
      "RangeIndex: 22963 entries, 0 to 22962\n",
      "Data columns (total 15 columns):\n",
      " #   Column              Non-Null Count  Dtype \n",
      "---  ------              --------------  ----- \n",
      " 0   location_key        22962 non-null  object\n",
      " 1   place_id            21661 non-null  object\n",
      " 2   wikidata_id         22184 non-null  object\n",
      " 3   datacommons_id      4216 non-null   object\n",
      " 4   country_code        22962 non-null  object\n",
      " 5   country_name        22963 non-null  object\n",
      " 6   subregion1_code     22715 non-null  object\n",
      " 7   subregion1_name     22716 non-null  object\n",
      " 8   subregion2_code     21253 non-null  object\n",
      " 9   subregion2_name     21253 non-null  object\n",
      " 10  locality_code       32 non-null     object\n",
      " 11  locality_name       32 non-null     object\n",
      " 12  iso_3166_1_alpha_2  22961 non-null  object\n",
      " 13  iso_3166_1_alpha_3  22962 non-null  object\n",
      " 14  aggregation_level   22963 non-null  int64 \n",
      "dtypes: int64(1), object(14)\n",
      "memory usage: 2.6+ MB\n",
      "\n",
      "---------------------------------------------------------------------------\n",
      "\n",
      "<class 'pandas.core.frame.DataFrame'>\n",
      "RangeIndex: 21689 entries, 0 to 21688\n",
      "Data columns (total 19 columns):\n",
      " #   Column                       Non-Null Count  Dtype  \n",
      "---  ------                       --------------  -----  \n",
      " 0   location_key                 21688 non-null  object \n",
      " 1   population                   21659 non-null  float64\n",
      " 2   population_male              17607 non-null  float64\n",
      " 3   population_female            17607 non-null  float64\n",
      " 4   population_rural             213 non-null    float64\n",
      " 5   population_urban             213 non-null    float64\n",
      " 6   population_largest_city      152 non-null    float64\n",
      " 7   population_clustered         121 non-null    float64\n",
      " 8   population_density           1192 non-null   float64\n",
      " 9   human_development_index      5738 non-null   float64\n",
      " 10  population_age_00_09         17249 non-null  float64\n",
      " 11  population_age_10_19         17248 non-null  float64\n",
      " 12  population_age_20_29         17248 non-null  float64\n",
      " 13  population_age_30_39         17256 non-null  float64\n",
      " 14  population_age_40_49         17250 non-null  float64\n",
      " 15  population_age_50_59         17232 non-null  float64\n",
      " 16  population_age_60_69         17214 non-null  float64\n",
      " 17  population_age_70_79         17127 non-null  float64\n",
      " 18  population_age_80_and_older  16960 non-null  float64\n",
      "dtypes: float64(18), object(1)\n",
      "memory usage: 3.1+ MB\n",
      "\n",
      "---------------------------------------------------------------------------\n",
      "\n",
      "<class 'pandas.core.frame.DataFrame'>\n",
      "RangeIndex: 12525825 entries, 0 to 12525824\n",
      "Data columns (total 10 columns):\n",
      " #   Column                Dtype  \n",
      "---  ------                -----  \n",
      " 0   date                  object \n",
      " 1   location_key          object \n",
      " 2   new_confirmed         float64\n",
      " 3   new_deceased          float64\n",
      " 4   new_recovered         float64\n",
      " 5   new_tested            float64\n",
      " 6   cumulative_confirmed  float64\n",
      " 7   cumulative_deceased   float64\n",
      " 8   cumulative_recovered  float64\n",
      " 9   cumulative_tested     float64\n",
      "dtypes: float64(8), object(2)\n",
      "memory usage: 955.6+ MB\n",
      "\n",
      "---------------------------------------------------------------------------\n",
      "\n",
      "<class 'pandas.core.frame.DataFrame'>\n",
      "RangeIndex: 3504 entries, 0 to 3503\n",
      "Data columns (total 14 columns):\n",
      " #   Column                                Non-Null Count  Dtype  \n",
      "---  ------                                --------------  -----  \n",
      " 0   location_key                          3503 non-null   object \n",
      " 1   life_expectancy                       3499 non-null   float64\n",
      " 2   smoking_prevalence                    146 non-null    float64\n",
      " 3   diabetes_prevalence                   209 non-null    float64\n",
      " 4   infant_mortality_rate                 193 non-null    float64\n",
      " 5   adult_male_mortality_rate             189 non-null    float64\n",
      " 6   adult_female_mortality_rate           189 non-null    float64\n",
      " 7   pollution_mortality_rate              183 non-null    float64\n",
      " 8   comorbidity_mortality_rate            183 non-null    float64\n",
      " 9   hospital_beds_per_1000                25 non-null     float64\n",
      " 10  nurses_per_1000                       180 non-null    float64\n",
      " 11  physicians_per_1000                   164 non-null    float64\n",
      " 12  health_expenditure_usd                186 non-null    float64\n",
      " 13  out_of_pocket_health_expenditure_usd  186 non-null    float64\n",
      "dtypes: float64(13), object(1)\n",
      "memory usage: 383.4+ KB\n",
      "\n",
      "---------------------------------------------------------------------------\n",
      "\n",
      "<class 'pandas.core.frame.DataFrame'>\n",
      "RangeIndex: 2545118 entries, 0 to 2545117\n",
      "Data columns (total 32 columns):\n",
      " #   Column                                         Dtype  \n",
      "---  ------                                         -----  \n",
      " 0   date                                           object \n",
      " 1   location_key                                   object \n",
      " 2   new_persons_vaccinated                         float64\n",
      " 3   cumulative_persons_vaccinated                  float64\n",
      " 4   new_persons_fully_vaccinated                   float64\n",
      " 5   cumulative_persons_fully_vaccinated            float64\n",
      " 6   new_vaccine_doses_administered                 float64\n",
      " 7   cumulative_vaccine_doses_administered          float64\n",
      " 8   new_persons_vaccinated_pfizer                  float64\n",
      " 9   cumulative_persons_vaccinated_pfizer           float64\n",
      " 10  new_persons_fully_vaccinated_pfizer            float64\n",
      " 11  cumulative_persons_fully_vaccinated_pfizer     float64\n",
      " 12  new_vaccine_doses_administered_pfizer          float64\n",
      " 13  cumulative_vaccine_doses_administered_pfizer   float64\n",
      " 14  new_persons_vaccinated_moderna                 float64\n",
      " 15  cumulative_persons_vaccinated_moderna          float64\n",
      " 16  new_persons_fully_vaccinated_moderna           float64\n",
      " 17  cumulative_persons_fully_vaccinated_moderna    float64\n",
      " 18  new_vaccine_doses_administered_moderna         float64\n",
      " 19  cumulative_vaccine_doses_administered_moderna  float64\n",
      " 20  new_persons_vaccinated_janssen                 float64\n",
      " 21  cumulative_persons_vaccinated_janssen          float64\n",
      " 22  new_persons_fully_vaccinated_janssen           float64\n",
      " 23  cumulative_persons_fully_vaccinated_janssen    float64\n",
      " 24  new_vaccine_doses_administered_janssen         float64\n",
      " 25  cumulative_vaccine_doses_administered_janssen  float64\n",
      " 26  new_persons_vaccinated_sinovac                 float64\n",
      " 27  total_persons_vaccinated_sinovac               float64\n",
      " 28  new_persons_fully_vaccinated_sinovac           float64\n",
      " 29  total_persons_fully_vaccinated_sinovac         float64\n",
      " 30  new_vaccine_doses_administered_sinovac         float64\n",
      " 31  total_vaccine_doses_administered_sinovac       float64\n",
      "dtypes: float64(30), object(2)\n",
      "memory usage: 621.4+ MB\n",
      "\n",
      "---------------------------------------------------------------------------\n",
      "\n",
      "<class 'pandas.core.frame.DataFrame'>\n",
      "RangeIndex: 303969 entries, 0 to 303968\n",
      "Data columns (total 22 columns):\n",
      " #   Column                              Non-Null Count   Dtype  \n",
      "---  ------                              --------------   -----  \n",
      " 0   date                                303969 non-null  object \n",
      " 1   location_key                        303053 non-null  object \n",
      " 2   school_closing                      302415 non-null  float64\n",
      " 3   workplace_closing                   302243 non-null  float64\n",
      " 4   cancel_public_events                302068 non-null  float64\n",
      " 5   restrictions_on_gatherings          301981 non-null  float64\n",
      " 6   public_transport_closing            301845 non-null  float64\n",
      " 7   stay_at_home_requirements           302074 non-null  float64\n",
      " 8   restrictions_on_internal_movement   302034 non-null  float64\n",
      " 9   international_travel_controls       300241 non-null  float64\n",
      " 10  income_support                      286963 non-null  float64\n",
      " 11  debt_relief                         286854 non-null  float64\n",
      " 12  fiscal_measures                     146749 non-null  float64\n",
      " 13  international_support               146645 non-null  float64\n",
      " 14  public_information_campaigns        302001 non-null  float64\n",
      " 15  testing_policy                      300377 non-null  float64\n",
      " 16  contact_tracing                     298180 non-null  float64\n",
      " 17  emergency_investment_in_healthcare  151099 non-null  float64\n",
      " 18  investment_in_vaccines              232734 non-null  float64\n",
      " 19  facial_coverings                    301618 non-null  float64\n",
      " 20  vaccination_policy                  301242 non-null  float64\n",
      " 21  stringency_index                    301587 non-null  float64\n",
      "dtypes: float64(20), object(2)\n",
      "memory usage: 51.0+ MB\n",
      "\n",
      "---------------------------------------------------------------------------\n",
      "\n",
      "<class 'pandas.core.frame.DataFrame'>\n",
      "RangeIndex: 21680590 entries, 0 to 21680589\n",
      "Data columns (total 9 columns):\n",
      " #   Column                       Dtype  \n",
      "---  ------                       -----  \n",
      " 0   date                         object \n",
      " 1   location_key                 object \n",
      " 2   average_temperature_celsius  float64\n",
      " 3   minimum_temperature_celsius  float64\n",
      " 4   maximum_temperature_celsius  float64\n",
      " 5   rainfall_mm                  float64\n",
      " 6   snowfall_mm                  float64\n",
      " 7   dew_point                    float64\n",
      " 8   relative_humidity            float64\n",
      "dtypes: float64(7), object(2)\n",
      "memory usage: 1.5+ GB\n",
      "\n",
      "---------------------------------------------------------------------------\n",
      "\n"
     ]
    }
   ],
   "source": [
    "# Display data information\n",
    "\n",
    "for df in df_list:\n",
    "    df.info()\n",
    "    print()\n",
    "    print('-'*75)\n",
    "    print()"
   ]
  },
  {
   "cell_type": "code",
   "execution_count": 18,
   "id": "67688aef-15c9-422b-93c6-98e8a3abac76",
   "metadata": {},
   "outputs": [],
   "source": [
    "# Extract US data from datasets\n",
    "\n",
    "us_index = index[index.location_key.str.startswith('US_') == True]\n",
    "us_demographics = demographics[demographics.location_key.str.startswith('US_') == True]\n",
    "us_epidemiology = epidemiology[epidemiology.location_key.str.startswith('US_') == True]\n",
    "us_health = health[health.location_key.str.startswith('US_') == True]\n",
    "us_vaccinations = vaccinations[vaccinations.location_key.str.startswith('US_') == True]\n",
    "us_government_response = government_response[government_response.location_key.str.startswith('US_') == True]\n",
    "us_weather = weather[weather.location_key.str.startswith('US_') == True]"
   ]
  },
  {
   "cell_type": "code",
   "execution_count": 15,
   "id": "cbcb2cef-728e-47e0-a7f9-f853135a53c1",
   "metadata": {},
   "outputs": [],
   "source": [
    "# Write US datasets to local for future use\n",
    "\n",
    "us_index.to_csv('../us_datasets/us_index.csv')\n",
    "us_demographics.to_csv('../us_datasets/us_demographics.csv')\n",
    "us_epidemiology.to_csv('../us_datasets/us_epidemiology.csv')\n",
    "us_health.to_csv('../us_datasets/us_health.csv')\n",
    "us_vaccinations.to_csv('../us_datasets/us_vaccinations.csv')\n",
    "us_government_response.to_csv('../us_datasets/us_government_response.csv')\n",
    "us_weather.to_csv('../us_datasets/us_weather.csv')"
   ]
  },
  {
   "cell_type": "code",
   "execution_count": 78,
   "id": "5b1e000f-f195-4539-8079-2db2b09fa7df",
   "metadata": {},
   "outputs": [],
   "source": [
    "# Create Dataframes\n",
    "\n",
    "us_index = pd.read_csv('../us_datasets/us_index.csv', index_col = 'location_key')\n",
    "us_demographics = pd.read_csv('../us_datasets/us_demographics.csv', index_col = 'location_key')\n",
    "us_epidemiology = pd.read_csv('../us_datasets/us_epidemiology.csv', index_col = 'location_key')\n",
    "us_health= pd.read_csv('../us_datasets/us_health.csv', index_col = 'location_key')\n",
    "us_vaccinations = pd.read_csv('../us_datasets/us_vaccinations.csv', index_col = 'location_key')\n",
    "us_government_response = pd.read_csv('../us_datasets/us_government_response.csv', index_col = 'location_key')\n",
    "us_weather = pd.read_csv('../us_datasets/us_weather.csv', index_col = 'location_key')"
   ]
  },
  {
   "cell_type": "code",
   "execution_count": 119,
   "id": "5dff4c06-993d-4c49-b537-7c5f0baba134",
   "metadata": {
    "tags": []
   },
   "outputs": [
    {
     "name": "stdout",
     "output_type": "stream",
     "text": [
      "<class 'pandas.core.frame.DataFrame'>\n",
      "Index: 3284 entries, US_AK to US_WY_56045\n",
      "Data columns (total 16 columns):\n",
      " #   Column              Non-Null Count  Dtype  \n",
      "---  ------              --------------  -----  \n",
      " 0   Unnamed: 0.1        3284 non-null   int64  \n",
      " 1   Unnamed: 0          3284 non-null   int64  \n",
      " 2   place_id            3281 non-null   object \n",
      " 3   wikidata_id         3284 non-null   object \n",
      " 4   datacommons_id      3282 non-null   object \n",
      " 5   country_code        3284 non-null   object \n",
      " 6   country_name        3284 non-null   object \n",
      " 7   subregion1_code     3284 non-null   object \n",
      " 8   subregion1_name     3284 non-null   object \n",
      " 9   subregion2_code     3225 non-null   float64\n",
      " 10  subregion2_name     3225 non-null   object \n",
      " 11  locality_code       3 non-null      object \n",
      " 12  locality_name       3 non-null      object \n",
      " 13  iso_3166_1_alpha_2  3284 non-null   object \n",
      " 14  iso_3166_1_alpha_3  3284 non-null   object \n",
      " 15  aggregation_level   3284 non-null   int64  \n",
      "dtypes: float64(1), int64(3), object(12)\n",
      "memory usage: 436.2+ KB\n",
      "\n",
      "---------------------------------------------------------------------------\n",
      "\n",
      "<class 'pandas.core.frame.DataFrame'>\n",
      "Index: 3284 entries, US_AK to US_WY_56045\n",
      "Data columns (total 20 columns):\n",
      " #   Column                       Non-Null Count  Dtype  \n",
      "---  ------                       --------------  -----  \n",
      " 0   Unnamed: 0.1                 3284 non-null   int64  \n",
      " 1   Unnamed: 0                   3284 non-null   int64  \n",
      " 2   population                   3284 non-null   float64\n",
      " 3   population_male              3202 non-null   float64\n",
      " 4   population_female            3202 non-null   float64\n",
      " 5   population_rural             0 non-null      float64\n",
      " 6   population_urban             0 non-null      float64\n",
      " 7   population_largest_city      0 non-null      float64\n",
      " 8   population_clustered         0 non-null      float64\n",
      " 9   population_density           0 non-null      float64\n",
      " 10  human_development_index      0 non-null      float64\n",
      " 11  population_age_00_09         3202 non-null   float64\n",
      " 12  population_age_10_19         3202 non-null   float64\n",
      " 13  population_age_20_29         3202 non-null   float64\n",
      " 14  population_age_30_39         3202 non-null   float64\n",
      " 15  population_age_40_49         3202 non-null   float64\n",
      " 16  population_age_50_59         3202 non-null   float64\n",
      " 17  population_age_60_69         3202 non-null   float64\n",
      " 18  population_age_70_79         3202 non-null   float64\n",
      " 19  population_age_80_and_older  3202 non-null   float64\n",
      "dtypes: float64(18), int64(2)\n",
      "memory usage: 538.8+ KB\n",
      "\n",
      "---------------------------------------------------------------------------\n",
      "\n",
      "<class 'pandas.core.frame.DataFrame'>\n",
      "Index: 2550043 entries, US_AK to US_WY_56045\n",
      "Data columns (total 11 columns):\n",
      " #   Column                Dtype  \n",
      "---  ------                -----  \n",
      " 0   Unnamed: 0.1          int64  \n",
      " 1   Unnamed: 0            int64  \n",
      " 2   date                  object \n",
      " 3   new_confirmed         float64\n",
      " 4   new_deceased          float64\n",
      " 5   new_recovered         float64\n",
      " 6   new_tested            float64\n",
      " 7   cumulative_confirmed  float64\n",
      " 8   cumulative_deceased   float64\n",
      " 9   cumulative_recovered  float64\n",
      " 10  cumulative_tested     float64\n",
      "dtypes: float64(8), int64(2), object(1)\n",
      "memory usage: 233.5+ MB\n",
      "\n",
      "---------------------------------------------------------------------------\n",
      "\n",
      "<class 'pandas.core.frame.DataFrame'>\n",
      "Index: 3075 entries, US_AK to US_WY_56045\n",
      "Data columns (total 15 columns):\n",
      " #   Column                                Non-Null Count  Dtype  \n",
      "---  ------                                --------------  -----  \n",
      " 0   Unnamed: 0.1                          3075 non-null   int64  \n",
      " 1   Unnamed: 0                            3075 non-null   int64  \n",
      " 2   life_expectancy                       3075 non-null   float64\n",
      " 3   smoking_prevalence                    0 non-null      float64\n",
      " 4   diabetes_prevalence                   0 non-null      float64\n",
      " 5   infant_mortality_rate                 0 non-null      float64\n",
      " 6   adult_male_mortality_rate             0 non-null      float64\n",
      " 7   adult_female_mortality_rate           0 non-null      float64\n",
      " 8   pollution_mortality_rate              0 non-null      float64\n",
      " 9   comorbidity_mortality_rate            0 non-null      float64\n",
      " 10  hospital_beds_per_1000                0 non-null      float64\n",
      " 11  nurses_per_1000                       0 non-null      float64\n",
      " 12  physicians_per_1000                   0 non-null      float64\n",
      " 13  health_expenditure_usd                0 non-null      float64\n",
      " 14  out_of_pocket_health_expenditure_usd  0 non-null      float64\n",
      "dtypes: float64(13), int64(2)\n",
      "memory usage: 384.4+ KB\n",
      "\n",
      "---------------------------------------------------------------------------\n",
      "\n",
      "<class 'pandas.core.frame.DataFrame'>\n",
      "Index: 1624891 entries, US_AK to US_WY_56045\n",
      "Data columns (total 33 columns):\n",
      " #   Column                                         Non-Null Count    Dtype  \n",
      "---  ------                                         --------------    -----  \n",
      " 0   Unnamed: 0.1                                   1624891 non-null  int64  \n",
      " 1   Unnamed: 0                                     1624891 non-null  int64  \n",
      " 2   date                                           1624891 non-null  object \n",
      " 3   new_persons_vaccinated                         33325 non-null    float64\n",
      " 4   cumulative_persons_vaccinated                  33382 non-null    float64\n",
      " 5   new_persons_fully_vaccinated                   1621498 non-null  float64\n",
      " 6   cumulative_persons_fully_vaccinated            1624725 non-null  float64\n",
      " 7   new_vaccine_doses_administered                 33422 non-null    float64\n",
      " 8   cumulative_vaccine_doses_administered          33479 non-null    float64\n",
      " 9   new_persons_vaccinated_pfizer                  0 non-null        float64\n",
      " 10  cumulative_persons_vaccinated_pfizer           0 non-null        float64\n",
      " 11  new_persons_fully_vaccinated_pfizer            30352 non-null    float64\n",
      " 12  cumulative_persons_fully_vaccinated_pfizer     30408 non-null    float64\n",
      " 13  new_vaccine_doses_administered_pfizer          30352 non-null    float64\n",
      " 14  cumulative_vaccine_doses_administered_pfizer   30408 non-null    float64\n",
      " 15  new_persons_vaccinated_moderna                 0 non-null        float64\n",
      " 16  cumulative_persons_vaccinated_moderna          0 non-null        float64\n",
      " 17  new_persons_fully_vaccinated_moderna           30352 non-null    float64\n",
      " 18  cumulative_persons_fully_vaccinated_moderna    30408 non-null    float64\n",
      " 19  new_vaccine_doses_administered_moderna         30352 non-null    float64\n",
      " 20  cumulative_vaccine_doses_administered_moderna  30408 non-null    float64\n",
      " 21  new_persons_vaccinated_janssen                 0 non-null        float64\n",
      " 22  cumulative_persons_vaccinated_janssen          0 non-null        float64\n",
      " 23  new_persons_fully_vaccinated_janssen           30352 non-null    float64\n",
      " 24  cumulative_persons_fully_vaccinated_janssen    30408 non-null    float64\n",
      " 25  new_vaccine_doses_administered_janssen         30352 non-null    float64\n",
      " 26  cumulative_vaccine_doses_administered_janssen  30408 non-null    float64\n",
      " 27  new_persons_vaccinated_sinovac                 0 non-null        float64\n",
      " 28  total_persons_vaccinated_sinovac               0 non-null        float64\n",
      " 29  new_persons_fully_vaccinated_sinovac           0 non-null        float64\n",
      " 30  total_persons_fully_vaccinated_sinovac         0 non-null        float64\n",
      " 31  new_vaccine_doses_administered_sinovac         0 non-null        float64\n",
      " 32  total_vaccine_doses_administered_sinovac       0 non-null        float64\n",
      "dtypes: float64(30), int64(2), object(1)\n",
      "memory usage: 421.5+ MB\n",
      "\n",
      "---------------------------------------------------------------------------\n",
      "\n",
      "<class 'pandas.core.frame.DataFrame'>\n",
      "Index: 47299 entries, US_AK to US_WY\n",
      "Data columns (total 23 columns):\n",
      " #   Column                              Non-Null Count  Dtype  \n",
      "---  ------                              --------------  -----  \n",
      " 0   Unnamed: 0.1                        47299 non-null  int64  \n",
      " 1   Unnamed: 0                          47299 non-null  int64  \n",
      " 2   date                                47299 non-null  object \n",
      " 3   school_closing                      47298 non-null  float64\n",
      " 4   workplace_closing                   47299 non-null  float64\n",
      " 5   cancel_public_events                47299 non-null  float64\n",
      " 6   restrictions_on_gatherings          47299 non-null  float64\n",
      " 7   public_transport_closing            47291 non-null  float64\n",
      " 8   stay_at_home_requirements           47299 non-null  float64\n",
      " 9   restrictions_on_internal_movement   47293 non-null  float64\n",
      " 10  international_travel_controls       47284 non-null  float64\n",
      " 11  income_support                      47294 non-null  float64\n",
      " 12  debt_relief                         47249 non-null  float64\n",
      " 13  fiscal_measures                     12047 non-null  float64\n",
      " 14  international_support               11919 non-null  float64\n",
      " 15  public_information_campaigns        47296 non-null  float64\n",
      " 16  testing_policy                      47296 non-null  float64\n",
      " 17  contact_tracing                     47284 non-null  float64\n",
      " 18  emergency_investment_in_healthcare  11851 non-null  float64\n",
      " 19  investment_in_vaccines              13868 non-null  float64\n",
      " 20  facial_coverings                    47293 non-null  float64\n",
      " 21  vaccination_policy                  47289 non-null  float64\n",
      " 22  stringency_index                    47293 non-null  float64\n",
      "dtypes: float64(20), int64(2), object(1)\n",
      "memory usage: 8.7+ MB\n",
      "\n",
      "---------------------------------------------------------------------------\n",
      "\n",
      "<class 'pandas.core.frame.DataFrame'>\n",
      "Index: 3240613 entries, US_AK to US_WY_56045\n",
      "Data columns (total 10 columns):\n",
      " #   Column                       Dtype  \n",
      "---  ------                       -----  \n",
      " 0   Unnamed: 0.1                 int64  \n",
      " 1   Unnamed: 0                   int64  \n",
      " 2   date                         object \n",
      " 3   average_temperature_celsius  float64\n",
      " 4   minimum_temperature_celsius  float64\n",
      " 5   maximum_temperature_celsius  float64\n",
      " 6   rainfall_mm                  float64\n",
      " 7   snowfall_mm                  float64\n",
      " 8   dew_point                    float64\n",
      " 9   relative_humidity            float64\n",
      "dtypes: float64(7), int64(2), object(1)\n",
      "memory usage: 272.0+ MB\n",
      "\n",
      "---------------------------------------------------------------------------\n",
      "\n"
     ]
    }
   ],
   "source": [
    "# Display data information from US only datasets\n",
    "\n",
    "us_df_list = [us_index,\n",
    "           us_demographics,\n",
    "           us_epidemiology,\n",
    "           us_health,\n",
    "           us_vaccinations,\n",
    "           us_government_response,\n",
    "           us_weather]\n",
    "\n",
    "for df in us_df_list:\n",
    "    df.info()\n",
    "    print()\n",
    "    print('-'*75)\n",
    "    print()"
   ]
  },
  {
   "cell_type": "markdown",
   "id": "1c40145e-0cdc-46ed-9721-1a91af396f5d",
   "metadata": {},
   "source": [
    "## Drop unnecessary columns and rows, prepare datasets for merging"
   ]
  },
  {
   "cell_type": "markdown",
   "id": "0662f6be-6824-452e-a34f-d2a6d529ccfc",
   "metadata": {},
   "source": [
    "### Clean index dataset"
   ]
  },
  {
   "cell_type": "code",
   "execution_count": 79,
   "id": "8ba05521-a017-4fd4-8d1f-19fa54f735e8",
   "metadata": {},
   "outputs": [],
   "source": [
    "# Only keep data on US states by county, drop state level and US territory data\n",
    "\n",
    "us_index = us_index[us_index.subregion1_code.isin(['MP', 'PR', 'VI']) == False]\n",
    "us_index = us_index[['subregion2_name']].dropna()"
   ]
  },
  {
   "cell_type": "code",
   "execution_count": 80,
   "id": "36b5d6a4-4ca8-4ea6-9e71-44373e00d311",
   "metadata": {
    "tags": []
   },
   "outputs": [
    {
     "name": "stdout",
     "output_type": "stream",
     "text": [
      "<class 'pandas.core.frame.DataFrame'>\n",
      "Index: 3142 entries, US_AK_02013 to US_WY_56045\n",
      "Data columns (total 1 columns):\n",
      " #   Column           Non-Null Count  Dtype \n",
      "---  ------           --------------  ----- \n",
      " 0   subregion2_name  3142 non-null   object\n",
      "dtypes: object(1)\n",
      "memory usage: 49.1+ KB\n"
     ]
    }
   ],
   "source": [
    "us_index.info()"
   ]
  },
  {
   "cell_type": "code",
   "execution_count": 81,
   "id": "0c3eac3f-7076-4969-87c2-1a4cd6e461be",
   "metadata": {
    "tags": []
   },
   "outputs": [],
   "source": [
    "# Save index to merge data on for reference\n",
    "\n",
    "us_index.to_csv('../us_datasets/us_index_merge_on.csv')"
   ]
  },
  {
   "cell_type": "markdown",
   "id": "42a326e9-6bf8-4fab-b28d-9395dcfb9344",
   "metadata": {},
   "source": [
    "### Clean us_demographics dataset"
   ]
  },
  {
   "cell_type": "code",
   "execution_count": 124,
   "id": "5e699bcb-aba7-45c7-a9ea-b3ca16b6e3dc",
   "metadata": {
    "tags": []
   },
   "outputs": [],
   "source": [
    "us_demographics = pd.read_csv('../us_datasets/us_demographics.csv', index_col = 'location_key')"
   ]
  },
  {
   "cell_type": "code",
   "execution_count": 125,
   "id": "703633c3-a9e8-41fe-bbd6-031a3d9020da",
   "metadata": {
    "tags": []
   },
   "outputs": [
    {
     "name": "stdout",
     "output_type": "stream",
     "text": [
      "<class 'pandas.core.frame.DataFrame'>\n",
      "Index: 3284 entries, US_AK to US_WY_56045\n",
      "Data columns (total 20 columns):\n",
      " #   Column                       Non-Null Count  Dtype  \n",
      "---  ------                       --------------  -----  \n",
      " 0   Unnamed: 0.1                 3284 non-null   int64  \n",
      " 1   Unnamed: 0                   3284 non-null   int64  \n",
      " 2   population                   3284 non-null   float64\n",
      " 3   population_male              3202 non-null   float64\n",
      " 4   population_female            3202 non-null   float64\n",
      " 5   population_rural             0 non-null      float64\n",
      " 6   population_urban             0 non-null      float64\n",
      " 7   population_largest_city      0 non-null      float64\n",
      " 8   population_clustered         0 non-null      float64\n",
      " 9   population_density           0 non-null      float64\n",
      " 10  human_development_index      0 non-null      float64\n",
      " 11  population_age_00_09         3202 non-null   float64\n",
      " 12  population_age_10_19         3202 non-null   float64\n",
      " 13  population_age_20_29         3202 non-null   float64\n",
      " 14  population_age_30_39         3202 non-null   float64\n",
      " 15  population_age_40_49         3202 non-null   float64\n",
      " 16  population_age_50_59         3202 non-null   float64\n",
      " 17  population_age_60_69         3202 non-null   float64\n",
      " 18  population_age_70_79         3202 non-null   float64\n",
      " 19  population_age_80_and_older  3202 non-null   float64\n",
      "dtypes: float64(18), int64(2)\n",
      "memory usage: 538.8+ KB\n"
     ]
    }
   ],
   "source": [
    "# identify columns to drop\n",
    "\n",
    "us_demographics.info()"
   ]
  },
  {
   "cell_type": "code",
   "execution_count": 126,
   "id": "38b9479c-3fd0-4335-a116-45bf1b8963ff",
   "metadata": {
    "tags": []
   },
   "outputs": [],
   "source": [
    "# Drop empty and unnecessary columns\n",
    "\n",
    "us_demographics.drop(axis = 1, columns = ['Unnamed: 0.1',\n",
    "                                          'Unnamed: 0',\n",
    "                                          'population_rural', \n",
    "                                          'population_urban', \n",
    "                                          'population_largest_city', \n",
    "                                          'population_clustered', \n",
    "                                          'population_density', \n",
    "                                          'human_development_index'], \n",
    "                     inplace = True)"
   ]
  },
  {
   "cell_type": "code",
   "execution_count": 127,
   "id": "ea1dc86e-9c0d-4033-80a6-05f1b5b7cd7e",
   "metadata": {
    "tags": []
   },
   "outputs": [],
   "source": [
    "# Create population and sex ratios to attempt to de-correlate demographic data\n",
    "\n",
    "us_demographics['male_female_ratio'] = us_demographics['population_male'] / us_demographics['population']\n",
    "us_demographics['age_00_09_ratio'] = us_demographics['population_age_00_09'] / us_demographics['population']\n",
    "us_demographics['age_10_19_ratio'] = us_demographics['population_age_10_19'] / us_demographics['population']\n",
    "us_demographics['age_20_29_ratio'] = us_demographics['population_age_20_29'] / us_demographics['population']\n",
    "us_demographics['age_30_3_ratio'] = us_demographics['population_age_30_39'] / us_demographics['population']\n",
    "us_demographics['age_40_49_ratio'] = us_demographics['population_age_40_49'] / us_demographics['population']\n",
    "us_demographics['age_50_59_ratio'] = us_demographics['population_age_50_59'] / us_demographics['population']\n",
    "us_demographics['age_60_69_ratio'] = us_demographics['population_age_60_69'] / us_demographics['population']\n",
    "us_demographics['age_70_79_ratio'] = us_demographics['population_age_70_79'] / us_demographics['population']\n",
    "us_demographics['age_80_and_older_ratio'] = us_demographics['population_age_80_and_older'] / us_demographics['population']"
   ]
  },
  {
   "cell_type": "code",
   "execution_count": 128,
   "id": "674e03f5-ff59-471a-8025-e7573524e554",
   "metadata": {
    "tags": []
   },
   "outputs": [
    {
     "name": "stdout",
     "output_type": "stream",
     "text": [
      "<class 'pandas.core.frame.DataFrame'>\n",
      "Index: 3284 entries, US_AK to US_WY_56045\n",
      "Data columns (total 22 columns):\n",
      " #   Column                       Non-Null Count  Dtype  \n",
      "---  ------                       --------------  -----  \n",
      " 0   population                   3284 non-null   float64\n",
      " 1   population_male              3202 non-null   float64\n",
      " 2   population_female            3202 non-null   float64\n",
      " 3   population_age_00_09         3202 non-null   float64\n",
      " 4   population_age_10_19         3202 non-null   float64\n",
      " 5   population_age_20_29         3202 non-null   float64\n",
      " 6   population_age_30_39         3202 non-null   float64\n",
      " 7   population_age_40_49         3202 non-null   float64\n",
      " 8   population_age_50_59         3202 non-null   float64\n",
      " 9   population_age_60_69         3202 non-null   float64\n",
      " 10  population_age_70_79         3202 non-null   float64\n",
      " 11  population_age_80_and_older  3202 non-null   float64\n",
      " 12  male_female_ratio            3202 non-null   float64\n",
      " 13  age_00_09_ratio              3202 non-null   float64\n",
      " 14  age_10_19_ratio              3202 non-null   float64\n",
      " 15  age_20_29_ratio              3202 non-null   float64\n",
      " 16  age_30_3_ratio               3202 non-null   float64\n",
      " 17  age_40_49_ratio              3202 non-null   float64\n",
      " 18  age_50_59_ratio              3202 non-null   float64\n",
      " 19  age_60_69_ratio              3202 non-null   float64\n",
      " 20  age_70_79_ratio              3202 non-null   float64\n",
      " 21  age_80_and_older_ratio       3202 non-null   float64\n",
      "dtypes: float64(22)\n",
      "memory usage: 590.1+ KB\n"
     ]
    }
   ],
   "source": [
    "us_demographics.info()"
   ]
  },
  {
   "cell_type": "code",
   "execution_count": 87,
   "id": "ac66cbe0-d3c0-426e-9beb-0eba6ef20a10",
   "metadata": {
    "tags": []
   },
   "outputs": [],
   "source": [
    "# extract population column with location key index for later feature engineering\n",
    "\n",
    "df_population = us_demographics[['population']]"
   ]
  },
  {
   "cell_type": "markdown",
   "id": "b78a16b6-b69e-4033-9fde-e6bb2b098c56",
   "metadata": {},
   "source": [
    "### Clean us_health dataset"
   ]
  },
  {
   "cell_type": "code",
   "execution_count": 89,
   "id": "2a46ef97-3705-49ee-a78c-55e77c4076f2",
   "metadata": {
    "tags": []
   },
   "outputs": [
    {
     "name": "stdout",
     "output_type": "stream",
     "text": [
      "<class 'pandas.core.frame.DataFrame'>\n",
      "Index: 3075 entries, US_AK to US_WY_56045\n",
      "Data columns (total 15 columns):\n",
      " #   Column                                Non-Null Count  Dtype  \n",
      "---  ------                                --------------  -----  \n",
      " 0   Unnamed: 0.1                          3075 non-null   int64  \n",
      " 1   Unnamed: 0                            3075 non-null   int64  \n",
      " 2   life_expectancy                       3075 non-null   float64\n",
      " 3   smoking_prevalence                    0 non-null      float64\n",
      " 4   diabetes_prevalence                   0 non-null      float64\n",
      " 5   infant_mortality_rate                 0 non-null      float64\n",
      " 6   adult_male_mortality_rate             0 non-null      float64\n",
      " 7   adult_female_mortality_rate           0 non-null      float64\n",
      " 8   pollution_mortality_rate              0 non-null      float64\n",
      " 9   comorbidity_mortality_rate            0 non-null      float64\n",
      " 10  hospital_beds_per_1000                0 non-null      float64\n",
      " 11  nurses_per_1000                       0 non-null      float64\n",
      " 12  physicians_per_1000                   0 non-null      float64\n",
      " 13  health_expenditure_usd                0 non-null      float64\n",
      " 14  out_of_pocket_health_expenditure_usd  0 non-null      float64\n",
      "dtypes: float64(13), int64(2)\n",
      "memory usage: 384.4+ KB\n"
     ]
    }
   ],
   "source": [
    "# identify columns to drop\n",
    "\n",
    "us_health.info()"
   ]
  },
  {
   "cell_type": "code",
   "execution_count": 90,
   "id": "0a130234-7817-4a5c-bb95-c17683b26993",
   "metadata": {
    "tags": []
   },
   "outputs": [],
   "source": [
    "# life_expectancy only useful column in health dataset\n",
    "\n",
    "us_health = us_health[['life_expectancy']]"
   ]
  },
  {
   "cell_type": "markdown",
   "id": "e844c357-2388-4ff7-9b17-f330eb2bb3af",
   "metadata": {},
   "source": [
    "### Extract vaccination data from time based dataset for modeling and inferential analysis"
   ]
  },
  {
   "cell_type": "code",
   "execution_count": 91,
   "id": "d1d446c7-7ff3-40ad-8827-9a94848a14bc",
   "metadata": {
    "tags": []
   },
   "outputs": [
    {
     "name": "stdout",
     "output_type": "stream",
     "text": [
      "<class 'pandas.core.frame.DataFrame'>\n",
      "Index: 1624891 entries, US_AK to US_WY_56045\n",
      "Data columns (total 33 columns):\n",
      " #   Column                                         Non-Null Count    Dtype  \n",
      "---  ------                                         --------------    -----  \n",
      " 0   Unnamed: 0.1                                   1624891 non-null  int64  \n",
      " 1   Unnamed: 0                                     1624891 non-null  int64  \n",
      " 2   date                                           1624891 non-null  object \n",
      " 3   new_persons_vaccinated                         33325 non-null    float64\n",
      " 4   cumulative_persons_vaccinated                  33382 non-null    float64\n",
      " 5   new_persons_fully_vaccinated                   1621498 non-null  float64\n",
      " 6   cumulative_persons_fully_vaccinated            1624725 non-null  float64\n",
      " 7   new_vaccine_doses_administered                 33422 non-null    float64\n",
      " 8   cumulative_vaccine_doses_administered          33479 non-null    float64\n",
      " 9   new_persons_vaccinated_pfizer                  0 non-null        float64\n",
      " 10  cumulative_persons_vaccinated_pfizer           0 non-null        float64\n",
      " 11  new_persons_fully_vaccinated_pfizer            30352 non-null    float64\n",
      " 12  cumulative_persons_fully_vaccinated_pfizer     30408 non-null    float64\n",
      " 13  new_vaccine_doses_administered_pfizer          30352 non-null    float64\n",
      " 14  cumulative_vaccine_doses_administered_pfizer   30408 non-null    float64\n",
      " 15  new_persons_vaccinated_moderna                 0 non-null        float64\n",
      " 16  cumulative_persons_vaccinated_moderna          0 non-null        float64\n",
      " 17  new_persons_fully_vaccinated_moderna           30352 non-null    float64\n",
      " 18  cumulative_persons_fully_vaccinated_moderna    30408 non-null    float64\n",
      " 19  new_vaccine_doses_administered_moderna         30352 non-null    float64\n",
      " 20  cumulative_vaccine_doses_administered_moderna  30408 non-null    float64\n",
      " 21  new_persons_vaccinated_janssen                 0 non-null        float64\n",
      " 22  cumulative_persons_vaccinated_janssen          0 non-null        float64\n",
      " 23  new_persons_fully_vaccinated_janssen           30352 non-null    float64\n",
      " 24  cumulative_persons_fully_vaccinated_janssen    30408 non-null    float64\n",
      " 25  new_vaccine_doses_administered_janssen         30352 non-null    float64\n",
      " 26  cumulative_vaccine_doses_administered_janssen  30408 non-null    float64\n",
      " 27  new_persons_vaccinated_sinovac                 0 non-null        float64\n",
      " 28  total_persons_vaccinated_sinovac               0 non-null        float64\n",
      " 29  new_persons_fully_vaccinated_sinovac           0 non-null        float64\n",
      " 30  total_persons_fully_vaccinated_sinovac         0 non-null        float64\n",
      " 31  new_vaccine_doses_administered_sinovac         0 non-null        float64\n",
      " 32  total_vaccine_doses_administered_sinovac       0 non-null        float64\n",
      "dtypes: float64(30), int64(2), object(1)\n",
      "memory usage: 421.5+ MB\n"
     ]
    }
   ],
   "source": [
    "us_vaccinations.info()"
   ]
  },
  {
   "cell_type": "code",
   "execution_count": 92,
   "id": "8556612d-b172-480d-b3ae-97b20fc5b820",
   "metadata": {
    "tags": []
   },
   "outputs": [],
   "source": [
    "# Merge 2020 Census population to us_vaccination dataset \n",
    "\n",
    "us_vaccinations = us_vaccinations.join(df_population)"
   ]
  },
  {
   "cell_type": "code",
   "execution_count": 93,
   "id": "06840ce7-f9f7-4954-8e76-a1a7928bf818",
   "metadata": {
    "tags": []
   },
   "outputs": [],
   "source": [
    "# Normalize 'cumulative_persons_fully_vaccinated' with population by county data\n",
    "\n",
    "us_vaccinations['vax_pop_ratio'] = us_vaccinations['cumulative_persons_fully_vaccinated'] / us_vaccinations['population']"
   ]
  },
  {
   "cell_type": "code",
   "execution_count": 94,
   "id": "2d91970d-f93e-4b20-853f-409beb2b77fc",
   "metadata": {
    "tags": []
   },
   "outputs": [],
   "source": [
    "# first merge will not include vaccination data\n",
    "\n",
    "us_vaccinations_2 = us_vaccinations.loc[us_vaccinations.date == '2021-09-01', ['cumulative_persons_fully_vaccinated', 'vax_pop_ratio']]\n",
    "us_vaccinations_3 = us_vaccinations.loc[us_vaccinations.date == '2022-05-13', ['cumulative_persons_fully_vaccinated', 'vax_pop_ratio']]"
   ]
  },
  {
   "cell_type": "code",
   "execution_count": 95,
   "id": "03838596-f18e-4e36-9a5c-9eadb24aab93",
   "metadata": {
    "tags": []
   },
   "outputs": [
    {
     "name": "stdout",
     "output_type": "stream",
     "text": [
      "<class 'pandas.core.frame.DataFrame'>\n",
      "Index: 3278 entries, US_AK to US_WY_56045\n",
      "Data columns (total 2 columns):\n",
      " #   Column                               Non-Null Count  Dtype  \n",
      "---  ------                               --------------  -----  \n",
      " 0   cumulative_persons_fully_vaccinated  3278 non-null   float64\n",
      " 1   vax_pop_ratio                        3278 non-null   float64\n",
      "dtypes: float64(2)\n",
      "memory usage: 76.8+ KB\n"
     ]
    }
   ],
   "source": [
    "us_vaccinations_3.info()"
   ]
  },
  {
   "cell_type": "markdown",
   "id": "24e833aa-e41c-48d1-a092-7919dc5644c2",
   "metadata": {},
   "source": [
    "### Extract time series vaccination data for forecasting model"
   ]
  },
  {
   "cell_type": "code",
   "execution_count": 96,
   "id": "9d4eb0a3-5a3c-482e-acaf-1d380cdb1b58",
   "metadata": {
    "tags": []
   },
   "outputs": [],
   "source": [
    "# filter by desired time series (time frame where desired features and target has good data)\n",
    "\n",
    "us_vaccinations_ts = us_vaccinations.loc[(us_vaccinations.date > '2021-05-01') & (us_vaccinations.date < '2022-05-13')]"
   ]
  },
  {
   "cell_type": "code",
   "execution_count": 97,
   "id": "c1700863-f833-4503-a31c-9c501b03f852",
   "metadata": {
    "tags": []
   },
   "outputs": [
    {
     "name": "stdout",
     "output_type": "stream",
     "text": [
      "<class 'pandas.core.frame.DataFrame'>\n",
      "Index: 1232278 entries, US_AK to US_WY_56045\n",
      "Data columns (total 35 columns):\n",
      " #   Column                                         Non-Null Count    Dtype  \n",
      "---  ------                                         --------------    -----  \n",
      " 0   Unnamed: 0.1                                   1232278 non-null  int64  \n",
      " 1   Unnamed: 0                                     1232278 non-null  int64  \n",
      " 2   date                                           1232278 non-null  object \n",
      " 3   new_persons_vaccinated                         21056 non-null    float64\n",
      " 4   cumulative_persons_vaccinated                  21056 non-null    float64\n",
      " 5   new_persons_fully_vaccinated                   1232277 non-null  float64\n",
      " 6   cumulative_persons_fully_vaccinated            1232278 non-null  float64\n",
      " 7   new_vaccine_doses_administered                 21056 non-null    float64\n",
      " 8   cumulative_vaccine_doses_administered          21056 non-null    float64\n",
      " 9   new_persons_vaccinated_pfizer                  0 non-null        float64\n",
      " 10  cumulative_persons_vaccinated_pfizer           0 non-null        float64\n",
      " 11  new_persons_fully_vaccinated_pfizer            21056 non-null    float64\n",
      " 12  cumulative_persons_fully_vaccinated_pfizer     21056 non-null    float64\n",
      " 13  new_vaccine_doses_administered_pfizer          21056 non-null    float64\n",
      " 14  cumulative_vaccine_doses_administered_pfizer   21056 non-null    float64\n",
      " 15  new_persons_vaccinated_moderna                 0 non-null        float64\n",
      " 16  cumulative_persons_vaccinated_moderna          0 non-null        float64\n",
      " 17  new_persons_fully_vaccinated_moderna           21056 non-null    float64\n",
      " 18  cumulative_persons_fully_vaccinated_moderna    21056 non-null    float64\n",
      " 19  new_vaccine_doses_administered_moderna         21056 non-null    float64\n",
      " 20  cumulative_vaccine_doses_administered_moderna  21056 non-null    float64\n",
      " 21  new_persons_vaccinated_janssen                 0 non-null        float64\n",
      " 22  cumulative_persons_vaccinated_janssen          0 non-null        float64\n",
      " 23  new_persons_fully_vaccinated_janssen           21056 non-null    float64\n",
      " 24  cumulative_persons_fully_vaccinated_janssen    21056 non-null    float64\n",
      " 25  new_vaccine_doses_administered_janssen         21056 non-null    float64\n",
      " 26  cumulative_vaccine_doses_administered_janssen  21056 non-null    float64\n",
      " 27  new_persons_vaccinated_sinovac                 0 non-null        float64\n",
      " 28  total_persons_vaccinated_sinovac               0 non-null        float64\n",
      " 29  new_persons_fully_vaccinated_sinovac           0 non-null        float64\n",
      " 30  total_persons_fully_vaccinated_sinovac         0 non-null        float64\n",
      " 31  new_vaccine_doses_administered_sinovac         0 non-null        float64\n",
      " 32  total_vaccine_doses_administered_sinovac       0 non-null        float64\n",
      " 33  population                                     1232278 non-null  float64\n",
      " 34  vax_pop_ratio                                  1232278 non-null  float64\n",
      "dtypes: float64(32), int64(2), object(1)\n",
      "memory usage: 338.5+ MB\n"
     ]
    }
   ],
   "source": [
    "# check if more vax data available for desired timeframe\n",
    "\n",
    "us_vaccinations_ts.info()"
   ]
  },
  {
   "cell_type": "code",
   "execution_count": 98,
   "id": "a3332086-ef2e-414f-9d85-8141a1175d2c",
   "metadata": {
    "tags": []
   },
   "outputs": [],
   "source": [
    "# save dataframe for future v merging\n",
    "\n",
    "us_vaccinations_ts = us_vaccinations_ts[['date', 'cumulative_persons_fully_vaccinated', 'vax_pop_ratio']]"
   ]
  },
  {
   "cell_type": "markdown",
   "id": "782933c2-86f7-489e-8db8-fbf5ad01c4e9",
   "metadata": {},
   "source": [
    "### Extract government response data from time based dataset for modeling and inferential analysis"
   ]
  },
  {
   "cell_type": "code",
   "execution_count": 99,
   "id": "0c649156-dcd0-42a9-bf62-e9b68be9b56f",
   "metadata": {
    "tags": []
   },
   "outputs": [
    {
     "name": "stdout",
     "output_type": "stream",
     "text": [
      "<class 'pandas.core.frame.DataFrame'>\n",
      "Index: 47299 entries, US_AK to US_WY\n",
      "Data columns (total 23 columns):\n",
      " #   Column                              Non-Null Count  Dtype  \n",
      "---  ------                              --------------  -----  \n",
      " 0   Unnamed: 0.1                        47299 non-null  int64  \n",
      " 1   Unnamed: 0                          47299 non-null  int64  \n",
      " 2   date                                47299 non-null  object \n",
      " 3   school_closing                      47298 non-null  float64\n",
      " 4   workplace_closing                   47299 non-null  float64\n",
      " 5   cancel_public_events                47299 non-null  float64\n",
      " 6   restrictions_on_gatherings          47299 non-null  float64\n",
      " 7   public_transport_closing            47291 non-null  float64\n",
      " 8   stay_at_home_requirements           47299 non-null  float64\n",
      " 9   restrictions_on_internal_movement   47293 non-null  float64\n",
      " 10  international_travel_controls       47284 non-null  float64\n",
      " 11  income_support                      47294 non-null  float64\n",
      " 12  debt_relief                         47249 non-null  float64\n",
      " 13  fiscal_measures                     12047 non-null  float64\n",
      " 14  international_support               11919 non-null  float64\n",
      " 15  public_information_campaigns        47296 non-null  float64\n",
      " 16  testing_policy                      47296 non-null  float64\n",
      " 17  contact_tracing                     47284 non-null  float64\n",
      " 18  emergency_investment_in_healthcare  11851 non-null  float64\n",
      " 19  investment_in_vaccines              13868 non-null  float64\n",
      " 20  facial_coverings                    47293 non-null  float64\n",
      " 21  vaccination_policy                  47289 non-null  float64\n",
      " 22  stringency_index                    47293 non-null  float64\n",
      "dtypes: float64(20), int64(2), object(1)\n",
      "memory usage: 8.7+ MB\n"
     ]
    }
   ],
   "source": [
    "# see data quality\n",
    "\n",
    "us_government_response.info()"
   ]
  },
  {
   "cell_type": "code",
   "execution_count": 100,
   "id": "5cb28982-e226-4e90-96b6-4b7a7aa7f059",
   "metadata": {
    "tags": []
   },
   "outputs": [
    {
     "data": {
      "text/plain": [
       "'location_key'"
      ]
     },
     "execution_count": 100,
     "metadata": {},
     "output_type": "execute_result"
    }
   ],
   "source": [
    "# dataset location_key is by state, not county like the rest of the data.  Set the index as gr_key to merge on later\n",
    "\n",
    "us_government_response.index.name"
   ]
  },
  {
   "cell_type": "code",
   "execution_count": 101,
   "id": "af139a76-dce1-4b74-9343-322d21059023",
   "metadata": {
    "tags": []
   },
   "outputs": [],
   "source": [
    "us_government_response.index.name = 'gr_key'"
   ]
  },
  {
   "cell_type": "code",
   "execution_count": 102,
   "id": "892d4e41-e72e-484f-89cf-21400f694245",
   "metadata": {
    "tags": []
   },
   "outputs": [],
   "source": [
    "# Drop incomplete data rows and stringency index as its a combination of several other features\n",
    "\n",
    "us_government_response.drop(axis = 1, columns = ['Unnamed: 0.1',\n",
    "                                                 'Unnamed: 0',\n",
    "                                                 'fiscal_measures',\n",
    "                                                 'international_support',\n",
    "                                                 'emergency_investment_in_healthcare', \n",
    "                                                 'investment_in_vaccines',\n",
    "                                                 'stringency_index'\n",
    "                                                ], \n",
    "                            inplace = True)"
   ]
  },
  {
   "cell_type": "code",
   "execution_count": 103,
   "id": "2fbdea3f-71f2-4dff-9718-aa749877942d",
   "metadata": {
    "tags": []
   },
   "outputs": [],
   "source": [
    "# Create three us_government_response datasets for merging later\n",
    "\n",
    "us_government_response_1 = us_government_response.loc[us_government_response.date == '2021-01-01']\n",
    "us_government_response_2 = us_government_response.loc[us_government_response.date == '2021-09-01']\n",
    "us_government_response_3 = us_government_response.loc[us_government_response.date == '2022-05-13']"
   ]
  },
  {
   "cell_type": "code",
   "execution_count": 104,
   "id": "f15bd892-41d4-4e03-b7ac-013c5b179f3e",
   "metadata": {
    "tags": []
   },
   "outputs": [
    {
     "name": "stdout",
     "output_type": "stream",
     "text": [
      "<class 'pandas.core.frame.DataFrame'>\n",
      "Index: 51 entries, US_AK to US_WY\n",
      "Data columns (total 16 columns):\n",
      " #   Column                             Non-Null Count  Dtype  \n",
      "---  ------                             --------------  -----  \n",
      " 0   date                               51 non-null     object \n",
      " 1   school_closing                     51 non-null     float64\n",
      " 2   workplace_closing                  51 non-null     float64\n",
      " 3   cancel_public_events               51 non-null     float64\n",
      " 4   restrictions_on_gatherings         51 non-null     float64\n",
      " 5   public_transport_closing           51 non-null     float64\n",
      " 6   stay_at_home_requirements          51 non-null     float64\n",
      " 7   restrictions_on_internal_movement  51 non-null     float64\n",
      " 8   international_travel_controls      51 non-null     float64\n",
      " 9   income_support                     51 non-null     float64\n",
      " 10  debt_relief                        51 non-null     float64\n",
      " 11  public_information_campaigns       51 non-null     float64\n",
      " 12  testing_policy                     51 non-null     float64\n",
      " 13  contact_tracing                    51 non-null     float64\n",
      " 14  facial_coverings                   51 non-null     float64\n",
      " 15  vaccination_policy                 51 non-null     float64\n",
      "dtypes: float64(15), object(1)\n",
      "memory usage: 6.8+ KB\n"
     ]
    }
   ],
   "source": [
    "us_government_response_1.info()"
   ]
  },
  {
   "cell_type": "markdown",
   "id": "8edc8431-c8e5-4b44-b195-7335eba9ae59",
   "metadata": {},
   "source": [
    "### Extract time series government response data for forecasting model"
   ]
  },
  {
   "cell_type": "code",
   "execution_count": 105,
   "id": "840881af-f1cc-4e43-9ee8-8223d0f42bf1",
   "metadata": {
    "tags": []
   },
   "outputs": [],
   "source": [
    "# filter by desired time series (time frame where desired features and target has good data)\n",
    "\n",
    "us_government_response_ts = us_government_response.loc[(us_government_response.date > '2021-05-01') & (us_government_response.date < '2022-05-13')]"
   ]
  },
  {
   "cell_type": "code",
   "execution_count": 106,
   "id": "ba0f381a-42ae-4949-ad86-56cc42d52899",
   "metadata": {
    "tags": []
   },
   "outputs": [
    {
     "name": "stdout",
     "output_type": "stream",
     "text": [
      "<class 'pandas.core.frame.DataFrame'>\n",
      "Index: 19176 entries, US_AK to US_WY\n",
      "Data columns (total 16 columns):\n",
      " #   Column                             Non-Null Count  Dtype  \n",
      "---  ------                             --------------  -----  \n",
      " 0   date                               19176 non-null  object \n",
      " 1   school_closing                     19175 non-null  float64\n",
      " 2   workplace_closing                  19176 non-null  float64\n",
      " 3   cancel_public_events               19176 non-null  float64\n",
      " 4   restrictions_on_gatherings         19176 non-null  float64\n",
      " 5   public_transport_closing           19168 non-null  float64\n",
      " 6   stay_at_home_requirements          19176 non-null  float64\n",
      " 7   restrictions_on_internal_movement  19170 non-null  float64\n",
      " 8   international_travel_controls      19163 non-null  float64\n",
      " 9   income_support                     19176 non-null  float64\n",
      " 10  debt_relief                        19131 non-null  float64\n",
      " 11  public_information_campaigns       19173 non-null  float64\n",
      " 12  testing_policy                     19174 non-null  float64\n",
      " 13  contact_tracing                    19166 non-null  float64\n",
      " 14  facial_coverings                   19175 non-null  float64\n",
      " 15  vaccination_policy                 19172 non-null  float64\n",
      "dtypes: float64(15), object(1)\n",
      "memory usage: 2.5+ MB\n"
     ]
    }
   ],
   "source": [
    "# check if more vax data available for desired timeframe\n",
    "\n",
    "us_government_response_ts.info()"
   ]
  },
  {
   "cell_type": "markdown",
   "id": "b22fa9c5-6cfd-4125-96de-79dcd2138da3",
   "metadata": {},
   "source": [
    "### Extract weather data from time based dataset for modeling and inferential analysis"
   ]
  },
  {
   "cell_type": "code",
   "execution_count": 107,
   "id": "ea8471a9-c76b-4f5c-822f-47e4392f5c57",
   "metadata": {
    "tags": []
   },
   "outputs": [
    {
     "name": "stdout",
     "output_type": "stream",
     "text": [
      "<class 'pandas.core.frame.DataFrame'>\n",
      "Index: 3240613 entries, US_AK to US_WY_56045\n",
      "Data columns (total 10 columns):\n",
      " #   Column                       Dtype  \n",
      "---  ------                       -----  \n",
      " 0   Unnamed: 0.1                 int64  \n",
      " 1   Unnamed: 0                   int64  \n",
      " 2   date                         object \n",
      " 3   average_temperature_celsius  float64\n",
      " 4   minimum_temperature_celsius  float64\n",
      " 5   maximum_temperature_celsius  float64\n",
      " 6   rainfall_mm                  float64\n",
      " 7   snowfall_mm                  float64\n",
      " 8   dew_point                    float64\n",
      " 9   relative_humidity            float64\n",
      "dtypes: float64(7), int64(2), object(1)\n",
      "memory usage: 272.0+ MB\n"
     ]
    }
   ],
   "source": [
    "# see data quality\n",
    "\n",
    "us_weather.info()"
   ]
  },
  {
   "cell_type": "code",
   "execution_count": 108,
   "id": "e33d9c2c-fc48-46f1-809c-b6ae8d62bd92",
   "metadata": {
    "tags": []
   },
   "outputs": [],
   "source": [
    "# Create three weather datasets for merging later\n",
    "\n",
    "us_weather_1 = us_weather.loc[us_weather.date == '2021-01-01']\n",
    "us_weather_2 = us_weather.loc[us_weather.date == '2021-09-01']\n",
    "us_weather_3 = us_weather.loc[us_weather.date == '2022-05-13']"
   ]
  },
  {
   "cell_type": "code",
   "execution_count": 109,
   "id": "2b564169-4819-4140-8074-cec5c1729678",
   "metadata": {
    "tags": []
   },
   "outputs": [
    {
     "name": "stdout",
     "output_type": "stream",
     "text": [
      "<class 'pandas.core.frame.DataFrame'>\n",
      "Index: 3280 entries, US_AK to US_WY_56045\n",
      "Data columns (total 10 columns):\n",
      " #   Column                       Non-Null Count  Dtype  \n",
      "---  ------                       --------------  -----  \n",
      " 0   Unnamed: 0.1                 3280 non-null   int64  \n",
      " 1   Unnamed: 0                   3280 non-null   int64  \n",
      " 2   date                         3280 non-null   object \n",
      " 3   average_temperature_celsius  3280 non-null   float64\n",
      " 4   minimum_temperature_celsius  3280 non-null   float64\n",
      " 5   maximum_temperature_celsius  3280 non-null   float64\n",
      " 6   rainfall_mm                  3280 non-null   float64\n",
      " 7   snowfall_mm                  874 non-null    float64\n",
      " 8   dew_point                    3278 non-null   float64\n",
      " 9   relative_humidity            3278 non-null   float64\n",
      "dtypes: float64(7), int64(2), object(1)\n",
      "memory usage: 281.9+ KB\n"
     ]
    }
   ],
   "source": [
    "us_weather_1.info()"
   ]
  },
  {
   "cell_type": "code",
   "execution_count": 110,
   "id": "23c5a1ff-17d7-4103-9bd4-0743ffde5720",
   "metadata": {
    "tags": []
   },
   "outputs": [],
   "source": [
    "# Clean weather datasets, drop unnecessary index columns and set null snowfall cells to 0\n",
    "\n",
    "us_weather_1 = us_weather_1.drop(axis = 1, columns = ['Unnamed: 0.1','Unnamed: 0'])\n",
    "us_weather_2 = us_weather_2.drop(axis = 1, columns = ['Unnamed: 0.1','Unnamed: 0'])\n",
    "us_weather_3 = us_weather_3.drop(axis = 1, columns = ['Unnamed: 0.1','Unnamed: 0'])"
   ]
  },
  {
   "cell_type": "code",
   "execution_count": 111,
   "id": "c989d1cf-dfb1-49db-9110-8acb842396f2",
   "metadata": {
    "tags": []
   },
   "outputs": [],
   "source": [
    "us_weather_1.loc[(us_weather_1['snowfall_mm'].isnull()), ['snowfall_mm']] = 0\n",
    "us_weather_2.loc[(us_weather_2['snowfall_mm'].isnull()), ['snowfall_mm']] = 0\n",
    "us_weather_3.loc[(us_weather_3['snowfall_mm'].isnull()), ['snowfall_mm']] = 0"
   ]
  },
  {
   "cell_type": "markdown",
   "id": "fe529d43-c3a4-46c1-a27a-502d642a42e1",
   "metadata": {},
   "source": [
    "### Extract time series weather data for forecasting model"
   ]
  },
  {
   "cell_type": "code",
   "execution_count": 112,
   "id": "01bee07b-1999-45be-bc60-8f835e186898",
   "metadata": {
    "tags": []
   },
   "outputs": [],
   "source": [
    "# filter by desired time series (time frame where desired features and target has good data)\n",
    "\n",
    "us_weather_ts = us_weather.loc[(us_weather.date > '2021-05-01') & (us_weather.date < '2022-05-13')]"
   ]
  },
  {
   "cell_type": "code",
   "execution_count": 113,
   "id": "55c7efcb-58ba-494b-aea1-7c13f85901bb",
   "metadata": {
    "tags": []
   },
   "outputs": [
    {
     "name": "stdout",
     "output_type": "stream",
     "text": [
      "<class 'pandas.core.frame.DataFrame'>\n",
      "Index: 1233280 entries, US_AK to US_WY_56045\n",
      "Data columns (total 10 columns):\n",
      " #   Column                       Non-Null Count    Dtype  \n",
      "---  ------                       --------------    -----  \n",
      " 0   Unnamed: 0.1                 1233280 non-null  int64  \n",
      " 1   Unnamed: 0                   1233280 non-null  int64  \n",
      " 2   date                         1233280 non-null  object \n",
      " 3   average_temperature_celsius  1233280 non-null  float64\n",
      " 4   minimum_temperature_celsius  1233280 non-null  float64\n",
      " 5   maximum_temperature_celsius  1233228 non-null  float64\n",
      " 6   rainfall_mm                  1233275 non-null  float64\n",
      " 7   snowfall_mm                  83967 non-null    float64\n",
      " 8   dew_point                    1232487 non-null  float64\n",
      " 9   relative_humidity            1232487 non-null  float64\n",
      "dtypes: float64(7), int64(2), object(1)\n",
      "memory usage: 103.5+ MB\n"
     ]
    }
   ],
   "source": [
    "# check null count over desired timeframe\n",
    "\n",
    "us_weather_ts.info()"
   ]
  },
  {
   "cell_type": "code",
   "execution_count": 114,
   "id": "1f220e2b-6f11-4d60-9bba-4b0b05470d71",
   "metadata": {
    "tags": []
   },
   "outputs": [],
   "source": [
    "# save dataframe for future merging\n",
    "\n",
    "us_weather_ts = us_weather_ts[['date', 'average_temperature_celsius', 'rainfall_mm', 'snowfall_mm', 'relative_humidity']]\n",
    "us_weather_ts.loc[(us_weather_ts['snowfall_mm'].isnull()), ['snowfall_mm']] = 0"
   ]
  },
  {
   "cell_type": "markdown",
   "id": "7466dd99-812f-40d5-9b7d-f36ec4bf5a14",
   "metadata": {},
   "source": [
    "### Extract epidemiology from time based dataset for modeling and inferential analysis"
   ]
  },
  {
   "cell_type": "code",
   "execution_count": 115,
   "id": "4c87ecb9-b878-40b3-9705-8b8ca8f1b6a6",
   "metadata": {
    "tags": []
   },
   "outputs": [
    {
     "name": "stdout",
     "output_type": "stream",
     "text": [
      "<class 'pandas.core.frame.DataFrame'>\n",
      "Index: 2550043 entries, US_AK to US_WY_56045\n",
      "Data columns (total 11 columns):\n",
      " #   Column                Dtype  \n",
      "---  ------                -----  \n",
      " 0   Unnamed: 0.1          int64  \n",
      " 1   Unnamed: 0            int64  \n",
      " 2   date                  object \n",
      " 3   new_confirmed         float64\n",
      " 4   new_deceased          float64\n",
      " 5   new_recovered         float64\n",
      " 6   new_tested            float64\n",
      " 7   cumulative_confirmed  float64\n",
      " 8   cumulative_deceased   float64\n",
      " 9   cumulative_recovered  float64\n",
      " 10  cumulative_tested     float64\n",
      "dtypes: float64(8), int64(2), object(1)\n",
      "memory usage: 233.5+ MB\n"
     ]
    }
   ],
   "source": [
    "# View data quality\n",
    "\n",
    "us_epidemiology.info()"
   ]
  },
  {
   "cell_type": "code",
   "execution_count": 116,
   "id": "da461c21-52ce-4358-8b27-945b885dd70b",
   "metadata": {
    "tags": []
   },
   "outputs": [],
   "source": [
    "# Merge 2020 Census population to us_epidemiology dataset \n",
    "\n",
    "us_epidemiology = us_epidemiology.join(df_population)"
   ]
  },
  {
   "cell_type": "code",
   "execution_count": 117,
   "id": "33bd6bad-d010-4f0c-8569-cc850a248449",
   "metadata": {
    "tags": []
   },
   "outputs": [],
   "source": [
    "# Normalize 'cumulative_persons_fully_vaccinated' with population by county data\n",
    "\n",
    "us_epidemiology['cov_confirmed_pop_ratio'] = us_epidemiology['cumulative_confirmed'] / us_epidemiology['population']\n",
    "us_epidemiology['deceased_pop_ratio'] = us_epidemiology['cumulative_deceased'] / us_epidemiology['population']"
   ]
  },
  {
   "cell_type": "code",
   "execution_count": 118,
   "id": "ffcef5d0-2cd8-4cbb-93b7-aa4332cacaa7",
   "metadata": {
    "tags": []
   },
   "outputs": [],
   "source": [
    "# Create three epidemiology datasets for merging later\n",
    "\n",
    "us_epidemiology_1 = us_epidemiology.loc[us_epidemiology.date == '2021-01-01', ['new_confirmed', 'new_deceased', 'cumulative_confirmed', \n",
    "                                                                               'cumulative_deceased', 'cov_confirmed_pop_ratio', 'deceased_pop_ratio']]\n",
    "us_epidemiology_2 = us_epidemiology.loc[us_epidemiology.date == '2021-09-01', ['new_confirmed', 'new_deceased', 'cumulative_confirmed', \n",
    "                                                                               'cumulative_deceased', 'cov_confirmed_pop_ratio', 'deceased_pop_ratio']]\n",
    "us_epidemiology_3 = us_epidemiology.loc[us_epidemiology.date == '2022-05-13', ['new_confirmed', 'new_deceased', 'cumulative_confirmed', \n",
    "                                                                               'cumulative_deceased', 'cov_confirmed_pop_ratio', 'deceased_pop_ratio']]"
   ]
  },
  {
   "cell_type": "code",
   "execution_count": 119,
   "id": "a1e74b98-1fd3-4f6c-ae8b-a6566b3ddeba",
   "metadata": {
    "tags": []
   },
   "outputs": [
    {
     "name": "stdout",
     "output_type": "stream",
     "text": [
      "<class 'pandas.core.frame.DataFrame'>\n",
      "Index: 3280 entries, US_AK to US_WY_56045\n",
      "Data columns (total 6 columns):\n",
      " #   Column                   Non-Null Count  Dtype  \n",
      "---  ------                   --------------  -----  \n",
      " 0   new_confirmed            3280 non-null   float64\n",
      " 1   new_deceased             3201 non-null   float64\n",
      " 2   cumulative_confirmed     3280 non-null   float64\n",
      " 3   cumulative_deceased      3201 non-null   float64\n",
      " 4   cov_confirmed_pop_ratio  3280 non-null   float64\n",
      " 5   deceased_pop_ratio       3201 non-null   float64\n",
      "dtypes: float64(6)\n",
      "memory usage: 179.4+ KB\n"
     ]
    }
   ],
   "source": [
    "# Use this cell to find last day for good epidemiology data\n",
    "\n",
    "us_epidemiology_3 = us_epidemiology.loc[us_epidemiology.date == '2022-05-13', ['new_confirmed', 'new_deceased', 'cumulative_confirmed', \n",
    "                                                                               'cumulative_deceased', 'cov_confirmed_pop_ratio', 'deceased_pop_ratio']]\n",
    "us_epidemiology_3.info()"
   ]
  },
  {
   "cell_type": "markdown",
   "id": "1455a303-eeb2-4c1a-9c9f-ca2f1439fd85",
   "metadata": {},
   "source": [
    "### Extract time series epidemiology data for forecasting model"
   ]
  },
  {
   "cell_type": "code",
   "execution_count": 120,
   "id": "9138eb81-2f8c-4521-9184-7c4684f90b06",
   "metadata": {
    "tags": []
   },
   "outputs": [],
   "source": [
    "# filter by desired time series (time frame where desired features and target has good data)\n",
    "\n",
    "us_epidemiology_ts = us_epidemiology.loc[(us_epidemiology.date > '2021-05-01') & (us_epidemiology.date < '2022-05-13')]"
   ]
  },
  {
   "cell_type": "code",
   "execution_count": 121,
   "id": "e534531e-8dac-44b8-82ca-c676d62af4bf",
   "metadata": {
    "tags": []
   },
   "outputs": [
    {
     "name": "stdout",
     "output_type": "stream",
     "text": [
      "<class 'pandas.core.frame.DataFrame'>\n",
      "Index: 1233280 entries, US_AK to US_WY_56045\n",
      "Data columns (total 14 columns):\n",
      " #   Column                   Non-Null Count    Dtype  \n",
      "---  ------                   --------------    -----  \n",
      " 0   Unnamed: 0.1             1233280 non-null  int64  \n",
      " 1   Unnamed: 0               1233280 non-null  int64  \n",
      " 2   date                     1233280 non-null  object \n",
      " 3   new_confirmed            1233280 non-null  float64\n",
      " 4   new_deceased             1203576 non-null  float64\n",
      " 5   new_recovered            219 non-null      float64\n",
      " 6   new_tested               973 non-null      float64\n",
      " 7   cumulative_confirmed     1233280 non-null  float64\n",
      " 8   cumulative_deceased      1203576 non-null  float64\n",
      " 9   cumulative_recovered     219 non-null      float64\n",
      " 10  cumulative_tested        973 non-null      float64\n",
      " 11  population               1233280 non-null  float64\n",
      " 12  cov_confirmed_pop_ratio  1233280 non-null  float64\n",
      " 13  deceased_pop_ratio       1203576 non-null  float64\n",
      "dtypes: float64(11), int64(2), object(1)\n",
      "memory usage: 141.1+ MB\n"
     ]
    }
   ],
   "source": [
    "us_epidemiology_ts.info()"
   ]
  },
  {
   "cell_type": "code",
   "execution_count": 122,
   "id": "9b083282-f8a3-419f-9673-dfe25849810c",
   "metadata": {
    "tags": []
   },
   "outputs": [],
   "source": [
    "# Save datafram for future merging\n",
    "\n",
    "us_epidemiology_ts = us_epidemiology_ts[['date', 'cumulative_confirmed', 'cov_confirmed_pop_ratio']]"
   ]
  },
  {
   "cell_type": "markdown",
   "id": "4d8ae8d1-1451-4830-a4b4-26fed0651713",
   "metadata": {},
   "source": [
    "## Merge datasets"
   ]
  },
  {
   "cell_type": "markdown",
   "id": "53f140b5-6d83-429f-8771-9346657d4302",
   "metadata": {},
   "source": [
    "### Merge first set of datasets 2021-01-01"
   ]
  },
  {
   "cell_type": "code",
   "execution_count": 153,
   "id": "6826ad18-c172-4d82-85ac-83e2ce8acc6b",
   "metadata": {},
   "outputs": [],
   "source": [
    "# concat county level datasets \n",
    "# merge us_government_response on previously created 'gr_key' to assign state level response values to respective counties\n",
    "\n",
    "merged_1 = pd.concat([us_index, us_demographics, us_health, us_weather_1, us_epidemiology_1], axis = 1, join = 'inner')\n",
    "merged_1['gr_key'] = merged_1.index.str[:5]\n",
    "merged_1 = pd.merge(us_government_response_1, merged_1, how = 'right', on = 'gr_key')"
   ]
  },
  {
   "cell_type": "code",
   "execution_count": 154,
   "id": "65ade811-9eb4-4d80-9d76-ed0e67a62980",
   "metadata": {
    "tags": []
   },
   "outputs": [
    {
     "name": "stdout",
     "output_type": "stream",
     "text": [
      "<class 'pandas.core.frame.DataFrame'>\n",
      "RangeIndex: 3014 entries, 0 to 3013\n",
      "Data columns (total 55 columns):\n",
      " #   Column                             Non-Null Count  Dtype  \n",
      "---  ------                             --------------  -----  \n",
      " 0   gr_key                             3014 non-null   object \n",
      " 1   date_x                             3014 non-null   object \n",
      " 2   school_closing                     3014 non-null   float64\n",
      " 3   workplace_closing                  3014 non-null   float64\n",
      " 4   cancel_public_events               3014 non-null   float64\n",
      " 5   restrictions_on_gatherings         3014 non-null   float64\n",
      " 6   public_transport_closing           3014 non-null   float64\n",
      " 7   stay_at_home_requirements          3014 non-null   float64\n",
      " 8   restrictions_on_internal_movement  3014 non-null   float64\n",
      " 9   international_travel_controls      3014 non-null   float64\n",
      " 10  income_support                     3014 non-null   float64\n",
      " 11  debt_relief                        3014 non-null   float64\n",
      " 12  public_information_campaigns       3014 non-null   float64\n",
      " 13  testing_policy                     3014 non-null   float64\n",
      " 14  contact_tracing                    3014 non-null   float64\n",
      " 15  facial_coverings                   3014 non-null   float64\n",
      " 16  vaccination_policy                 3014 non-null   float64\n",
      " 17  subregion2_name                    3014 non-null   object \n",
      " 18  population                         3014 non-null   float64\n",
      " 19  population_male                    3014 non-null   float64\n",
      " 20  population_female                  3014 non-null   float64\n",
      " 21  population_age_00_09               3014 non-null   float64\n",
      " 22  population_age_10_19               3014 non-null   float64\n",
      " 23  population_age_20_29               3014 non-null   float64\n",
      " 24  population_age_30_39               3014 non-null   float64\n",
      " 25  population_age_40_49               3014 non-null   float64\n",
      " 26  population_age_50_59               3014 non-null   float64\n",
      " 27  population_age_60_69               3014 non-null   float64\n",
      " 28  population_age_70_79               3014 non-null   float64\n",
      " 29  population_age_80_and_older        3014 non-null   float64\n",
      " 30  male_female_ratio                  3014 non-null   float64\n",
      " 31  age_00_09_ratio                    3014 non-null   float64\n",
      " 32  age_10_19_ratio                    3014 non-null   float64\n",
      " 33  age_20_29_ratio                    3014 non-null   float64\n",
      " 34  age_30_3_ratio                     3014 non-null   float64\n",
      " 35  age_40_49_ratio                    3014 non-null   float64\n",
      " 36  age_50_59_ratio                    3014 non-null   float64\n",
      " 37  age_60_69_ratio                    3014 non-null   float64\n",
      " 38  age_70_79_ratio                    3014 non-null   float64\n",
      " 39  age_80_and_older_ratio             3014 non-null   float64\n",
      " 40  life_expectancy                    3014 non-null   float64\n",
      " 41  date_y                             3014 non-null   object \n",
      " 42  average_temperature_celsius        3014 non-null   float64\n",
      " 43  minimum_temperature_celsius        3014 non-null   float64\n",
      " 44  maximum_temperature_celsius        3014 non-null   float64\n",
      " 45  rainfall_mm                        3014 non-null   float64\n",
      " 46  snowfall_mm                        3014 non-null   float64\n",
      " 47  dew_point                          3013 non-null   float64\n",
      " 48  relative_humidity                  3013 non-null   float64\n",
      " 49  new_confirmed                      3014 non-null   float64\n",
      " 50  new_deceased                       3014 non-null   float64\n",
      " 51  cumulative_confirmed               3014 non-null   float64\n",
      " 52  cumulative_deceased                3014 non-null   float64\n",
      " 53  cov_confirmed_pop_ratio            3014 non-null   float64\n",
      " 54  deceased_pop_ratio                 3014 non-null   float64\n",
      "dtypes: float64(51), object(4)\n",
      "memory usage: 1.3+ MB\n"
     ]
    }
   ],
   "source": [
    "merged_1.info()"
   ]
  },
  {
   "cell_type": "code",
   "execution_count": 155,
   "id": "2acc11e5-14f1-4bfc-b065-3a18a5872d6d",
   "metadata": {
    "tags": []
   },
   "outputs": [],
   "source": [
    "# Create merged dataset with ratio demographic values to compare with raw data\n",
    "\n",
    "merged_1_ratio = merged_1.drop(axis = 1, columns = ['subregion2_name','date_x','minimum_temperature_celsius','maximum_temperature_celsius',\n",
    "                                                    'relative_humidity','gr_key', 'date_y', 'population','population_male', 'population_female',\n",
    "                                                    'population_age_00_09','population_age_10_19','population_age_20_29','population_age_30_39', \n",
    "                                                    'population_age_40_49','population_age_50_59','population_age_60_69','population_age_70_79',\n",
    "                                                    'population_age_80_and_older'\n",
    "                                                   ])\n",
    "merged_1_ratio.dropna(inplace = True)"
   ]
  },
  {
   "cell_type": "code",
   "execution_count": 156,
   "id": "622f2d2e-76c6-4c50-bb7a-38fd185fdb33",
   "metadata": {
    "tags": []
   },
   "outputs": [
    {
     "name": "stdout",
     "output_type": "stream",
     "text": [
      "<class 'pandas.core.frame.DataFrame'>\n",
      "Index: 3013 entries, 0 to 3013\n",
      "Data columns (total 36 columns):\n",
      " #   Column                             Non-Null Count  Dtype  \n",
      "---  ------                             --------------  -----  \n",
      " 0   school_closing                     3013 non-null   float64\n",
      " 1   workplace_closing                  3013 non-null   float64\n",
      " 2   cancel_public_events               3013 non-null   float64\n",
      " 3   restrictions_on_gatherings         3013 non-null   float64\n",
      " 4   public_transport_closing           3013 non-null   float64\n",
      " 5   stay_at_home_requirements          3013 non-null   float64\n",
      " 6   restrictions_on_internal_movement  3013 non-null   float64\n",
      " 7   international_travel_controls      3013 non-null   float64\n",
      " 8   income_support                     3013 non-null   float64\n",
      " 9   debt_relief                        3013 non-null   float64\n",
      " 10  public_information_campaigns       3013 non-null   float64\n",
      " 11  testing_policy                     3013 non-null   float64\n",
      " 12  contact_tracing                    3013 non-null   float64\n",
      " 13  facial_coverings                   3013 non-null   float64\n",
      " 14  vaccination_policy                 3013 non-null   float64\n",
      " 15  male_female_ratio                  3013 non-null   float64\n",
      " 16  age_00_09_ratio                    3013 non-null   float64\n",
      " 17  age_10_19_ratio                    3013 non-null   float64\n",
      " 18  age_20_29_ratio                    3013 non-null   float64\n",
      " 19  age_30_3_ratio                     3013 non-null   float64\n",
      " 20  age_40_49_ratio                    3013 non-null   float64\n",
      " 21  age_50_59_ratio                    3013 non-null   float64\n",
      " 22  age_60_69_ratio                    3013 non-null   float64\n",
      " 23  age_70_79_ratio                    3013 non-null   float64\n",
      " 24  age_80_and_older_ratio             3013 non-null   float64\n",
      " 25  life_expectancy                    3013 non-null   float64\n",
      " 26  average_temperature_celsius        3013 non-null   float64\n",
      " 27  rainfall_mm                        3013 non-null   float64\n",
      " 28  snowfall_mm                        3013 non-null   float64\n",
      " 29  dew_point                          3013 non-null   float64\n",
      " 30  new_confirmed                      3013 non-null   float64\n",
      " 31  new_deceased                       3013 non-null   float64\n",
      " 32  cumulative_confirmed               3013 non-null   float64\n",
      " 33  cumulative_deceased                3013 non-null   float64\n",
      " 34  cov_confirmed_pop_ratio            3013 non-null   float64\n",
      " 35  deceased_pop_ratio                 3013 non-null   float64\n",
      "dtypes: float64(36)\n",
      "memory usage: 870.9 KB\n"
     ]
    }
   ],
   "source": [
    "# Double check columns\n",
    "\n",
    "merged_1_ratio.info()"
   ]
  },
  {
   "cell_type": "code",
   "execution_count": 157,
   "id": "ba459f15-f7a5-4995-ab2d-d99eb7172806",
   "metadata": {
    "tags": []
   },
   "outputs": [],
   "source": [
    "# Drop unnecessary and redudant columns, drop ratio features, then dropna()\n",
    "\n",
    "merged_1.drop(axis = 1, columns = ['subregion2_name','date_x','minimum_temperature_celsius','maximum_temperature_celsius','relative_humidity',\n",
    "                                   'gr_key', 'date_y','male_female_ratio','age_00_09_ratio','age_10_19_ratio','age_20_29_ratio','age_30_3_ratio',\n",
    "                                   'age_40_49_ratio','age_50_59_ratio','age_60_69_ratio','age_70_79_ratio','age_80_and_older_ratio','cov_confirmed_pop_ratio',\n",
    "                                   'deceased_pop_ratio'\n",
    "                                  ],\n",
    "              inplace = True)\n",
    "\n",
    "merged_1.dropna(inplace = True)"
   ]
  },
  {
   "cell_type": "code",
   "execution_count": 158,
   "id": "71681259-7a59-44f6-9d0c-462b3cb812ed",
   "metadata": {
    "tags": []
   },
   "outputs": [
    {
     "name": "stdout",
     "output_type": "stream",
     "text": [
      "<class 'pandas.core.frame.DataFrame'>\n",
      "Index: 3013 entries, 0 to 3013\n",
      "Data columns (total 36 columns):\n",
      " #   Column                             Non-Null Count  Dtype  \n",
      "---  ------                             --------------  -----  \n",
      " 0   school_closing                     3013 non-null   float64\n",
      " 1   workplace_closing                  3013 non-null   float64\n",
      " 2   cancel_public_events               3013 non-null   float64\n",
      " 3   restrictions_on_gatherings         3013 non-null   float64\n",
      " 4   public_transport_closing           3013 non-null   float64\n",
      " 5   stay_at_home_requirements          3013 non-null   float64\n",
      " 6   restrictions_on_internal_movement  3013 non-null   float64\n",
      " 7   international_travel_controls      3013 non-null   float64\n",
      " 8   income_support                     3013 non-null   float64\n",
      " 9   debt_relief                        3013 non-null   float64\n",
      " 10  public_information_campaigns       3013 non-null   float64\n",
      " 11  testing_policy                     3013 non-null   float64\n",
      " 12  contact_tracing                    3013 non-null   float64\n",
      " 13  facial_coverings                   3013 non-null   float64\n",
      " 14  vaccination_policy                 3013 non-null   float64\n",
      " 15  population                         3013 non-null   float64\n",
      " 16  population_male                    3013 non-null   float64\n",
      " 17  population_female                  3013 non-null   float64\n",
      " 18  population_age_00_09               3013 non-null   float64\n",
      " 19  population_age_10_19               3013 non-null   float64\n",
      " 20  population_age_20_29               3013 non-null   float64\n",
      " 21  population_age_30_39               3013 non-null   float64\n",
      " 22  population_age_40_49               3013 non-null   float64\n",
      " 23  population_age_50_59               3013 non-null   float64\n",
      " 24  population_age_60_69               3013 non-null   float64\n",
      " 25  population_age_70_79               3013 non-null   float64\n",
      " 26  population_age_80_and_older        3013 non-null   float64\n",
      " 27  life_expectancy                    3013 non-null   float64\n",
      " 28  average_temperature_celsius        3013 non-null   float64\n",
      " 29  rainfall_mm                        3013 non-null   float64\n",
      " 30  snowfall_mm                        3013 non-null   float64\n",
      " 31  dew_point                          3013 non-null   float64\n",
      " 32  new_confirmed                      3013 non-null   float64\n",
      " 33  new_deceased                       3013 non-null   float64\n",
      " 34  cumulative_confirmed               3013 non-null   float64\n",
      " 35  cumulative_deceased                3013 non-null   float64\n",
      "dtypes: float64(36)\n",
      "memory usage: 870.9 KB\n"
     ]
    }
   ],
   "source": [
    "# Double check columns\n",
    "\n",
    "merged_1.info()"
   ]
  },
  {
   "cell_type": "code",
   "execution_count": 159,
   "id": "a579582e-07e3-4e8f-854c-eb281dbd091b",
   "metadata": {
    "tags": []
   },
   "outputs": [],
   "source": [
    "# save merged_1 for future use\n",
    "\n",
    "merged_1_ratio.to_csv('../us_datasets/merged_1_ratio.csv')"
   ]
  },
  {
   "cell_type": "code",
   "execution_count": 160,
   "id": "4d2780cd-0971-4f78-9ea7-14f0c23d4ba8",
   "metadata": {
    "tags": []
   },
   "outputs": [],
   "source": [
    "# save merged_1 for future use\n",
    "\n",
    "merged_1.to_csv('../us_datasets/merged_1.csv')"
   ]
  },
  {
   "cell_type": "markdown",
   "id": "585cc42e-482d-477b-92d7-931c5d5a1f23",
   "metadata": {},
   "source": [
    "### Merge second set of datasets 2021-09-01"
   ]
  },
  {
   "cell_type": "code",
   "execution_count": 172,
   "id": "9f001e3d-c07d-4ada-8a90-31366d25cf9b",
   "metadata": {
    "tags": []
   },
   "outputs": [],
   "source": [
    "# concat county level datasets \n",
    "# merge us_government_response on previously created 'gr_key' to assign state level response values to respective counties\n",
    "\n",
    "merged_2 = pd.concat([us_index, us_demographics, us_health, us_vaccinations_2, us_weather_2, us_epidemiology_1], axis = 1, join = 'inner')\n",
    "merged_2['gr_key'] = merged_2.index.str[:5]\n",
    "merged_2 = pd.merge(us_government_response_2, merged_2, how = 'right', on = 'gr_key')"
   ]
  },
  {
   "cell_type": "code",
   "execution_count": 173,
   "id": "c828e1d5-449b-4953-a822-171ae05ca6b2",
   "metadata": {
    "tags": []
   },
   "outputs": [
    {
     "name": "stdout",
     "output_type": "stream",
     "text": [
      "<class 'pandas.core.frame.DataFrame'>\n",
      "RangeIndex: 3013 entries, 0 to 3012\n",
      "Data columns (total 57 columns):\n",
      " #   Column                               Non-Null Count  Dtype  \n",
      "---  ------                               --------------  -----  \n",
      " 0   gr_key                               3013 non-null   object \n",
      " 1   date_x                               3013 non-null   object \n",
      " 2   school_closing                       3013 non-null   float64\n",
      " 3   workplace_closing                    3013 non-null   float64\n",
      " 4   cancel_public_events                 3013 non-null   float64\n",
      " 5   restrictions_on_gatherings           3013 non-null   float64\n",
      " 6   public_transport_closing             3013 non-null   float64\n",
      " 7   stay_at_home_requirements            3013 non-null   float64\n",
      " 8   restrictions_on_internal_movement    3013 non-null   float64\n",
      " 9   international_travel_controls        3013 non-null   float64\n",
      " 10  income_support                       3013 non-null   float64\n",
      " 11  debt_relief                          3013 non-null   float64\n",
      " 12  public_information_campaigns         3013 non-null   float64\n",
      " 13  testing_policy                       3013 non-null   float64\n",
      " 14  contact_tracing                      3013 non-null   float64\n",
      " 15  facial_coverings                     3013 non-null   float64\n",
      " 16  vaccination_policy                   3013 non-null   float64\n",
      " 17  subregion2_name                      3013 non-null   object \n",
      " 18  population                           3013 non-null   float64\n",
      " 19  population_male                      3013 non-null   float64\n",
      " 20  population_female                    3013 non-null   float64\n",
      " 21  population_age_00_09                 3013 non-null   float64\n",
      " 22  population_age_10_19                 3013 non-null   float64\n",
      " 23  population_age_20_29                 3013 non-null   float64\n",
      " 24  population_age_30_39                 3013 non-null   float64\n",
      " 25  population_age_40_49                 3013 non-null   float64\n",
      " 26  population_age_50_59                 3013 non-null   float64\n",
      " 27  population_age_60_69                 3013 non-null   float64\n",
      " 28  population_age_70_79                 3013 non-null   float64\n",
      " 29  population_age_80_and_older          3013 non-null   float64\n",
      " 30  male_female_ratio                    3013 non-null   float64\n",
      " 31  age_00_09_ratio                      3013 non-null   float64\n",
      " 32  age_10_19_ratio                      3013 non-null   float64\n",
      " 33  age_20_29_ratio                      3013 non-null   float64\n",
      " 34  age_30_3_ratio                       3013 non-null   float64\n",
      " 35  age_40_49_ratio                      3013 non-null   float64\n",
      " 36  age_50_59_ratio                      3013 non-null   float64\n",
      " 37  age_60_69_ratio                      3013 non-null   float64\n",
      " 38  age_70_79_ratio                      3013 non-null   float64\n",
      " 39  age_80_and_older_ratio               3013 non-null   float64\n",
      " 40  life_expectancy                      3013 non-null   float64\n",
      " 41  cumulative_persons_fully_vaccinated  3013 non-null   float64\n",
      " 42  vax_pop_ratio                        3013 non-null   float64\n",
      " 43  date_y                               3013 non-null   object \n",
      " 44  average_temperature_celsius          3013 non-null   float64\n",
      " 45  minimum_temperature_celsius          3013 non-null   float64\n",
      " 46  maximum_temperature_celsius          3013 non-null   float64\n",
      " 47  rainfall_mm                          3013 non-null   float64\n",
      " 48  snowfall_mm                          3013 non-null   float64\n",
      " 49  dew_point                            3012 non-null   float64\n",
      " 50  relative_humidity                    3012 non-null   float64\n",
      " 51  new_confirmed                        3013 non-null   float64\n",
      " 52  new_deceased                         3013 non-null   float64\n",
      " 53  cumulative_confirmed                 3013 non-null   float64\n",
      " 54  cumulative_deceased                  3013 non-null   float64\n",
      " 55  cov_confirmed_pop_ratio              3013 non-null   float64\n",
      " 56  deceased_pop_ratio                   3013 non-null   float64\n",
      "dtypes: float64(53), object(4)\n",
      "memory usage: 1.3+ MB\n"
     ]
    }
   ],
   "source": [
    "merged_2.info()"
   ]
  },
  {
   "cell_type": "code",
   "execution_count": 174,
   "id": "6f2dbebe-a42f-4cc8-b213-f3836f88c2be",
   "metadata": {
    "tags": []
   },
   "outputs": [],
   "source": [
    "# Drop unnecessary and redudant columns, ratio columns, then dropna()\n",
    "\n",
    "merged_2.drop(axis = 1, columns = ['subregion2_name','date_x','minimum_temperature_celsius','maximum_temperature_celsius','relative_humidity','gr_key', \n",
    "                                   'date_y','male_female_ratio','age_00_09_ratio','age_10_19_ratio','age_20_29_ratio','age_30_3_ratio',\n",
    "                                   'age_40_49_ratio','age_50_59_ratio','age_60_69_ratio','age_70_79_ratio','age_80_and_older_ratio', 'vax_pop_ratio',\n",
    "                                   'cov_confirmed_pop_ratio','deceased_pop_ratio'\n",
    "                                  ],\n",
    "              inplace = True)\n",
    "\n",
    "merged_2.dropna(inplace = True)"
   ]
  },
  {
   "cell_type": "code",
   "execution_count": 175,
   "id": "7e0f5164-966e-4740-8dff-ec6a62fd2d12",
   "metadata": {
    "tags": []
   },
   "outputs": [
    {
     "name": "stdout",
     "output_type": "stream",
     "text": [
      "<class 'pandas.core.frame.DataFrame'>\n",
      "Index: 3012 entries, 0 to 3012\n",
      "Data columns (total 37 columns):\n",
      " #   Column                               Non-Null Count  Dtype  \n",
      "---  ------                               --------------  -----  \n",
      " 0   school_closing                       3012 non-null   float64\n",
      " 1   workplace_closing                    3012 non-null   float64\n",
      " 2   cancel_public_events                 3012 non-null   float64\n",
      " 3   restrictions_on_gatherings           3012 non-null   float64\n",
      " 4   public_transport_closing             3012 non-null   float64\n",
      " 5   stay_at_home_requirements            3012 non-null   float64\n",
      " 6   restrictions_on_internal_movement    3012 non-null   float64\n",
      " 7   international_travel_controls        3012 non-null   float64\n",
      " 8   income_support                       3012 non-null   float64\n",
      " 9   debt_relief                          3012 non-null   float64\n",
      " 10  public_information_campaigns         3012 non-null   float64\n",
      " 11  testing_policy                       3012 non-null   float64\n",
      " 12  contact_tracing                      3012 non-null   float64\n",
      " 13  facial_coverings                     3012 non-null   float64\n",
      " 14  vaccination_policy                   3012 non-null   float64\n",
      " 15  population                           3012 non-null   float64\n",
      " 16  population_male                      3012 non-null   float64\n",
      " 17  population_female                    3012 non-null   float64\n",
      " 18  population_age_00_09                 3012 non-null   float64\n",
      " 19  population_age_10_19                 3012 non-null   float64\n",
      " 20  population_age_20_29                 3012 non-null   float64\n",
      " 21  population_age_30_39                 3012 non-null   float64\n",
      " 22  population_age_40_49                 3012 non-null   float64\n",
      " 23  population_age_50_59                 3012 non-null   float64\n",
      " 24  population_age_60_69                 3012 non-null   float64\n",
      " 25  population_age_70_79                 3012 non-null   float64\n",
      " 26  population_age_80_and_older          3012 non-null   float64\n",
      " 27  life_expectancy                      3012 non-null   float64\n",
      " 28  cumulative_persons_fully_vaccinated  3012 non-null   float64\n",
      " 29  average_temperature_celsius          3012 non-null   float64\n",
      " 30  rainfall_mm                          3012 non-null   float64\n",
      " 31  snowfall_mm                          3012 non-null   float64\n",
      " 32  dew_point                            3012 non-null   float64\n",
      " 33  new_confirmed                        3012 non-null   float64\n",
      " 34  new_deceased                         3012 non-null   float64\n",
      " 35  cumulative_confirmed                 3012 non-null   float64\n",
      " 36  cumulative_deceased                  3012 non-null   float64\n",
      "dtypes: float64(37)\n",
      "memory usage: 894.2 KB\n"
     ]
    }
   ],
   "source": [
    "merged_2.info()"
   ]
  },
  {
   "cell_type": "code",
   "execution_count": 176,
   "id": "26c8d939-19c6-4df6-948d-3ae375da1cb9",
   "metadata": {
    "tags": []
   },
   "outputs": [],
   "source": [
    "# save merged_2 for future use\n",
    "\n",
    "merged_2.to_csv('../us_datasets/merged_2.csv')"
   ]
  },
  {
   "cell_type": "markdown",
   "id": "837a127c-3b3c-4f70-bf9d-c994779d6e09",
   "metadata": {},
   "source": [
    "### Merge third set of datasets 2022-05-13"
   ]
  },
  {
   "cell_type": "code",
   "execution_count": 177,
   "id": "fcab2a56-2fdb-49fa-b506-b036ef015b03",
   "metadata": {
    "tags": []
   },
   "outputs": [],
   "source": [
    "# concat county level datasets \n",
    "# merge us_government_response on previously created 'gr_key' to assign state level response values to respective counties\n",
    "\n",
    "merged_3 = pd.concat([us_index, us_demographics, us_health, us_vaccinations_3, us_weather_3, us_epidemiology_3], axis = 1, join = 'inner')\n",
    "merged_3['gr_key'] = merged_3.index.str[:5]\n",
    "merged_3 = pd.merge(us_government_response_3, merged_3, how = 'right', on = 'gr_key')"
   ]
  },
  {
   "cell_type": "code",
   "execution_count": 178,
   "id": "6e2e58bf-2067-4ee5-b2b2-0729274a530c",
   "metadata": {
    "tags": []
   },
   "outputs": [
    {
     "name": "stdout",
     "output_type": "stream",
     "text": [
      "<class 'pandas.core.frame.DataFrame'>\n",
      "RangeIndex: 3014 entries, 0 to 3013\n",
      "Data columns (total 57 columns):\n",
      " #   Column                               Non-Null Count  Dtype  \n",
      "---  ------                               --------------  -----  \n",
      " 0   gr_key                               3014 non-null   object \n",
      " 1   date_x                               3014 non-null   object \n",
      " 2   school_closing                       3014 non-null   float64\n",
      " 3   workplace_closing                    3014 non-null   float64\n",
      " 4   cancel_public_events                 3014 non-null   float64\n",
      " 5   restrictions_on_gatherings           3014 non-null   float64\n",
      " 6   public_transport_closing             3014 non-null   float64\n",
      " 7   stay_at_home_requirements            3014 non-null   float64\n",
      " 8   restrictions_on_internal_movement    3014 non-null   float64\n",
      " 9   international_travel_controls        3014 non-null   float64\n",
      " 10  income_support                       3014 non-null   float64\n",
      " 11  debt_relief                          3014 non-null   float64\n",
      " 12  public_information_campaigns         3014 non-null   float64\n",
      " 13  testing_policy                       3014 non-null   float64\n",
      " 14  contact_tracing                      3014 non-null   float64\n",
      " 15  facial_coverings                     3014 non-null   float64\n",
      " 16  vaccination_policy                   3014 non-null   float64\n",
      " 17  subregion2_name                      3014 non-null   object \n",
      " 18  population                           3014 non-null   float64\n",
      " 19  population_male                      3014 non-null   float64\n",
      " 20  population_female                    3014 non-null   float64\n",
      " 21  population_age_00_09                 3014 non-null   float64\n",
      " 22  population_age_10_19                 3014 non-null   float64\n",
      " 23  population_age_20_29                 3014 non-null   float64\n",
      " 24  population_age_30_39                 3014 non-null   float64\n",
      " 25  population_age_40_49                 3014 non-null   float64\n",
      " 26  population_age_50_59                 3014 non-null   float64\n",
      " 27  population_age_60_69                 3014 non-null   float64\n",
      " 28  population_age_70_79                 3014 non-null   float64\n",
      " 29  population_age_80_and_older          3014 non-null   float64\n",
      " 30  male_female_ratio                    3014 non-null   float64\n",
      " 31  age_00_09_ratio                      3014 non-null   float64\n",
      " 32  age_10_19_ratio                      3014 non-null   float64\n",
      " 33  age_20_29_ratio                      3014 non-null   float64\n",
      " 34  age_30_3_ratio                       3014 non-null   float64\n",
      " 35  age_40_49_ratio                      3014 non-null   float64\n",
      " 36  age_50_59_ratio                      3014 non-null   float64\n",
      " 37  age_60_69_ratio                      3014 non-null   float64\n",
      " 38  age_70_79_ratio                      3014 non-null   float64\n",
      " 39  age_80_and_older_ratio               3014 non-null   float64\n",
      " 40  life_expectancy                      3014 non-null   float64\n",
      " 41  cumulative_persons_fully_vaccinated  3014 non-null   float64\n",
      " 42  vax_pop_ratio                        3014 non-null   float64\n",
      " 43  date_y                               3014 non-null   object \n",
      " 44  average_temperature_celsius          3014 non-null   float64\n",
      " 45  minimum_temperature_celsius          3014 non-null   float64\n",
      " 46  maximum_temperature_celsius          3014 non-null   float64\n",
      " 47  rainfall_mm                          3014 non-null   float64\n",
      " 48  snowfall_mm                          3014 non-null   float64\n",
      " 49  dew_point                            3013 non-null   float64\n",
      " 50  relative_humidity                    3013 non-null   float64\n",
      " 51  new_confirmed                        3014 non-null   float64\n",
      " 52  new_deceased                         3014 non-null   float64\n",
      " 53  cumulative_confirmed                 3014 non-null   float64\n",
      " 54  cumulative_deceased                  3014 non-null   float64\n",
      " 55  cov_confirmed_pop_ratio              3014 non-null   float64\n",
      " 56  deceased_pop_ratio                   3014 non-null   float64\n",
      "dtypes: float64(53), object(4)\n",
      "memory usage: 1.3+ MB\n"
     ]
    }
   ],
   "source": [
    "merged_3.info()"
   ]
  },
  {
   "cell_type": "code",
   "execution_count": 179,
   "id": "053f6328-6fd6-4651-b69a-abcce7a896b6",
   "metadata": {
    "tags": []
   },
   "outputs": [],
   "source": [
    "# Drop unnecessary and redudant columns then dropna()\n",
    "\n",
    "merged_3.drop(axis = 1, columns = ['subregion2_name','date_x','minimum_temperature_celsius','maximum_temperature_celsius','relative_humidity','gr_key', \n",
    "                                   'date_y','male_female_ratio','age_00_09_ratio','age_10_19_ratio','age_20_29_ratio','age_30_3_ratio',\n",
    "                                   'age_40_49_ratio','age_50_59_ratio','age_60_69_ratio','age_70_79_ratio','age_80_and_older_ratio', 'vax_pop_ratio',\n",
    "                                   'cov_confirmed_pop_ratio','deceased_pop_ratio'\n",
    "                                  ],\n",
    "              inplace = True)\n",
    "\n",
    "merged_3.dropna(inplace = True)"
   ]
  },
  {
   "cell_type": "code",
   "execution_count": 180,
   "id": "4606c0f2-efae-4de4-be18-f8b2e07f98ee",
   "metadata": {
    "tags": []
   },
   "outputs": [
    {
     "name": "stdout",
     "output_type": "stream",
     "text": [
      "<class 'pandas.core.frame.DataFrame'>\n",
      "Index: 3013 entries, 0 to 3013\n",
      "Data columns (total 37 columns):\n",
      " #   Column                               Non-Null Count  Dtype  \n",
      "---  ------                               --------------  -----  \n",
      " 0   school_closing                       3013 non-null   float64\n",
      " 1   workplace_closing                    3013 non-null   float64\n",
      " 2   cancel_public_events                 3013 non-null   float64\n",
      " 3   restrictions_on_gatherings           3013 non-null   float64\n",
      " 4   public_transport_closing             3013 non-null   float64\n",
      " 5   stay_at_home_requirements            3013 non-null   float64\n",
      " 6   restrictions_on_internal_movement    3013 non-null   float64\n",
      " 7   international_travel_controls        3013 non-null   float64\n",
      " 8   income_support                       3013 non-null   float64\n",
      " 9   debt_relief                          3013 non-null   float64\n",
      " 10  public_information_campaigns         3013 non-null   float64\n",
      " 11  testing_policy                       3013 non-null   float64\n",
      " 12  contact_tracing                      3013 non-null   float64\n",
      " 13  facial_coverings                     3013 non-null   float64\n",
      " 14  vaccination_policy                   3013 non-null   float64\n",
      " 15  population                           3013 non-null   float64\n",
      " 16  population_male                      3013 non-null   float64\n",
      " 17  population_female                    3013 non-null   float64\n",
      " 18  population_age_00_09                 3013 non-null   float64\n",
      " 19  population_age_10_19                 3013 non-null   float64\n",
      " 20  population_age_20_29                 3013 non-null   float64\n",
      " 21  population_age_30_39                 3013 non-null   float64\n",
      " 22  population_age_40_49                 3013 non-null   float64\n",
      " 23  population_age_50_59                 3013 non-null   float64\n",
      " 24  population_age_60_69                 3013 non-null   float64\n",
      " 25  population_age_70_79                 3013 non-null   float64\n",
      " 26  population_age_80_and_older          3013 non-null   float64\n",
      " 27  life_expectancy                      3013 non-null   float64\n",
      " 28  cumulative_persons_fully_vaccinated  3013 non-null   float64\n",
      " 29  average_temperature_celsius          3013 non-null   float64\n",
      " 30  rainfall_mm                          3013 non-null   float64\n",
      " 31  snowfall_mm                          3013 non-null   float64\n",
      " 32  dew_point                            3013 non-null   float64\n",
      " 33  new_confirmed                        3013 non-null   float64\n",
      " 34  new_deceased                         3013 non-null   float64\n",
      " 35  cumulative_confirmed                 3013 non-null   float64\n",
      " 36  cumulative_deceased                  3013 non-null   float64\n",
      "dtypes: float64(37)\n",
      "memory usage: 894.5 KB\n"
     ]
    }
   ],
   "source": [
    "merged_3.info()"
   ]
  },
  {
   "cell_type": "code",
   "execution_count": 181,
   "id": "4a099b4b-18b8-4c45-b344-9d240113da6c",
   "metadata": {
    "tags": []
   },
   "outputs": [],
   "source": [
    "# Save merged_3 for future use\n",
    "\n",
    "merged_3.to_csv('../us_datasets/merged_3.csv')"
   ]
  },
  {
   "cell_type": "markdown",
   "id": "c06572e7-6a91-4367-9ed6-438189528478",
   "metadata": {},
   "source": [
    "### Merge forecasting time series dataset "
   ]
  },
  {
   "cell_type": "code",
   "execution_count": 183,
   "id": "aa4202ff-18ee-42de-92b4-938dc2cf5311",
   "metadata": {
    "tags": []
   },
   "outputs": [],
   "source": [
    "# merge Census data\n",
    "\n",
    "temp1 = pd.concat([us_index, us_demographics, us_health], axis = 1, join = 'inner')"
   ]
  },
  {
   "cell_type": "code",
   "execution_count": 184,
   "id": "b2e24647-ee14-4473-97f5-527b0e6a78f9",
   "metadata": {
    "tags": []
   },
   "outputs": [
    {
     "data": {
      "text/html": [
       "<div>\n",
       "<style scoped>\n",
       "    .dataframe tbody tr th:only-of-type {\n",
       "        vertical-align: middle;\n",
       "    }\n",
       "\n",
       "    .dataframe tbody tr th {\n",
       "        vertical-align: top;\n",
       "    }\n",
       "\n",
       "    .dataframe thead th {\n",
       "        text-align: right;\n",
       "    }\n",
       "</style>\n",
       "<table border=\"1\" class=\"dataframe\">\n",
       "  <thead>\n",
       "    <tr style=\"text-align: right;\">\n",
       "      <th></th>\n",
       "      <th>subregion2_name</th>\n",
       "      <th>population</th>\n",
       "      <th>population_male</th>\n",
       "      <th>population_female</th>\n",
       "      <th>population_age_00_09</th>\n",
       "      <th>population_age_10_19</th>\n",
       "      <th>population_age_20_29</th>\n",
       "      <th>population_age_30_39</th>\n",
       "      <th>population_age_40_49</th>\n",
       "      <th>population_age_50_59</th>\n",
       "      <th>...</th>\n",
       "      <th>age_00_09_ratio</th>\n",
       "      <th>age_10_19_ratio</th>\n",
       "      <th>age_20_29_ratio</th>\n",
       "      <th>age_30_3_ratio</th>\n",
       "      <th>age_40_49_ratio</th>\n",
       "      <th>age_50_59_ratio</th>\n",
       "      <th>age_60_69_ratio</th>\n",
       "      <th>age_70_79_ratio</th>\n",
       "      <th>age_80_and_older_ratio</th>\n",
       "      <th>life_expectancy</th>\n",
       "    </tr>\n",
       "    <tr>\n",
       "      <th>location_key</th>\n",
       "      <th></th>\n",
       "      <th></th>\n",
       "      <th></th>\n",
       "      <th></th>\n",
       "      <th></th>\n",
       "      <th></th>\n",
       "      <th></th>\n",
       "      <th></th>\n",
       "      <th></th>\n",
       "      <th></th>\n",
       "      <th></th>\n",
       "      <th></th>\n",
       "      <th></th>\n",
       "      <th></th>\n",
       "      <th></th>\n",
       "      <th></th>\n",
       "      <th></th>\n",
       "      <th></th>\n",
       "      <th></th>\n",
       "      <th></th>\n",
       "      <th></th>\n",
       "    </tr>\n",
       "  </thead>\n",
       "  <tbody>\n",
       "    <tr>\n",
       "      <th>US_AK_02013</th>\n",
       "      <td>Aleutians East</td>\n",
       "      <td>3455.0</td>\n",
       "      <td>2345.0</td>\n",
       "      <td>1110.0</td>\n",
       "      <td>178.0</td>\n",
       "      <td>165.0</td>\n",
       "      <td>571.0</td>\n",
       "      <td>532.0</td>\n",
       "      <td>792.0</td>\n",
       "      <td>696.0</td>\n",
       "      <td>...</td>\n",
       "      <td>0.051520</td>\n",
       "      <td>0.047757</td>\n",
       "      <td>0.165268</td>\n",
       "      <td>0.153980</td>\n",
       "      <td>0.229233</td>\n",
       "      <td>0.201447</td>\n",
       "      <td>0.092909</td>\n",
       "      <td>0.045152</td>\n",
       "      <td>0.012735</td>\n",
       "      <td>86.900000</td>\n",
       "    </tr>\n",
       "    <tr>\n",
       "      <th>US_AK_02016</th>\n",
       "      <td>Aleutians West</td>\n",
       "      <td>5729.0</td>\n",
       "      <td>3795.0</td>\n",
       "      <td>1934.0</td>\n",
       "      <td>359.0</td>\n",
       "      <td>400.0</td>\n",
       "      <td>951.0</td>\n",
       "      <td>957.0</td>\n",
       "      <td>1149.0</td>\n",
       "      <td>1146.0</td>\n",
       "      <td>...</td>\n",
       "      <td>0.062664</td>\n",
       "      <td>0.069820</td>\n",
       "      <td>0.165998</td>\n",
       "      <td>0.167045</td>\n",
       "      <td>0.200559</td>\n",
       "      <td>0.200035</td>\n",
       "      <td>0.108570</td>\n",
       "      <td>0.020597</td>\n",
       "      <td>0.004713</td>\n",
       "      <td>77.750000</td>\n",
       "    </tr>\n",
       "    <tr>\n",
       "      <th>US_AK_02020</th>\n",
       "      <td>Anchorage Municipality</td>\n",
       "      <td>294338.0</td>\n",
       "      <td>149817.0</td>\n",
       "      <td>144521.0</td>\n",
       "      <td>41514.0</td>\n",
       "      <td>37461.0</td>\n",
       "      <td>49984.0</td>\n",
       "      <td>45570.0</td>\n",
       "      <td>35093.0</td>\n",
       "      <td>37143.0</td>\n",
       "      <td>...</td>\n",
       "      <td>0.141042</td>\n",
       "      <td>0.127272</td>\n",
       "      <td>0.169818</td>\n",
       "      <td>0.154822</td>\n",
       "      <td>0.119227</td>\n",
       "      <td>0.126192</td>\n",
       "      <td>0.098292</td>\n",
       "      <td>0.043783</td>\n",
       "      <td>0.019552</td>\n",
       "      <td>78.034694</td>\n",
       "    </tr>\n",
       "    <tr>\n",
       "      <th>US_AK_02050</th>\n",
       "      <td>Bethel</td>\n",
       "      <td>18090.0</td>\n",
       "      <td>9369.0</td>\n",
       "      <td>8721.0</td>\n",
       "      <td>3888.0</td>\n",
       "      <td>3211.0</td>\n",
       "      <td>2833.0</td>\n",
       "      <td>2294.0</td>\n",
       "      <td>1682.0</td>\n",
       "      <td>2053.0</td>\n",
       "      <td>...</td>\n",
       "      <td>0.214925</td>\n",
       "      <td>0.177501</td>\n",
       "      <td>0.156606</td>\n",
       "      <td>0.126810</td>\n",
       "      <td>0.092980</td>\n",
       "      <td>0.113488</td>\n",
       "      <td>0.076175</td>\n",
       "      <td>0.031399</td>\n",
       "      <td>0.010116</td>\n",
       "      <td>78.733333</td>\n",
       "    </tr>\n",
       "    <tr>\n",
       "      <th>US_AK_02060</th>\n",
       "      <td>Bristol Bay</td>\n",
       "      <td>869.0</td>\n",
       "      <td>463.0</td>\n",
       "      <td>406.0</td>\n",
       "      <td>97.0</td>\n",
       "      <td>82.0</td>\n",
       "      <td>127.0</td>\n",
       "      <td>109.0</td>\n",
       "      <td>99.0</td>\n",
       "      <td>163.0</td>\n",
       "      <td>...</td>\n",
       "      <td>0.111623</td>\n",
       "      <td>0.094361</td>\n",
       "      <td>0.146145</td>\n",
       "      <td>0.125432</td>\n",
       "      <td>0.113924</td>\n",
       "      <td>0.187572</td>\n",
       "      <td>0.138090</td>\n",
       "      <td>0.055236</td>\n",
       "      <td>0.027618</td>\n",
       "      <td>79.900000</td>\n",
       "    </tr>\n",
       "  </tbody>\n",
       "</table>\n",
       "<p>5 rows × 24 columns</p>\n",
       "</div>"
      ],
      "text/plain": [
       "                     subregion2_name  population  population_male  \\\n",
       "location_key                                                        \n",
       "US_AK_02013           Aleutians East      3455.0           2345.0   \n",
       "US_AK_02016           Aleutians West      5729.0           3795.0   \n",
       "US_AK_02020   Anchorage Municipality    294338.0         149817.0   \n",
       "US_AK_02050                   Bethel     18090.0           9369.0   \n",
       "US_AK_02060              Bristol Bay       869.0            463.0   \n",
       "\n",
       "              population_female  population_age_00_09  population_age_10_19  \\\n",
       "location_key                                                                  \n",
       "US_AK_02013              1110.0                 178.0                 165.0   \n",
       "US_AK_02016              1934.0                 359.0                 400.0   \n",
       "US_AK_02020            144521.0               41514.0               37461.0   \n",
       "US_AK_02050              8721.0                3888.0                3211.0   \n",
       "US_AK_02060               406.0                  97.0                  82.0   \n",
       "\n",
       "              population_age_20_29  population_age_30_39  \\\n",
       "location_key                                               \n",
       "US_AK_02013                  571.0                 532.0   \n",
       "US_AK_02016                  951.0                 957.0   \n",
       "US_AK_02020                49984.0               45570.0   \n",
       "US_AK_02050                 2833.0                2294.0   \n",
       "US_AK_02060                  127.0                 109.0   \n",
       "\n",
       "              population_age_40_49  population_age_50_59  ...  \\\n",
       "location_key                                              ...   \n",
       "US_AK_02013                  792.0                 696.0  ...   \n",
       "US_AK_02016                 1149.0                1146.0  ...   \n",
       "US_AK_02020                35093.0               37143.0  ...   \n",
       "US_AK_02050                 1682.0                2053.0  ...   \n",
       "US_AK_02060                   99.0                 163.0  ...   \n",
       "\n",
       "              age_00_09_ratio  age_10_19_ratio  age_20_29_ratio  \\\n",
       "location_key                                                      \n",
       "US_AK_02013          0.051520         0.047757         0.165268   \n",
       "US_AK_02016          0.062664         0.069820         0.165998   \n",
       "US_AK_02020          0.141042         0.127272         0.169818   \n",
       "US_AK_02050          0.214925         0.177501         0.156606   \n",
       "US_AK_02060          0.111623         0.094361         0.146145   \n",
       "\n",
       "              age_30_3_ratio  age_40_49_ratio  age_50_59_ratio  \\\n",
       "location_key                                                     \n",
       "US_AK_02013         0.153980         0.229233         0.201447   \n",
       "US_AK_02016         0.167045         0.200559         0.200035   \n",
       "US_AK_02020         0.154822         0.119227         0.126192   \n",
       "US_AK_02050         0.126810         0.092980         0.113488   \n",
       "US_AK_02060         0.125432         0.113924         0.187572   \n",
       "\n",
       "              age_60_69_ratio  age_70_79_ratio  age_80_and_older_ratio  \\\n",
       "location_key                                                             \n",
       "US_AK_02013          0.092909         0.045152                0.012735   \n",
       "US_AK_02016          0.108570         0.020597                0.004713   \n",
       "US_AK_02020          0.098292         0.043783                0.019552   \n",
       "US_AK_02050          0.076175         0.031399                0.010116   \n",
       "US_AK_02060          0.138090         0.055236                0.027618   \n",
       "\n",
       "              life_expectancy  \n",
       "location_key                   \n",
       "US_AK_02013         86.900000  \n",
       "US_AK_02016         77.750000  \n",
       "US_AK_02020         78.034694  \n",
       "US_AK_02050         78.733333  \n",
       "US_AK_02060         79.900000  \n",
       "\n",
       "[5 rows x 24 columns]"
      ]
     },
     "execution_count": 184,
     "metadata": {},
     "output_type": "execute_result"
    }
   ],
   "source": [
    "# check merge\n",
    "\n",
    "temp1.head(5)"
   ]
  },
  {
   "cell_type": "code",
   "execution_count": 185,
   "id": "057bb539-9e2d-445e-a598-3804a2db6a64",
   "metadata": {
    "tags": []
   },
   "outputs": [],
   "source": [
    "# Reset index to include date for merging\n",
    "\n",
    "us_vaccinations_ts.set_index('date', append = True, inplace = True)\n",
    "us_weather_ts.set_index('date', append = True, inplace = True)\n",
    "us_epidemiology_ts.set_index('date', append = True, inplace = True)"
   ]
  },
  {
   "cell_type": "code",
   "execution_count": 186,
   "id": "9540ca78-090e-40d3-b4e8-04d2ffaf6a17",
   "metadata": {
    "tags": []
   },
   "outputs": [],
   "source": [
    "# merge time based datasets together on the location_key date multi-index\n",
    "\n",
    "temp2 = pd.concat([us_vaccinations_ts, us_weather_ts, us_epidemiology_ts], axis = 1, join = 'inner')"
   ]
  },
  {
   "cell_type": "code",
   "execution_count": 187,
   "id": "fbff96f0-b7e6-4789-910c-f3c85424fc77",
   "metadata": {
    "tags": []
   },
   "outputs": [
    {
     "data": {
      "text/html": [
       "<div>\n",
       "<style scoped>\n",
       "    .dataframe tbody tr th:only-of-type {\n",
       "        vertical-align: middle;\n",
       "    }\n",
       "\n",
       "    .dataframe tbody tr th {\n",
       "        vertical-align: top;\n",
       "    }\n",
       "\n",
       "    .dataframe thead th {\n",
       "        text-align: right;\n",
       "    }\n",
       "</style>\n",
       "<table border=\"1\" class=\"dataframe\">\n",
       "  <thead>\n",
       "    <tr style=\"text-align: right;\">\n",
       "      <th></th>\n",
       "      <th></th>\n",
       "      <th>cumulative_persons_fully_vaccinated</th>\n",
       "      <th>vax_pop_ratio</th>\n",
       "      <th>average_temperature_celsius</th>\n",
       "      <th>rainfall_mm</th>\n",
       "      <th>snowfall_mm</th>\n",
       "      <th>relative_humidity</th>\n",
       "      <th>cumulative_confirmed</th>\n",
       "      <th>cov_confirmed_pop_ratio</th>\n",
       "    </tr>\n",
       "    <tr>\n",
       "      <th>location_key</th>\n",
       "      <th>date</th>\n",
       "      <th></th>\n",
       "      <th></th>\n",
       "      <th></th>\n",
       "      <th></th>\n",
       "      <th></th>\n",
       "      <th></th>\n",
       "      <th></th>\n",
       "      <th></th>\n",
       "    </tr>\n",
       "  </thead>\n",
       "  <tbody>\n",
       "    <tr>\n",
       "      <th rowspan=\"5\" valign=\"top\">US_AK</th>\n",
       "      <th>2021-05-02</th>\n",
       "      <td>262217.0</td>\n",
       "      <td>0.357541</td>\n",
       "      <td>3.506173</td>\n",
       "      <td>0.000000</td>\n",
       "      <td>0.0</td>\n",
       "      <td>42.768114</td>\n",
       "      <td>65720.0</td>\n",
       "      <td>0.089611</td>\n",
       "    </tr>\n",
       "    <tr>\n",
       "      <th>2021-05-03</th>\n",
       "      <td>263603.0</td>\n",
       "      <td>0.359430</td>\n",
       "      <td>7.138889</td>\n",
       "      <td>0.000000</td>\n",
       "      <td>0.0</td>\n",
       "      <td>35.238823</td>\n",
       "      <td>65815.0</td>\n",
       "      <td>0.089741</td>\n",
       "    </tr>\n",
       "    <tr>\n",
       "      <th>2021-05-04</th>\n",
       "      <td>263754.0</td>\n",
       "      <td>0.359636</td>\n",
       "      <td>8.555556</td>\n",
       "      <td>0.000000</td>\n",
       "      <td>0.0</td>\n",
       "      <td>41.138142</td>\n",
       "      <td>65961.0</td>\n",
       "      <td>0.089940</td>\n",
       "    </tr>\n",
       "    <tr>\n",
       "      <th>2021-05-05</th>\n",
       "      <td>264565.0</td>\n",
       "      <td>0.360742</td>\n",
       "      <td>7.822222</td>\n",
       "      <td>0.592667</td>\n",
       "      <td>0.0</td>\n",
       "      <td>56.346598</td>\n",
       "      <td>66056.0</td>\n",
       "      <td>0.090069</td>\n",
       "    </tr>\n",
       "    <tr>\n",
       "      <th>2021-05-06</th>\n",
       "      <td>265869.0</td>\n",
       "      <td>0.362520</td>\n",
       "      <td>7.555556</td>\n",
       "      <td>0.025400</td>\n",
       "      <td>0.0</td>\n",
       "      <td>56.786579</td>\n",
       "      <td>66173.0</td>\n",
       "      <td>0.090229</td>\n",
       "    </tr>\n",
       "  </tbody>\n",
       "</table>\n",
       "</div>"
      ],
      "text/plain": [
       "                         cumulative_persons_fully_vaccinated  vax_pop_ratio  \\\n",
       "location_key date                                                             \n",
       "US_AK        2021-05-02                             262217.0       0.357541   \n",
       "             2021-05-03                             263603.0       0.359430   \n",
       "             2021-05-04                             263754.0       0.359636   \n",
       "             2021-05-05                             264565.0       0.360742   \n",
       "             2021-05-06                             265869.0       0.362520   \n",
       "\n",
       "                         average_temperature_celsius  rainfall_mm  \\\n",
       "location_key date                                                   \n",
       "US_AK        2021-05-02                     3.506173     0.000000   \n",
       "             2021-05-03                     7.138889     0.000000   \n",
       "             2021-05-04                     8.555556     0.000000   \n",
       "             2021-05-05                     7.822222     0.592667   \n",
       "             2021-05-06                     7.555556     0.025400   \n",
       "\n",
       "                         snowfall_mm  relative_humidity  cumulative_confirmed  \\\n",
       "location_key date                                                               \n",
       "US_AK        2021-05-02          0.0          42.768114               65720.0   \n",
       "             2021-05-03          0.0          35.238823               65815.0   \n",
       "             2021-05-04          0.0          41.138142               65961.0   \n",
       "             2021-05-05          0.0          56.346598               66056.0   \n",
       "             2021-05-06          0.0          56.786579               66173.0   \n",
       "\n",
       "                         cov_confirmed_pop_ratio  \n",
       "location_key date                                 \n",
       "US_AK        2021-05-02                 0.089611  \n",
       "             2021-05-03                 0.089741  \n",
       "             2021-05-04                 0.089940  \n",
       "             2021-05-05                 0.090069  \n",
       "             2021-05-06                 0.090229  "
      ]
     },
     "execution_count": 187,
     "metadata": {},
     "output_type": "execute_result"
    }
   ],
   "source": [
    "# check newly merged dataframe\n",
    "\n",
    "temp2.head()"
   ]
  },
  {
   "cell_type": "code",
   "execution_count": 188,
   "id": "1c924d50-6af0-4b68-b757-20541a7164b8",
   "metadata": {
    "tags": []
   },
   "outputs": [],
   "source": [
    "# extract date and reset index to location_key to merge temp1 and temp2 on\n",
    "\n",
    "temp2['date'] = temp2.index.get_level_values(1)\n",
    "temp2.index = temp2.index.get_level_values(0)"
   ]
  },
  {
   "cell_type": "code",
   "execution_count": 189,
   "id": "239ba10d-b93f-4232-908d-39c2db4172ae",
   "metadata": {
    "tags": []
   },
   "outputs": [],
   "source": [
    "# perform temp2 temp1 left merge on index\n",
    "\n",
    "temp3 = pd.merge(temp2, temp1, how = 'left', left_index = True, right_index = True)"
   ]
  },
  {
   "cell_type": "code",
   "execution_count": 190,
   "id": "3a4c12a0-4220-400e-868e-70d6a8f45ab2",
   "metadata": {
    "tags": []
   },
   "outputs": [
    {
     "name": "stdout",
     "output_type": "stream",
     "text": [
      "<class 'pandas.core.frame.DataFrame'>\n",
      "Index: 1229270 entries, US_AK to US_WY_56045\n",
      "Data columns (total 33 columns):\n",
      " #   Column                               Non-Null Count    Dtype  \n",
      "---  ------                               --------------    -----  \n",
      " 0   cumulative_persons_fully_vaccinated  1229270 non-null  float64\n",
      " 1   vax_pop_ratio                        1229270 non-null  float64\n",
      " 2   average_temperature_celsius          1229270 non-null  float64\n",
      " 3   rainfall_mm                          1229265 non-null  float64\n",
      " 4   snowfall_mm                          1229270 non-null  float64\n",
      " 5   relative_humidity                    1228853 non-null  float64\n",
      " 6   cumulative_confirmed                 1229270 non-null  float64\n",
      " 7   cov_confirmed_pop_ratio              1229270 non-null  float64\n",
      " 8   date                                 1229270 non-null  object \n",
      " 9   subregion2_name                      1133014 non-null  object \n",
      " 10  population                           1133014 non-null  float64\n",
      " 11  population_male                      1133014 non-null  float64\n",
      " 12  population_female                    1133014 non-null  float64\n",
      " 13  population_age_00_09                 1133014 non-null  float64\n",
      " 14  population_age_10_19                 1133014 non-null  float64\n",
      " 15  population_age_20_29                 1133014 non-null  float64\n",
      " 16  population_age_30_39                 1133014 non-null  float64\n",
      " 17  population_age_40_49                 1133014 non-null  float64\n",
      " 18  population_age_50_59                 1133014 non-null  float64\n",
      " 19  population_age_60_69                 1133014 non-null  float64\n",
      " 20  population_age_70_79                 1133014 non-null  float64\n",
      " 21  population_age_80_and_older          1133014 non-null  float64\n",
      " 22  male_female_ratio                    1133014 non-null  float64\n",
      " 23  age_00_09_ratio                      1133014 non-null  float64\n",
      " 24  age_10_19_ratio                      1133014 non-null  float64\n",
      " 25  age_20_29_ratio                      1133014 non-null  float64\n",
      " 26  age_30_3_ratio                       1133014 non-null  float64\n",
      " 27  age_40_49_ratio                      1133014 non-null  float64\n",
      " 28  age_50_59_ratio                      1133014 non-null  float64\n",
      " 29  age_60_69_ratio                      1133014 non-null  float64\n",
      " 30  age_70_79_ratio                      1133014 non-null  float64\n",
      " 31  age_80_and_older_ratio               1133014 non-null  float64\n",
      " 32  life_expectancy                      1133014 non-null  float64\n",
      "dtypes: float64(31), object(2)\n",
      "memory usage: 318.9+ MB\n"
     ]
    }
   ],
   "source": [
    "# Verify merge is correct\n",
    "\n",
    "temp3.info()"
   ]
  },
  {
   "cell_type": "code",
   "execution_count": 191,
   "id": "a5d25fc3-2656-450e-bc9b-4e64bead75a6",
   "metadata": {
    "tags": []
   },
   "outputs": [
    {
     "name": "stderr",
     "output_type": "stream",
     "text": [
      "/var/folders/qy/nr1f_j6j7nx50jtp9tqqgftc0000gn/T/ipykernel_3236/4046448643.py:4: SettingWithCopyWarning: \n",
      "A value is trying to be set on a copy of a slice from a DataFrame.\n",
      "Try using .loc[row_indexer,col_indexer] = value instead\n",
      "\n",
      "See the caveats in the documentation: https://pandas.pydata.org/pandas-docs/stable/user_guide/indexing.html#returning-a-view-versus-a-copy\n",
      "  us_government_response_ts['gr_merge'] = us_government_response_ts.index.values + ' ' + us_government_response_ts['date']\n"
     ]
    }
   ],
   "source": [
    "# create gr_merge column in temp3 and state indexed us_government_response\n",
    "\n",
    "temp3['gr_merge'] = temp3.index.str[:5] + ' ' + temp3['date']\n",
    "us_government_response_ts['gr_merge'] = us_government_response_ts.index.values + ' ' + us_government_response_ts['date']"
   ]
  },
  {
   "cell_type": "code",
   "execution_count": 194,
   "id": "5afebe09-7aec-4745-87fe-9d257762e6f7",
   "metadata": {
    "tags": []
   },
   "outputs": [
    {
     "data": {
      "text/html": [
       "<div>\n",
       "<style scoped>\n",
       "    .dataframe tbody tr th:only-of-type {\n",
       "        vertical-align: middle;\n",
       "    }\n",
       "\n",
       "    .dataframe tbody tr th {\n",
       "        vertical-align: top;\n",
       "    }\n",
       "\n",
       "    .dataframe thead th {\n",
       "        text-align: right;\n",
       "    }\n",
       "</style>\n",
       "<table border=\"1\" class=\"dataframe\">\n",
       "  <thead>\n",
       "    <tr style=\"text-align: right;\">\n",
       "      <th></th>\n",
       "      <th>cumulative_persons_fully_vaccinated</th>\n",
       "      <th>vax_pop_ratio</th>\n",
       "      <th>average_temperature_celsius</th>\n",
       "      <th>rainfall_mm</th>\n",
       "      <th>snowfall_mm</th>\n",
       "      <th>relative_humidity</th>\n",
       "      <th>cumulative_confirmed</th>\n",
       "      <th>cov_confirmed_pop_ratio</th>\n",
       "      <th>date</th>\n",
       "      <th>subregion2_name</th>\n",
       "      <th>...</th>\n",
       "      <th>age_20_29_ratio</th>\n",
       "      <th>age_30_3_ratio</th>\n",
       "      <th>age_40_49_ratio</th>\n",
       "      <th>age_50_59_ratio</th>\n",
       "      <th>age_60_69_ratio</th>\n",
       "      <th>age_70_79_ratio</th>\n",
       "      <th>age_80_and_older_ratio</th>\n",
       "      <th>life_expectancy</th>\n",
       "      <th>gr_merge</th>\n",
       "      <th>location_key</th>\n",
       "    </tr>\n",
       "    <tr>\n",
       "      <th>location_key</th>\n",
       "      <th></th>\n",
       "      <th></th>\n",
       "      <th></th>\n",
       "      <th></th>\n",
       "      <th></th>\n",
       "      <th></th>\n",
       "      <th></th>\n",
       "      <th></th>\n",
       "      <th></th>\n",
       "      <th></th>\n",
       "      <th></th>\n",
       "      <th></th>\n",
       "      <th></th>\n",
       "      <th></th>\n",
       "      <th></th>\n",
       "      <th></th>\n",
       "      <th></th>\n",
       "      <th></th>\n",
       "      <th></th>\n",
       "      <th></th>\n",
       "      <th></th>\n",
       "    </tr>\n",
       "  </thead>\n",
       "  <tbody>\n",
       "    <tr>\n",
       "      <th>US_AK</th>\n",
       "      <td>262217.0</td>\n",
       "      <td>0.357541</td>\n",
       "      <td>3.506173</td>\n",
       "      <td>0.000000</td>\n",
       "      <td>0.0</td>\n",
       "      <td>42.768114</td>\n",
       "      <td>65720.0</td>\n",
       "      <td>0.089611</td>\n",
       "      <td>2021-05-02</td>\n",
       "      <td>NaN</td>\n",
       "      <td>...</td>\n",
       "      <td>NaN</td>\n",
       "      <td>NaN</td>\n",
       "      <td>NaN</td>\n",
       "      <td>NaN</td>\n",
       "      <td>NaN</td>\n",
       "      <td>NaN</td>\n",
       "      <td>NaN</td>\n",
       "      <td>NaN</td>\n",
       "      <td>US_AK 2021-05-02</td>\n",
       "      <td>US_AK</td>\n",
       "    </tr>\n",
       "    <tr>\n",
       "      <th>US_AK</th>\n",
       "      <td>263603.0</td>\n",
       "      <td>0.359430</td>\n",
       "      <td>7.138889</td>\n",
       "      <td>0.000000</td>\n",
       "      <td>0.0</td>\n",
       "      <td>35.238823</td>\n",
       "      <td>65815.0</td>\n",
       "      <td>0.089741</td>\n",
       "      <td>2021-05-03</td>\n",
       "      <td>NaN</td>\n",
       "      <td>...</td>\n",
       "      <td>NaN</td>\n",
       "      <td>NaN</td>\n",
       "      <td>NaN</td>\n",
       "      <td>NaN</td>\n",
       "      <td>NaN</td>\n",
       "      <td>NaN</td>\n",
       "      <td>NaN</td>\n",
       "      <td>NaN</td>\n",
       "      <td>US_AK 2021-05-03</td>\n",
       "      <td>US_AK</td>\n",
       "    </tr>\n",
       "    <tr>\n",
       "      <th>US_AK</th>\n",
       "      <td>263754.0</td>\n",
       "      <td>0.359636</td>\n",
       "      <td>8.555556</td>\n",
       "      <td>0.000000</td>\n",
       "      <td>0.0</td>\n",
       "      <td>41.138142</td>\n",
       "      <td>65961.0</td>\n",
       "      <td>0.089940</td>\n",
       "      <td>2021-05-04</td>\n",
       "      <td>NaN</td>\n",
       "      <td>...</td>\n",
       "      <td>NaN</td>\n",
       "      <td>NaN</td>\n",
       "      <td>NaN</td>\n",
       "      <td>NaN</td>\n",
       "      <td>NaN</td>\n",
       "      <td>NaN</td>\n",
       "      <td>NaN</td>\n",
       "      <td>NaN</td>\n",
       "      <td>US_AK 2021-05-04</td>\n",
       "      <td>US_AK</td>\n",
       "    </tr>\n",
       "    <tr>\n",
       "      <th>US_AK</th>\n",
       "      <td>264565.0</td>\n",
       "      <td>0.360742</td>\n",
       "      <td>7.822222</td>\n",
       "      <td>0.592667</td>\n",
       "      <td>0.0</td>\n",
       "      <td>56.346598</td>\n",
       "      <td>66056.0</td>\n",
       "      <td>0.090069</td>\n",
       "      <td>2021-05-05</td>\n",
       "      <td>NaN</td>\n",
       "      <td>...</td>\n",
       "      <td>NaN</td>\n",
       "      <td>NaN</td>\n",
       "      <td>NaN</td>\n",
       "      <td>NaN</td>\n",
       "      <td>NaN</td>\n",
       "      <td>NaN</td>\n",
       "      <td>NaN</td>\n",
       "      <td>NaN</td>\n",
       "      <td>US_AK 2021-05-05</td>\n",
       "      <td>US_AK</td>\n",
       "    </tr>\n",
       "    <tr>\n",
       "      <th>US_AK</th>\n",
       "      <td>265869.0</td>\n",
       "      <td>0.362520</td>\n",
       "      <td>7.555556</td>\n",
       "      <td>0.025400</td>\n",
       "      <td>0.0</td>\n",
       "      <td>56.786579</td>\n",
       "      <td>66173.0</td>\n",
       "      <td>0.090229</td>\n",
       "      <td>2021-05-06</td>\n",
       "      <td>NaN</td>\n",
       "      <td>...</td>\n",
       "      <td>NaN</td>\n",
       "      <td>NaN</td>\n",
       "      <td>NaN</td>\n",
       "      <td>NaN</td>\n",
       "      <td>NaN</td>\n",
       "      <td>NaN</td>\n",
       "      <td>NaN</td>\n",
       "      <td>NaN</td>\n",
       "      <td>US_AK 2021-05-06</td>\n",
       "      <td>US_AK</td>\n",
       "    </tr>\n",
       "  </tbody>\n",
       "</table>\n",
       "<p>5 rows × 35 columns</p>\n",
       "</div>"
      ],
      "text/plain": [
       "              cumulative_persons_fully_vaccinated  vax_pop_ratio  \\\n",
       "location_key                                                       \n",
       "US_AK                                    262217.0       0.357541   \n",
       "US_AK                                    263603.0       0.359430   \n",
       "US_AK                                    263754.0       0.359636   \n",
       "US_AK                                    264565.0       0.360742   \n",
       "US_AK                                    265869.0       0.362520   \n",
       "\n",
       "              average_temperature_celsius  rainfall_mm  snowfall_mm  \\\n",
       "location_key                                                          \n",
       "US_AK                            3.506173     0.000000          0.0   \n",
       "US_AK                            7.138889     0.000000          0.0   \n",
       "US_AK                            8.555556     0.000000          0.0   \n",
       "US_AK                            7.822222     0.592667          0.0   \n",
       "US_AK                            7.555556     0.025400          0.0   \n",
       "\n",
       "              relative_humidity  cumulative_confirmed  \\\n",
       "location_key                                            \n",
       "US_AK                 42.768114               65720.0   \n",
       "US_AK                 35.238823               65815.0   \n",
       "US_AK                 41.138142               65961.0   \n",
       "US_AK                 56.346598               66056.0   \n",
       "US_AK                 56.786579               66173.0   \n",
       "\n",
       "              cov_confirmed_pop_ratio        date subregion2_name  ...  \\\n",
       "location_key                                                       ...   \n",
       "US_AK                        0.089611  2021-05-02             NaN  ...   \n",
       "US_AK                        0.089741  2021-05-03             NaN  ...   \n",
       "US_AK                        0.089940  2021-05-04             NaN  ...   \n",
       "US_AK                        0.090069  2021-05-05             NaN  ...   \n",
       "US_AK                        0.090229  2021-05-06             NaN  ...   \n",
       "\n",
       "              age_20_29_ratio  age_30_3_ratio  age_40_49_ratio  \\\n",
       "location_key                                                     \n",
       "US_AK                     NaN             NaN              NaN   \n",
       "US_AK                     NaN             NaN              NaN   \n",
       "US_AK                     NaN             NaN              NaN   \n",
       "US_AK                     NaN             NaN              NaN   \n",
       "US_AK                     NaN             NaN              NaN   \n",
       "\n",
       "              age_50_59_ratio  age_60_69_ratio  age_70_79_ratio  \\\n",
       "location_key                                                      \n",
       "US_AK                     NaN              NaN              NaN   \n",
       "US_AK                     NaN              NaN              NaN   \n",
       "US_AK                     NaN              NaN              NaN   \n",
       "US_AK                     NaN              NaN              NaN   \n",
       "US_AK                     NaN              NaN              NaN   \n",
       "\n",
       "              age_80_and_older_ratio  life_expectancy          gr_merge  \\\n",
       "location_key                                                              \n",
       "US_AK                            NaN              NaN  US_AK 2021-05-02   \n",
       "US_AK                            NaN              NaN  US_AK 2021-05-03   \n",
       "US_AK                            NaN              NaN  US_AK 2021-05-04   \n",
       "US_AK                            NaN              NaN  US_AK 2021-05-05   \n",
       "US_AK                            NaN              NaN  US_AK 2021-05-06   \n",
       "\n",
       "              location_key  \n",
       "location_key                \n",
       "US_AK                US_AK  \n",
       "US_AK                US_AK  \n",
       "US_AK                US_AK  \n",
       "US_AK                US_AK  \n",
       "US_AK                US_AK  \n",
       "\n",
       "[5 rows x 35 columns]"
      ]
     },
     "execution_count": 194,
     "metadata": {},
     "output_type": "execute_result"
    }
   ],
   "source": [
    "# Check warning, Verify gr_merge was created correctly, save location_key in seperate column so it doesn't get lost during merges\n",
    "\n",
    "temp3['location_key'] = temp3.index\n",
    "temp3.head()"
   ]
  },
  {
   "cell_type": "markdown",
   "id": "184ff664-37ff-4a25-b0f2-049e1708dde0",
   "metadata": {},
   "source": [
    "**Null values in above table are intentional.  Will use dropna() to filter out state level rows, only include county level rows**"
   ]
  },
  {
   "cell_type": "code",
   "execution_count": 195,
   "id": "4e8e4ec3-28de-40eb-b27a-c01e895ebcc4",
   "metadata": {
    "tags": []
   },
   "outputs": [
    {
     "data": {
      "text/html": [
       "<div>\n",
       "<style scoped>\n",
       "    .dataframe tbody tr th:only-of-type {\n",
       "        vertical-align: middle;\n",
       "    }\n",
       "\n",
       "    .dataframe tbody tr th {\n",
       "        vertical-align: top;\n",
       "    }\n",
       "\n",
       "    .dataframe thead th {\n",
       "        text-align: right;\n",
       "    }\n",
       "</style>\n",
       "<table border=\"1\" class=\"dataframe\">\n",
       "  <thead>\n",
       "    <tr style=\"text-align: right;\">\n",
       "      <th></th>\n",
       "      <th>date</th>\n",
       "      <th>school_closing</th>\n",
       "      <th>workplace_closing</th>\n",
       "      <th>cancel_public_events</th>\n",
       "      <th>restrictions_on_gatherings</th>\n",
       "      <th>public_transport_closing</th>\n",
       "      <th>stay_at_home_requirements</th>\n",
       "      <th>restrictions_on_internal_movement</th>\n",
       "      <th>international_travel_controls</th>\n",
       "      <th>income_support</th>\n",
       "      <th>debt_relief</th>\n",
       "      <th>public_information_campaigns</th>\n",
       "      <th>testing_policy</th>\n",
       "      <th>contact_tracing</th>\n",
       "      <th>facial_coverings</th>\n",
       "      <th>vaccination_policy</th>\n",
       "      <th>gr_merge</th>\n",
       "    </tr>\n",
       "    <tr>\n",
       "      <th>gr_key</th>\n",
       "      <th></th>\n",
       "      <th></th>\n",
       "      <th></th>\n",
       "      <th></th>\n",
       "      <th></th>\n",
       "      <th></th>\n",
       "      <th></th>\n",
       "      <th></th>\n",
       "      <th></th>\n",
       "      <th></th>\n",
       "      <th></th>\n",
       "      <th></th>\n",
       "      <th></th>\n",
       "      <th></th>\n",
       "      <th></th>\n",
       "      <th></th>\n",
       "      <th></th>\n",
       "    </tr>\n",
       "  </thead>\n",
       "  <tbody>\n",
       "    <tr>\n",
       "      <th>US_AK</th>\n",
       "      <td>2021-05-02</td>\n",
       "      <td>1.0</td>\n",
       "      <td>1.0</td>\n",
       "      <td>1.0</td>\n",
       "      <td>3.0</td>\n",
       "      <td>0.0</td>\n",
       "      <td>1.0</td>\n",
       "      <td>1.0</td>\n",
       "      <td>3.0</td>\n",
       "      <td>1.0</td>\n",
       "      <td>1.0</td>\n",
       "      <td>2.0</td>\n",
       "      <td>3.0</td>\n",
       "      <td>1.0</td>\n",
       "      <td>3.0</td>\n",
       "      <td>5.0</td>\n",
       "      <td>US_AK 2021-05-02</td>\n",
       "    </tr>\n",
       "    <tr>\n",
       "      <th>US_AK</th>\n",
       "      <td>2021-05-03</td>\n",
       "      <td>1.0</td>\n",
       "      <td>1.0</td>\n",
       "      <td>1.0</td>\n",
       "      <td>3.0</td>\n",
       "      <td>0.0</td>\n",
       "      <td>1.0</td>\n",
       "      <td>1.0</td>\n",
       "      <td>3.0</td>\n",
       "      <td>1.0</td>\n",
       "      <td>1.0</td>\n",
       "      <td>2.0</td>\n",
       "      <td>3.0</td>\n",
       "      <td>1.0</td>\n",
       "      <td>3.0</td>\n",
       "      <td>5.0</td>\n",
       "      <td>US_AK 2021-05-03</td>\n",
       "    </tr>\n",
       "    <tr>\n",
       "      <th>US_AK</th>\n",
       "      <td>2021-05-04</td>\n",
       "      <td>1.0</td>\n",
       "      <td>1.0</td>\n",
       "      <td>1.0</td>\n",
       "      <td>3.0</td>\n",
       "      <td>0.0</td>\n",
       "      <td>1.0</td>\n",
       "      <td>1.0</td>\n",
       "      <td>3.0</td>\n",
       "      <td>1.0</td>\n",
       "      <td>1.0</td>\n",
       "      <td>2.0</td>\n",
       "      <td>3.0</td>\n",
       "      <td>1.0</td>\n",
       "      <td>3.0</td>\n",
       "      <td>5.0</td>\n",
       "      <td>US_AK 2021-05-04</td>\n",
       "    </tr>\n",
       "    <tr>\n",
       "      <th>US_AK</th>\n",
       "      <td>2021-05-05</td>\n",
       "      <td>1.0</td>\n",
       "      <td>1.0</td>\n",
       "      <td>1.0</td>\n",
       "      <td>3.0</td>\n",
       "      <td>0.0</td>\n",
       "      <td>1.0</td>\n",
       "      <td>1.0</td>\n",
       "      <td>3.0</td>\n",
       "      <td>1.0</td>\n",
       "      <td>1.0</td>\n",
       "      <td>2.0</td>\n",
       "      <td>3.0</td>\n",
       "      <td>1.0</td>\n",
       "      <td>3.0</td>\n",
       "      <td>5.0</td>\n",
       "      <td>US_AK 2021-05-05</td>\n",
       "    </tr>\n",
       "    <tr>\n",
       "      <th>US_AK</th>\n",
       "      <td>2021-05-06</td>\n",
       "      <td>1.0</td>\n",
       "      <td>1.0</td>\n",
       "      <td>1.0</td>\n",
       "      <td>3.0</td>\n",
       "      <td>0.0</td>\n",
       "      <td>1.0</td>\n",
       "      <td>1.0</td>\n",
       "      <td>3.0</td>\n",
       "      <td>1.0</td>\n",
       "      <td>1.0</td>\n",
       "      <td>2.0</td>\n",
       "      <td>3.0</td>\n",
       "      <td>1.0</td>\n",
       "      <td>3.0</td>\n",
       "      <td>5.0</td>\n",
       "      <td>US_AK 2021-05-06</td>\n",
       "    </tr>\n",
       "  </tbody>\n",
       "</table>\n",
       "</div>"
      ],
      "text/plain": [
       "              date  school_closing  workplace_closing  cancel_public_events  \\\n",
       "gr_key                                                                        \n",
       "US_AK   2021-05-02             1.0                1.0                   1.0   \n",
       "US_AK   2021-05-03             1.0                1.0                   1.0   \n",
       "US_AK   2021-05-04             1.0                1.0                   1.0   \n",
       "US_AK   2021-05-05             1.0                1.0                   1.0   \n",
       "US_AK   2021-05-06             1.0                1.0                   1.0   \n",
       "\n",
       "        restrictions_on_gatherings  public_transport_closing  \\\n",
       "gr_key                                                         \n",
       "US_AK                          3.0                       0.0   \n",
       "US_AK                          3.0                       0.0   \n",
       "US_AK                          3.0                       0.0   \n",
       "US_AK                          3.0                       0.0   \n",
       "US_AK                          3.0                       0.0   \n",
       "\n",
       "        stay_at_home_requirements  restrictions_on_internal_movement  \\\n",
       "gr_key                                                                 \n",
       "US_AK                         1.0                                1.0   \n",
       "US_AK                         1.0                                1.0   \n",
       "US_AK                         1.0                                1.0   \n",
       "US_AK                         1.0                                1.0   \n",
       "US_AK                         1.0                                1.0   \n",
       "\n",
       "        international_travel_controls  income_support  debt_relief  \\\n",
       "gr_key                                                               \n",
       "US_AK                             3.0             1.0          1.0   \n",
       "US_AK                             3.0             1.0          1.0   \n",
       "US_AK                             3.0             1.0          1.0   \n",
       "US_AK                             3.0             1.0          1.0   \n",
       "US_AK                             3.0             1.0          1.0   \n",
       "\n",
       "        public_information_campaigns  testing_policy  contact_tracing  \\\n",
       "gr_key                                                                  \n",
       "US_AK                            2.0             3.0              1.0   \n",
       "US_AK                            2.0             3.0              1.0   \n",
       "US_AK                            2.0             3.0              1.0   \n",
       "US_AK                            2.0             3.0              1.0   \n",
       "US_AK                            2.0             3.0              1.0   \n",
       "\n",
       "        facial_coverings  vaccination_policy          gr_merge  \n",
       "gr_key                                                          \n",
       "US_AK                3.0                 5.0  US_AK 2021-05-02  \n",
       "US_AK                3.0                 5.0  US_AK 2021-05-03  \n",
       "US_AK                3.0                 5.0  US_AK 2021-05-04  \n",
       "US_AK                3.0                 5.0  US_AK 2021-05-05  \n",
       "US_AK                3.0                 5.0  US_AK 2021-05-06  "
      ]
     },
     "execution_count": 195,
     "metadata": {},
     "output_type": "execute_result"
    }
   ],
   "source": [
    "# Check warning, Verify gr_merge was created correctly\n",
    "\n",
    "us_government_response_ts.head()"
   ]
  },
  {
   "cell_type": "code",
   "execution_count": 196,
   "id": "7ec73b98-e0a1-4712-a851-de08ebf84ba3",
   "metadata": {
    "tags": []
   },
   "outputs": [],
   "source": [
    "# Merge us_government_response_ts onto main dataframe\n",
    "\n",
    "time_series_df = pd.merge(temp3, us_government_response_ts, how = 'left', on = 'gr_merge')"
   ]
  },
  {
   "cell_type": "code",
   "execution_count": 197,
   "id": "c4c7a325-d312-4303-8ea1-5be07e2c2a08",
   "metadata": {
    "tags": []
   },
   "outputs": [
    {
     "name": "stdout",
     "output_type": "stream",
     "text": [
      "<class 'pandas.core.frame.DataFrame'>\n",
      "RangeIndex: 1229270 entries, 0 to 1229269\n",
      "Data columns (total 51 columns):\n",
      " #   Column                               Non-Null Count    Dtype  \n",
      "---  ------                               --------------    -----  \n",
      " 0   cumulative_persons_fully_vaccinated  1229270 non-null  float64\n",
      " 1   vax_pop_ratio                        1229270 non-null  float64\n",
      " 2   average_temperature_celsius          1229270 non-null  float64\n",
      " 3   rainfall_mm                          1229265 non-null  float64\n",
      " 4   snowfall_mm                          1229270 non-null  float64\n",
      " 5   relative_humidity                    1228853 non-null  float64\n",
      " 6   cumulative_confirmed                 1229270 non-null  float64\n",
      " 7   cov_confirmed_pop_ratio              1229270 non-null  float64\n",
      " 8   date_x                               1229270 non-null  object \n",
      " 9   subregion2_name                      1133014 non-null  object \n",
      " 10  population                           1133014 non-null  float64\n",
      " 11  population_male                      1133014 non-null  float64\n",
      " 12  population_female                    1133014 non-null  float64\n",
      " 13  population_age_00_09                 1133014 non-null  float64\n",
      " 14  population_age_10_19                 1133014 non-null  float64\n",
      " 15  population_age_20_29                 1133014 non-null  float64\n",
      " 16  population_age_30_39                 1133014 non-null  float64\n",
      " 17  population_age_40_49                 1133014 non-null  float64\n",
      " 18  population_age_50_59                 1133014 non-null  float64\n",
      " 19  population_age_60_69                 1133014 non-null  float64\n",
      " 20  population_age_70_79                 1133014 non-null  float64\n",
      " 21  population_age_80_and_older          1133014 non-null  float64\n",
      " 22  male_female_ratio                    1133014 non-null  float64\n",
      " 23  age_00_09_ratio                      1133014 non-null  float64\n",
      " 24  age_10_19_ratio                      1133014 non-null  float64\n",
      " 25  age_20_29_ratio                      1133014 non-null  float64\n",
      " 26  age_30_3_ratio                       1133014 non-null  float64\n",
      " 27  age_40_49_ratio                      1133014 non-null  float64\n",
      " 28  age_50_59_ratio                      1133014 non-null  float64\n",
      " 29  age_60_69_ratio                      1133014 non-null  float64\n",
      " 30  age_70_79_ratio                      1133014 non-null  float64\n",
      " 31  age_80_and_older_ratio               1133014 non-null  float64\n",
      " 32  life_expectancy                      1133014 non-null  float64\n",
      " 33  gr_merge                             1229270 non-null  object \n",
      " 34  location_key                         1229270 non-null  object \n",
      " 35  date_y                               1198062 non-null  object \n",
      " 36  school_closing                       1197807 non-null  float64\n",
      " 37  workplace_closing                    1198062 non-null  float64\n",
      " 38  cancel_public_events                 1198062 non-null  float64\n",
      " 39  restrictions_on_gatherings           1198062 non-null  float64\n",
      " 40  public_transport_closing             1197518 non-null  float64\n",
      " 41  stay_at_home_requirements            1198062 non-null  float64\n",
      " 42  restrictions_on_internal_movement    1197912 non-null  float64\n",
      " 43  international_travel_controls        1197408 non-null  float64\n",
      " 44  income_support                       1198062 non-null  float64\n",
      " 45  debt_relief                          1195033 non-null  float64\n",
      " 46  public_information_campaigns         1197939 non-null  float64\n",
      " 47  testing_policy                       1197950 non-null  float64\n",
      " 48  contact_tracing                      1197547 non-null  float64\n",
      " 49  facial_coverings                     1198040 non-null  float64\n",
      " 50  vaccination_policy                   1197956 non-null  float64\n",
      "dtypes: float64(46), object(5)\n",
      "memory usage: 478.3+ MB\n"
     ]
    }
   ],
   "source": [
    "# Identify unnecessary columns\n",
    "\n",
    "time_series_df.info()"
   ]
  },
  {
   "cell_type": "code",
   "execution_count": 198,
   "id": "74f3a844-e00f-492a-92c7-f604bb3c09ef",
   "metadata": {
    "tags": []
   },
   "outputs": [],
   "source": [
    "# reinstate multi-level index: location_key, date\n",
    "\n",
    "time_series_df.set_index('location_key', inplace = True)\n",
    "time_series_df.set_index('date_x', append = True, inplace = True)"
   ]
  },
  {
   "cell_type": "code",
   "execution_count": 199,
   "id": "7a3177df-9f01-47e2-b620-c749577b3dc9",
   "metadata": {
    "tags": []
   },
   "outputs": [],
   "source": [
    "# Drop unnecessary and redudant columns then dropna()\n",
    "\n",
    "time_series_df.drop(axis = 1, columns = ['subregion2_name', 'gr_merge', 'date_y'], inplace = True)\n",
    "time_series_df.dropna(inplace = True)"
   ]
  },
  {
   "cell_type": "code",
   "execution_count": 204,
   "id": "beaa2368-43db-4801-923c-b19669e7e6d3",
   "metadata": {
    "tags": []
   },
   "outputs": [
    {
     "name": "stdout",
     "output_type": "stream",
     "text": [
      "<class 'pandas.core.frame.DataFrame'>\n",
      "MultiIndex: 1128133 entries, ('US_AK_02013', '2021-05-02') to ('US_WY_56045', '2022-05-12')\n",
      "Data columns (total 34 columns):\n",
      " #   Column                               Non-Null Count    Dtype  \n",
      "---  ------                               --------------    -----  \n",
      " 0   cumulative_persons_fully_vaccinated  1128133 non-null  float64\n",
      " 1   average_temperature_celsius          1128133 non-null  float64\n",
      " 2   rainfall_mm                          1128133 non-null  float64\n",
      " 3   snowfall_mm                          1128133 non-null  float64\n",
      " 4   relative_humidity                    1128133 non-null  float64\n",
      " 5   cumulative_confirmed                 1128133 non-null  float64\n",
      " 6   population                           1128133 non-null  float64\n",
      " 7   population_male                      1128133 non-null  float64\n",
      " 8   population_female                    1128133 non-null  float64\n",
      " 9   population_age_00_09                 1128133 non-null  float64\n",
      " 10  population_age_10_19                 1128133 non-null  float64\n",
      " 11  population_age_20_29                 1128133 non-null  float64\n",
      " 12  population_age_30_39                 1128133 non-null  float64\n",
      " 13  population_age_40_49                 1128133 non-null  float64\n",
      " 14  population_age_50_59                 1128133 non-null  float64\n",
      " 15  population_age_60_69                 1128133 non-null  float64\n",
      " 16  population_age_70_79                 1128133 non-null  float64\n",
      " 17  population_age_80_and_older          1128133 non-null  float64\n",
      " 18  life_expectancy                      1128133 non-null  float64\n",
      " 19  school_closing                       1128133 non-null  float64\n",
      " 20  workplace_closing                    1128133 non-null  float64\n",
      " 21  cancel_public_events                 1128133 non-null  float64\n",
      " 22  restrictions_on_gatherings           1128133 non-null  float64\n",
      " 23  public_transport_closing             1128133 non-null  float64\n",
      " 24  stay_at_home_requirements            1128133 non-null  float64\n",
      " 25  restrictions_on_internal_movement    1128133 non-null  float64\n",
      " 26  international_travel_controls        1128133 non-null  float64\n",
      " 27  income_support                       1128133 non-null  float64\n",
      " 28  debt_relief                          1128133 non-null  float64\n",
      " 29  public_information_campaigns         1128133 non-null  float64\n",
      " 30  testing_policy                       1128133 non-null  float64\n",
      " 31  contact_tracing                      1128133 non-null  float64\n",
      " 32  facial_coverings                     1128133 non-null  float64\n",
      " 33  vaccination_policy                   1128133 non-null  float64\n",
      "dtypes: float64(34)\n",
      "memory usage: 297.1+ MB\n"
     ]
    }
   ],
   "source": [
    "time_series_df.info()"
   ]
  },
  {
   "cell_type": "code",
   "execution_count": 202,
   "id": "a92e0f36-909a-4cf8-8afc-8a996d42f955",
   "metadata": {
    "tags": []
   },
   "outputs": [],
   "source": [
    "# Drop ratio data from time series\n",
    "\n",
    "time_series_df.drop(axis = 1, columns = ['male_female_ratio','age_00_09_ratio','age_10_19_ratio','age_20_29_ratio','age_30_3_ratio',\n",
    "                                          'age_40_49_ratio','age_50_59_ratio','age_60_69_ratio','age_70_79_ratio','age_80_and_older_ratio', 'vax_pop_ratio',\n",
    "                                          'cov_confirmed_pop_ratio'],\n",
    "                     inplace = True)"
   ]
  },
  {
   "cell_type": "code",
   "execution_count": 214,
   "id": "b44bd246-65ff-4b4c-b43c-85adde7863f6",
   "metadata": {
    "tags": []
   },
   "outputs": [],
   "source": [
    "# Save dataframe for future use\n",
    "\n",
    "time_series_df.to_csv('../us_datasets/time_series_df.csv')"
   ]
  },
  {
   "cell_type": "code",
   "execution_count": null,
   "id": "0406dbf8-c642-4a4c-871d-d95b2e1d5a88",
   "metadata": {},
   "outputs": [],
   "source": []
  }
 ],
 "metadata": {
  "kernelspec": {
   "display_name": "Python 3 (ipykernel)",
   "language": "python",
   "name": "python3"
  },
  "language_info": {
   "codemirror_mode": {
    "name": "ipython",
    "version": 3
   },
   "file_extension": ".py",
   "mimetype": "text/x-python",
   "name": "python",
   "nbconvert_exporter": "python",
   "pygments_lexer": "ipython3",
   "version": "3.11.5"
  }
 },
 "nbformat": 4,
 "nbformat_minor": 5
}
