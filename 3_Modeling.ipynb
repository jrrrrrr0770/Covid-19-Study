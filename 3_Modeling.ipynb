{
 "cells": [
  {
   "cell_type": "markdown",
   "id": "c552713f-31ec-4616-adcd-c46ae2ef8b77",
   "metadata": {},
   "source": [
    "<img src=\"./images/coronavirus_icon-1.jpg\" style=\"float: left; margin: 20px; height: 75px\">\n",
    "\n",
    "# **Capstone: Covid-19 Study**"
   ]
  },
  {
   "cell_type": "markdown",
   "id": "f6c39e2e-7586-4ee4-985a-e117a94060fd",
   "metadata": {
    "tags": []
   },
   "source": [
    "# 3.  Modeling"
   ]
  },
  {
   "cell_type": "code",
   "execution_count": null,
   "id": "6f4cb012-8122-442a-9d49-8980004af1c7",
   "metadata": {},
   "outputs": [],
   "source": []
  }
 ],
 "metadata": {
  "kernelspec": {
   "display_name": "Python 3 (ipykernel)",
   "language": "python",
   "name": "python3"
  },
  "language_info": {
   "codemirror_mode": {
    "name": "ipython",
    "version": 3
   },
   "file_extension": ".py",
   "mimetype": "text/x-python",
   "name": "python",
   "nbconvert_exporter": "python",
   "pygments_lexer": "ipython3",
   "version": "3.11.5"
  }
 },
 "nbformat": 4,
 "nbformat_minor": 5
}
