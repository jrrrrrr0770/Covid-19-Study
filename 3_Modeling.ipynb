{
 "cells": [
  {
   "cell_type": "markdown",
   "id": "c552713f-31ec-4616-adcd-c46ae2ef8b77",
   "metadata": {},
   "source": [
    "<img src=\"./images/coronavirus_icon-1.jpg\" style=\"float: left; margin: 20px; height: 75px\">\n",
    "\n",
    "# **Capstone: Covid-19 Study**"
   ]
  },
  {
   "cell_type": "markdown",
   "id": "f6c39e2e-7586-4ee4-985a-e117a94060fd",
   "metadata": {
    "tags": []
   },
   "source": [
    "# 3.  Modeling"
   ]
  },
  {
   "cell_type": "code",
   "execution_count": 111,
   "id": "6f4cb012-8122-442a-9d49-8980004af1c7",
   "metadata": {},
   "outputs": [],
   "source": [
    "# Import libraries\n",
    "\n",
    "import pandas as pd\n",
    "import numpy as np\n",
    "import seaborn as sns\n",
    "import matplotlib.pyplot as plt\n",
    "from sklearn.model_selection import train_test_split, cross_val_score, GridSearchCV\n",
    "from sklearn.linear_model import LinearRegression\n",
    "from sklearn.neighbors import KNeighborsRegressor\n",
    "from sklearn.linear_model import RidgeCV, LassoCV\n",
    "from sklearn.ensemble import RandomForestRegressor, AdaBoostRegressor, StackingRegressor\n",
    "from sklearn.preprocessing import StandardScaler\n",
    "from sklearn.pipeline import Pipeline\n",
    "from sktime.forecasting.model_selection import temporal_train_test_split\n",
    "from sktime.forecasting.arima import AutoARIMA\n",
    "from sktime.forecasting.ets import AutoETS\n",
    "from sktime.utils.plotting import plot_series\n",
    "import sktime\n",
    "import statsmodels\n",
    "import pmdarima as pmd\n",
    "from statsmodels.tsa.stattools import adfuller\n",
    "from statsmodels.tsa.arima.model import ARIMA\n",
    "from statsmodels.tsa.statespace.sarimax import SARIMAX\n",
    "from statsmodels.tsa.seasonal import seasonal_decompose\n",
    "from statsmodels.graphics.tsaplots import plot_acf, plot_pacf"
   ]
  },
  {
   "cell_type": "code",
   "execution_count": 2,
   "id": "554d4372-8ff8-47f5-a03b-ccf80815cb1f",
   "metadata": {
    "tags": []
   },
   "outputs": [],
   "source": [
    "# Read in Datasets\n",
    "\n",
    "merged_1_corr = pd.read_csv('../us_datasets/merged_1_corr.csv')\n",
    "merged_2_corr = pd.read_csv('../us_datasets/merged_2_corr.csv')\n",
    "merged_3_corr = pd.read_csv('../us_datasets/merged_3_corr.csv')\n",
    "merged_1_corr_ratio = pd.read_csv('../us_datasets/merged_1_corr_ratio.csv')\n",
    "time_series_df = pd.read_csv('../us_datasets/time_series_df.csv')"
   ]
  },
  {
   "cell_type": "code",
   "execution_count": 3,
   "id": "07c71630-0b53-49e1-bb06-2f8843398e8f",
   "metadata": {
    "tags": []
   },
   "outputs": [],
   "source": [
    "us_epidemiology = pd.read_csv('../us_datasets/us_epidemiology.csv', index_col = 'location_key')\n",
    "us_index_merge_on = pd.read_csv('../us_datasets/us_index_merge_on.csv', index_col = 'location_key')"
   ]
  },
  {
   "cell_type": "markdown",
   "id": "05522ee3-e3c7-4d5f-8281-c15defbff662",
   "metadata": {},
   "source": [
    "## Create Linear Regression Models for Inferential Analysis"
   ]
  },
  {
   "cell_type": "markdown",
   "id": "495cd6d7-22fb-4162-8b71-e3764088f9da",
   "metadata": {},
   "source": [
    "### Iteration 1: Fit LR models to three datasets: 01-01-2021, 09-01-2021, 05-13-2022"
   ]
  },
  {
   "cell_type": "code",
   "execution_count": 63,
   "id": "344d40c5-904c-43ae-aea8-c4594a36941e",
   "metadata": {
    "tags": []
   },
   "outputs": [],
   "source": [
    "# Create X and y variables for three lr models\n",
    "\n",
    "x1 = merged_1_corr.drop(columns = ['cumulative_confirmed', 'new_confirmed', 'Unnamed: 0'])\n",
    "x1r = merged_1_corr_ratio.drop(columns = ['cumulative_confirmed', 'cov_confirmed_pop_ratio', 'Unnamed: 0'])\n",
    "x2 = merged_2_corr.drop(columns = ['cumulative_confirmed', 'new_confirmed', 'Unnamed: 0'])\n",
    "x3 = merged_3_corr.drop(columns = ['cumulative_confirmed', 'new_confirmed', 'Unnamed: 0'])\n",
    "\n",
    "y1 = merged_1_corr['cumulative_confirmed']\n",
    "y1r = merged_1_corr_ratio['cov_confirmed_pop_ratio']\n",
    "y2 = merged_2_corr['cumulative_confirmed']\n",
    "y3 = merged_3_corr['cumulative_confirmed']"
   ]
  },
  {
   "cell_type": "code",
   "execution_count": 64,
   "id": "b5e679ef-fe37-4ab5-aa1e-34dd78c7eda9",
   "metadata": {
    "tags": []
   },
   "outputs": [],
   "source": [
    "# Train test split each dataset\n",
    "\n",
    "x1_train, x1_test, y1_train, y1_test = train_test_split(x1, y1, random_state = 42)\n",
    "x1r_train, x1r_test, y1r_train, y1r_test = train_test_split(x1r, y1r, random_state = 42)\n",
    "x2_train, x2_test, y2_train, y2_test = train_test_split(x2, y2, random_state = 42)\n",
    "x3_train, x3_test, y3_train, y3_test = train_test_split(x3, y3, random_state = 42)"
   ]
  },
  {
   "cell_type": "code",
   "execution_count": 65,
   "id": "1bc4437c-205d-4006-b65f-0c0a1cb32549",
   "metadata": {
    "tags": []
   },
   "outputs": [
    {
     "data": {
      "text/html": [
       "<style>#sk-container-id-11 {color: black;}#sk-container-id-11 pre{padding: 0;}#sk-container-id-11 div.sk-toggleable {background-color: white;}#sk-container-id-11 label.sk-toggleable__label {cursor: pointer;display: block;width: 100%;margin-bottom: 0;padding: 0.3em;box-sizing: border-box;text-align: center;}#sk-container-id-11 label.sk-toggleable__label-arrow:before {content: \"▸\";float: left;margin-right: 0.25em;color: #696969;}#sk-container-id-11 label.sk-toggleable__label-arrow:hover:before {color: black;}#sk-container-id-11 div.sk-estimator:hover label.sk-toggleable__label-arrow:before {color: black;}#sk-container-id-11 div.sk-toggleable__content {max-height: 0;max-width: 0;overflow: hidden;text-align: left;background-color: #f0f8ff;}#sk-container-id-11 div.sk-toggleable__content pre {margin: 0.2em;color: black;border-radius: 0.25em;background-color: #f0f8ff;}#sk-container-id-11 input.sk-toggleable__control:checked~div.sk-toggleable__content {max-height: 200px;max-width: 100%;overflow: auto;}#sk-container-id-11 input.sk-toggleable__control:checked~label.sk-toggleable__label-arrow:before {content: \"▾\";}#sk-container-id-11 div.sk-estimator input.sk-toggleable__control:checked~label.sk-toggleable__label {background-color: #d4ebff;}#sk-container-id-11 div.sk-label input.sk-toggleable__control:checked~label.sk-toggleable__label {background-color: #d4ebff;}#sk-container-id-11 input.sk-hidden--visually {border: 0;clip: rect(1px 1px 1px 1px);clip: rect(1px, 1px, 1px, 1px);height: 1px;margin: -1px;overflow: hidden;padding: 0;position: absolute;width: 1px;}#sk-container-id-11 div.sk-estimator {font-family: monospace;background-color: #f0f8ff;border: 1px dotted black;border-radius: 0.25em;box-sizing: border-box;margin-bottom: 0.5em;}#sk-container-id-11 div.sk-estimator:hover {background-color: #d4ebff;}#sk-container-id-11 div.sk-parallel-item::after {content: \"\";width: 100%;border-bottom: 1px solid gray;flex-grow: 1;}#sk-container-id-11 div.sk-label:hover label.sk-toggleable__label {background-color: #d4ebff;}#sk-container-id-11 div.sk-serial::before {content: \"\";position: absolute;border-left: 1px solid gray;box-sizing: border-box;top: 0;bottom: 0;left: 50%;z-index: 0;}#sk-container-id-11 div.sk-serial {display: flex;flex-direction: column;align-items: center;background-color: white;padding-right: 0.2em;padding-left: 0.2em;position: relative;}#sk-container-id-11 div.sk-item {position: relative;z-index: 1;}#sk-container-id-11 div.sk-parallel {display: flex;align-items: stretch;justify-content: center;background-color: white;position: relative;}#sk-container-id-11 div.sk-item::before, #sk-container-id-11 div.sk-parallel-item::before {content: \"\";position: absolute;border-left: 1px solid gray;box-sizing: border-box;top: 0;bottom: 0;left: 50%;z-index: -1;}#sk-container-id-11 div.sk-parallel-item {display: flex;flex-direction: column;z-index: 1;position: relative;background-color: white;}#sk-container-id-11 div.sk-parallel-item:first-child::after {align-self: flex-end;width: 50%;}#sk-container-id-11 div.sk-parallel-item:last-child::after {align-self: flex-start;width: 50%;}#sk-container-id-11 div.sk-parallel-item:only-child::after {width: 0;}#sk-container-id-11 div.sk-dashed-wrapped {border: 1px dashed gray;margin: 0 0.4em 0.5em 0.4em;box-sizing: border-box;padding-bottom: 0.4em;background-color: white;}#sk-container-id-11 div.sk-label label {font-family: monospace;font-weight: bold;display: inline-block;line-height: 1.2em;}#sk-container-id-11 div.sk-label-container {text-align: center;}#sk-container-id-11 div.sk-container {/* jupyter's `normalize.less` sets `[hidden] { display: none; }` but bootstrap.min.css set `[hidden] { display: none !important; }` so we also need the `!important` here to be able to override the default hidden behavior on the sphinx rendered scikit-learn.org. See: https://github.com/scikit-learn/scikit-learn/issues/21755 */display: inline-block !important;position: relative;}#sk-container-id-11 div.sk-text-repr-fallback {display: none;}</style><div id=\"sk-container-id-11\" class=\"sk-top-container\"><div class=\"sk-text-repr-fallback\"><pre>LinearRegression()</pre><b>In a Jupyter environment, please rerun this cell to show the HTML representation or trust the notebook. <br />On GitHub, the HTML representation is unable to render, please try loading this page with nbviewer.org.</b></div><div class=\"sk-container\" hidden><div class=\"sk-item\"><div class=\"sk-estimator sk-toggleable\"><input class=\"sk-toggleable__control sk-hidden--visually\" id=\"sk-estimator-id-11\" type=\"checkbox\" checked><label for=\"sk-estimator-id-11\" class=\"sk-toggleable__label sk-toggleable__label-arrow\">LinearRegression</label><div class=\"sk-toggleable__content\"><pre>LinearRegression()</pre></div></div></div></div></div>"
      ],
      "text/plain": [
       "LinearRegression()"
      ]
     },
     "execution_count": 65,
     "metadata": {},
     "output_type": "execute_result"
    }
   ],
   "source": [
    "# Scale, fit each model\n",
    "\n",
    "sc1 = StandardScaler()\n",
    "x1_train_sc = sc1.fit_transform(x1_train)\n",
    "x1_test_sc = sc1.transform(x1_test)\n",
    "\n",
    "sc1r = StandardScaler()\n",
    "x1r_train_sc = sc1r.fit_transform(x1r_train)\n",
    "x1r_test_sc = sc1r.transform(x1r_test)\n",
    "\n",
    "sc2 = StandardScaler()\n",
    "x2_train_sc = sc2.fit_transform(x2_train)\n",
    "x2_test_sc = sc2.transform(x2_test)\n",
    "\n",
    "sc3 = StandardScaler()\n",
    "x3_train_sc = sc3.fit_transform(x3_train)\n",
    "x3_test_sc = sc3.transform(x3_test)\n",
    "\n",
    "lr1 = LinearRegression()\n",
    "lr1.fit(x1_train_sc, y1_train)\n",
    "\n",
    "lr1r = LinearRegression()\n",
    "lr1r.fit(x1r_train_sc, y1r_train)\n",
    "\n",
    "lr2 = LinearRegression()\n",
    "lr2.fit(x2_train_sc, y2_train)\n",
    "\n",
    "lr3 = LinearRegression()\n",
    "lr3.fit(x3_train_sc, y3_train)"
   ]
  },
  {
   "cell_type": "code",
   "execution_count": 66,
   "id": "088fac46-a3d8-4070-acf1-9d7463cf73ae",
   "metadata": {
    "tags": []
   },
   "outputs": [
    {
     "name": "stdout",
     "output_type": "stream",
     "text": [
      "01-01-2021 Dataset\n",
      "Training R2: 0.952\n",
      "Testing R2: 0.86\n",
      "==========================\n",
      "01-01-2021 Ratio Dataset\n",
      "Training R2: 0.447\n",
      "Testing R2: 0.455\n",
      "==========================\n",
      "09-01-2021 Dataset\n",
      "Training R2: 0.962\n",
      "Testing R2: 0.825\n",
      "==========================\n",
      "05-13-2022 Dataset\n",
      "Training R2: 0.979\n",
      "Testing R2: 0.954\n"
     ]
    }
   ],
   "source": [
    "# Calculate train/test R2 scores for each model\n",
    "\n",
    "print(\"01-01-2021 Dataset\")\n",
    "print(f'Training R2: {round(lr1.score(x1_train_sc, y1_train),3)}')\n",
    "print(f'Testing R2: {round(lr1.score(x1_test_sc, y1_test),3)}')\n",
    "print('='*26)\n",
    "print(\"01-01-2021 Ratio Dataset\")\n",
    "print(f'Training R2: {round(lr1r.score(x1r_train_sc, y1r_train),3)}')\n",
    "print(f'Testing R2: {round(lr1r.score(x1r_test_sc, y1r_test),3)}')\n",
    "print('='*26)\n",
    "print(\"09-01-2021 Dataset\")\n",
    "print(f'Training R2: {round(lr2.score(x2_train_sc, y2_train),3)}')\n",
    "print(f'Testing R2: {round(lr2.score(x2_test_sc, y2_test),3)}')\n",
    "print('='*26)\n",
    "print(\"05-13-2022 Dataset\")\n",
    "print(f'Training R2: {round(lr3.score(x3_train_sc, y3_train),3)}')\n",
    "print(f'Testing R2: {round(lr3.score(x3_test_sc, y3_test),3)}')"
   ]
  },
  {
   "cell_type": "code",
   "execution_count": 68,
   "id": "d29b57dc-b100-4158-986d-527d9f203c70",
   "metadata": {
    "tags": []
   },
   "outputs": [
    {
     "data": {
      "text/html": [
       "<div>\n",
       "<style scoped>\n",
       "    .dataframe tbody tr th:only-of-type {\n",
       "        vertical-align: middle;\n",
       "    }\n",
       "\n",
       "    .dataframe tbody tr th {\n",
       "        vertical-align: top;\n",
       "    }\n",
       "\n",
       "    .dataframe thead th {\n",
       "        text-align: right;\n",
       "    }\n",
       "</style>\n",
       "<table border=\"1\" class=\"dataframe\">\n",
       "  <thead>\n",
       "    <tr style=\"text-align: right;\">\n",
       "      <th></th>\n",
       "      <th>01-01-2021 Dataset</th>\n",
       "      <th>09-01-2021 Dataset</th>\n",
       "      <th>05-13-2022 Dataset</th>\n",
       "    </tr>\n",
       "  </thead>\n",
       "  <tbody>\n",
       "    <tr>\n",
       "      <th>population_age_40_49</th>\n",
       "      <td>9.009977e+16</td>\n",
       "      <td>24805.449</td>\n",
       "      <td>102844.929</td>\n",
       "    </tr>\n",
       "    <tr>\n",
       "      <th>population_age_20_29</th>\n",
       "      <td>1.025861e+17</td>\n",
       "      <td>14973.120</td>\n",
       "      <td>82123.878</td>\n",
       "    </tr>\n",
       "    <tr>\n",
       "      <th>population_age_70_79</th>\n",
       "      <td>4.015750e+16</td>\n",
       "      <td>-954.972</td>\n",
       "      <td>71443.513</td>\n",
       "    </tr>\n",
       "    <tr>\n",
       "      <th>population_female</th>\n",
       "      <td>-2.453064e+17</td>\n",
       "      <td>41428.380</td>\n",
       "      <td>69137.707</td>\n",
       "    </tr>\n",
       "    <tr>\n",
       "      <th>population_age_00_09</th>\n",
       "      <td>8.548949e+16</td>\n",
       "      <td>14714.790</td>\n",
       "      <td>54712.983</td>\n",
       "    </tr>\n",
       "    <tr>\n",
       "      <th>population_age_50_59</th>\n",
       "      <td>8.912399e+16</td>\n",
       "      <td>-3487.502</td>\n",
       "      <td>44510.266</td>\n",
       "    </tr>\n",
       "    <tr>\n",
       "      <th>cumulative_persons_fully_vaccinated</th>\n",
       "      <td>NaN</td>\n",
       "      <td>6011.472</td>\n",
       "      <td>8824.040</td>\n",
       "    </tr>\n",
       "    <tr>\n",
       "      <th>population_age_80_and_older</th>\n",
       "      <td>2.472091e+16</td>\n",
       "      <td>16563.507</td>\n",
       "      <td>7837.274</td>\n",
       "    </tr>\n",
       "    <tr>\n",
       "      <th>population</th>\n",
       "      <td>-2.022897e+17</td>\n",
       "      <td>1439.055</td>\n",
       "      <td>7126.570</td>\n",
       "    </tr>\n",
       "    <tr>\n",
       "      <th>cancel_public_events</th>\n",
       "      <td>1.860190e+02</td>\n",
       "      <td>119.807</td>\n",
       "      <td>703.494</td>\n",
       "    </tr>\n",
       "    <tr>\n",
       "      <th>contact_tracing</th>\n",
       "      <td>-7.007430e+02</td>\n",
       "      <td>-688.231</td>\n",
       "      <td>282.859</td>\n",
       "    </tr>\n",
       "    <tr>\n",
       "      <th>rainfall_mm</th>\n",
       "      <td>-5.904630e+02</td>\n",
       "      <td>116.462</td>\n",
       "      <td>162.151</td>\n",
       "    </tr>\n",
       "    <tr>\n",
       "      <th>public_transport_closing</th>\n",
       "      <td>-1.896240e+02</td>\n",
       "      <td>11.218</td>\n",
       "      <td>140.316</td>\n",
       "    </tr>\n",
       "    <tr>\n",
       "      <th>snowfall_mm</th>\n",
       "      <td>1.525330e+02</td>\n",
       "      <td>NaN</td>\n",
       "      <td>87.949</td>\n",
       "    </tr>\n",
       "    <tr>\n",
       "      <th>school_closing</th>\n",
       "      <td>6.420100e+01</td>\n",
       "      <td>-199.953</td>\n",
       "      <td>38.841</td>\n",
       "    </tr>\n",
       "    <tr>\n",
       "      <th>average_temperature_celsius</th>\n",
       "      <td>-1.247812e+03</td>\n",
       "      <td>-483.611</td>\n",
       "      <td>-320.198</td>\n",
       "    </tr>\n",
       "    <tr>\n",
       "      <th>income_support</th>\n",
       "      <td>-6.306200e+02</td>\n",
       "      <td>187.989</td>\n",
       "      <td>-626.787</td>\n",
       "    </tr>\n",
       "    <tr>\n",
       "      <th>debt_relief</th>\n",
       "      <td>-1.126778e+03</td>\n",
       "      <td>-365.827</td>\n",
       "      <td>-629.733</td>\n",
       "    </tr>\n",
       "    <tr>\n",
       "      <th>life_expectancy</th>\n",
       "      <td>-8.153730e+02</td>\n",
       "      <td>-637.366</td>\n",
       "      <td>-803.945</td>\n",
       "    </tr>\n",
       "    <tr>\n",
       "      <th>facial_coverings</th>\n",
       "      <td>7.330440e+02</td>\n",
       "      <td>-472.884</td>\n",
       "      <td>-954.221</td>\n",
       "    </tr>\n",
       "    <tr>\n",
       "      <th>workplace_closing</th>\n",
       "      <td>-4.571860e+02</td>\n",
       "      <td>-229.124</td>\n",
       "      <td>-960.255</td>\n",
       "    </tr>\n",
       "    <tr>\n",
       "      <th>stay_at_home_requirements</th>\n",
       "      <td>3.675360e+02</td>\n",
       "      <td>743.838</td>\n",
       "      <td>-1029.863</td>\n",
       "    </tr>\n",
       "    <tr>\n",
       "      <th>population_age_10_19</th>\n",
       "      <td>8.618910e+16</td>\n",
       "      <td>14877.812</td>\n",
       "      <td>-49066.843</td>\n",
       "    </tr>\n",
       "    <tr>\n",
       "      <th>population_male</th>\n",
       "      <td>-2.367573e+17</td>\n",
       "      <td>-39941.801</td>\n",
       "      <td>-57125.071</td>\n",
       "    </tr>\n",
       "    <tr>\n",
       "      <th>population_age_30_39</th>\n",
       "      <td>9.926564e+16</td>\n",
       "      <td>-29952.545</td>\n",
       "      <td>-101683.433</td>\n",
       "    </tr>\n",
       "    <tr>\n",
       "      <th>population_age_60_69</th>\n",
       "      <td>7.013941e+16</td>\n",
       "      <td>-34971.063</td>\n",
       "      <td>-145405.415</td>\n",
       "    </tr>\n",
       "    <tr>\n",
       "      <th>restrictions_on_gatherings</th>\n",
       "      <td>-6.883400e+02</td>\n",
       "      <td>-585.918</td>\n",
       "      <td>NaN</td>\n",
       "    </tr>\n",
       "    <tr>\n",
       "      <th>restrictions_on_internal_movement</th>\n",
       "      <td>-2.990050e+02</td>\n",
       "      <td>NaN</td>\n",
       "      <td>NaN</td>\n",
       "    </tr>\n",
       "    <tr>\n",
       "      <th>testing_policy</th>\n",
       "      <td>3.755720e+02</td>\n",
       "      <td>NaN</td>\n",
       "      <td>NaN</td>\n",
       "    </tr>\n",
       "    <tr>\n",
       "      <th>vaccination_policy</th>\n",
       "      <td>-3.902430e+02</td>\n",
       "      <td>NaN</td>\n",
       "      <td>NaN</td>\n",
       "    </tr>\n",
       "  </tbody>\n",
       "</table>\n",
       "</div>"
      ],
      "text/plain": [
       "                                     01-01-2021 Dataset  09-01-2021 Dataset  \\\n",
       "population_age_40_49                       9.009977e+16           24805.449   \n",
       "population_age_20_29                       1.025861e+17           14973.120   \n",
       "population_age_70_79                       4.015750e+16            -954.972   \n",
       "population_female                         -2.453064e+17           41428.380   \n",
       "population_age_00_09                       8.548949e+16           14714.790   \n",
       "population_age_50_59                       8.912399e+16           -3487.502   \n",
       "cumulative_persons_fully_vaccinated                 NaN            6011.472   \n",
       "population_age_80_and_older                2.472091e+16           16563.507   \n",
       "population                                -2.022897e+17            1439.055   \n",
       "cancel_public_events                       1.860190e+02             119.807   \n",
       "contact_tracing                           -7.007430e+02            -688.231   \n",
       "rainfall_mm                               -5.904630e+02             116.462   \n",
       "public_transport_closing                  -1.896240e+02              11.218   \n",
       "snowfall_mm                                1.525330e+02                 NaN   \n",
       "school_closing                             6.420100e+01            -199.953   \n",
       "average_temperature_celsius               -1.247812e+03            -483.611   \n",
       "income_support                            -6.306200e+02             187.989   \n",
       "debt_relief                               -1.126778e+03            -365.827   \n",
       "life_expectancy                           -8.153730e+02            -637.366   \n",
       "facial_coverings                           7.330440e+02            -472.884   \n",
       "workplace_closing                         -4.571860e+02            -229.124   \n",
       "stay_at_home_requirements                  3.675360e+02             743.838   \n",
       "population_age_10_19                       8.618910e+16           14877.812   \n",
       "population_male                           -2.367573e+17          -39941.801   \n",
       "population_age_30_39                       9.926564e+16          -29952.545   \n",
       "population_age_60_69                       7.013941e+16          -34971.063   \n",
       "restrictions_on_gatherings                -6.883400e+02            -585.918   \n",
       "restrictions_on_internal_movement         -2.990050e+02                 NaN   \n",
       "testing_policy                             3.755720e+02                 NaN   \n",
       "vaccination_policy                        -3.902430e+02                 NaN   \n",
       "\n",
       "                                     05-13-2022 Dataset  \n",
       "population_age_40_49                         102844.929  \n",
       "population_age_20_29                          82123.878  \n",
       "population_age_70_79                          71443.513  \n",
       "population_female                             69137.707  \n",
       "population_age_00_09                          54712.983  \n",
       "population_age_50_59                          44510.266  \n",
       "cumulative_persons_fully_vaccinated            8824.040  \n",
       "population_age_80_and_older                    7837.274  \n",
       "population                                     7126.570  \n",
       "cancel_public_events                            703.494  \n",
       "contact_tracing                                 282.859  \n",
       "rainfall_mm                                     162.151  \n",
       "public_transport_closing                        140.316  \n",
       "snowfall_mm                                      87.949  \n",
       "school_closing                                   38.841  \n",
       "average_temperature_celsius                    -320.198  \n",
       "income_support                                 -626.787  \n",
       "debt_relief                                    -629.733  \n",
       "life_expectancy                                -803.945  \n",
       "facial_coverings                               -954.221  \n",
       "workplace_closing                              -960.255  \n",
       "stay_at_home_requirements                     -1029.863  \n",
       "population_age_10_19                         -49066.843  \n",
       "population_male                              -57125.071  \n",
       "population_age_30_39                        -101683.433  \n",
       "population_age_60_69                        -145405.415  \n",
       "restrictions_on_gatherings                          NaN  \n",
       "restrictions_on_internal_movement                   NaN  \n",
       "testing_policy                                      NaN  \n",
       "vaccination_policy                                  NaN  "
      ]
     },
     "execution_count": 68,
     "metadata": {},
     "output_type": "execute_result"
    }
   ],
   "source": [
    "# Create dataframe of coefficients\n",
    "\n",
    "df_1 = pd.DataFrame(lr1.coef_, index = x1.columns, columns = ['01-01-2021 Dataset'])\n",
    "df_2 = pd.DataFrame(lr2.coef_, index = x2.columns, columns = ['09-01-2021 Dataset'])\n",
    "df_3 = pd.DataFrame(lr3.coef_, index = x3.columns, columns = ['05-13-2022 Dataset'])\n",
    "\n",
    "coef_df = pd.concat([df_1, df_2, df_3], axis = 1, join = 'outer')\n",
    "coef_df.round(3).sort_values(by = '05-13-2022 Dataset', ascending = False)"
   ]
  },
  {
   "cell_type": "markdown",
   "id": "7ea9dcdb-faa3-464c-96e4-05ce297c2925",
   "metadata": {},
   "source": [
    "### Iteration 2: Remove demographic data"
   ]
  },
  {
   "cell_type": "code",
   "execution_count": 69,
   "id": "a87ef4e3-9cc4-4319-9678-e8c50e76c5e4",
   "metadata": {
    "tags": []
   },
   "outputs": [
    {
     "name": "stdout",
     "output_type": "stream",
     "text": [
      "<class 'pandas.core.frame.DataFrame'>\n",
      "RangeIndex: 3013 entries, 0 to 3012\n",
      "Data columns (total 32 columns):\n",
      " #   Column                             Non-Null Count  Dtype  \n",
      "---  ------                             --------------  -----  \n",
      " 0   Unnamed: 0                         3013 non-null   int64  \n",
      " 1   school_closing                     3013 non-null   float64\n",
      " 2   workplace_closing                  3013 non-null   float64\n",
      " 3   cancel_public_events               3013 non-null   float64\n",
      " 4   restrictions_on_gatherings         3013 non-null   float64\n",
      " 5   public_transport_closing           3013 non-null   float64\n",
      " 6   stay_at_home_requirements          3013 non-null   float64\n",
      " 7   restrictions_on_internal_movement  3013 non-null   float64\n",
      " 8   income_support                     3013 non-null   float64\n",
      " 9   debt_relief                        3013 non-null   float64\n",
      " 10  testing_policy                     3013 non-null   float64\n",
      " 11  contact_tracing                    3013 non-null   float64\n",
      " 12  facial_coverings                   3013 non-null   float64\n",
      " 13  vaccination_policy                 3013 non-null   float64\n",
      " 14  population                         3013 non-null   float64\n",
      " 15  population_male                    3013 non-null   float64\n",
      " 16  population_female                  3013 non-null   float64\n",
      " 17  population_age_00_09               3013 non-null   float64\n",
      " 18  population_age_10_19               3013 non-null   float64\n",
      " 19  population_age_20_29               3013 non-null   float64\n",
      " 20  population_age_30_39               3013 non-null   float64\n",
      " 21  population_age_40_49               3013 non-null   float64\n",
      " 22  population_age_50_59               3013 non-null   float64\n",
      " 23  population_age_60_69               3013 non-null   float64\n",
      " 24  population_age_70_79               3013 non-null   float64\n",
      " 25  population_age_80_and_older        3013 non-null   float64\n",
      " 26  life_expectancy                    3013 non-null   float64\n",
      " 27  average_temperature_celsius        3013 non-null   float64\n",
      " 28  rainfall_mm                        3013 non-null   float64\n",
      " 29  snowfall_mm                        3013 non-null   float64\n",
      " 30  new_confirmed                      3013 non-null   float64\n",
      " 31  cumulative_confirmed               3013 non-null   float64\n",
      "dtypes: float64(31), int64(1)\n",
      "memory usage: 753.4 KB\n"
     ]
    }
   ],
   "source": [
    "merged_1_corr.info()"
   ]
  },
  {
   "cell_type": "code",
   "execution_count": 89,
   "id": "869827b3-339f-4c6d-ace5-ffa52e772ee5",
   "metadata": {
    "tags": []
   },
   "outputs": [],
   "source": [
    "# Remove demographic data\n",
    "\n",
    "x1 = merged_1_corr.drop(columns = ['population_age_00_09','population_age_10_19','population_age_20_29','population_age_30_39','population_age_40_49',\n",
    "                                   'population_age_50_59','population_age_60_69','population_age_70_79','population_age_80_and_older','cumulative_confirmed',\n",
    "                                   'new_confirmed', 'Unnamed: 0','population','population_male','population_female'])\n",
    "x2 = merged_2_corr.drop(columns = ['population_age_00_09','population_age_10_19','population_age_20_29','population_age_30_39','population_age_40_49',\n",
    "                                   'population_age_50_59','population_age_60_69','population_age_70_79','population_age_80_and_older','cumulative_confirmed',\n",
    "                                   'new_confirmed', 'Unnamed: 0','population','population_male','population_female'])\n",
    "x3 = merged_3_corr.drop(columns = ['population_age_00_09','population_age_10_19','population_age_20_29','population_age_30_39','population_age_40_49',\n",
    "                                   'population_age_50_59','population_age_60_69','population_age_70_79','population_age_80_and_older','cumulative_confirmed',\n",
    "                                   'new_confirmed', 'Unnamed: 0','population','population_male','population_female'])\n",
    "\n",
    "y1 = merged_1_corr['cumulative_confirmed']\n",
    "y2 = merged_2_corr['cumulative_confirmed']\n",
    "y3 = merged_3_corr['cumulative_confirmed']"
   ]
  },
  {
   "cell_type": "code",
   "execution_count": 90,
   "id": "0269ac69-a803-4eaa-833e-e092369886a5",
   "metadata": {
    "tags": []
   },
   "outputs": [],
   "source": [
    "# Train test split each dataset\n",
    "\n",
    "x1_train, x1_test, y1_train, y1_test = train_test_split(x1, y1, random_state = 42)\n",
    "x2_train, x2_test, y2_train, y2_test = train_test_split(x2, y2, random_state = 42)\n",
    "x3_train, x3_test, y3_train, y3_test = train_test_split(x3, y3, random_state = 42)"
   ]
  },
  {
   "cell_type": "code",
   "execution_count": 91,
   "id": "638ec384-1724-4498-b08e-a7e2b2ec32c5",
   "metadata": {
    "tags": []
   },
   "outputs": [
    {
     "data": {
      "text/html": [
       "<style>#sk-container-id-16 {color: black;}#sk-container-id-16 pre{padding: 0;}#sk-container-id-16 div.sk-toggleable {background-color: white;}#sk-container-id-16 label.sk-toggleable__label {cursor: pointer;display: block;width: 100%;margin-bottom: 0;padding: 0.3em;box-sizing: border-box;text-align: center;}#sk-container-id-16 label.sk-toggleable__label-arrow:before {content: \"▸\";float: left;margin-right: 0.25em;color: #696969;}#sk-container-id-16 label.sk-toggleable__label-arrow:hover:before {color: black;}#sk-container-id-16 div.sk-estimator:hover label.sk-toggleable__label-arrow:before {color: black;}#sk-container-id-16 div.sk-toggleable__content {max-height: 0;max-width: 0;overflow: hidden;text-align: left;background-color: #f0f8ff;}#sk-container-id-16 div.sk-toggleable__content pre {margin: 0.2em;color: black;border-radius: 0.25em;background-color: #f0f8ff;}#sk-container-id-16 input.sk-toggleable__control:checked~div.sk-toggleable__content {max-height: 200px;max-width: 100%;overflow: auto;}#sk-container-id-16 input.sk-toggleable__control:checked~label.sk-toggleable__label-arrow:before {content: \"▾\";}#sk-container-id-16 div.sk-estimator input.sk-toggleable__control:checked~label.sk-toggleable__label {background-color: #d4ebff;}#sk-container-id-16 div.sk-label input.sk-toggleable__control:checked~label.sk-toggleable__label {background-color: #d4ebff;}#sk-container-id-16 input.sk-hidden--visually {border: 0;clip: rect(1px 1px 1px 1px);clip: rect(1px, 1px, 1px, 1px);height: 1px;margin: -1px;overflow: hidden;padding: 0;position: absolute;width: 1px;}#sk-container-id-16 div.sk-estimator {font-family: monospace;background-color: #f0f8ff;border: 1px dotted black;border-radius: 0.25em;box-sizing: border-box;margin-bottom: 0.5em;}#sk-container-id-16 div.sk-estimator:hover {background-color: #d4ebff;}#sk-container-id-16 div.sk-parallel-item::after {content: \"\";width: 100%;border-bottom: 1px solid gray;flex-grow: 1;}#sk-container-id-16 div.sk-label:hover label.sk-toggleable__label {background-color: #d4ebff;}#sk-container-id-16 div.sk-serial::before {content: \"\";position: absolute;border-left: 1px solid gray;box-sizing: border-box;top: 0;bottom: 0;left: 50%;z-index: 0;}#sk-container-id-16 div.sk-serial {display: flex;flex-direction: column;align-items: center;background-color: white;padding-right: 0.2em;padding-left: 0.2em;position: relative;}#sk-container-id-16 div.sk-item {position: relative;z-index: 1;}#sk-container-id-16 div.sk-parallel {display: flex;align-items: stretch;justify-content: center;background-color: white;position: relative;}#sk-container-id-16 div.sk-item::before, #sk-container-id-16 div.sk-parallel-item::before {content: \"\";position: absolute;border-left: 1px solid gray;box-sizing: border-box;top: 0;bottom: 0;left: 50%;z-index: -1;}#sk-container-id-16 div.sk-parallel-item {display: flex;flex-direction: column;z-index: 1;position: relative;background-color: white;}#sk-container-id-16 div.sk-parallel-item:first-child::after {align-self: flex-end;width: 50%;}#sk-container-id-16 div.sk-parallel-item:last-child::after {align-self: flex-start;width: 50%;}#sk-container-id-16 div.sk-parallel-item:only-child::after {width: 0;}#sk-container-id-16 div.sk-dashed-wrapped {border: 1px dashed gray;margin: 0 0.4em 0.5em 0.4em;box-sizing: border-box;padding-bottom: 0.4em;background-color: white;}#sk-container-id-16 div.sk-label label {font-family: monospace;font-weight: bold;display: inline-block;line-height: 1.2em;}#sk-container-id-16 div.sk-label-container {text-align: center;}#sk-container-id-16 div.sk-container {/* jupyter's `normalize.less` sets `[hidden] { display: none; }` but bootstrap.min.css set `[hidden] { display: none !important; }` so we also need the `!important` here to be able to override the default hidden behavior on the sphinx rendered scikit-learn.org. See: https://github.com/scikit-learn/scikit-learn/issues/21755 */display: inline-block !important;position: relative;}#sk-container-id-16 div.sk-text-repr-fallback {display: none;}</style><div id=\"sk-container-id-16\" class=\"sk-top-container\"><div class=\"sk-text-repr-fallback\"><pre>LinearRegression()</pre><b>In a Jupyter environment, please rerun this cell to show the HTML representation or trust the notebook. <br />On GitHub, the HTML representation is unable to render, please try loading this page with nbviewer.org.</b></div><div class=\"sk-container\" hidden><div class=\"sk-item\"><div class=\"sk-estimator sk-toggleable\"><input class=\"sk-toggleable__control sk-hidden--visually\" id=\"sk-estimator-id-16\" type=\"checkbox\" checked><label for=\"sk-estimator-id-16\" class=\"sk-toggleable__label sk-toggleable__label-arrow\">LinearRegression</label><div class=\"sk-toggleable__content\"><pre>LinearRegression()</pre></div></div></div></div></div>"
      ],
      "text/plain": [
       "LinearRegression()"
      ]
     },
     "execution_count": 91,
     "metadata": {},
     "output_type": "execute_result"
    }
   ],
   "source": [
    "# Scale, fit each model\n",
    "\n",
    "sc1 = StandardScaler()\n",
    "x1_train_sc = sc1.fit_transform(x1_train)\n",
    "x1_test_sc = sc1.transform(x1_test)\n",
    "\n",
    "sc2 = StandardScaler()\n",
    "x2_train_sc = sc2.fit_transform(x2_train)\n",
    "x2_test_sc = sc2.transform(x2_test)\n",
    "\n",
    "sc3 = StandardScaler()\n",
    "x3_train_sc = sc3.fit_transform(x3_train)\n",
    "x3_test_sc = sc3.transform(x3_test)\n",
    "\n",
    "lr1 = LinearRegression()\n",
    "lr1.fit(x1_train_sc, y1_train)\n",
    "\n",
    "lr2 = LinearRegression()\n",
    "lr2.fit(x2_train_sc, y2_train)\n",
    "\n",
    "lr3 = LinearRegression()\n",
    "lr3.fit(x3_train_sc, y3_train)"
   ]
  },
  {
   "cell_type": "code",
   "execution_count": 92,
   "id": "6d1b234e-4333-40b7-b555-42266457f8e8",
   "metadata": {
    "tags": []
   },
   "outputs": [
    {
     "name": "stdout",
     "output_type": "stream",
     "text": [
      "01-01-2021 Dataset\n",
      "Training R2: 0.054\n",
      "Testing R2: 0.031\n",
      "==========================\n",
      "09-01-2021 Dataset\n",
      "Training R2: 0.831\n",
      "Testing R2: 0.774\n",
      "==========================\n",
      "05-13-2022 Dataset\n",
      "Training R2: 0.957\n",
      "Testing R2: 0.941\n"
     ]
    }
   ],
   "source": [
    "# Calculate train/test R2 scores for each model\n",
    "\n",
    "print(\"01-01-2021 Dataset\")\n",
    "print(f'Training R2: {round(lr1.score(x1_train_sc, y1_train),3)}')\n",
    "print(f'Testing R2: {round(lr1.score(x1_test_sc, y1_test),3)}')\n",
    "print('='*26)\n",
    "print(\"09-01-2021 Dataset\")\n",
    "print(f'Training R2: {round(lr2.score(x2_train_sc, y2_train),3)}')\n",
    "print(f'Testing R2: {round(lr2.score(x2_test_sc, y2_test),3)}')\n",
    "print('='*26)\n",
    "print(\"05-13-2022 Dataset\")\n",
    "print(f'Training R2: {round(lr3.score(x3_train_sc, y3_train),3)}')\n",
    "print(f'Testing R2: {round(lr3.score(x3_test_sc, y3_test),3)}')"
   ]
  },
  {
   "cell_type": "code",
   "execution_count": 94,
   "id": "3cb817ea-53d9-4bd3-9bcd-cc2a86030c60",
   "metadata": {
    "tags": []
   },
   "outputs": [
    {
     "data": {
      "text/html": [
       "<div>\n",
       "<style scoped>\n",
       "    .dataframe tbody tr th:only-of-type {\n",
       "        vertical-align: middle;\n",
       "    }\n",
       "\n",
       "    .dataframe tbody tr th {\n",
       "        vertical-align: top;\n",
       "    }\n",
       "\n",
       "    .dataframe thead th {\n",
       "        text-align: right;\n",
       "    }\n",
       "</style>\n",
       "<table border=\"1\" class=\"dataframe\">\n",
       "  <thead>\n",
       "    <tr style=\"text-align: right;\">\n",
       "      <th></th>\n",
       "      <th>01-01-2021 Dataset</th>\n",
       "      <th>09-01-2021 Dataset</th>\n",
       "      <th>05-13-2022 Dataset</th>\n",
       "    </tr>\n",
       "  </thead>\n",
       "  <tbody>\n",
       "    <tr>\n",
       "      <th>cumulative_persons_fully_vaccinated</th>\n",
       "      <td>NaN</td>\n",
       "      <td>23249.098</td>\n",
       "      <td>94029.614</td>\n",
       "    </tr>\n",
       "    <tr>\n",
       "      <th>cancel_public_events</th>\n",
       "      <td>1054.666</td>\n",
       "      <td>1229.641</td>\n",
       "      <td>1948.563</td>\n",
       "    </tr>\n",
       "    <tr>\n",
       "      <th>average_temperature_celsius</th>\n",
       "      <td>4363.981</td>\n",
       "      <td>638.970</td>\n",
       "      <td>1679.311</td>\n",
       "    </tr>\n",
       "    <tr>\n",
       "      <th>public_transport_closing</th>\n",
       "      <td>-993.624</td>\n",
       "      <td>-613.743</td>\n",
       "      <td>1064.549</td>\n",
       "    </tr>\n",
       "    <tr>\n",
       "      <th>rainfall_mm</th>\n",
       "      <td>-231.636</td>\n",
       "      <td>160.405</td>\n",
       "      <td>437.892</td>\n",
       "    </tr>\n",
       "    <tr>\n",
       "      <th>school_closing</th>\n",
       "      <td>2359.377</td>\n",
       "      <td>20.941</td>\n",
       "      <td>391.644</td>\n",
       "    </tr>\n",
       "    <tr>\n",
       "      <th>debt_relief</th>\n",
       "      <td>-1397.416</td>\n",
       "      <td>-336.112</td>\n",
       "      <td>17.792</td>\n",
       "    </tr>\n",
       "    <tr>\n",
       "      <th>snowfall_mm</th>\n",
       "      <td>1056.052</td>\n",
       "      <td>NaN</td>\n",
       "      <td>0.722</td>\n",
       "    </tr>\n",
       "    <tr>\n",
       "      <th>contact_tracing</th>\n",
       "      <td>1878.308</td>\n",
       "      <td>-754.818</td>\n",
       "      <td>-227.772</td>\n",
       "    </tr>\n",
       "    <tr>\n",
       "      <th>workplace_closing</th>\n",
       "      <td>1513.059</td>\n",
       "      <td>-829.752</td>\n",
       "      <td>-1281.281</td>\n",
       "    </tr>\n",
       "    <tr>\n",
       "      <th>income_support</th>\n",
       "      <td>322.898</td>\n",
       "      <td>163.257</td>\n",
       "      <td>-1444.638</td>\n",
       "    </tr>\n",
       "    <tr>\n",
       "      <th>facial_coverings</th>\n",
       "      <td>-157.015</td>\n",
       "      <td>-405.291</td>\n",
       "      <td>-1710.260</td>\n",
       "    </tr>\n",
       "    <tr>\n",
       "      <th>life_expectancy</th>\n",
       "      <td>2831.269</td>\n",
       "      <td>-414.258</td>\n",
       "      <td>-1899.175</td>\n",
       "    </tr>\n",
       "    <tr>\n",
       "      <th>stay_at_home_requirements</th>\n",
       "      <td>986.399</td>\n",
       "      <td>1213.081</td>\n",
       "      <td>-2690.179</td>\n",
       "    </tr>\n",
       "    <tr>\n",
       "      <th>restrictions_on_gatherings</th>\n",
       "      <td>-307.390</td>\n",
       "      <td>-845.300</td>\n",
       "      <td>NaN</td>\n",
       "    </tr>\n",
       "    <tr>\n",
       "      <th>restrictions_on_internal_movement</th>\n",
       "      <td>2147.909</td>\n",
       "      <td>NaN</td>\n",
       "      <td>NaN</td>\n",
       "    </tr>\n",
       "    <tr>\n",
       "      <th>testing_policy</th>\n",
       "      <td>624.790</td>\n",
       "      <td>NaN</td>\n",
       "      <td>NaN</td>\n",
       "    </tr>\n",
       "    <tr>\n",
       "      <th>vaccination_policy</th>\n",
       "      <td>-2448.247</td>\n",
       "      <td>NaN</td>\n",
       "      <td>NaN</td>\n",
       "    </tr>\n",
       "  </tbody>\n",
       "</table>\n",
       "</div>"
      ],
      "text/plain": [
       "                                     01-01-2021 Dataset  09-01-2021 Dataset  \\\n",
       "cumulative_persons_fully_vaccinated                 NaN           23249.098   \n",
       "cancel_public_events                           1054.666            1229.641   \n",
       "average_temperature_celsius                    4363.981             638.970   \n",
       "public_transport_closing                       -993.624            -613.743   \n",
       "rainfall_mm                                    -231.636             160.405   \n",
       "school_closing                                 2359.377              20.941   \n",
       "debt_relief                                   -1397.416            -336.112   \n",
       "snowfall_mm                                    1056.052                 NaN   \n",
       "contact_tracing                                1878.308            -754.818   \n",
       "workplace_closing                              1513.059            -829.752   \n",
       "income_support                                  322.898             163.257   \n",
       "facial_coverings                               -157.015            -405.291   \n",
       "life_expectancy                                2831.269            -414.258   \n",
       "stay_at_home_requirements                       986.399            1213.081   \n",
       "restrictions_on_gatherings                     -307.390            -845.300   \n",
       "restrictions_on_internal_movement              2147.909                 NaN   \n",
       "testing_policy                                  624.790                 NaN   \n",
       "vaccination_policy                            -2448.247                 NaN   \n",
       "\n",
       "                                     05-13-2022 Dataset  \n",
       "cumulative_persons_fully_vaccinated           94029.614  \n",
       "cancel_public_events                           1948.563  \n",
       "average_temperature_celsius                    1679.311  \n",
       "public_transport_closing                       1064.549  \n",
       "rainfall_mm                                     437.892  \n",
       "school_closing                                  391.644  \n",
       "debt_relief                                      17.792  \n",
       "snowfall_mm                                       0.722  \n",
       "contact_tracing                                -227.772  \n",
       "workplace_closing                             -1281.281  \n",
       "income_support                                -1444.638  \n",
       "facial_coverings                              -1710.260  \n",
       "life_expectancy                               -1899.175  \n",
       "stay_at_home_requirements                     -2690.179  \n",
       "restrictions_on_gatherings                          NaN  \n",
       "restrictions_on_internal_movement                   NaN  \n",
       "testing_policy                                      NaN  \n",
       "vaccination_policy                                  NaN  "
      ]
     },
     "execution_count": 94,
     "metadata": {},
     "output_type": "execute_result"
    }
   ],
   "source": [
    "# Create dataframe of coefficients\n",
    "\n",
    "df_1 = pd.DataFrame(lr1.coef_, index = x1.columns, columns = ['01-01-2021 Dataset'])\n",
    "df_2 = pd.DataFrame(lr2.coef_, index = x2.columns, columns = ['09-01-2021 Dataset'])\n",
    "df_3 = pd.DataFrame(lr3.coef_, index = x3.columns, columns = ['05-13-2022 Dataset'])\n",
    "\n",
    "coef_df = pd.concat([df_1, df_2, df_3], axis = 1, join = 'outer')\n",
    "coef_df.round(3).sort_values(by = '05-13-2022 Dataset', ascending = False)"
   ]
  },
  {
   "cell_type": "markdown",
   "id": "adcdb996-1005-4e88-9c34-47ebf5abc3a3",
   "metadata": {},
   "source": [
    "### Iteration 3: Use only demographic data"
   ]
  },
  {
   "cell_type": "code",
   "execution_count": 95,
   "id": "ac973016-c406-4d4a-8fb0-64d854a82c95",
   "metadata": {
    "tags": []
   },
   "outputs": [],
   "source": [
    "# Use only age bucket data\n",
    "\n",
    "x1 = merged_1_corr[['population_age_00_09','population_age_10_19','population_age_20_29','population_age_30_39','population_age_40_49',\n",
    "                    'population_age_50_59','population_age_60_69','population_age_70_79','population_age_80_and_older',\n",
    "                    'population','population_male','population_female']]\n",
    "x2 = merged_2_corr[['population_age_00_09','population_age_10_19','population_age_20_29','population_age_30_39','population_age_40_49',\n",
    "                    'population_age_50_59','population_age_60_69','population_age_70_79','population_age_80_and_older',\n",
    "                    'population','population_male','population_female']]\n",
    "x3 = merged_3_corr[['population_age_00_09','population_age_10_19','population_age_20_29','population_age_30_39','population_age_40_49',\n",
    "                    'population_age_50_59','population_age_60_69','population_age_70_79','population_age_80_and_older',\n",
    "                    'population','population_male','population_female']]\n",
    "\n",
    "y1 = merged_1_corr['cumulative_confirmed']\n",
    "y2 = merged_2_corr['cumulative_confirmed']\n",
    "y3 = merged_3_corr['cumulative_confirmed']"
   ]
  },
  {
   "cell_type": "code",
   "execution_count": 96,
   "id": "04cdf145-e99b-4ce3-873b-8f1984ad3a9b",
   "metadata": {
    "tags": []
   },
   "outputs": [],
   "source": [
    "# Train test split each dataset\n",
    "\n",
    "x1_train, x1_test, y1_train, y1_test = train_test_split(x1, y1, random_state = 42)\n",
    "x2_train, x2_test, y2_train, y2_test = train_test_split(x2, y2, random_state = 42)\n",
    "x3_train, x3_test, y3_train, y3_test = train_test_split(x3, y3, random_state = 42)"
   ]
  },
  {
   "cell_type": "code",
   "execution_count": 97,
   "id": "c8fe7644-d725-4168-be79-cddcc3e468b9",
   "metadata": {
    "tags": []
   },
   "outputs": [
    {
     "data": {
      "text/html": [
       "<style>#sk-container-id-17 {color: black;}#sk-container-id-17 pre{padding: 0;}#sk-container-id-17 div.sk-toggleable {background-color: white;}#sk-container-id-17 label.sk-toggleable__label {cursor: pointer;display: block;width: 100%;margin-bottom: 0;padding: 0.3em;box-sizing: border-box;text-align: center;}#sk-container-id-17 label.sk-toggleable__label-arrow:before {content: \"▸\";float: left;margin-right: 0.25em;color: #696969;}#sk-container-id-17 label.sk-toggleable__label-arrow:hover:before {color: black;}#sk-container-id-17 div.sk-estimator:hover label.sk-toggleable__label-arrow:before {color: black;}#sk-container-id-17 div.sk-toggleable__content {max-height: 0;max-width: 0;overflow: hidden;text-align: left;background-color: #f0f8ff;}#sk-container-id-17 div.sk-toggleable__content pre {margin: 0.2em;color: black;border-radius: 0.25em;background-color: #f0f8ff;}#sk-container-id-17 input.sk-toggleable__control:checked~div.sk-toggleable__content {max-height: 200px;max-width: 100%;overflow: auto;}#sk-container-id-17 input.sk-toggleable__control:checked~label.sk-toggleable__label-arrow:before {content: \"▾\";}#sk-container-id-17 div.sk-estimator input.sk-toggleable__control:checked~label.sk-toggleable__label {background-color: #d4ebff;}#sk-container-id-17 div.sk-label input.sk-toggleable__control:checked~label.sk-toggleable__label {background-color: #d4ebff;}#sk-container-id-17 input.sk-hidden--visually {border: 0;clip: rect(1px 1px 1px 1px);clip: rect(1px, 1px, 1px, 1px);height: 1px;margin: -1px;overflow: hidden;padding: 0;position: absolute;width: 1px;}#sk-container-id-17 div.sk-estimator {font-family: monospace;background-color: #f0f8ff;border: 1px dotted black;border-radius: 0.25em;box-sizing: border-box;margin-bottom: 0.5em;}#sk-container-id-17 div.sk-estimator:hover {background-color: #d4ebff;}#sk-container-id-17 div.sk-parallel-item::after {content: \"\";width: 100%;border-bottom: 1px solid gray;flex-grow: 1;}#sk-container-id-17 div.sk-label:hover label.sk-toggleable__label {background-color: #d4ebff;}#sk-container-id-17 div.sk-serial::before {content: \"\";position: absolute;border-left: 1px solid gray;box-sizing: border-box;top: 0;bottom: 0;left: 50%;z-index: 0;}#sk-container-id-17 div.sk-serial {display: flex;flex-direction: column;align-items: center;background-color: white;padding-right: 0.2em;padding-left: 0.2em;position: relative;}#sk-container-id-17 div.sk-item {position: relative;z-index: 1;}#sk-container-id-17 div.sk-parallel {display: flex;align-items: stretch;justify-content: center;background-color: white;position: relative;}#sk-container-id-17 div.sk-item::before, #sk-container-id-17 div.sk-parallel-item::before {content: \"\";position: absolute;border-left: 1px solid gray;box-sizing: border-box;top: 0;bottom: 0;left: 50%;z-index: -1;}#sk-container-id-17 div.sk-parallel-item {display: flex;flex-direction: column;z-index: 1;position: relative;background-color: white;}#sk-container-id-17 div.sk-parallel-item:first-child::after {align-self: flex-end;width: 50%;}#sk-container-id-17 div.sk-parallel-item:last-child::after {align-self: flex-start;width: 50%;}#sk-container-id-17 div.sk-parallel-item:only-child::after {width: 0;}#sk-container-id-17 div.sk-dashed-wrapped {border: 1px dashed gray;margin: 0 0.4em 0.5em 0.4em;box-sizing: border-box;padding-bottom: 0.4em;background-color: white;}#sk-container-id-17 div.sk-label label {font-family: monospace;font-weight: bold;display: inline-block;line-height: 1.2em;}#sk-container-id-17 div.sk-label-container {text-align: center;}#sk-container-id-17 div.sk-container {/* jupyter's `normalize.less` sets `[hidden] { display: none; }` but bootstrap.min.css set `[hidden] { display: none !important; }` so we also need the `!important` here to be able to override the default hidden behavior on the sphinx rendered scikit-learn.org. See: https://github.com/scikit-learn/scikit-learn/issues/21755 */display: inline-block !important;position: relative;}#sk-container-id-17 div.sk-text-repr-fallback {display: none;}</style><div id=\"sk-container-id-17\" class=\"sk-top-container\"><div class=\"sk-text-repr-fallback\"><pre>LinearRegression()</pre><b>In a Jupyter environment, please rerun this cell to show the HTML representation or trust the notebook. <br />On GitHub, the HTML representation is unable to render, please try loading this page with nbviewer.org.</b></div><div class=\"sk-container\" hidden><div class=\"sk-item\"><div class=\"sk-estimator sk-toggleable\"><input class=\"sk-toggleable__control sk-hidden--visually\" id=\"sk-estimator-id-17\" type=\"checkbox\" checked><label for=\"sk-estimator-id-17\" class=\"sk-toggleable__label sk-toggleable__label-arrow\">LinearRegression</label><div class=\"sk-toggleable__content\"><pre>LinearRegression()</pre></div></div></div></div></div>"
      ],
      "text/plain": [
       "LinearRegression()"
      ]
     },
     "execution_count": 97,
     "metadata": {},
     "output_type": "execute_result"
    }
   ],
   "source": [
    "# Scale, fit each model\n",
    "\n",
    "sc1 = StandardScaler()\n",
    "x1_train_sc = sc1.fit_transform(x1_train)\n",
    "x1_test_sc = sc1.transform(x1_test)\n",
    "\n",
    "sc2 = StandardScaler()\n",
    "x2_train_sc = sc2.fit_transform(x2_train)\n",
    "x2_test_sc = sc2.transform(x2_test)\n",
    "\n",
    "sc3 = StandardScaler()\n",
    "x3_train_sc = sc3.fit_transform(x3_train)\n",
    "x3_test_sc = sc3.transform(x3_test)\n",
    "\n",
    "lr1 = LinearRegression()\n",
    "lr1.fit(x1_train_sc, y1_train)\n",
    "\n",
    "lr2 = LinearRegression()\n",
    "lr2.fit(x2_train_sc, y2_train)\n",
    "\n",
    "lr3 = LinearRegression()\n",
    "lr3.fit(x3_train_sc, y3_train)"
   ]
  },
  {
   "cell_type": "code",
   "execution_count": 98,
   "id": "36b5d0fa-493b-4ac1-8939-26bfbf96cc19",
   "metadata": {
    "tags": []
   },
   "outputs": [
    {
     "name": "stdout",
     "output_type": "stream",
     "text": [
      "01-01-2021 Dataset\n",
      "Training R2: 0.953\n",
      "Testing R2: 0.872\n",
      "==========================\n",
      "09-01-2021 Dataset\n",
      "Training R2: 0.957\n",
      "Testing R2: 0.817\n",
      "==========================\n",
      "05-13-2022 Dataset\n",
      "Training R2: 0.978\n",
      "Testing R2: 0.954\n"
     ]
    }
   ],
   "source": [
    "# Calculate train/test R2 scores for each model\n",
    "\n",
    "print(\"01-01-2021 Dataset\")\n",
    "print(f'Training R2: {round(lr1.score(x1_train_sc, y1_train),3)}')\n",
    "print(f'Testing R2: {round(lr1.score(x1_test_sc, y1_test),3)}')\n",
    "print('='*26)\n",
    "print(\"09-01-2021 Dataset\")\n",
    "print(f'Training R2: {round(lr2.score(x2_train_sc, y2_train),3)}')\n",
    "print(f'Testing R2: {round(lr2.score(x2_test_sc, y2_test),3)}')\n",
    "print('='*26)\n",
    "print(\"05-13-2022 Dataset\")\n",
    "print(f'Training R2: {round(lr3.score(x3_train_sc, y3_train),3)}')\n",
    "print(f'Testing R2: {round(lr3.score(x3_test_sc, y3_test),3)}')"
   ]
  },
  {
   "cell_type": "code",
   "execution_count": 100,
   "id": "2e6417cc-f590-4f0b-a655-62a7b83bd06a",
   "metadata": {
    "tags": []
   },
   "outputs": [
    {
     "data": {
      "text/html": [
       "<div>\n",
       "<style scoped>\n",
       "    .dataframe tbody tr th:only-of-type {\n",
       "        vertical-align: middle;\n",
       "    }\n",
       "\n",
       "    .dataframe tbody tr th {\n",
       "        vertical-align: top;\n",
       "    }\n",
       "\n",
       "    .dataframe thead th {\n",
       "        text-align: right;\n",
       "    }\n",
       "</style>\n",
       "<table border=\"1\" class=\"dataframe\">\n",
       "  <thead>\n",
       "    <tr style=\"text-align: right;\">\n",
       "      <th></th>\n",
       "      <th>01-01-2021 Dataset</th>\n",
       "      <th>09-01-2021 Dataset</th>\n",
       "      <th>05-13-2022 Dataset</th>\n",
       "    </tr>\n",
       "  </thead>\n",
       "  <tbody>\n",
       "    <tr>\n",
       "      <th>population_age_40_49</th>\n",
       "      <td>25726.382</td>\n",
       "      <td>35859.733</td>\n",
       "      <td>108503.248</td>\n",
       "    </tr>\n",
       "    <tr>\n",
       "      <th>population_age_20_29</th>\n",
       "      <td>23126.051</td>\n",
       "      <td>21364.387</td>\n",
       "      <td>83438.141</td>\n",
       "    </tr>\n",
       "    <tr>\n",
       "      <th>population_female</th>\n",
       "      <td>37207.125</td>\n",
       "      <td>47102.363</td>\n",
       "      <td>73029.718</td>\n",
       "    </tr>\n",
       "    <tr>\n",
       "      <th>population_age_70_79</th>\n",
       "      <td>12718.789</td>\n",
       "      <td>-3528.933</td>\n",
       "      <td>71872.049</td>\n",
       "    </tr>\n",
       "    <tr>\n",
       "      <th>population_age_00_09</th>\n",
       "      <td>8918.518</td>\n",
       "      <td>8763.549</td>\n",
       "      <td>51490.111</td>\n",
       "    </tr>\n",
       "    <tr>\n",
       "      <th>population_age_50_59</th>\n",
       "      <td>5818.911</td>\n",
       "      <td>-2990.710</td>\n",
       "      <td>45138.076</td>\n",
       "    </tr>\n",
       "    <tr>\n",
       "      <th>population_age_80_and_older</th>\n",
       "      <td>5695.873</td>\n",
       "      <td>20513.042</td>\n",
       "      <td>8479.285</td>\n",
       "    </tr>\n",
       "    <tr>\n",
       "      <th>population</th>\n",
       "      <td>2250.047</td>\n",
       "      <td>1843.331</td>\n",
       "      <td>7962.018</td>\n",
       "    </tr>\n",
       "    <tr>\n",
       "      <th>population_age_10_19</th>\n",
       "      <td>2735.348</td>\n",
       "      <td>9438.516</td>\n",
       "      <td>-50488.036</td>\n",
       "    </tr>\n",
       "    <tr>\n",
       "      <th>population_male</th>\n",
       "      <td>-33969.726</td>\n",
       "      <td>-44990.644</td>\n",
       "      <td>-59456.712</td>\n",
       "    </tr>\n",
       "    <tr>\n",
       "      <th>population_age_30_39</th>\n",
       "      <td>-24610.860</td>\n",
       "      <td>-35619.235</td>\n",
       "      <td>-98623.945</td>\n",
       "    </tr>\n",
       "    <tr>\n",
       "      <th>population_age_60_69</th>\n",
       "      <td>-41003.693</td>\n",
       "      <td>-32953.881</td>\n",
       "      <td>-146370.002</td>\n",
       "    </tr>\n",
       "  </tbody>\n",
       "</table>\n",
       "</div>"
      ],
      "text/plain": [
       "                             01-01-2021 Dataset  09-01-2021 Dataset  \\\n",
       "population_age_40_49                  25726.382           35859.733   \n",
       "population_age_20_29                  23126.051           21364.387   \n",
       "population_female                     37207.125           47102.363   \n",
       "population_age_70_79                  12718.789           -3528.933   \n",
       "population_age_00_09                   8918.518            8763.549   \n",
       "population_age_50_59                   5818.911           -2990.710   \n",
       "population_age_80_and_older            5695.873           20513.042   \n",
       "population                             2250.047            1843.331   \n",
       "population_age_10_19                   2735.348            9438.516   \n",
       "population_male                      -33969.726          -44990.644   \n",
       "population_age_30_39                 -24610.860          -35619.235   \n",
       "population_age_60_69                 -41003.693          -32953.881   \n",
       "\n",
       "                             05-13-2022 Dataset  \n",
       "population_age_40_49                 108503.248  \n",
       "population_age_20_29                  83438.141  \n",
       "population_female                     73029.718  \n",
       "population_age_70_79                  71872.049  \n",
       "population_age_00_09                  51490.111  \n",
       "population_age_50_59                  45138.076  \n",
       "population_age_80_and_older            8479.285  \n",
       "population                             7962.018  \n",
       "population_age_10_19                 -50488.036  \n",
       "population_male                      -59456.712  \n",
       "population_age_30_39                 -98623.945  \n",
       "population_age_60_69                -146370.002  "
      ]
     },
     "execution_count": 100,
     "metadata": {},
     "output_type": "execute_result"
    }
   ],
   "source": [
    "# Create dataframe of coefficients\n",
    "\n",
    "df_1 = pd.DataFrame(lr1.coef_, index = x1.columns, columns = ['01-01-2021 Dataset'])\n",
    "df_2 = pd.DataFrame(lr2.coef_, index = x2.columns, columns = ['09-01-2021 Dataset'])\n",
    "df_3 = pd.DataFrame(lr3.coef_, index = x3.columns, columns = ['05-13-2022 Dataset'])\n",
    "\n",
    "coef_df = pd.concat([df_1, df_2, df_3], axis = 1, join = 'outer')\n",
    "coef_df.round(3).sort_values(by = '05-13-2022 Dataset', ascending = False)"
   ]
  },
  {
   "cell_type": "markdown",
   "id": "902943a8-8e52-40f4-8c7d-948a87270682",
   "metadata": {},
   "source": [
    "## Create Predictive Regression Models "
   ]
  },
  {
   "cell_type": "markdown",
   "id": "2b009c13-7a96-464b-b737-c2f3c21ecdcc",
   "metadata": {},
   "source": [
    "### Optimize four regression models with pre and post vaccine datasets"
   ]
  },
  {
   "cell_type": "code",
   "execution_count": 118,
   "id": "dd2540d3-b7fb-48ac-bbb8-c6cb74170ff4",
   "metadata": {
    "tags": []
   },
   "outputs": [],
   "source": [
    "# Create X and y variables; train/test split\n",
    "\n",
    "x1 = merged_1_corr.drop(columns = ['cumulative_confirmed', 'new_confirmed', 'Unnamed: 0'])\n",
    "x3 = merged_3_corr.drop(columns = ['cumulative_confirmed', 'new_confirmed', 'Unnamed: 0'])\n",
    "\n",
    "y1 = merged_1_corr['cumulative_confirmed']\n",
    "y3 = merged_3_corr['cumulative_confirmed']\n",
    "\n",
    "x1_train, x1_test, y1_train, y1_test = train_test_split(x1, y1, random_state = 42)\n",
    "x3_train, x3_test, y3_train, y3_test = train_test_split(x3, y3, random_state = 42)"
   ]
  },
  {
   "cell_type": "code",
   "execution_count": 119,
   "id": "13e12357-b6f5-46e5-bc50-889cfe9d9673",
   "metadata": {
    "tags": []
   },
   "outputs": [],
   "source": [
    "# Instantiate pipelines \n",
    "\n",
    "# RidgeCV\n",
    "ridge_cv_pipe = Pipeline([\n",
    "    ('sc', StandardScaler()),\n",
    "    ('ridge_cv', RidgeCV())\n",
    "])\n",
    "\n",
    "# LassoCV\n",
    "lasso_cv_pipe = Pipeline([\n",
    "    ('sc', StandardScaler()),\n",
    "    ('lasso_cv', LassoCV())\n",
    "])\n",
    "\n",
    "# KNeighborsRegressor\n",
    "knn_pipe = Pipeline([\n",
    "    ('sc', StandardScaler()),\n",
    "    ('knn', KNeighborsRegressor())\n",
    "])\n",
    "\n",
    "# RandomForestRegressor\n",
    "rf_pipe = Pipeline([\n",
    "    ('sc', StandardScaler()),\n",
    "    ('rf', RandomForestRegressor())\n",
    "])"
   ]
  },
  {
   "cell_type": "code",
   "execution_count": 120,
   "id": "f9137760-80f5-452d-b678-a6de64a870ce",
   "metadata": {
    "tags": []
   },
   "outputs": [],
   "source": [
    "# Set parameters for each pipeline\n",
    "\n",
    "# RidgeCV pipeline parameters\n",
    "ridge_cv_pipeline_params = {\n",
    "    'ridge_cv__alphas': range(1,11)\n",
    "}\n",
    "\n",
    "# LassoCV pipeline parameters\n",
    "lasso_cv_pipeline_params = {\n",
    "    'lasso_cv__alphas': [None]\n",
    "}\n",
    "\n",
    "# KNeighborsRegressor pipeline parameters\n",
    "knn_pipeline_params = {\n",
    "    'knn__n_neighbors': range(1, 50, 2)\n",
    "}\n",
    "\n",
    "# RandomForestRegressor pipeline parameters\n",
    "rf_pipeline_params = {\n",
    "    'rf__n_estimators': range(250, 500, 50),\n",
    "    'rf__max_depth': [None, 5, 10]\n",
    "}"
   ]
  },
  {
   "cell_type": "code",
   "execution_count": 121,
   "id": "ecaadfa6-9724-447d-abd9-2b76004fbf31",
   "metadata": {
    "tags": []
   },
   "outputs": [],
   "source": [
    "# Instantiate gridseach objects\n",
    "\n",
    "# RidgeCV gridseach\n",
    "ridge_cv_gs = GridSearchCV(ridge_cv_pipe,\n",
    "                       ridge_cv_pipeline_params,\n",
    "                       cv = 5)\n",
    "\n",
    "# LassoCV gridsearch\n",
    "lasso_cv_gs = GridSearchCV(lasso_cv_pipe,\n",
    "                       lasso_cv_pipeline_params,\n",
    "                       cv = 5)\n",
    "\n",
    "# KNeighborsRegressor gridsearch\n",
    "knn_gs = GridSearchCV(knn_pipe,\n",
    "                       knn_pipeline_params,\n",
    "                       cv = 5)\n",
    "\n",
    "# RandomForestRegressor gridsearch\n",
    "rf_gs = GridSearchCV(rf_pipe,\n",
    "                       rf_pipeline_params,\n",
    "                       cv = 5)"
   ]
  },
  {
   "cell_type": "markdown",
   "id": "6a272112-9047-4b3a-817b-ddfa4741199b",
   "metadata": {},
   "source": [
    "### Fit pre vaccine dataset"
   ]
  },
  {
   "cell_type": "code",
   "execution_count": 122,
   "id": "ccb2f28a-99ea-40a0-9747-a91654a07ff1",
   "metadata": {
    "tags": []
   },
   "outputs": [
    {
     "data": {
      "text/html": [
       "<style>#sk-container-id-26 {color: black;}#sk-container-id-26 pre{padding: 0;}#sk-container-id-26 div.sk-toggleable {background-color: white;}#sk-container-id-26 label.sk-toggleable__label {cursor: pointer;display: block;width: 100%;margin-bottom: 0;padding: 0.3em;box-sizing: border-box;text-align: center;}#sk-container-id-26 label.sk-toggleable__label-arrow:before {content: \"▸\";float: left;margin-right: 0.25em;color: #696969;}#sk-container-id-26 label.sk-toggleable__label-arrow:hover:before {color: black;}#sk-container-id-26 div.sk-estimator:hover label.sk-toggleable__label-arrow:before {color: black;}#sk-container-id-26 div.sk-toggleable__content {max-height: 0;max-width: 0;overflow: hidden;text-align: left;background-color: #f0f8ff;}#sk-container-id-26 div.sk-toggleable__content pre {margin: 0.2em;color: black;border-radius: 0.25em;background-color: #f0f8ff;}#sk-container-id-26 input.sk-toggleable__control:checked~div.sk-toggleable__content {max-height: 200px;max-width: 100%;overflow: auto;}#sk-container-id-26 input.sk-toggleable__control:checked~label.sk-toggleable__label-arrow:before {content: \"▾\";}#sk-container-id-26 div.sk-estimator input.sk-toggleable__control:checked~label.sk-toggleable__label {background-color: #d4ebff;}#sk-container-id-26 div.sk-label input.sk-toggleable__control:checked~label.sk-toggleable__label {background-color: #d4ebff;}#sk-container-id-26 input.sk-hidden--visually {border: 0;clip: rect(1px 1px 1px 1px);clip: rect(1px, 1px, 1px, 1px);height: 1px;margin: -1px;overflow: hidden;padding: 0;position: absolute;width: 1px;}#sk-container-id-26 div.sk-estimator {font-family: monospace;background-color: #f0f8ff;border: 1px dotted black;border-radius: 0.25em;box-sizing: border-box;margin-bottom: 0.5em;}#sk-container-id-26 div.sk-estimator:hover {background-color: #d4ebff;}#sk-container-id-26 div.sk-parallel-item::after {content: \"\";width: 100%;border-bottom: 1px solid gray;flex-grow: 1;}#sk-container-id-26 div.sk-label:hover label.sk-toggleable__label {background-color: #d4ebff;}#sk-container-id-26 div.sk-serial::before {content: \"\";position: absolute;border-left: 1px solid gray;box-sizing: border-box;top: 0;bottom: 0;left: 50%;z-index: 0;}#sk-container-id-26 div.sk-serial {display: flex;flex-direction: column;align-items: center;background-color: white;padding-right: 0.2em;padding-left: 0.2em;position: relative;}#sk-container-id-26 div.sk-item {position: relative;z-index: 1;}#sk-container-id-26 div.sk-parallel {display: flex;align-items: stretch;justify-content: center;background-color: white;position: relative;}#sk-container-id-26 div.sk-item::before, #sk-container-id-26 div.sk-parallel-item::before {content: \"\";position: absolute;border-left: 1px solid gray;box-sizing: border-box;top: 0;bottom: 0;left: 50%;z-index: -1;}#sk-container-id-26 div.sk-parallel-item {display: flex;flex-direction: column;z-index: 1;position: relative;background-color: white;}#sk-container-id-26 div.sk-parallel-item:first-child::after {align-self: flex-end;width: 50%;}#sk-container-id-26 div.sk-parallel-item:last-child::after {align-self: flex-start;width: 50%;}#sk-container-id-26 div.sk-parallel-item:only-child::after {width: 0;}#sk-container-id-26 div.sk-dashed-wrapped {border: 1px dashed gray;margin: 0 0.4em 0.5em 0.4em;box-sizing: border-box;padding-bottom: 0.4em;background-color: white;}#sk-container-id-26 div.sk-label label {font-family: monospace;font-weight: bold;display: inline-block;line-height: 1.2em;}#sk-container-id-26 div.sk-label-container {text-align: center;}#sk-container-id-26 div.sk-container {/* jupyter's `normalize.less` sets `[hidden] { display: none; }` but bootstrap.min.css set `[hidden] { display: none !important; }` so we also need the `!important` here to be able to override the default hidden behavior on the sphinx rendered scikit-learn.org. See: https://github.com/scikit-learn/scikit-learn/issues/21755 */display: inline-block !important;position: relative;}#sk-container-id-26 div.sk-text-repr-fallback {display: none;}</style><div id=\"sk-container-id-26\" class=\"sk-top-container\"><div class=\"sk-text-repr-fallback\"><pre>GridSearchCV(cv=5,\n",
       "             estimator=Pipeline(steps=[(&#x27;sc&#x27;, StandardScaler()),\n",
       "                                       (&#x27;ridge_cv&#x27;, RidgeCV())]),\n",
       "             param_grid={&#x27;ridge_cv__alphas&#x27;: range(1, 11)})</pre><b>In a Jupyter environment, please rerun this cell to show the HTML representation or trust the notebook. <br />On GitHub, the HTML representation is unable to render, please try loading this page with nbviewer.org.</b></div><div class=\"sk-container\" hidden><div class=\"sk-item sk-dashed-wrapped\"><div class=\"sk-label-container\"><div class=\"sk-label sk-toggleable\"><input class=\"sk-toggleable__control sk-hidden--visually\" id=\"sk-estimator-id-50\" type=\"checkbox\" ><label for=\"sk-estimator-id-50\" class=\"sk-toggleable__label sk-toggleable__label-arrow\">GridSearchCV</label><div class=\"sk-toggleable__content\"><pre>GridSearchCV(cv=5,\n",
       "             estimator=Pipeline(steps=[(&#x27;sc&#x27;, StandardScaler()),\n",
       "                                       (&#x27;ridge_cv&#x27;, RidgeCV())]),\n",
       "             param_grid={&#x27;ridge_cv__alphas&#x27;: range(1, 11)})</pre></div></div></div><div class=\"sk-parallel\"><div class=\"sk-parallel-item\"><div class=\"sk-item\"><div class=\"sk-label-container\"><div class=\"sk-label sk-toggleable\"><input class=\"sk-toggleable__control sk-hidden--visually\" id=\"sk-estimator-id-51\" type=\"checkbox\" ><label for=\"sk-estimator-id-51\" class=\"sk-toggleable__label sk-toggleable__label-arrow\">estimator: Pipeline</label><div class=\"sk-toggleable__content\"><pre>Pipeline(steps=[(&#x27;sc&#x27;, StandardScaler()), (&#x27;ridge_cv&#x27;, RidgeCV())])</pre></div></div></div><div class=\"sk-serial\"><div class=\"sk-item\"><div class=\"sk-serial\"><div class=\"sk-item\"><div class=\"sk-estimator sk-toggleable\"><input class=\"sk-toggleable__control sk-hidden--visually\" id=\"sk-estimator-id-52\" type=\"checkbox\" ><label for=\"sk-estimator-id-52\" class=\"sk-toggleable__label sk-toggleable__label-arrow\">StandardScaler</label><div class=\"sk-toggleable__content\"><pre>StandardScaler()</pre></div></div></div><div class=\"sk-item\"><div class=\"sk-estimator sk-toggleable\"><input class=\"sk-toggleable__control sk-hidden--visually\" id=\"sk-estimator-id-53\" type=\"checkbox\" ><label for=\"sk-estimator-id-53\" class=\"sk-toggleable__label sk-toggleable__label-arrow\">RidgeCV</label><div class=\"sk-toggleable__content\"><pre>RidgeCV()</pre></div></div></div></div></div></div></div></div></div></div></div></div>"
      ],
      "text/plain": [
       "GridSearchCV(cv=5,\n",
       "             estimator=Pipeline(steps=[('sc', StandardScaler()),\n",
       "                                       ('ridge_cv', RidgeCV())]),\n",
       "             param_grid={'ridge_cv__alphas': range(1, 11)})"
      ]
     },
     "execution_count": 122,
     "metadata": {},
     "output_type": "execute_result"
    }
   ],
   "source": [
    "ridge_cv_gs.fit(x1_train, y1_train)"
   ]
  },
  {
   "cell_type": "code",
   "execution_count": 123,
   "id": "b6fae05f-5c30-4df7-b4b9-233180aa94ac",
   "metadata": {
    "scrolled": true,
    "tags": []
   },
   "outputs": [
    {
     "name": "stderr",
     "output_type": "stream",
     "text": [
      "/Users/JR/anaconda3/lib/python3.11/site-packages/sklearn/linear_model/_coordinate_descent.py:614: ConvergenceWarning: Objective did not converge. You might want to increase the number of iterations. Duality gap: 60079190.18865204, tolerance: 45413526.25748\n",
      "  model = cd_fast.enet_coordinate_descent_gram(\n",
      "/Users/JR/anaconda3/lib/python3.11/site-packages/sklearn/linear_model/_coordinate_descent.py:614: ConvergenceWarning: Objective did not converge. You might want to increase the number of iterations. Duality gap: 79654908.87906647, tolerance: 45413526.25748\n",
      "  model = cd_fast.enet_coordinate_descent_gram(\n",
      "/Users/JR/anaconda3/lib/python3.11/site-packages/sklearn/linear_model/_coordinate_descent.py:614: ConvergenceWarning: Objective did not converge. You might want to increase the number of iterations. Duality gap: 114475770.05779266, tolerance: 45413526.25748\n",
      "  model = cd_fast.enet_coordinate_descent_gram(\n",
      "/Users/JR/anaconda3/lib/python3.11/site-packages/sklearn/linear_model/_coordinate_descent.py:614: ConvergenceWarning: Objective did not converge. You might want to increase the number of iterations. Duality gap: 138884290.7244568, tolerance: 45413526.25748\n",
      "  model = cd_fast.enet_coordinate_descent_gram(\n",
      "/Users/JR/anaconda3/lib/python3.11/site-packages/sklearn/linear_model/_coordinate_descent.py:614: ConvergenceWarning: Objective did not converge. You might want to increase the number of iterations. Duality gap: 153509894.2603531, tolerance: 45413526.25748\n",
      "  model = cd_fast.enet_coordinate_descent_gram(\n",
      "/Users/JR/anaconda3/lib/python3.11/site-packages/sklearn/linear_model/_coordinate_descent.py:614: ConvergenceWarning: Objective did not converge. You might want to increase the number of iterations. Duality gap: 161164680.25247955, tolerance: 45413526.25748\n",
      "  model = cd_fast.enet_coordinate_descent_gram(\n",
      "/Users/JR/anaconda3/lib/python3.11/site-packages/sklearn/linear_model/_coordinate_descent.py:614: ConvergenceWarning: Objective did not converge. You might want to increase the number of iterations. Duality gap: 57733273.56568909, tolerance: 50011743.32197295\n",
      "  model = cd_fast.enet_coordinate_descent_gram(\n",
      "/Users/JR/anaconda3/lib/python3.11/site-packages/sklearn/linear_model/_coordinate_descent.py:614: ConvergenceWarning: Objective did not converge. You might want to increase the number of iterations. Duality gap: 63825580.67355347, tolerance: 50011743.32197295\n",
      "  model = cd_fast.enet_coordinate_descent_gram(\n",
      "/Users/JR/anaconda3/lib/python3.11/site-packages/sklearn/linear_model/_coordinate_descent.py:614: ConvergenceWarning: Objective did not converge. You might want to increase the number of iterations. Duality gap: 71311676.57665253, tolerance: 50011743.32197295\n",
      "  model = cd_fast.enet_coordinate_descent_gram(\n",
      "/Users/JR/anaconda3/lib/python3.11/site-packages/sklearn/linear_model/_coordinate_descent.py:614: ConvergenceWarning: Objective did not converge. You might want to increase the number of iterations. Duality gap: 71860164.94985199, tolerance: 50011743.32197295\n",
      "  model = cd_fast.enet_coordinate_descent_gram(\n",
      "/Users/JR/anaconda3/lib/python3.11/site-packages/sklearn/linear_model/_coordinate_descent.py:614: ConvergenceWarning: Objective did not converge. You might want to increase the number of iterations. Duality gap: 83954750.89722443, tolerance: 50011743.32197295\n",
      "  model = cd_fast.enet_coordinate_descent_gram(\n",
      "/Users/JR/anaconda3/lib/python3.11/site-packages/sklearn/linear_model/_coordinate_descent.py:614: ConvergenceWarning: Objective did not converge. You might want to increase the number of iterations. Duality gap: 212052822.72450256, tolerance: 50011743.32197295\n",
      "  model = cd_fast.enet_coordinate_descent_gram(\n",
      "/Users/JR/anaconda3/lib/python3.11/site-packages/sklearn/linear_model/_coordinate_descent.py:614: ConvergenceWarning: Objective did not converge. You might want to increase the number of iterations. Duality gap: 309817146.6819191, tolerance: 50011743.32197295\n",
      "  model = cd_fast.enet_coordinate_descent_gram(\n",
      "/Users/JR/anaconda3/lib/python3.11/site-packages/sklearn/linear_model/_coordinate_descent.py:614: ConvergenceWarning: Objective did not converge. You might want to increase the number of iterations. Duality gap: 379020787.5797272, tolerance: 50011743.32197295\n",
      "  model = cd_fast.enet_coordinate_descent_gram(\n",
      "/Users/JR/anaconda3/lib/python3.11/site-packages/sklearn/linear_model/_coordinate_descent.py:614: ConvergenceWarning: Objective did not converge. You might want to increase the number of iterations. Duality gap: 425720679.89352417, tolerance: 50011743.32197295\n",
      "  model = cd_fast.enet_coordinate_descent_gram(\n",
      "/Users/JR/anaconda3/lib/python3.11/site-packages/sklearn/linear_model/_coordinate_descent.py:614: ConvergenceWarning: Objective did not converge. You might want to increase the number of iterations. Duality gap: 449482214.2466812, tolerance: 50011743.32197295\n",
      "  model = cd_fast.enet_coordinate_descent_gram(\n",
      "/Users/JR/anaconda3/lib/python3.11/site-packages/sklearn/linear_model/_coordinate_descent.py:614: ConvergenceWarning: Objective did not converge. You might want to increase the number of iterations. Duality gap: 462116798.2520523, tolerance: 50011743.32197295\n",
      "  model = cd_fast.enet_coordinate_descent_gram(\n",
      "/Users/JR/anaconda3/lib/python3.11/site-packages/sklearn/linear_model/_coordinate_descent.py:614: ConvergenceWarning: Objective did not converge. You might want to increase the number of iterations. Duality gap: 466876669.19618225, tolerance: 50011743.32197295\n",
      "  model = cd_fast.enet_coordinate_descent_gram(\n",
      "/Users/JR/anaconda3/lib/python3.11/site-packages/sklearn/linear_model/_coordinate_descent.py:614: ConvergenceWarning: Objective did not converge. You might want to increase the number of iterations. Duality gap: 36506100.62157822, tolerance: 33160132.995753247\n",
      "  model = cd_fast.enet_coordinate_descent_gram(\n",
      "/Users/JR/anaconda3/lib/python3.11/site-packages/sklearn/linear_model/_coordinate_descent.py:614: ConvergenceWarning: Objective did not converge. You might want to increase the number of iterations. Duality gap: 41855502.39528656, tolerance: 33160132.995753247\n",
      "  model = cd_fast.enet_coordinate_descent_gram(\n",
      "/Users/JR/anaconda3/lib/python3.11/site-packages/sklearn/linear_model/_coordinate_descent.py:614: ConvergenceWarning: Objective did not converge. You might want to increase the number of iterations. Duality gap: 55065807.32761383, tolerance: 33160132.995753247\n",
      "  model = cd_fast.enet_coordinate_descent_gram(\n",
      "/Users/JR/anaconda3/lib/python3.11/site-packages/sklearn/linear_model/_coordinate_descent.py:614: ConvergenceWarning: Objective did not converge. You might want to increase the number of iterations. Duality gap: 58116006.03955078, tolerance: 33160132.995753247\n",
      "  model = cd_fast.enet_coordinate_descent_gram(\n",
      "/Users/JR/anaconda3/lib/python3.11/site-packages/sklearn/linear_model/_coordinate_descent.py:614: ConvergenceWarning: Objective did not converge. You might want to increase the number of iterations. Duality gap: 57014929.72916412, tolerance: 33160132.995753247\n",
      "  model = cd_fast.enet_coordinate_descent_gram(\n",
      "/Users/JR/anaconda3/lib/python3.11/site-packages/sklearn/linear_model/_coordinate_descent.py:614: ConvergenceWarning: Objective did not converge. You might want to increase the number of iterations. Duality gap: 54558499.82806015, tolerance: 33160132.995753247\n",
      "  model = cd_fast.enet_coordinate_descent_gram(\n",
      "/Users/JR/anaconda3/lib/python3.11/site-packages/sklearn/linear_model/_coordinate_descent.py:614: ConvergenceWarning: Objective did not converge. You might want to increase the number of iterations. Duality gap: 51717090.1468277, tolerance: 33160132.995753247\n",
      "  model = cd_fast.enet_coordinate_descent_gram(\n",
      "/Users/JR/anaconda3/lib/python3.11/site-packages/sklearn/linear_model/_coordinate_descent.py:614: ConvergenceWarning: Objective did not converge. You might want to increase the number of iterations. Duality gap: 48873686.05474472, tolerance: 33160132.995753247\n",
      "  model = cd_fast.enet_coordinate_descent_gram(\n",
      "/Users/JR/anaconda3/lib/python3.11/site-packages/sklearn/linear_model/_coordinate_descent.py:614: ConvergenceWarning: Objective did not converge. You might want to increase the number of iterations. Duality gap: 46101824.980407715, tolerance: 33160132.995753247\n",
      "  model = cd_fast.enet_coordinate_descent_gram(\n",
      "/Users/JR/anaconda3/lib/python3.11/site-packages/sklearn/linear_model/_coordinate_descent.py:614: ConvergenceWarning: Objective did not converge. You might want to increase the number of iterations. Duality gap: 43448736.43998718, tolerance: 33160132.995753247\n",
      "  model = cd_fast.enet_coordinate_descent_gram(\n",
      "/Users/JR/anaconda3/lib/python3.11/site-packages/sklearn/linear_model/_coordinate_descent.py:614: ConvergenceWarning: Objective did not converge. You might want to increase the number of iterations. Duality gap: 41139509.58519745, tolerance: 33160132.995753247\n",
      "  model = cd_fast.enet_coordinate_descent_gram(\n",
      "/Users/JR/anaconda3/lib/python3.11/site-packages/sklearn/linear_model/_coordinate_descent.py:614: ConvergenceWarning: Objective did not converge. You might want to increase the number of iterations. Duality gap: 38940508.42770004, tolerance: 33160132.995753247\n",
      "  model = cd_fast.enet_coordinate_descent_gram(\n",
      "/Users/JR/anaconda3/lib/python3.11/site-packages/sklearn/linear_model/_coordinate_descent.py:614: ConvergenceWarning: Objective did not converge. You might want to increase the number of iterations. Duality gap: 244687302.55419922, tolerance: 50219999.79754827\n",
      "  model = cd_fast.enet_coordinate_descent_gram(\n",
      "/Users/JR/anaconda3/lib/python3.11/site-packages/sklearn/linear_model/_coordinate_descent.py:614: ConvergenceWarning: Objective did not converge. You might want to increase the number of iterations. Duality gap: 410633780.20474243, tolerance: 50219999.79754827\n",
      "  model = cd_fast.enet_coordinate_descent_gram(\n",
      "/Users/JR/anaconda3/lib/python3.11/site-packages/sklearn/linear_model/_coordinate_descent.py:614: ConvergenceWarning: Objective did not converge. You might want to increase the number of iterations. Duality gap: 512129236.0434723, tolerance: 50219999.79754827\n",
      "  model = cd_fast.enet_coordinate_descent_gram(\n",
      "/Users/JR/anaconda3/lib/python3.11/site-packages/sklearn/linear_model/_coordinate_descent.py:614: ConvergenceWarning: Objective did not converge. You might want to increase the number of iterations. Duality gap: 423410907.9132309, tolerance: 50219999.79754827\n",
      "  model = cd_fast.enet_coordinate_descent_gram(\n",
      "/Users/JR/anaconda3/lib/python3.11/site-packages/sklearn/linear_model/_coordinate_descent.py:614: ConvergenceWarning: Objective did not converge. You might want to increase the number of iterations. Duality gap: 185510375.21152115, tolerance: 50219999.79754827\n",
      "  model = cd_fast.enet_coordinate_descent_gram(\n",
      "/Users/JR/anaconda3/lib/python3.11/site-packages/sklearn/linear_model/_coordinate_descent.py:614: ConvergenceWarning: Objective did not converge. You might want to increase the number of iterations. Duality gap: 126502121.37375641, tolerance: 50219999.79754827\n",
      "  model = cd_fast.enet_coordinate_descent_gram(\n",
      "/Users/JR/anaconda3/lib/python3.11/site-packages/sklearn/linear_model/_coordinate_descent.py:614: ConvergenceWarning: Objective did not converge. You might want to increase the number of iterations. Duality gap: 100323980.38056946, tolerance: 50219999.79754827\n",
      "  model = cd_fast.enet_coordinate_descent_gram(\n",
      "/Users/JR/anaconda3/lib/python3.11/site-packages/sklearn/linear_model/_coordinate_descent.py:614: ConvergenceWarning: Objective did not converge. You might want to increase the number of iterations. Duality gap: 86431378.79380798, tolerance: 50219999.79754827\n",
      "  model = cd_fast.enet_coordinate_descent_gram(\n",
      "/Users/JR/anaconda3/lib/python3.11/site-packages/sklearn/linear_model/_coordinate_descent.py:614: ConvergenceWarning: Objective did not converge. You might want to increase the number of iterations. Duality gap: 77990024.74631882, tolerance: 50219999.79754827\n",
      "  model = cd_fast.enet_coordinate_descent_gram(\n",
      "/Users/JR/anaconda3/lib/python3.11/site-packages/sklearn/linear_model/_coordinate_descent.py:614: ConvergenceWarning: Objective did not converge. You might want to increase the number of iterations. Duality gap: 73083826.94589996, tolerance: 50219999.79754827\n",
      "  model = cd_fast.enet_coordinate_descent_gram(\n",
      "/Users/JR/anaconda3/lib/python3.11/site-packages/sklearn/linear_model/_coordinate_descent.py:614: ConvergenceWarning: Objective did not converge. You might want to increase the number of iterations. Duality gap: 69310771.19257355, tolerance: 50219999.79754827\n",
      "  model = cd_fast.enet_coordinate_descent_gram(\n",
      "/Users/JR/anaconda3/lib/python3.11/site-packages/sklearn/linear_model/_coordinate_descent.py:614: ConvergenceWarning: Objective did not converge. You might want to increase the number of iterations. Duality gap: 79090595.01355743, tolerance: 50219999.79754827\n",
      "  model = cd_fast.enet_coordinate_descent_gram(\n",
      "/Users/JR/anaconda3/lib/python3.11/site-packages/sklearn/linear_model/_coordinate_descent.py:614: ConvergenceWarning: Objective did not converge. You might want to increase the number of iterations. Duality gap: 121072959.38194275, tolerance: 50219999.79754827\n",
      "  model = cd_fast.enet_coordinate_descent_gram(\n",
      "/Users/JR/anaconda3/lib/python3.11/site-packages/sklearn/linear_model/_coordinate_descent.py:614: ConvergenceWarning: Objective did not converge. You might want to increase the number of iterations. Duality gap: 240561805.95907593, tolerance: 129678988.7494734\n",
      "  model = cd_fast.enet_coordinate_descent_gram(\n",
      "/Users/JR/anaconda3/lib/python3.11/site-packages/sklearn/linear_model/_coordinate_descent.py:614: ConvergenceWarning: Objective did not converge. You might want to increase the number of iterations. Duality gap: 390206275.99329376, tolerance: 129678988.7494734\n",
      "  model = cd_fast.enet_coordinate_descent_gram(\n",
      "/Users/JR/anaconda3/lib/python3.11/site-packages/sklearn/linear_model/_coordinate_descent.py:628: ConvergenceWarning: Objective did not converge. You might want to increase the number of iterations, check the scale of the features or consider increasing regularisation. Duality gap: 1.873e+08, tolerance: 1.340e+08\n",
      "  model = cd_fast.enet_coordinate_descent(\n",
      "/Users/JR/anaconda3/lib/python3.11/site-packages/sklearn/linear_model/_coordinate_descent.py:614: ConvergenceWarning: Objective did not converge. You might want to increase the number of iterations. Duality gap: 146484767.33999634, tolerance: 116065789.20433341\n",
      "  model = cd_fast.enet_coordinate_descent_gram(\n",
      "/Users/JR/anaconda3/lib/python3.11/site-packages/sklearn/linear_model/_coordinate_descent.py:614: ConvergenceWarning: Objective did not converge. You might want to increase the number of iterations. Duality gap: 130422197.7425766, tolerance: 116065789.20433341\n",
      "  model = cd_fast.enet_coordinate_descent_gram(\n",
      "/Users/JR/anaconda3/lib/python3.11/site-packages/sklearn/linear_model/_coordinate_descent.py:628: ConvergenceWarning: Objective did not converge. You might want to increase the number of iterations, check the scale of the features or consider increasing regularisation. Duality gap: 4.503e+09, tolerance: 1.215e+08\n",
      "  model = cd_fast.enet_coordinate_descent(\n",
      "/Users/JR/anaconda3/lib/python3.11/site-packages/sklearn/linear_model/_coordinate_descent.py:614: ConvergenceWarning: Objective did not converge. You might want to increase the number of iterations. Duality gap: 282155975.46543884, tolerance: 124673452.55984268\n",
      "  model = cd_fast.enet_coordinate_descent_gram(\n",
      "/Users/JR/anaconda3/lib/python3.11/site-packages/sklearn/linear_model/_coordinate_descent.py:628: ConvergenceWarning: Objective did not converge. You might want to increase the number of iterations, check the scale of the features or consider increasing regularisation. Duality gap: 1.239e+09, tolerance: 1.358e+08\n",
      "  model = cd_fast.enet_coordinate_descent(\n",
      "/Users/JR/anaconda3/lib/python3.11/site-packages/sklearn/linear_model/_coordinate_descent.py:614: ConvergenceWarning: Objective did not converge. You might want to increase the number of iterations. Duality gap: 54497721.55548096, tolerance: 54446753.85197776\n",
      "  model = cd_fast.enet_coordinate_descent_gram(\n"
     ]
    },
    {
     "data": {
      "text/html": [
       "<style>#sk-container-id-27 {color: black;}#sk-container-id-27 pre{padding: 0;}#sk-container-id-27 div.sk-toggleable {background-color: white;}#sk-container-id-27 label.sk-toggleable__label {cursor: pointer;display: block;width: 100%;margin-bottom: 0;padding: 0.3em;box-sizing: border-box;text-align: center;}#sk-container-id-27 label.sk-toggleable__label-arrow:before {content: \"▸\";float: left;margin-right: 0.25em;color: #696969;}#sk-container-id-27 label.sk-toggleable__label-arrow:hover:before {color: black;}#sk-container-id-27 div.sk-estimator:hover label.sk-toggleable__label-arrow:before {color: black;}#sk-container-id-27 div.sk-toggleable__content {max-height: 0;max-width: 0;overflow: hidden;text-align: left;background-color: #f0f8ff;}#sk-container-id-27 div.sk-toggleable__content pre {margin: 0.2em;color: black;border-radius: 0.25em;background-color: #f0f8ff;}#sk-container-id-27 input.sk-toggleable__control:checked~div.sk-toggleable__content {max-height: 200px;max-width: 100%;overflow: auto;}#sk-container-id-27 input.sk-toggleable__control:checked~label.sk-toggleable__label-arrow:before {content: \"▾\";}#sk-container-id-27 div.sk-estimator input.sk-toggleable__control:checked~label.sk-toggleable__label {background-color: #d4ebff;}#sk-container-id-27 div.sk-label input.sk-toggleable__control:checked~label.sk-toggleable__label {background-color: #d4ebff;}#sk-container-id-27 input.sk-hidden--visually {border: 0;clip: rect(1px 1px 1px 1px);clip: rect(1px, 1px, 1px, 1px);height: 1px;margin: -1px;overflow: hidden;padding: 0;position: absolute;width: 1px;}#sk-container-id-27 div.sk-estimator {font-family: monospace;background-color: #f0f8ff;border: 1px dotted black;border-radius: 0.25em;box-sizing: border-box;margin-bottom: 0.5em;}#sk-container-id-27 div.sk-estimator:hover {background-color: #d4ebff;}#sk-container-id-27 div.sk-parallel-item::after {content: \"\";width: 100%;border-bottom: 1px solid gray;flex-grow: 1;}#sk-container-id-27 div.sk-label:hover label.sk-toggleable__label {background-color: #d4ebff;}#sk-container-id-27 div.sk-serial::before {content: \"\";position: absolute;border-left: 1px solid gray;box-sizing: border-box;top: 0;bottom: 0;left: 50%;z-index: 0;}#sk-container-id-27 div.sk-serial {display: flex;flex-direction: column;align-items: center;background-color: white;padding-right: 0.2em;padding-left: 0.2em;position: relative;}#sk-container-id-27 div.sk-item {position: relative;z-index: 1;}#sk-container-id-27 div.sk-parallel {display: flex;align-items: stretch;justify-content: center;background-color: white;position: relative;}#sk-container-id-27 div.sk-item::before, #sk-container-id-27 div.sk-parallel-item::before {content: \"\";position: absolute;border-left: 1px solid gray;box-sizing: border-box;top: 0;bottom: 0;left: 50%;z-index: -1;}#sk-container-id-27 div.sk-parallel-item {display: flex;flex-direction: column;z-index: 1;position: relative;background-color: white;}#sk-container-id-27 div.sk-parallel-item:first-child::after {align-self: flex-end;width: 50%;}#sk-container-id-27 div.sk-parallel-item:last-child::after {align-self: flex-start;width: 50%;}#sk-container-id-27 div.sk-parallel-item:only-child::after {width: 0;}#sk-container-id-27 div.sk-dashed-wrapped {border: 1px dashed gray;margin: 0 0.4em 0.5em 0.4em;box-sizing: border-box;padding-bottom: 0.4em;background-color: white;}#sk-container-id-27 div.sk-label label {font-family: monospace;font-weight: bold;display: inline-block;line-height: 1.2em;}#sk-container-id-27 div.sk-label-container {text-align: center;}#sk-container-id-27 div.sk-container {/* jupyter's `normalize.less` sets `[hidden] { display: none; }` but bootstrap.min.css set `[hidden] { display: none !important; }` so we also need the `!important` here to be able to override the default hidden behavior on the sphinx rendered scikit-learn.org. See: https://github.com/scikit-learn/scikit-learn/issues/21755 */display: inline-block !important;position: relative;}#sk-container-id-27 div.sk-text-repr-fallback {display: none;}</style><div id=\"sk-container-id-27\" class=\"sk-top-container\"><div class=\"sk-text-repr-fallback\"><pre>GridSearchCV(cv=5,\n",
       "             estimator=Pipeline(steps=[(&#x27;sc&#x27;, StandardScaler()),\n",
       "                                       (&#x27;lasso_cv&#x27;, LassoCV())]),\n",
       "             param_grid={&#x27;lasso_cv__alphas&#x27;: [None]})</pre><b>In a Jupyter environment, please rerun this cell to show the HTML representation or trust the notebook. <br />On GitHub, the HTML representation is unable to render, please try loading this page with nbviewer.org.</b></div><div class=\"sk-container\" hidden><div class=\"sk-item sk-dashed-wrapped\"><div class=\"sk-label-container\"><div class=\"sk-label sk-toggleable\"><input class=\"sk-toggleable__control sk-hidden--visually\" id=\"sk-estimator-id-54\" type=\"checkbox\" ><label for=\"sk-estimator-id-54\" class=\"sk-toggleable__label sk-toggleable__label-arrow\">GridSearchCV</label><div class=\"sk-toggleable__content\"><pre>GridSearchCV(cv=5,\n",
       "             estimator=Pipeline(steps=[(&#x27;sc&#x27;, StandardScaler()),\n",
       "                                       (&#x27;lasso_cv&#x27;, LassoCV())]),\n",
       "             param_grid={&#x27;lasso_cv__alphas&#x27;: [None]})</pre></div></div></div><div class=\"sk-parallel\"><div class=\"sk-parallel-item\"><div class=\"sk-item\"><div class=\"sk-label-container\"><div class=\"sk-label sk-toggleable\"><input class=\"sk-toggleable__control sk-hidden--visually\" id=\"sk-estimator-id-55\" type=\"checkbox\" ><label for=\"sk-estimator-id-55\" class=\"sk-toggleable__label sk-toggleable__label-arrow\">estimator: Pipeline</label><div class=\"sk-toggleable__content\"><pre>Pipeline(steps=[(&#x27;sc&#x27;, StandardScaler()), (&#x27;lasso_cv&#x27;, LassoCV())])</pre></div></div></div><div class=\"sk-serial\"><div class=\"sk-item\"><div class=\"sk-serial\"><div class=\"sk-item\"><div class=\"sk-estimator sk-toggleable\"><input class=\"sk-toggleable__control sk-hidden--visually\" id=\"sk-estimator-id-56\" type=\"checkbox\" ><label for=\"sk-estimator-id-56\" class=\"sk-toggleable__label sk-toggleable__label-arrow\">StandardScaler</label><div class=\"sk-toggleable__content\"><pre>StandardScaler()</pre></div></div></div><div class=\"sk-item\"><div class=\"sk-estimator sk-toggleable\"><input class=\"sk-toggleable__control sk-hidden--visually\" id=\"sk-estimator-id-57\" type=\"checkbox\" ><label for=\"sk-estimator-id-57\" class=\"sk-toggleable__label sk-toggleable__label-arrow\">LassoCV</label><div class=\"sk-toggleable__content\"><pre>LassoCV()</pre></div></div></div></div></div></div></div></div></div></div></div></div>"
      ],
      "text/plain": [
       "GridSearchCV(cv=5,\n",
       "             estimator=Pipeline(steps=[('sc', StandardScaler()),\n",
       "                                       ('lasso_cv', LassoCV())]),\n",
       "             param_grid={'lasso_cv__alphas': [None]})"
      ]
     },
     "execution_count": 123,
     "metadata": {},
     "output_type": "execute_result"
    }
   ],
   "source": [
    "lasso_cv_gs.fit(x1_train, y1_train)"
   ]
  },
  {
   "cell_type": "code",
   "execution_count": 125,
   "id": "9ebb8e96-d60a-4edc-891c-c76d3cf48186",
   "metadata": {
    "tags": []
   },
   "outputs": [
    {
     "data": {
      "text/html": [
       "<style>#sk-container-id-28 {color: black;}#sk-container-id-28 pre{padding: 0;}#sk-container-id-28 div.sk-toggleable {background-color: white;}#sk-container-id-28 label.sk-toggleable__label {cursor: pointer;display: block;width: 100%;margin-bottom: 0;padding: 0.3em;box-sizing: border-box;text-align: center;}#sk-container-id-28 label.sk-toggleable__label-arrow:before {content: \"▸\";float: left;margin-right: 0.25em;color: #696969;}#sk-container-id-28 label.sk-toggleable__label-arrow:hover:before {color: black;}#sk-container-id-28 div.sk-estimator:hover label.sk-toggleable__label-arrow:before {color: black;}#sk-container-id-28 div.sk-toggleable__content {max-height: 0;max-width: 0;overflow: hidden;text-align: left;background-color: #f0f8ff;}#sk-container-id-28 div.sk-toggleable__content pre {margin: 0.2em;color: black;border-radius: 0.25em;background-color: #f0f8ff;}#sk-container-id-28 input.sk-toggleable__control:checked~div.sk-toggleable__content {max-height: 200px;max-width: 100%;overflow: auto;}#sk-container-id-28 input.sk-toggleable__control:checked~label.sk-toggleable__label-arrow:before {content: \"▾\";}#sk-container-id-28 div.sk-estimator input.sk-toggleable__control:checked~label.sk-toggleable__label {background-color: #d4ebff;}#sk-container-id-28 div.sk-label input.sk-toggleable__control:checked~label.sk-toggleable__label {background-color: #d4ebff;}#sk-container-id-28 input.sk-hidden--visually {border: 0;clip: rect(1px 1px 1px 1px);clip: rect(1px, 1px, 1px, 1px);height: 1px;margin: -1px;overflow: hidden;padding: 0;position: absolute;width: 1px;}#sk-container-id-28 div.sk-estimator {font-family: monospace;background-color: #f0f8ff;border: 1px dotted black;border-radius: 0.25em;box-sizing: border-box;margin-bottom: 0.5em;}#sk-container-id-28 div.sk-estimator:hover {background-color: #d4ebff;}#sk-container-id-28 div.sk-parallel-item::after {content: \"\";width: 100%;border-bottom: 1px solid gray;flex-grow: 1;}#sk-container-id-28 div.sk-label:hover label.sk-toggleable__label {background-color: #d4ebff;}#sk-container-id-28 div.sk-serial::before {content: \"\";position: absolute;border-left: 1px solid gray;box-sizing: border-box;top: 0;bottom: 0;left: 50%;z-index: 0;}#sk-container-id-28 div.sk-serial {display: flex;flex-direction: column;align-items: center;background-color: white;padding-right: 0.2em;padding-left: 0.2em;position: relative;}#sk-container-id-28 div.sk-item {position: relative;z-index: 1;}#sk-container-id-28 div.sk-parallel {display: flex;align-items: stretch;justify-content: center;background-color: white;position: relative;}#sk-container-id-28 div.sk-item::before, #sk-container-id-28 div.sk-parallel-item::before {content: \"\";position: absolute;border-left: 1px solid gray;box-sizing: border-box;top: 0;bottom: 0;left: 50%;z-index: -1;}#sk-container-id-28 div.sk-parallel-item {display: flex;flex-direction: column;z-index: 1;position: relative;background-color: white;}#sk-container-id-28 div.sk-parallel-item:first-child::after {align-self: flex-end;width: 50%;}#sk-container-id-28 div.sk-parallel-item:last-child::after {align-self: flex-start;width: 50%;}#sk-container-id-28 div.sk-parallel-item:only-child::after {width: 0;}#sk-container-id-28 div.sk-dashed-wrapped {border: 1px dashed gray;margin: 0 0.4em 0.5em 0.4em;box-sizing: border-box;padding-bottom: 0.4em;background-color: white;}#sk-container-id-28 div.sk-label label {font-family: monospace;font-weight: bold;display: inline-block;line-height: 1.2em;}#sk-container-id-28 div.sk-label-container {text-align: center;}#sk-container-id-28 div.sk-container {/* jupyter's `normalize.less` sets `[hidden] { display: none; }` but bootstrap.min.css set `[hidden] { display: none !important; }` so we also need the `!important` here to be able to override the default hidden behavior on the sphinx rendered scikit-learn.org. See: https://github.com/scikit-learn/scikit-learn/issues/21755 */display: inline-block !important;position: relative;}#sk-container-id-28 div.sk-text-repr-fallback {display: none;}</style><div id=\"sk-container-id-28\" class=\"sk-top-container\"><div class=\"sk-text-repr-fallback\"><pre>GridSearchCV(cv=5,\n",
       "             estimator=Pipeline(steps=[(&#x27;sc&#x27;, StandardScaler()),\n",
       "                                       (&#x27;knn&#x27;, KNeighborsRegressor())]),\n",
       "             param_grid={&#x27;knn__n_neighbors&#x27;: range(1, 50, 2)})</pre><b>In a Jupyter environment, please rerun this cell to show the HTML representation or trust the notebook. <br />On GitHub, the HTML representation is unable to render, please try loading this page with nbviewer.org.</b></div><div class=\"sk-container\" hidden><div class=\"sk-item sk-dashed-wrapped\"><div class=\"sk-label-container\"><div class=\"sk-label sk-toggleable\"><input class=\"sk-toggleable__control sk-hidden--visually\" id=\"sk-estimator-id-58\" type=\"checkbox\" ><label for=\"sk-estimator-id-58\" class=\"sk-toggleable__label sk-toggleable__label-arrow\">GridSearchCV</label><div class=\"sk-toggleable__content\"><pre>GridSearchCV(cv=5,\n",
       "             estimator=Pipeline(steps=[(&#x27;sc&#x27;, StandardScaler()),\n",
       "                                       (&#x27;knn&#x27;, KNeighborsRegressor())]),\n",
       "             param_grid={&#x27;knn__n_neighbors&#x27;: range(1, 50, 2)})</pre></div></div></div><div class=\"sk-parallel\"><div class=\"sk-parallel-item\"><div class=\"sk-item\"><div class=\"sk-label-container\"><div class=\"sk-label sk-toggleable\"><input class=\"sk-toggleable__control sk-hidden--visually\" id=\"sk-estimator-id-59\" type=\"checkbox\" ><label for=\"sk-estimator-id-59\" class=\"sk-toggleable__label sk-toggleable__label-arrow\">estimator: Pipeline</label><div class=\"sk-toggleable__content\"><pre>Pipeline(steps=[(&#x27;sc&#x27;, StandardScaler()), (&#x27;knn&#x27;, KNeighborsRegressor())])</pre></div></div></div><div class=\"sk-serial\"><div class=\"sk-item\"><div class=\"sk-serial\"><div class=\"sk-item\"><div class=\"sk-estimator sk-toggleable\"><input class=\"sk-toggleable__control sk-hidden--visually\" id=\"sk-estimator-id-60\" type=\"checkbox\" ><label for=\"sk-estimator-id-60\" class=\"sk-toggleable__label sk-toggleable__label-arrow\">StandardScaler</label><div class=\"sk-toggleable__content\"><pre>StandardScaler()</pre></div></div></div><div class=\"sk-item\"><div class=\"sk-estimator sk-toggleable\"><input class=\"sk-toggleable__control sk-hidden--visually\" id=\"sk-estimator-id-61\" type=\"checkbox\" ><label for=\"sk-estimator-id-61\" class=\"sk-toggleable__label sk-toggleable__label-arrow\">KNeighborsRegressor</label><div class=\"sk-toggleable__content\"><pre>KNeighborsRegressor()</pre></div></div></div></div></div></div></div></div></div></div></div></div>"
      ],
      "text/plain": [
       "GridSearchCV(cv=5,\n",
       "             estimator=Pipeline(steps=[('sc', StandardScaler()),\n",
       "                                       ('knn', KNeighborsRegressor())]),\n",
       "             param_grid={'knn__n_neighbors': range(1, 50, 2)})"
      ]
     },
     "execution_count": 125,
     "metadata": {},
     "output_type": "execute_result"
    }
   ],
   "source": [
    "knn_gs.fit(x1_train, y1_train)"
   ]
  },
  {
   "cell_type": "code",
   "execution_count": 127,
   "id": "f9238d2a-aa92-4c10-8d6a-c92016452fc5",
   "metadata": {
    "tags": []
   },
   "outputs": [
    {
     "data": {
      "text/html": [
       "<style>#sk-container-id-29 {color: black;}#sk-container-id-29 pre{padding: 0;}#sk-container-id-29 div.sk-toggleable {background-color: white;}#sk-container-id-29 label.sk-toggleable__label {cursor: pointer;display: block;width: 100%;margin-bottom: 0;padding: 0.3em;box-sizing: border-box;text-align: center;}#sk-container-id-29 label.sk-toggleable__label-arrow:before {content: \"▸\";float: left;margin-right: 0.25em;color: #696969;}#sk-container-id-29 label.sk-toggleable__label-arrow:hover:before {color: black;}#sk-container-id-29 div.sk-estimator:hover label.sk-toggleable__label-arrow:before {color: black;}#sk-container-id-29 div.sk-toggleable__content {max-height: 0;max-width: 0;overflow: hidden;text-align: left;background-color: #f0f8ff;}#sk-container-id-29 div.sk-toggleable__content pre {margin: 0.2em;color: black;border-radius: 0.25em;background-color: #f0f8ff;}#sk-container-id-29 input.sk-toggleable__control:checked~div.sk-toggleable__content {max-height: 200px;max-width: 100%;overflow: auto;}#sk-container-id-29 input.sk-toggleable__control:checked~label.sk-toggleable__label-arrow:before {content: \"▾\";}#sk-container-id-29 div.sk-estimator input.sk-toggleable__control:checked~label.sk-toggleable__label {background-color: #d4ebff;}#sk-container-id-29 div.sk-label input.sk-toggleable__control:checked~label.sk-toggleable__label {background-color: #d4ebff;}#sk-container-id-29 input.sk-hidden--visually {border: 0;clip: rect(1px 1px 1px 1px);clip: rect(1px, 1px, 1px, 1px);height: 1px;margin: -1px;overflow: hidden;padding: 0;position: absolute;width: 1px;}#sk-container-id-29 div.sk-estimator {font-family: monospace;background-color: #f0f8ff;border: 1px dotted black;border-radius: 0.25em;box-sizing: border-box;margin-bottom: 0.5em;}#sk-container-id-29 div.sk-estimator:hover {background-color: #d4ebff;}#sk-container-id-29 div.sk-parallel-item::after {content: \"\";width: 100%;border-bottom: 1px solid gray;flex-grow: 1;}#sk-container-id-29 div.sk-label:hover label.sk-toggleable__label {background-color: #d4ebff;}#sk-container-id-29 div.sk-serial::before {content: \"\";position: absolute;border-left: 1px solid gray;box-sizing: border-box;top: 0;bottom: 0;left: 50%;z-index: 0;}#sk-container-id-29 div.sk-serial {display: flex;flex-direction: column;align-items: center;background-color: white;padding-right: 0.2em;padding-left: 0.2em;position: relative;}#sk-container-id-29 div.sk-item {position: relative;z-index: 1;}#sk-container-id-29 div.sk-parallel {display: flex;align-items: stretch;justify-content: center;background-color: white;position: relative;}#sk-container-id-29 div.sk-item::before, #sk-container-id-29 div.sk-parallel-item::before {content: \"\";position: absolute;border-left: 1px solid gray;box-sizing: border-box;top: 0;bottom: 0;left: 50%;z-index: -1;}#sk-container-id-29 div.sk-parallel-item {display: flex;flex-direction: column;z-index: 1;position: relative;background-color: white;}#sk-container-id-29 div.sk-parallel-item:first-child::after {align-self: flex-end;width: 50%;}#sk-container-id-29 div.sk-parallel-item:last-child::after {align-self: flex-start;width: 50%;}#sk-container-id-29 div.sk-parallel-item:only-child::after {width: 0;}#sk-container-id-29 div.sk-dashed-wrapped {border: 1px dashed gray;margin: 0 0.4em 0.5em 0.4em;box-sizing: border-box;padding-bottom: 0.4em;background-color: white;}#sk-container-id-29 div.sk-label label {font-family: monospace;font-weight: bold;display: inline-block;line-height: 1.2em;}#sk-container-id-29 div.sk-label-container {text-align: center;}#sk-container-id-29 div.sk-container {/* jupyter's `normalize.less` sets `[hidden] { display: none; }` but bootstrap.min.css set `[hidden] { display: none !important; }` so we also need the `!important` here to be able to override the default hidden behavior on the sphinx rendered scikit-learn.org. See: https://github.com/scikit-learn/scikit-learn/issues/21755 */display: inline-block !important;position: relative;}#sk-container-id-29 div.sk-text-repr-fallback {display: none;}</style><div id=\"sk-container-id-29\" class=\"sk-top-container\"><div class=\"sk-text-repr-fallback\"><pre>GridSearchCV(cv=5,\n",
       "             estimator=Pipeline(steps=[(&#x27;sc&#x27;, StandardScaler()),\n",
       "                                       (&#x27;rf&#x27;, RandomForestRegressor())]),\n",
       "             param_grid={&#x27;rf__max_depth&#x27;: [None, 5, 10],\n",
       "                         &#x27;rf__n_estimators&#x27;: range(250, 500, 50)})</pre><b>In a Jupyter environment, please rerun this cell to show the HTML representation or trust the notebook. <br />On GitHub, the HTML representation is unable to render, please try loading this page with nbviewer.org.</b></div><div class=\"sk-container\" hidden><div class=\"sk-item sk-dashed-wrapped\"><div class=\"sk-label-container\"><div class=\"sk-label sk-toggleable\"><input class=\"sk-toggleable__control sk-hidden--visually\" id=\"sk-estimator-id-62\" type=\"checkbox\" ><label for=\"sk-estimator-id-62\" class=\"sk-toggleable__label sk-toggleable__label-arrow\">GridSearchCV</label><div class=\"sk-toggleable__content\"><pre>GridSearchCV(cv=5,\n",
       "             estimator=Pipeline(steps=[(&#x27;sc&#x27;, StandardScaler()),\n",
       "                                       (&#x27;rf&#x27;, RandomForestRegressor())]),\n",
       "             param_grid={&#x27;rf__max_depth&#x27;: [None, 5, 10],\n",
       "                         &#x27;rf__n_estimators&#x27;: range(250, 500, 50)})</pre></div></div></div><div class=\"sk-parallel\"><div class=\"sk-parallel-item\"><div class=\"sk-item\"><div class=\"sk-label-container\"><div class=\"sk-label sk-toggleable\"><input class=\"sk-toggleable__control sk-hidden--visually\" id=\"sk-estimator-id-63\" type=\"checkbox\" ><label for=\"sk-estimator-id-63\" class=\"sk-toggleable__label sk-toggleable__label-arrow\">estimator: Pipeline</label><div class=\"sk-toggleable__content\"><pre>Pipeline(steps=[(&#x27;sc&#x27;, StandardScaler()), (&#x27;rf&#x27;, RandomForestRegressor())])</pre></div></div></div><div class=\"sk-serial\"><div class=\"sk-item\"><div class=\"sk-serial\"><div class=\"sk-item\"><div class=\"sk-estimator sk-toggleable\"><input class=\"sk-toggleable__control sk-hidden--visually\" id=\"sk-estimator-id-64\" type=\"checkbox\" ><label for=\"sk-estimator-id-64\" class=\"sk-toggleable__label sk-toggleable__label-arrow\">StandardScaler</label><div class=\"sk-toggleable__content\"><pre>StandardScaler()</pre></div></div></div><div class=\"sk-item\"><div class=\"sk-estimator sk-toggleable\"><input class=\"sk-toggleable__control sk-hidden--visually\" id=\"sk-estimator-id-65\" type=\"checkbox\" ><label for=\"sk-estimator-id-65\" class=\"sk-toggleable__label sk-toggleable__label-arrow\">RandomForestRegressor</label><div class=\"sk-toggleable__content\"><pre>RandomForestRegressor()</pre></div></div></div></div></div></div></div></div></div></div></div></div>"
      ],
      "text/plain": [
       "GridSearchCV(cv=5,\n",
       "             estimator=Pipeline(steps=[('sc', StandardScaler()),\n",
       "                                       ('rf', RandomForestRegressor())]),\n",
       "             param_grid={'rf__max_depth': [None, 5, 10],\n",
       "                         'rf__n_estimators': range(250, 500, 50)})"
      ]
     },
     "execution_count": 127,
     "metadata": {},
     "output_type": "execute_result"
    }
   ],
   "source": [
    "rf_gs.fit(x1_train, y1_train)"
   ]
  },
  {
   "cell_type": "code",
   "execution_count": 128,
   "id": "f30dd196-50f4-412b-9bf4-b6282d0459d9",
   "metadata": {
    "tags": []
   },
   "outputs": [
    {
     "name": "stdout",
     "output_type": "stream",
     "text": [
      "========================================\n",
      "RidgeCV\n",
      "Train Score: 0.891\n",
      "Test Score: 0.889\n",
      "Best Parameters: {'ridge_cv__alphas': 3}\n",
      "========================================\n",
      "LassoCV\n",
      "Train Score: 0.884\n",
      "Test Score: 0.887\n",
      "Best Parameters: {'lasso_cv__alphas': None}\n",
      "========================================\n",
      "KNeighborsRegressor\n",
      "Train Score: 0.782\n",
      "Test Score: 0.871\n",
      "Best Parameters: {'knn__n_neighbors': 1}\n",
      "========================================\n",
      "RandomForestRegressor\n",
      "Train Score: 0.855\n",
      "Test Score: 0.968\n",
      "Best Parameters: {'rf__max_depth': 10, 'rf__n_estimators': 250}\n"
     ]
    }
   ],
   "source": [
    "# Output best parameters, best score, test score\n",
    "\n",
    "gs_dict = {'RidgeCV' : ridge_cv_gs, \n",
    "           'LassoCV' : lasso_cv_gs, \n",
    "           'KNeighborsRegressor' : knn_gs, \n",
    "           'RandomForestRegressor' : rf_gs, \n",
    "          }\n",
    "\n",
    "for key, value in gs_dict.items():\n",
    "    print('=' * 40)\n",
    "    print(key)\n",
    "    print(f'Train Score: {(value.best_score_).round(3)}')\n",
    "    print(f'Test Score: {(value.score(x1_test, y1_test)).round(3)}')\n",
    "    print(f'Best Parameters: {value.best_params_}')"
   ]
  },
  {
   "cell_type": "markdown",
   "id": "9dfc5c13-b8a8-4ce6-80e9-5d0c37c525a2",
   "metadata": {},
   "source": [
    "### Fit post vaccine dataset"
   ]
  },
  {
   "cell_type": "code",
   "execution_count": 111,
   "id": "7f6abea1-0ddd-4e26-9540-0fb0c616d346",
   "metadata": {
    "tags": []
   },
   "outputs": [
    {
     "data": {
      "text/html": [
       "<style>#sk-container-id-22 {color: black;}#sk-container-id-22 pre{padding: 0;}#sk-container-id-22 div.sk-toggleable {background-color: white;}#sk-container-id-22 label.sk-toggleable__label {cursor: pointer;display: block;width: 100%;margin-bottom: 0;padding: 0.3em;box-sizing: border-box;text-align: center;}#sk-container-id-22 label.sk-toggleable__label-arrow:before {content: \"▸\";float: left;margin-right: 0.25em;color: #696969;}#sk-container-id-22 label.sk-toggleable__label-arrow:hover:before {color: black;}#sk-container-id-22 div.sk-estimator:hover label.sk-toggleable__label-arrow:before {color: black;}#sk-container-id-22 div.sk-toggleable__content {max-height: 0;max-width: 0;overflow: hidden;text-align: left;background-color: #f0f8ff;}#sk-container-id-22 div.sk-toggleable__content pre {margin: 0.2em;color: black;border-radius: 0.25em;background-color: #f0f8ff;}#sk-container-id-22 input.sk-toggleable__control:checked~div.sk-toggleable__content {max-height: 200px;max-width: 100%;overflow: auto;}#sk-container-id-22 input.sk-toggleable__control:checked~label.sk-toggleable__label-arrow:before {content: \"▾\";}#sk-container-id-22 div.sk-estimator input.sk-toggleable__control:checked~label.sk-toggleable__label {background-color: #d4ebff;}#sk-container-id-22 div.sk-label input.sk-toggleable__control:checked~label.sk-toggleable__label {background-color: #d4ebff;}#sk-container-id-22 input.sk-hidden--visually {border: 0;clip: rect(1px 1px 1px 1px);clip: rect(1px, 1px, 1px, 1px);height: 1px;margin: -1px;overflow: hidden;padding: 0;position: absolute;width: 1px;}#sk-container-id-22 div.sk-estimator {font-family: monospace;background-color: #f0f8ff;border: 1px dotted black;border-radius: 0.25em;box-sizing: border-box;margin-bottom: 0.5em;}#sk-container-id-22 div.sk-estimator:hover {background-color: #d4ebff;}#sk-container-id-22 div.sk-parallel-item::after {content: \"\";width: 100%;border-bottom: 1px solid gray;flex-grow: 1;}#sk-container-id-22 div.sk-label:hover label.sk-toggleable__label {background-color: #d4ebff;}#sk-container-id-22 div.sk-serial::before {content: \"\";position: absolute;border-left: 1px solid gray;box-sizing: border-box;top: 0;bottom: 0;left: 50%;z-index: 0;}#sk-container-id-22 div.sk-serial {display: flex;flex-direction: column;align-items: center;background-color: white;padding-right: 0.2em;padding-left: 0.2em;position: relative;}#sk-container-id-22 div.sk-item {position: relative;z-index: 1;}#sk-container-id-22 div.sk-parallel {display: flex;align-items: stretch;justify-content: center;background-color: white;position: relative;}#sk-container-id-22 div.sk-item::before, #sk-container-id-22 div.sk-parallel-item::before {content: \"\";position: absolute;border-left: 1px solid gray;box-sizing: border-box;top: 0;bottom: 0;left: 50%;z-index: -1;}#sk-container-id-22 div.sk-parallel-item {display: flex;flex-direction: column;z-index: 1;position: relative;background-color: white;}#sk-container-id-22 div.sk-parallel-item:first-child::after {align-self: flex-end;width: 50%;}#sk-container-id-22 div.sk-parallel-item:last-child::after {align-self: flex-start;width: 50%;}#sk-container-id-22 div.sk-parallel-item:only-child::after {width: 0;}#sk-container-id-22 div.sk-dashed-wrapped {border: 1px dashed gray;margin: 0 0.4em 0.5em 0.4em;box-sizing: border-box;padding-bottom: 0.4em;background-color: white;}#sk-container-id-22 div.sk-label label {font-family: monospace;font-weight: bold;display: inline-block;line-height: 1.2em;}#sk-container-id-22 div.sk-label-container {text-align: center;}#sk-container-id-22 div.sk-container {/* jupyter's `normalize.less` sets `[hidden] { display: none; }` but bootstrap.min.css set `[hidden] { display: none !important; }` so we also need the `!important` here to be able to override the default hidden behavior on the sphinx rendered scikit-learn.org. See: https://github.com/scikit-learn/scikit-learn/issues/21755 */display: inline-block !important;position: relative;}#sk-container-id-22 div.sk-text-repr-fallback {display: none;}</style><div id=\"sk-container-id-22\" class=\"sk-top-container\"><div class=\"sk-text-repr-fallback\"><pre>GridSearchCV(cv=5,\n",
       "             estimator=Pipeline(steps=[(&#x27;sc&#x27;, StandardScaler()),\n",
       "                                       (&#x27;ridge_cv&#x27;, RidgeCV())]),\n",
       "             param_grid={&#x27;ridge_cv__alphas&#x27;: range(1, 11)})</pre><b>In a Jupyter environment, please rerun this cell to show the HTML representation or trust the notebook. <br />On GitHub, the HTML representation is unable to render, please try loading this page with nbviewer.org.</b></div><div class=\"sk-container\" hidden><div class=\"sk-item sk-dashed-wrapped\"><div class=\"sk-label-container\"><div class=\"sk-label sk-toggleable\"><input class=\"sk-toggleable__control sk-hidden--visually\" id=\"sk-estimator-id-34\" type=\"checkbox\" ><label for=\"sk-estimator-id-34\" class=\"sk-toggleable__label sk-toggleable__label-arrow\">GridSearchCV</label><div class=\"sk-toggleable__content\"><pre>GridSearchCV(cv=5,\n",
       "             estimator=Pipeline(steps=[(&#x27;sc&#x27;, StandardScaler()),\n",
       "                                       (&#x27;ridge_cv&#x27;, RidgeCV())]),\n",
       "             param_grid={&#x27;ridge_cv__alphas&#x27;: range(1, 11)})</pre></div></div></div><div class=\"sk-parallel\"><div class=\"sk-parallel-item\"><div class=\"sk-item\"><div class=\"sk-label-container\"><div class=\"sk-label sk-toggleable\"><input class=\"sk-toggleable__control sk-hidden--visually\" id=\"sk-estimator-id-35\" type=\"checkbox\" ><label for=\"sk-estimator-id-35\" class=\"sk-toggleable__label sk-toggleable__label-arrow\">estimator: Pipeline</label><div class=\"sk-toggleable__content\"><pre>Pipeline(steps=[(&#x27;sc&#x27;, StandardScaler()), (&#x27;ridge_cv&#x27;, RidgeCV())])</pre></div></div></div><div class=\"sk-serial\"><div class=\"sk-item\"><div class=\"sk-serial\"><div class=\"sk-item\"><div class=\"sk-estimator sk-toggleable\"><input class=\"sk-toggleable__control sk-hidden--visually\" id=\"sk-estimator-id-36\" type=\"checkbox\" ><label for=\"sk-estimator-id-36\" class=\"sk-toggleable__label sk-toggleable__label-arrow\">StandardScaler</label><div class=\"sk-toggleable__content\"><pre>StandardScaler()</pre></div></div></div><div class=\"sk-item\"><div class=\"sk-estimator sk-toggleable\"><input class=\"sk-toggleable__control sk-hidden--visually\" id=\"sk-estimator-id-37\" type=\"checkbox\" ><label for=\"sk-estimator-id-37\" class=\"sk-toggleable__label sk-toggleable__label-arrow\">RidgeCV</label><div class=\"sk-toggleable__content\"><pre>RidgeCV()</pre></div></div></div></div></div></div></div></div></div></div></div></div>"
      ],
      "text/plain": [
       "GridSearchCV(cv=5,\n",
       "             estimator=Pipeline(steps=[('sc', StandardScaler()),\n",
       "                                       ('ridge_cv', RidgeCV())]),\n",
       "             param_grid={'ridge_cv__alphas': range(1, 11)})"
      ]
     },
     "execution_count": 111,
     "metadata": {},
     "output_type": "execute_result"
    }
   ],
   "source": [
    "ridge_cv_gs.fit(x3_train, y3_train)"
   ]
  },
  {
   "cell_type": "code",
   "execution_count": 112,
   "id": "3c6c61c1-cfdb-42de-9e7d-209962d86092",
   "metadata": {
    "scrolled": true,
    "tags": []
   },
   "outputs": [
    {
     "name": "stderr",
     "output_type": "stream",
     "text": [
      "/Users/JR/anaconda3/lib/python3.11/site-packages/sklearn/linear_model/_coordinate_descent.py:628: ConvergenceWarning: Objective did not converge. You might want to increase the number of iterations, check the scale of the features or consider increasing regularisation. Duality gap: 1.326e+10, tolerance: 1.800e+09\n",
      "  model = cd_fast.enet_coordinate_descent(\n",
      "/Users/JR/anaconda3/lib/python3.11/site-packages/sklearn/linear_model/_coordinate_descent.py:614: ConvergenceWarning: Objective did not converge. You might want to increase the number of iterations. Duality gap: 801459713.7767334, tolerance: 793316571.7001983\n",
      "  model = cd_fast.enet_coordinate_descent_gram(\n",
      "/Users/JR/anaconda3/lib/python3.11/site-packages/sklearn/linear_model/_coordinate_descent.py:614: ConvergenceWarning: Objective did not converge. You might want to increase the number of iterations. Duality gap: 1009704716.2032471, tolerance: 793316571.7001983\n",
      "  model = cd_fast.enet_coordinate_descent_gram(\n",
      "/Users/JR/anaconda3/lib/python3.11/site-packages/sklearn/linear_model/_coordinate_descent.py:614: ConvergenceWarning: Objective did not converge. You might want to increase the number of iterations. Duality gap: 1040476849.4949341, tolerance: 793316571.7001983\n",
      "  model = cd_fast.enet_coordinate_descent_gram(\n",
      "/Users/JR/anaconda3/lib/python3.11/site-packages/sklearn/linear_model/_coordinate_descent.py:614: ConvergenceWarning: Objective did not converge. You might want to increase the number of iterations. Duality gap: 1012115953.4446411, tolerance: 793316571.7001983\n",
      "  model = cd_fast.enet_coordinate_descent_gram(\n",
      "/Users/JR/anaconda3/lib/python3.11/site-packages/sklearn/linear_model/_coordinate_descent.py:614: ConvergenceWarning: Objective did not converge. You might want to increase the number of iterations. Duality gap: 967604123.6390076, tolerance: 793316571.7001983\n",
      "  model = cd_fast.enet_coordinate_descent_gram(\n",
      "/Users/JR/anaconda3/lib/python3.11/site-packages/sklearn/linear_model/_coordinate_descent.py:614: ConvergenceWarning: Objective did not converge. You might want to increase the number of iterations. Duality gap: 902994164.111084, tolerance: 793316571.7001983\n",
      "  model = cd_fast.enet_coordinate_descent_gram(\n",
      "/Users/JR/anaconda3/lib/python3.11/site-packages/sklearn/linear_model/_coordinate_descent.py:614: ConvergenceWarning: Objective did not converge. You might want to increase the number of iterations. Duality gap: 1132605228.437317, tolerance: 793316571.7001983\n",
      "  model = cd_fast.enet_coordinate_descent_gram(\n",
      "/Users/JR/anaconda3/lib/python3.11/site-packages/sklearn/linear_model/_coordinate_descent.py:614: ConvergenceWarning: Objective did not converge. You might want to increase the number of iterations. Duality gap: 1566839352.2851562, tolerance: 793316571.7001983\n",
      "  model = cd_fast.enet_coordinate_descent_gram(\n",
      "/Users/JR/anaconda3/lib/python3.11/site-packages/sklearn/linear_model/_coordinate_descent.py:614: ConvergenceWarning: Objective did not converge. You might want to increase the number of iterations. Duality gap: 1625742355.0847778, tolerance: 793316571.7001983\n",
      "  model = cd_fast.enet_coordinate_descent_gram(\n",
      "/Users/JR/anaconda3/lib/python3.11/site-packages/sklearn/linear_model/_coordinate_descent.py:614: ConvergenceWarning: Objective did not converge. You might want to increase the number of iterations. Duality gap: 2046235620.7907104, tolerance: 793316571.7001983\n",
      "  model = cd_fast.enet_coordinate_descent_gram(\n",
      "/Users/JR/anaconda3/lib/python3.11/site-packages/sklearn/linear_model/_coordinate_descent.py:614: ConvergenceWarning: Objective did not converge. You might want to increase the number of iterations. Duality gap: 559722838.7302246, tolerance: 533997606.1136777\n",
      "  model = cd_fast.enet_coordinate_descent_gram(\n",
      "/Users/JR/anaconda3/lib/python3.11/site-packages/sklearn/linear_model/_coordinate_descent.py:614: ConvergenceWarning: Objective did not converge. You might want to increase the number of iterations. Duality gap: 551780756.0435486, tolerance: 533997606.1136777\n",
      "  model = cd_fast.enet_coordinate_descent_gram(\n",
      "/Users/JR/anaconda3/lib/python3.11/site-packages/sklearn/linear_model/_coordinate_descent.py:614: ConvergenceWarning: Objective did not converge. You might want to increase the number of iterations. Duality gap: 903394135.5668335, tolerance: 783242232.7083186\n",
      "  model = cd_fast.enet_coordinate_descent_gram(\n",
      "/Users/JR/anaconda3/lib/python3.11/site-packages/sklearn/linear_model/_coordinate_descent.py:614: ConvergenceWarning: Objective did not converge. You might want to increase the number of iterations. Duality gap: 866468763.6101685, tolerance: 783242232.7083186\n",
      "  model = cd_fast.enet_coordinate_descent_gram(\n",
      "/Users/JR/anaconda3/lib/python3.11/site-packages/sklearn/linear_model/_coordinate_descent.py:614: ConvergenceWarning: Objective did not converge. You might want to increase the number of iterations. Duality gap: 834280886.0354614, tolerance: 783242232.7083186\n",
      "  model = cd_fast.enet_coordinate_descent_gram(\n",
      "/Users/JR/anaconda3/lib/python3.11/site-packages/sklearn/linear_model/_coordinate_descent.py:614: ConvergenceWarning: Objective did not converge. You might want to increase the number of iterations. Duality gap: 975154895.3323364, tolerance: 783242232.7083186\n",
      "  model = cd_fast.enet_coordinate_descent_gram(\n",
      "/Users/JR/anaconda3/lib/python3.11/site-packages/sklearn/linear_model/_coordinate_descent.py:614: ConvergenceWarning: Objective did not converge. You might want to increase the number of iterations. Duality gap: 1072313878.7947388, tolerance: 783242232.7083186\n",
      "  model = cd_fast.enet_coordinate_descent_gram(\n",
      "/Users/JR/anaconda3/lib/python3.11/site-packages/sklearn/linear_model/_coordinate_descent.py:628: ConvergenceWarning: Objective did not converge. You might want to increase the number of iterations, check the scale of the features or consider increasing regularisation. Duality gap: 5.542e+10, tolerance: 1.955e+09\n",
      "  model = cd_fast.enet_coordinate_descent(\n",
      "/Users/JR/anaconda3/lib/python3.11/site-packages/sklearn/linear_model/_coordinate_descent.py:614: ConvergenceWarning: Objective did not converge. You might want to increase the number of iterations. Duality gap: 2388484390.897461, tolerance: 1549301502.867758\n",
      "  model = cd_fast.enet_coordinate_descent_gram(\n",
      "/Users/JR/anaconda3/lib/python3.11/site-packages/sklearn/linear_model/_coordinate_descent.py:614: ConvergenceWarning: Objective did not converge. You might want to increase the number of iterations. Duality gap: 2317086589.522949, tolerance: 1549301502.867758\n",
      "  model = cd_fast.enet_coordinate_descent_gram(\n",
      "/Users/JR/anaconda3/lib/python3.11/site-packages/sklearn/linear_model/_coordinate_descent.py:614: ConvergenceWarning: Objective did not converge. You might want to increase the number of iterations. Duality gap: 2195941420.161743, tolerance: 1549301502.867758\n",
      "  model = cd_fast.enet_coordinate_descent_gram(\n",
      "/Users/JR/anaconda3/lib/python3.11/site-packages/sklearn/linear_model/_coordinate_descent.py:614: ConvergenceWarning: Objective did not converge. You might want to increase the number of iterations. Duality gap: 2249444982.119385, tolerance: 1621787794.0065358\n",
      "  model = cd_fast.enet_coordinate_descent_gram(\n",
      "/Users/JR/anaconda3/lib/python3.11/site-packages/sklearn/linear_model/_coordinate_descent.py:628: ConvergenceWarning: Objective did not converge. You might want to increase the number of iterations, check the scale of the features or consider increasing regularisation. Duality gap: 4.947e+10, tolerance: 1.703e+09\n",
      "  model = cd_fast.enet_coordinate_descent(\n",
      "/Users/JR/anaconda3/lib/python3.11/site-packages/sklearn/linear_model/_coordinate_descent.py:628: ConvergenceWarning: Objective did not converge. You might want to increase the number of iterations, check the scale of the features or consider increasing regularisation. Duality gap: 2.744e+10, tolerance: 1.928e+09\n",
      "  model = cd_fast.enet_coordinate_descent(\n",
      "/Users/JR/anaconda3/lib/python3.11/site-packages/sklearn/linear_model/_coordinate_descent.py:614: ConvergenceWarning: Objective did not converge. You might want to increase the number of iterations. Duality gap: 2322372616.5180664, tolerance: 1702506500.6781867\n",
      "  model = cd_fast.enet_coordinate_descent_gram(\n",
      "/Users/JR/anaconda3/lib/python3.11/site-packages/sklearn/linear_model/_coordinate_descent.py:614: ConvergenceWarning: Objective did not converge. You might want to increase the number of iterations. Duality gap: 2008180085.328186, tolerance: 1702506500.6781867\n",
      "  model = cd_fast.enet_coordinate_descent_gram(\n",
      "/Users/JR/anaconda3/lib/python3.11/site-packages/sklearn/linear_model/_coordinate_descent.py:628: ConvergenceWarning: Objective did not converge. You might want to increase the number of iterations, check the scale of the features or consider increasing regularisation. Duality gap: 5.205e+10, tolerance: 2.066e+09\n",
      "  model = cd_fast.enet_coordinate_descent(\n"
     ]
    },
    {
     "data": {
      "text/html": [
       "<style>#sk-container-id-23 {color: black;}#sk-container-id-23 pre{padding: 0;}#sk-container-id-23 div.sk-toggleable {background-color: white;}#sk-container-id-23 label.sk-toggleable__label {cursor: pointer;display: block;width: 100%;margin-bottom: 0;padding: 0.3em;box-sizing: border-box;text-align: center;}#sk-container-id-23 label.sk-toggleable__label-arrow:before {content: \"▸\";float: left;margin-right: 0.25em;color: #696969;}#sk-container-id-23 label.sk-toggleable__label-arrow:hover:before {color: black;}#sk-container-id-23 div.sk-estimator:hover label.sk-toggleable__label-arrow:before {color: black;}#sk-container-id-23 div.sk-toggleable__content {max-height: 0;max-width: 0;overflow: hidden;text-align: left;background-color: #f0f8ff;}#sk-container-id-23 div.sk-toggleable__content pre {margin: 0.2em;color: black;border-radius: 0.25em;background-color: #f0f8ff;}#sk-container-id-23 input.sk-toggleable__control:checked~div.sk-toggleable__content {max-height: 200px;max-width: 100%;overflow: auto;}#sk-container-id-23 input.sk-toggleable__control:checked~label.sk-toggleable__label-arrow:before {content: \"▾\";}#sk-container-id-23 div.sk-estimator input.sk-toggleable__control:checked~label.sk-toggleable__label {background-color: #d4ebff;}#sk-container-id-23 div.sk-label input.sk-toggleable__control:checked~label.sk-toggleable__label {background-color: #d4ebff;}#sk-container-id-23 input.sk-hidden--visually {border: 0;clip: rect(1px 1px 1px 1px);clip: rect(1px, 1px, 1px, 1px);height: 1px;margin: -1px;overflow: hidden;padding: 0;position: absolute;width: 1px;}#sk-container-id-23 div.sk-estimator {font-family: monospace;background-color: #f0f8ff;border: 1px dotted black;border-radius: 0.25em;box-sizing: border-box;margin-bottom: 0.5em;}#sk-container-id-23 div.sk-estimator:hover {background-color: #d4ebff;}#sk-container-id-23 div.sk-parallel-item::after {content: \"\";width: 100%;border-bottom: 1px solid gray;flex-grow: 1;}#sk-container-id-23 div.sk-label:hover label.sk-toggleable__label {background-color: #d4ebff;}#sk-container-id-23 div.sk-serial::before {content: \"\";position: absolute;border-left: 1px solid gray;box-sizing: border-box;top: 0;bottom: 0;left: 50%;z-index: 0;}#sk-container-id-23 div.sk-serial {display: flex;flex-direction: column;align-items: center;background-color: white;padding-right: 0.2em;padding-left: 0.2em;position: relative;}#sk-container-id-23 div.sk-item {position: relative;z-index: 1;}#sk-container-id-23 div.sk-parallel {display: flex;align-items: stretch;justify-content: center;background-color: white;position: relative;}#sk-container-id-23 div.sk-item::before, #sk-container-id-23 div.sk-parallel-item::before {content: \"\";position: absolute;border-left: 1px solid gray;box-sizing: border-box;top: 0;bottom: 0;left: 50%;z-index: -1;}#sk-container-id-23 div.sk-parallel-item {display: flex;flex-direction: column;z-index: 1;position: relative;background-color: white;}#sk-container-id-23 div.sk-parallel-item:first-child::after {align-self: flex-end;width: 50%;}#sk-container-id-23 div.sk-parallel-item:last-child::after {align-self: flex-start;width: 50%;}#sk-container-id-23 div.sk-parallel-item:only-child::after {width: 0;}#sk-container-id-23 div.sk-dashed-wrapped {border: 1px dashed gray;margin: 0 0.4em 0.5em 0.4em;box-sizing: border-box;padding-bottom: 0.4em;background-color: white;}#sk-container-id-23 div.sk-label label {font-family: monospace;font-weight: bold;display: inline-block;line-height: 1.2em;}#sk-container-id-23 div.sk-label-container {text-align: center;}#sk-container-id-23 div.sk-container {/* jupyter's `normalize.less` sets `[hidden] { display: none; }` but bootstrap.min.css set `[hidden] { display: none !important; }` so we also need the `!important` here to be able to override the default hidden behavior on the sphinx rendered scikit-learn.org. See: https://github.com/scikit-learn/scikit-learn/issues/21755 */display: inline-block !important;position: relative;}#sk-container-id-23 div.sk-text-repr-fallback {display: none;}</style><div id=\"sk-container-id-23\" class=\"sk-top-container\"><div class=\"sk-text-repr-fallback\"><pre>GridSearchCV(cv=5,\n",
       "             estimator=Pipeline(steps=[(&#x27;sc&#x27;, StandardScaler()),\n",
       "                                       (&#x27;lasso_cv&#x27;, LassoCV())]),\n",
       "             param_grid={&#x27;lasso_cv__alphas&#x27;: [None]})</pre><b>In a Jupyter environment, please rerun this cell to show the HTML representation or trust the notebook. <br />On GitHub, the HTML representation is unable to render, please try loading this page with nbviewer.org.</b></div><div class=\"sk-container\" hidden><div class=\"sk-item sk-dashed-wrapped\"><div class=\"sk-label-container\"><div class=\"sk-label sk-toggleable\"><input class=\"sk-toggleable__control sk-hidden--visually\" id=\"sk-estimator-id-38\" type=\"checkbox\" ><label for=\"sk-estimator-id-38\" class=\"sk-toggleable__label sk-toggleable__label-arrow\">GridSearchCV</label><div class=\"sk-toggleable__content\"><pre>GridSearchCV(cv=5,\n",
       "             estimator=Pipeline(steps=[(&#x27;sc&#x27;, StandardScaler()),\n",
       "                                       (&#x27;lasso_cv&#x27;, LassoCV())]),\n",
       "             param_grid={&#x27;lasso_cv__alphas&#x27;: [None]})</pre></div></div></div><div class=\"sk-parallel\"><div class=\"sk-parallel-item\"><div class=\"sk-item\"><div class=\"sk-label-container\"><div class=\"sk-label sk-toggleable\"><input class=\"sk-toggleable__control sk-hidden--visually\" id=\"sk-estimator-id-39\" type=\"checkbox\" ><label for=\"sk-estimator-id-39\" class=\"sk-toggleable__label sk-toggleable__label-arrow\">estimator: Pipeline</label><div class=\"sk-toggleable__content\"><pre>Pipeline(steps=[(&#x27;sc&#x27;, StandardScaler()), (&#x27;lasso_cv&#x27;, LassoCV())])</pre></div></div></div><div class=\"sk-serial\"><div class=\"sk-item\"><div class=\"sk-serial\"><div class=\"sk-item\"><div class=\"sk-estimator sk-toggleable\"><input class=\"sk-toggleable__control sk-hidden--visually\" id=\"sk-estimator-id-40\" type=\"checkbox\" ><label for=\"sk-estimator-id-40\" class=\"sk-toggleable__label sk-toggleable__label-arrow\">StandardScaler</label><div class=\"sk-toggleable__content\"><pre>StandardScaler()</pre></div></div></div><div class=\"sk-item\"><div class=\"sk-estimator sk-toggleable\"><input class=\"sk-toggleable__control sk-hidden--visually\" id=\"sk-estimator-id-41\" type=\"checkbox\" ><label for=\"sk-estimator-id-41\" class=\"sk-toggleable__label sk-toggleable__label-arrow\">LassoCV</label><div class=\"sk-toggleable__content\"><pre>LassoCV()</pre></div></div></div></div></div></div></div></div></div></div></div></div>"
      ],
      "text/plain": [
       "GridSearchCV(cv=5,\n",
       "             estimator=Pipeline(steps=[('sc', StandardScaler()),\n",
       "                                       ('lasso_cv', LassoCV())]),\n",
       "             param_grid={'lasso_cv__alphas': [None]})"
      ]
     },
     "execution_count": 112,
     "metadata": {},
     "output_type": "execute_result"
    }
   ],
   "source": [
    "lasso_cv_gs.fit(x3_train, y3_train)"
   ]
  },
  {
   "cell_type": "code",
   "execution_count": 113,
   "id": "e9882696-1332-4cce-a527-83de19b7092a",
   "metadata": {
    "tags": []
   },
   "outputs": [
    {
     "data": {
      "text/html": [
       "<style>#sk-container-id-24 {color: black;}#sk-container-id-24 pre{padding: 0;}#sk-container-id-24 div.sk-toggleable {background-color: white;}#sk-container-id-24 label.sk-toggleable__label {cursor: pointer;display: block;width: 100%;margin-bottom: 0;padding: 0.3em;box-sizing: border-box;text-align: center;}#sk-container-id-24 label.sk-toggleable__label-arrow:before {content: \"▸\";float: left;margin-right: 0.25em;color: #696969;}#sk-container-id-24 label.sk-toggleable__label-arrow:hover:before {color: black;}#sk-container-id-24 div.sk-estimator:hover label.sk-toggleable__label-arrow:before {color: black;}#sk-container-id-24 div.sk-toggleable__content {max-height: 0;max-width: 0;overflow: hidden;text-align: left;background-color: #f0f8ff;}#sk-container-id-24 div.sk-toggleable__content pre {margin: 0.2em;color: black;border-radius: 0.25em;background-color: #f0f8ff;}#sk-container-id-24 input.sk-toggleable__control:checked~div.sk-toggleable__content {max-height: 200px;max-width: 100%;overflow: auto;}#sk-container-id-24 input.sk-toggleable__control:checked~label.sk-toggleable__label-arrow:before {content: \"▾\";}#sk-container-id-24 div.sk-estimator input.sk-toggleable__control:checked~label.sk-toggleable__label {background-color: #d4ebff;}#sk-container-id-24 div.sk-label input.sk-toggleable__control:checked~label.sk-toggleable__label {background-color: #d4ebff;}#sk-container-id-24 input.sk-hidden--visually {border: 0;clip: rect(1px 1px 1px 1px);clip: rect(1px, 1px, 1px, 1px);height: 1px;margin: -1px;overflow: hidden;padding: 0;position: absolute;width: 1px;}#sk-container-id-24 div.sk-estimator {font-family: monospace;background-color: #f0f8ff;border: 1px dotted black;border-radius: 0.25em;box-sizing: border-box;margin-bottom: 0.5em;}#sk-container-id-24 div.sk-estimator:hover {background-color: #d4ebff;}#sk-container-id-24 div.sk-parallel-item::after {content: \"\";width: 100%;border-bottom: 1px solid gray;flex-grow: 1;}#sk-container-id-24 div.sk-label:hover label.sk-toggleable__label {background-color: #d4ebff;}#sk-container-id-24 div.sk-serial::before {content: \"\";position: absolute;border-left: 1px solid gray;box-sizing: border-box;top: 0;bottom: 0;left: 50%;z-index: 0;}#sk-container-id-24 div.sk-serial {display: flex;flex-direction: column;align-items: center;background-color: white;padding-right: 0.2em;padding-left: 0.2em;position: relative;}#sk-container-id-24 div.sk-item {position: relative;z-index: 1;}#sk-container-id-24 div.sk-parallel {display: flex;align-items: stretch;justify-content: center;background-color: white;position: relative;}#sk-container-id-24 div.sk-item::before, #sk-container-id-24 div.sk-parallel-item::before {content: \"\";position: absolute;border-left: 1px solid gray;box-sizing: border-box;top: 0;bottom: 0;left: 50%;z-index: -1;}#sk-container-id-24 div.sk-parallel-item {display: flex;flex-direction: column;z-index: 1;position: relative;background-color: white;}#sk-container-id-24 div.sk-parallel-item:first-child::after {align-self: flex-end;width: 50%;}#sk-container-id-24 div.sk-parallel-item:last-child::after {align-self: flex-start;width: 50%;}#sk-container-id-24 div.sk-parallel-item:only-child::after {width: 0;}#sk-container-id-24 div.sk-dashed-wrapped {border: 1px dashed gray;margin: 0 0.4em 0.5em 0.4em;box-sizing: border-box;padding-bottom: 0.4em;background-color: white;}#sk-container-id-24 div.sk-label label {font-family: monospace;font-weight: bold;display: inline-block;line-height: 1.2em;}#sk-container-id-24 div.sk-label-container {text-align: center;}#sk-container-id-24 div.sk-container {/* jupyter's `normalize.less` sets `[hidden] { display: none; }` but bootstrap.min.css set `[hidden] { display: none !important; }` so we also need the `!important` here to be able to override the default hidden behavior on the sphinx rendered scikit-learn.org. See: https://github.com/scikit-learn/scikit-learn/issues/21755 */display: inline-block !important;position: relative;}#sk-container-id-24 div.sk-text-repr-fallback {display: none;}</style><div id=\"sk-container-id-24\" class=\"sk-top-container\"><div class=\"sk-text-repr-fallback\"><pre>GridSearchCV(cv=5,\n",
       "             estimator=Pipeline(steps=[(&#x27;sc&#x27;, StandardScaler()),\n",
       "                                       (&#x27;knn&#x27;, KNeighborsRegressor())]),\n",
       "             param_grid={&#x27;knn__n_neighbors&#x27;: range(1, 50, 2)})</pre><b>In a Jupyter environment, please rerun this cell to show the HTML representation or trust the notebook. <br />On GitHub, the HTML representation is unable to render, please try loading this page with nbviewer.org.</b></div><div class=\"sk-container\" hidden><div class=\"sk-item sk-dashed-wrapped\"><div class=\"sk-label-container\"><div class=\"sk-label sk-toggleable\"><input class=\"sk-toggleable__control sk-hidden--visually\" id=\"sk-estimator-id-42\" type=\"checkbox\" ><label for=\"sk-estimator-id-42\" class=\"sk-toggleable__label sk-toggleable__label-arrow\">GridSearchCV</label><div class=\"sk-toggleable__content\"><pre>GridSearchCV(cv=5,\n",
       "             estimator=Pipeline(steps=[(&#x27;sc&#x27;, StandardScaler()),\n",
       "                                       (&#x27;knn&#x27;, KNeighborsRegressor())]),\n",
       "             param_grid={&#x27;knn__n_neighbors&#x27;: range(1, 50, 2)})</pre></div></div></div><div class=\"sk-parallel\"><div class=\"sk-parallel-item\"><div class=\"sk-item\"><div class=\"sk-label-container\"><div class=\"sk-label sk-toggleable\"><input class=\"sk-toggleable__control sk-hidden--visually\" id=\"sk-estimator-id-43\" type=\"checkbox\" ><label for=\"sk-estimator-id-43\" class=\"sk-toggleable__label sk-toggleable__label-arrow\">estimator: Pipeline</label><div class=\"sk-toggleable__content\"><pre>Pipeline(steps=[(&#x27;sc&#x27;, StandardScaler()), (&#x27;knn&#x27;, KNeighborsRegressor())])</pre></div></div></div><div class=\"sk-serial\"><div class=\"sk-item\"><div class=\"sk-serial\"><div class=\"sk-item\"><div class=\"sk-estimator sk-toggleable\"><input class=\"sk-toggleable__control sk-hidden--visually\" id=\"sk-estimator-id-44\" type=\"checkbox\" ><label for=\"sk-estimator-id-44\" class=\"sk-toggleable__label sk-toggleable__label-arrow\">StandardScaler</label><div class=\"sk-toggleable__content\"><pre>StandardScaler()</pre></div></div></div><div class=\"sk-item\"><div class=\"sk-estimator sk-toggleable\"><input class=\"sk-toggleable__control sk-hidden--visually\" id=\"sk-estimator-id-45\" type=\"checkbox\" ><label for=\"sk-estimator-id-45\" class=\"sk-toggleable__label sk-toggleable__label-arrow\">KNeighborsRegressor</label><div class=\"sk-toggleable__content\"><pre>KNeighborsRegressor()</pre></div></div></div></div></div></div></div></div></div></div></div></div>"
      ],
      "text/plain": [
       "GridSearchCV(cv=5,\n",
       "             estimator=Pipeline(steps=[('sc', StandardScaler()),\n",
       "                                       ('knn', KNeighborsRegressor())]),\n",
       "             param_grid={'knn__n_neighbors': range(1, 50, 2)})"
      ]
     },
     "execution_count": 113,
     "metadata": {},
     "output_type": "execute_result"
    }
   ],
   "source": [
    "knn_gs.fit(x3_train, y3_train)"
   ]
  },
  {
   "cell_type": "code",
   "execution_count": 114,
   "id": "f2b80e0f-b1bd-4026-afee-4e9016985143",
   "metadata": {
    "tags": []
   },
   "outputs": [
    {
     "data": {
      "text/html": [
       "<style>#sk-container-id-25 {color: black;}#sk-container-id-25 pre{padding: 0;}#sk-container-id-25 div.sk-toggleable {background-color: white;}#sk-container-id-25 label.sk-toggleable__label {cursor: pointer;display: block;width: 100%;margin-bottom: 0;padding: 0.3em;box-sizing: border-box;text-align: center;}#sk-container-id-25 label.sk-toggleable__label-arrow:before {content: \"▸\";float: left;margin-right: 0.25em;color: #696969;}#sk-container-id-25 label.sk-toggleable__label-arrow:hover:before {color: black;}#sk-container-id-25 div.sk-estimator:hover label.sk-toggleable__label-arrow:before {color: black;}#sk-container-id-25 div.sk-toggleable__content {max-height: 0;max-width: 0;overflow: hidden;text-align: left;background-color: #f0f8ff;}#sk-container-id-25 div.sk-toggleable__content pre {margin: 0.2em;color: black;border-radius: 0.25em;background-color: #f0f8ff;}#sk-container-id-25 input.sk-toggleable__control:checked~div.sk-toggleable__content {max-height: 200px;max-width: 100%;overflow: auto;}#sk-container-id-25 input.sk-toggleable__control:checked~label.sk-toggleable__label-arrow:before {content: \"▾\";}#sk-container-id-25 div.sk-estimator input.sk-toggleable__control:checked~label.sk-toggleable__label {background-color: #d4ebff;}#sk-container-id-25 div.sk-label input.sk-toggleable__control:checked~label.sk-toggleable__label {background-color: #d4ebff;}#sk-container-id-25 input.sk-hidden--visually {border: 0;clip: rect(1px 1px 1px 1px);clip: rect(1px, 1px, 1px, 1px);height: 1px;margin: -1px;overflow: hidden;padding: 0;position: absolute;width: 1px;}#sk-container-id-25 div.sk-estimator {font-family: monospace;background-color: #f0f8ff;border: 1px dotted black;border-radius: 0.25em;box-sizing: border-box;margin-bottom: 0.5em;}#sk-container-id-25 div.sk-estimator:hover {background-color: #d4ebff;}#sk-container-id-25 div.sk-parallel-item::after {content: \"\";width: 100%;border-bottom: 1px solid gray;flex-grow: 1;}#sk-container-id-25 div.sk-label:hover label.sk-toggleable__label {background-color: #d4ebff;}#sk-container-id-25 div.sk-serial::before {content: \"\";position: absolute;border-left: 1px solid gray;box-sizing: border-box;top: 0;bottom: 0;left: 50%;z-index: 0;}#sk-container-id-25 div.sk-serial {display: flex;flex-direction: column;align-items: center;background-color: white;padding-right: 0.2em;padding-left: 0.2em;position: relative;}#sk-container-id-25 div.sk-item {position: relative;z-index: 1;}#sk-container-id-25 div.sk-parallel {display: flex;align-items: stretch;justify-content: center;background-color: white;position: relative;}#sk-container-id-25 div.sk-item::before, #sk-container-id-25 div.sk-parallel-item::before {content: \"\";position: absolute;border-left: 1px solid gray;box-sizing: border-box;top: 0;bottom: 0;left: 50%;z-index: -1;}#sk-container-id-25 div.sk-parallel-item {display: flex;flex-direction: column;z-index: 1;position: relative;background-color: white;}#sk-container-id-25 div.sk-parallel-item:first-child::after {align-self: flex-end;width: 50%;}#sk-container-id-25 div.sk-parallel-item:last-child::after {align-self: flex-start;width: 50%;}#sk-container-id-25 div.sk-parallel-item:only-child::after {width: 0;}#sk-container-id-25 div.sk-dashed-wrapped {border: 1px dashed gray;margin: 0 0.4em 0.5em 0.4em;box-sizing: border-box;padding-bottom: 0.4em;background-color: white;}#sk-container-id-25 div.sk-label label {font-family: monospace;font-weight: bold;display: inline-block;line-height: 1.2em;}#sk-container-id-25 div.sk-label-container {text-align: center;}#sk-container-id-25 div.sk-container {/* jupyter's `normalize.less` sets `[hidden] { display: none; }` but bootstrap.min.css set `[hidden] { display: none !important; }` so we also need the `!important` here to be able to override the default hidden behavior on the sphinx rendered scikit-learn.org. See: https://github.com/scikit-learn/scikit-learn/issues/21755 */display: inline-block !important;position: relative;}#sk-container-id-25 div.sk-text-repr-fallback {display: none;}</style><div id=\"sk-container-id-25\" class=\"sk-top-container\"><div class=\"sk-text-repr-fallback\"><pre>GridSearchCV(cv=5,\n",
       "             estimator=Pipeline(steps=[(&#x27;sc&#x27;, StandardScaler()),\n",
       "                                       (&#x27;rf&#x27;, RandomForestRegressor())]),\n",
       "             param_grid={&#x27;rf__max_depth&#x27;: [None, 5, 10],\n",
       "                         &#x27;rf__n_estimators&#x27;: range(250, 500, 50)})</pre><b>In a Jupyter environment, please rerun this cell to show the HTML representation or trust the notebook. <br />On GitHub, the HTML representation is unable to render, please try loading this page with nbviewer.org.</b></div><div class=\"sk-container\" hidden><div class=\"sk-item sk-dashed-wrapped\"><div class=\"sk-label-container\"><div class=\"sk-label sk-toggleable\"><input class=\"sk-toggleable__control sk-hidden--visually\" id=\"sk-estimator-id-46\" type=\"checkbox\" ><label for=\"sk-estimator-id-46\" class=\"sk-toggleable__label sk-toggleable__label-arrow\">GridSearchCV</label><div class=\"sk-toggleable__content\"><pre>GridSearchCV(cv=5,\n",
       "             estimator=Pipeline(steps=[(&#x27;sc&#x27;, StandardScaler()),\n",
       "                                       (&#x27;rf&#x27;, RandomForestRegressor())]),\n",
       "             param_grid={&#x27;rf__max_depth&#x27;: [None, 5, 10],\n",
       "                         &#x27;rf__n_estimators&#x27;: range(250, 500, 50)})</pre></div></div></div><div class=\"sk-parallel\"><div class=\"sk-parallel-item\"><div class=\"sk-item\"><div class=\"sk-label-container\"><div class=\"sk-label sk-toggleable\"><input class=\"sk-toggleable__control sk-hidden--visually\" id=\"sk-estimator-id-47\" type=\"checkbox\" ><label for=\"sk-estimator-id-47\" class=\"sk-toggleable__label sk-toggleable__label-arrow\">estimator: Pipeline</label><div class=\"sk-toggleable__content\"><pre>Pipeline(steps=[(&#x27;sc&#x27;, StandardScaler()), (&#x27;rf&#x27;, RandomForestRegressor())])</pre></div></div></div><div class=\"sk-serial\"><div class=\"sk-item\"><div class=\"sk-serial\"><div class=\"sk-item\"><div class=\"sk-estimator sk-toggleable\"><input class=\"sk-toggleable__control sk-hidden--visually\" id=\"sk-estimator-id-48\" type=\"checkbox\" ><label for=\"sk-estimator-id-48\" class=\"sk-toggleable__label sk-toggleable__label-arrow\">StandardScaler</label><div class=\"sk-toggleable__content\"><pre>StandardScaler()</pre></div></div></div><div class=\"sk-item\"><div class=\"sk-estimator sk-toggleable\"><input class=\"sk-toggleable__control sk-hidden--visually\" id=\"sk-estimator-id-49\" type=\"checkbox\" ><label for=\"sk-estimator-id-49\" class=\"sk-toggleable__label sk-toggleable__label-arrow\">RandomForestRegressor</label><div class=\"sk-toggleable__content\"><pre>RandomForestRegressor()</pre></div></div></div></div></div></div></div></div></div></div></div></div>"
      ],
      "text/plain": [
       "GridSearchCV(cv=5,\n",
       "             estimator=Pipeline(steps=[('sc', StandardScaler()),\n",
       "                                       ('rf', RandomForestRegressor())]),\n",
       "             param_grid={'rf__max_depth': [None, 5, 10],\n",
       "                         'rf__n_estimators': range(250, 500, 50)})"
      ]
     },
     "execution_count": 114,
     "metadata": {},
     "output_type": "execute_result"
    }
   ],
   "source": [
    "rf_gs.fit(x3_train, y3_train)"
   ]
  },
  {
   "cell_type": "code",
   "execution_count": 116,
   "id": "ce5feaed-6c00-4dd6-ba88-4f14326a35d8",
   "metadata": {
    "tags": []
   },
   "outputs": [
    {
     "name": "stdout",
     "output_type": "stream",
     "text": [
      "========================================\n",
      "RidgeCV\n",
      "Train Score: 0.959\n",
      "Test Score: 0.958\n",
      "Best Parameters: {'ridge_cv__alphas': 1}\n",
      "========================================\n",
      "LassoCV\n",
      "Train Score: 0.954\n",
      "Test Score: 0.959\n",
      "Best Parameters: {'lasso_cv__alphas': None}\n",
      "========================================\n",
      "KNeighborsRegressor\n",
      "Train Score: 0.881\n",
      "Test Score: 0.943\n",
      "Best Parameters: {'knn__n_neighbors': 1}\n",
      "========================================\n",
      "RandomForestRegressor\n",
      "Train Score: 0.896\n",
      "Test Score: 0.976\n",
      "Best Parameters: {'rf__max_depth': None, 'rf__n_estimators': 450}\n"
     ]
    }
   ],
   "source": [
    "# Output best parameters, best score, test score\n",
    "\n",
    "gs_dict = {'RidgeCV' : ridge_cv_gs, \n",
    "           'LassoCV' : lasso_cv_gs, \n",
    "           'KNeighborsRegressor' : knn_gs, \n",
    "           'RandomForestRegressor' : rf_gs, \n",
    "          }\n",
    "\n",
    "for key, value in gs_dict.items():\n",
    "    print('=' * 40)\n",
    "    print(key)\n",
    "    print(f'Train Score: {(value.best_score_).round(3)}')\n",
    "    print(f'Test Score: {(value.score(x3_test, y3_test)).round(3)}')\n",
    "    print(f'Best Parameters: {value.best_params_}')"
   ]
  },
  {
   "cell_type": "markdown",
   "id": "d7ff4821-ad1f-4992-b68a-9a4f0fc7df7a",
   "metadata": {},
   "source": [
    "## Create Forecast models\n",
    "Reference: GA 9.02-lesson-linear-ts-models"
   ]
  },
  {
   "cell_type": "markdown",
   "id": "fbaba892-0a69-4b85-9f32-07c53ccc222d",
   "metadata": {},
   "source": [
    "### Explore time series data and format for forecasting"
   ]
  },
  {
   "cell_type": "code",
   "execution_count": 152,
   "id": "3f1165f8-5569-4723-aab8-f475f773877e",
   "metadata": {
    "tags": []
   },
   "outputs": [
    {
     "name": "stdout",
     "output_type": "stream",
     "text": [
      "<class 'pandas.core.frame.DataFrame'>\n",
      "Index: 2550043 entries, US_AK to US_WY_56045\n",
      "Data columns (total 11 columns):\n",
      " #   Column                Dtype  \n",
      "---  ------                -----  \n",
      " 0   Unnamed: 0.1          int64  \n",
      " 1   Unnamed: 0            int64  \n",
      " 2   date                  object \n",
      " 3   new_confirmed         float64\n",
      " 4   new_deceased          float64\n",
      " 5   new_recovered         float64\n",
      " 6   new_tested            float64\n",
      " 7   cumulative_confirmed  float64\n",
      " 8   cumulative_deceased   float64\n",
      " 9   cumulative_recovered  float64\n",
      " 10  cumulative_tested     float64\n",
      "dtypes: float64(8), int64(2), object(1)\n",
      "memory usage: 233.5+ MB\n"
     ]
    }
   ],
   "source": [
    "# Verify target dataset\n",
    "\n",
    "us_epidemiology.info()"
   ]
  },
  {
   "cell_type": "code",
   "execution_count": 150,
   "id": "4658406e-b975-4267-8c53-b04936d6810b",
   "metadata": {
    "tags": []
   },
   "outputs": [
    {
     "data": {
      "text/html": [
       "<div>\n",
       "<style scoped>\n",
       "    .dataframe tbody tr th:only-of-type {\n",
       "        vertical-align: middle;\n",
       "    }\n",
       "\n",
       "    .dataframe tbody tr th {\n",
       "        vertical-align: top;\n",
       "    }\n",
       "\n",
       "    .dataframe thead th {\n",
       "        text-align: right;\n",
       "    }\n",
       "</style>\n",
       "<table border=\"1\" class=\"dataframe\">\n",
       "  <thead>\n",
       "    <tr style=\"text-align: right;\">\n",
       "      <th></th>\n",
       "      <th>Unnamed: 0.1</th>\n",
       "      <th>Unnamed: 0</th>\n",
       "      <th>date</th>\n",
       "      <th>new_confirmed</th>\n",
       "      <th>new_deceased</th>\n",
       "      <th>new_recovered</th>\n",
       "      <th>new_tested</th>\n",
       "      <th>cumulative_confirmed</th>\n",
       "      <th>cumulative_deceased</th>\n",
       "      <th>cumulative_recovered</th>\n",
       "      <th>cumulative_tested</th>\n",
       "    </tr>\n",
       "    <tr>\n",
       "      <th>location_key</th>\n",
       "      <th></th>\n",
       "      <th></th>\n",
       "      <th></th>\n",
       "      <th></th>\n",
       "      <th></th>\n",
       "      <th></th>\n",
       "      <th></th>\n",
       "      <th></th>\n",
       "      <th></th>\n",
       "      <th></th>\n",
       "      <th></th>\n",
       "    </tr>\n",
       "  </thead>\n",
       "  <tbody>\n",
       "    <tr>\n",
       "      <th>US_WY_56045</th>\n",
       "      <td>2550038</td>\n",
       "      <td>12446226</td>\n",
       "      <td>2022-05-09</td>\n",
       "      <td>0.0</td>\n",
       "      <td>0.0</td>\n",
       "      <td>NaN</td>\n",
       "      <td>NaN</td>\n",
       "      <td>1589.0</td>\n",
       "      <td>18.0</td>\n",
       "      <td>NaN</td>\n",
       "      <td>NaN</td>\n",
       "    </tr>\n",
       "    <tr>\n",
       "      <th>US_WY_56045</th>\n",
       "      <td>2550039</td>\n",
       "      <td>12446227</td>\n",
       "      <td>2022-05-10</td>\n",
       "      <td>-1.0</td>\n",
       "      <td>0.0</td>\n",
       "      <td>NaN</td>\n",
       "      <td>NaN</td>\n",
       "      <td>1588.0</td>\n",
       "      <td>18.0</td>\n",
       "      <td>NaN</td>\n",
       "      <td>NaN</td>\n",
       "    </tr>\n",
       "    <tr>\n",
       "      <th>US_WY_56045</th>\n",
       "      <td>2550040</td>\n",
       "      <td>12446228</td>\n",
       "      <td>2022-05-11</td>\n",
       "      <td>0.0</td>\n",
       "      <td>0.0</td>\n",
       "      <td>NaN</td>\n",
       "      <td>NaN</td>\n",
       "      <td>1588.0</td>\n",
       "      <td>18.0</td>\n",
       "      <td>NaN</td>\n",
       "      <td>NaN</td>\n",
       "    </tr>\n",
       "    <tr>\n",
       "      <th>US_WY_56045</th>\n",
       "      <td>2550041</td>\n",
       "      <td>12446229</td>\n",
       "      <td>2022-05-12</td>\n",
       "      <td>0.0</td>\n",
       "      <td>0.0</td>\n",
       "      <td>NaN</td>\n",
       "      <td>NaN</td>\n",
       "      <td>1588.0</td>\n",
       "      <td>18.0</td>\n",
       "      <td>NaN</td>\n",
       "      <td>NaN</td>\n",
       "    </tr>\n",
       "    <tr>\n",
       "      <th>US_WY_56045</th>\n",
       "      <td>2550042</td>\n",
       "      <td>12446230</td>\n",
       "      <td>2022-05-13</td>\n",
       "      <td>0.0</td>\n",
       "      <td>0.0</td>\n",
       "      <td>NaN</td>\n",
       "      <td>NaN</td>\n",
       "      <td>1588.0</td>\n",
       "      <td>18.0</td>\n",
       "      <td>NaN</td>\n",
       "      <td>NaN</td>\n",
       "    </tr>\n",
       "  </tbody>\n",
       "</table>\n",
       "</div>"
      ],
      "text/plain": [
       "              Unnamed: 0.1  Unnamed: 0        date  new_confirmed  \\\n",
       "location_key                                                        \n",
       "US_WY_56045        2550038    12446226  2022-05-09            0.0   \n",
       "US_WY_56045        2550039    12446227  2022-05-10           -1.0   \n",
       "US_WY_56045        2550040    12446228  2022-05-11            0.0   \n",
       "US_WY_56045        2550041    12446229  2022-05-12            0.0   \n",
       "US_WY_56045        2550042    12446230  2022-05-13            0.0   \n",
       "\n",
       "              new_deceased  new_recovered  new_tested  cumulative_confirmed  \\\n",
       "location_key                                                                  \n",
       "US_WY_56045            0.0            NaN         NaN                1589.0   \n",
       "US_WY_56045            0.0            NaN         NaN                1588.0   \n",
       "US_WY_56045            0.0            NaN         NaN                1588.0   \n",
       "US_WY_56045            0.0            NaN         NaN                1588.0   \n",
       "US_WY_56045            0.0            NaN         NaN                1588.0   \n",
       "\n",
       "              cumulative_deceased  cumulative_recovered  cumulative_tested  \n",
       "location_key                                                                \n",
       "US_WY_56045                  18.0                   NaN                NaN  \n",
       "US_WY_56045                  18.0                   NaN                NaN  \n",
       "US_WY_56045                  18.0                   NaN                NaN  \n",
       "US_WY_56045                  18.0                   NaN                NaN  \n",
       "US_WY_56045                  18.0                   NaN                NaN  "
      ]
     },
     "execution_count": 150,
     "metadata": {},
     "output_type": "execute_result"
    }
   ],
   "source": [
    "# Visualize date to identify any required changes\n",
    "\n",
    "us_epidemiology.tail()"
   ]
  },
  {
   "cell_type": "code",
   "execution_count": 4,
   "id": "1b46bae7-fba2-458a-bfdc-746b54af6f66",
   "metadata": {
    "tags": []
   },
   "outputs": [],
   "source": [
    "# merge us_epidemiology with us_index_merge_on to remove state level location_key rows allowing for a groupby sum() to forecast \n",
    "\n",
    "merged_ts = pd.merge(us_epidemiology, us_index_merge_on, how = 'right', left_index = True, right_index = True)"
   ]
  },
  {
   "cell_type": "code",
   "execution_count": 159,
   "id": "25fcc013-f785-4e6b-8291-0914544c2e15",
   "metadata": {
    "tags": []
   },
   "outputs": [
    {
     "name": "stdout",
     "output_type": "stream",
     "text": [
      "<class 'pandas.core.frame.DataFrame'>\n",
      "Index: 2431888 entries, US_AK_02013 to US_WY_56045\n",
      "Data columns (total 12 columns):\n",
      " #   Column                Dtype  \n",
      "---  ------                -----  \n",
      " 0   Unnamed: 0.1          float64\n",
      " 1   Unnamed: 0            float64\n",
      " 2   date                  object \n",
      " 3   new_confirmed         float64\n",
      " 4   new_deceased          float64\n",
      " 5   new_recovered         float64\n",
      " 6   new_tested            float64\n",
      " 7   cumulative_confirmed  float64\n",
      " 8   cumulative_deceased   float64\n",
      " 9   cumulative_recovered  float64\n",
      " 10  cumulative_tested     float64\n",
      " 11  subregion2_name       object \n",
      "dtypes: float64(10), object(2)\n",
      "memory usage: 241.2+ MB\n"
     ]
    }
   ],
   "source": [
    "# Verify index is correct, ie. doesn't start with state level US_AK\n",
    "\n",
    "merged_ts.info()"
   ]
  },
  {
   "cell_type": "code",
   "execution_count": 160,
   "id": "150bf748-d473-4264-a239-16361837d0cb",
   "metadata": {
    "tags": []
   },
   "outputs": [
    {
     "data": {
      "text/plain": [
       "Unnamed: 0.1                  4\n",
       "Unnamed: 0                    4\n",
       "date                          4\n",
       "new_confirmed              3098\n",
       "new_deceased              13981\n",
       "new_recovered           2431888\n",
       "new_tested              2431888\n",
       "cumulative_confirmed          4\n",
       "cumulative_deceased       10848\n",
       "cumulative_recovered    2431888\n",
       "cumulative_tested       2431888\n",
       "subregion2_name               0\n",
       "dtype: int64"
      ]
     },
     "execution_count": 160,
     "metadata": {},
     "output_type": "execute_result"
    }
   ],
   "source": [
    "# Check nulls\n",
    "\n",
    "merged_ts.isnull().sum()"
   ]
  },
  {
   "cell_type": "code",
   "execution_count": 113,
   "id": "80669dc7-531b-4cdc-9575-d1f08a945d0b",
   "metadata": {
    "tags": []
   },
   "outputs": [
    {
     "data": {
      "text/html": [
       "<div>\n",
       "<style scoped>\n",
       "    .dataframe tbody tr th:only-of-type {\n",
       "        vertical-align: middle;\n",
       "    }\n",
       "\n",
       "    .dataframe tbody tr th {\n",
       "        vertical-align: top;\n",
       "    }\n",
       "\n",
       "    .dataframe thead th {\n",
       "        text-align: right;\n",
       "    }\n",
       "</style>\n",
       "<table border=\"1\" class=\"dataframe\">\n",
       "  <thead>\n",
       "    <tr style=\"text-align: right;\">\n",
       "      <th></th>\n",
       "      <th>date</th>\n",
       "      <th>cumulative_confirmed</th>\n",
       "    </tr>\n",
       "  </thead>\n",
       "  <tbody>\n",
       "    <tr>\n",
       "      <th>0</th>\n",
       "      <td>2020-01-21</td>\n",
       "      <td>1.0</td>\n",
       "    </tr>\n",
       "    <tr>\n",
       "      <th>1</th>\n",
       "      <td>2020-01-22</td>\n",
       "      <td>1.0</td>\n",
       "    </tr>\n",
       "    <tr>\n",
       "      <th>2</th>\n",
       "      <td>2020-01-23</td>\n",
       "      <td>1.0</td>\n",
       "    </tr>\n",
       "    <tr>\n",
       "      <th>3</th>\n",
       "      <td>2020-01-24</td>\n",
       "      <td>2.0</td>\n",
       "    </tr>\n",
       "    <tr>\n",
       "      <th>4</th>\n",
       "      <td>2020-01-25</td>\n",
       "      <td>3.0</td>\n",
       "    </tr>\n",
       "    <tr>\n",
       "      <th>...</th>\n",
       "      <td>...</td>\n",
       "      <td>...</td>\n",
       "    </tr>\n",
       "    <tr>\n",
       "      <th>962</th>\n",
       "      <td>2022-09-09</td>\n",
       "      <td>4260461.0</td>\n",
       "    </tr>\n",
       "    <tr>\n",
       "      <th>963</th>\n",
       "      <td>2022-09-10</td>\n",
       "      <td>4160692.0</td>\n",
       "    </tr>\n",
       "    <tr>\n",
       "      <th>964</th>\n",
       "      <td>2022-09-11</td>\n",
       "      <td>4171015.0</td>\n",
       "    </tr>\n",
       "    <tr>\n",
       "      <th>965</th>\n",
       "      <td>2022-09-12</td>\n",
       "      <td>4264428.0</td>\n",
       "    </tr>\n",
       "    <tr>\n",
       "      <th>966</th>\n",
       "      <td>2022-09-13</td>\n",
       "      <td>1399524.0</td>\n",
       "    </tr>\n",
       "  </tbody>\n",
       "</table>\n",
       "<p>967 rows × 2 columns</p>\n",
       "</div>"
      ],
      "text/plain": [
       "           date  cumulative_confirmed\n",
       "0    2020-01-21                   1.0\n",
       "1    2020-01-22                   1.0\n",
       "2    2020-01-23                   1.0\n",
       "3    2020-01-24                   2.0\n",
       "4    2020-01-25                   3.0\n",
       "..          ...                   ...\n",
       "962  2022-09-09             4260461.0\n",
       "963  2022-09-10             4160692.0\n",
       "964  2022-09-11             4171015.0\n",
       "965  2022-09-12             4264428.0\n",
       "966  2022-09-13             1399524.0\n",
       "\n",
       "[967 rows x 2 columns]"
      ]
     },
     "execution_count": 113,
     "metadata": {},
     "output_type": "execute_result"
    }
   ],
   "source": [
    "# Group 'cumulative_confirmed' by date to visualize all US cases\n",
    "\n",
    "df_cc = merged_ts.groupby(['date'])['cumulative_confirmed'].sum().reset_index(name = 'cumulative_confirmed')\n",
    "df_cc"
   ]
  },
  {
   "cell_type": "code",
   "execution_count": 114,
   "id": "3b894fe1-e41d-4f43-a5a6-2dea03688f00",
   "metadata": {
    "tags": []
   },
   "outputs": [],
   "source": [
    "#  Set index 'date' as datetime type\n",
    "\n",
    "df_cc['date'] = pd.to_datetime(df_cc['date'])\n",
    "df_cc.set_index('date', inplace = True)\n",
    "df_cc.sort_index(inplace = True)"
   ]
  },
  {
   "cell_type": "code",
   "execution_count": 66,
   "id": "421df75a-cffa-4d31-89ec-bcf65b5d9d32",
   "metadata": {
    "tags": []
   },
   "outputs": [
    {
     "data": {
      "image/png": "[encoded data removed]",
      "text/plain": [
       "<Figure size 1600x400 with 1 Axes>"
      ]
     },
     "metadata": {},
     "output_type": "display_data"
    }
   ],
   "source": [
    "# Verify data quality\n",
    "\n",
    "plot_series(df_cc.cumulative_confirmed);"
   ]
  },
  {
   "cell_type": "code",
   "execution_count": 115,
   "id": "c77f151f-50f2-49c6-9c73-e2c5aa1daac2",
   "metadata": {
    "tags": []
   },
   "outputs": [],
   "source": [
    "# Most states stop reporting after 5/14/2022; end dataset at this date\n",
    "\n",
    "df_cc = df_cc[df_cc.index < '2022-05-14']"
   ]
  },
  {
   "cell_type": "code",
   "execution_count": 68,
   "id": "72387504-795d-4f92-a85d-c3741e9ce406",
   "metadata": {
    "tags": []
   },
   "outputs": [
    {
     "data": {
      "image/png": "[encoded data removed]",
      "text/plain": [
       "<Figure size 640x480 with 4 Axes>"
      ]
     },
     "metadata": {},
     "output_type": "display_data"
    }
   ],
   "source": [
    "# Plot df_cc with associated trend, seasonality, and residual components assuming a linear trend\n",
    "\n",
    "decomp_df_cc = seasonal_decompose(df_cc['cumulative_confirmed']) \n",
    "decomp_df_cc.plot();"
   ]
  },
  {
   "cell_type": "code",
   "execution_count": 69,
   "id": "fecfa6ba-27b2-45b1-b3bf-c98081994eb6",
   "metadata": {
    "tags": []
   },
   "outputs": [
    {
     "data": {
      "image/png": "[encoded data removed]",
      "text/plain": [
       "<Figure size 640x480 with 1 Axes>"
      ]
     },
     "metadata": {},
     "output_type": "display_data"
    }
   ],
   "source": [
    "# Generate autocorrelation plot\n",
    "\n",
    "plot_acf(df_cc['cumulative_confirmed'], lags = 40);"
   ]
  },
  {
   "cell_type": "code",
   "execution_count": 70,
   "id": "a2f7aa32-edba-42cd-b3e8-b614d77f0196",
   "metadata": {
    "tags": []
   },
   "outputs": [
    {
     "data": {
      "image/png": "[encoded data removed]",
      "text/plain": [
       "<Figure size 640x480 with 1 Axes>"
      ]
     },
     "metadata": {},
     "output_type": "display_data"
    }
   ],
   "source": [
    "# Generate autocorrelation plot\n",
    "\n",
    "plot_pacf(df_cc['cumulative_confirmed'], lags = 400);"
   ]
  },
  {
   "cell_type": "code",
   "execution_count": 116,
   "id": "b4bf7fe3-8b86-4771-b97b-091c8f424d31",
   "metadata": {
    "scrolled": true,
    "tags": []
   },
   "outputs": [
    {
     "name": "stderr",
     "output_type": "stream",
     "text": [
      "/var/folders/qy/nr1f_j6j7nx50jtp9tqqgftc0000gn/T/ipykernel_17180/1574099588.py:4: SettingWithCopyWarning: \n",
      "A value is trying to be set on a copy of a slice from a DataFrame.\n",
      "Try using .loc[row_indexer,col_indexer] = value instead\n",
      "\n",
      "See the caveats in the documentation: https://pandas.pydata.org/pandas-docs/stable/user_guide/indexing.html#returning-a-view-versus-a-copy\n",
      "  df_cc[f'lag_{i}'] = df_cc['cumulative_confirmed'].shift(i)\n",
      "/var/folders/qy/nr1f_j6j7nx50jtp9tqqgftc0000gn/T/ipykernel_17180/1574099588.py:4: SettingWithCopyWarning: \n",
      "A value is trying to be set on a copy of a slice from a DataFrame.\n",
      "Try using .loc[row_indexer,col_indexer] = value instead\n",
      "\n",
      "See the caveats in the documentation: https://pandas.pydata.org/pandas-docs/stable/user_guide/indexing.html#returning-a-view-versus-a-copy\n",
      "  df_cc[f'lag_{i}'] = df_cc['cumulative_confirmed'].shift(i)\n",
      "/var/folders/qy/nr1f_j6j7nx50jtp9tqqgftc0000gn/T/ipykernel_17180/1574099588.py:4: SettingWithCopyWarning: \n",
      "A value is trying to be set on a copy of a slice from a DataFrame.\n",
      "Try using .loc[row_indexer,col_indexer] = value instead\n",
      "\n",
      "See the caveats in the documentation: https://pandas.pydata.org/pandas-docs/stable/user_guide/indexing.html#returning-a-view-versus-a-copy\n",
      "  df_cc[f'lag_{i}'] = df_cc['cumulative_confirmed'].shift(i)\n",
      "/var/folders/qy/nr1f_j6j7nx50jtp9tqqgftc0000gn/T/ipykernel_17180/1574099588.py:4: SettingWithCopyWarning: \n",
      "A value is trying to be set on a copy of a slice from a DataFrame.\n",
      "Try using .loc[row_indexer,col_indexer] = value instead\n",
      "\n",
      "See the caveats in the documentation: https://pandas.pydata.org/pandas-docs/stable/user_guide/indexing.html#returning-a-view-versus-a-copy\n",
      "  df_cc[f'lag_{i}'] = df_cc['cumulative_confirmed'].shift(i)\n",
      "/var/folders/qy/nr1f_j6j7nx50jtp9tqqgftc0000gn/T/ipykernel_17180/1574099588.py:4: SettingWithCopyWarning: \n",
      "A value is trying to be set on a copy of a slice from a DataFrame.\n",
      "Try using .loc[row_indexer,col_indexer] = value instead\n",
      "\n",
      "See the caveats in the documentation: https://pandas.pydata.org/pandas-docs/stable/user_guide/indexing.html#returning-a-view-versus-a-copy\n",
      "  df_cc[f'lag_{i}'] = df_cc['cumulative_confirmed'].shift(i)\n",
      "/var/folders/qy/nr1f_j6j7nx50jtp9tqqgftc0000gn/T/ipykernel_17180/1574099588.py:4: SettingWithCopyWarning: \n",
      "A value is trying to be set on a copy of a slice from a DataFrame.\n",
      "Try using .loc[row_indexer,col_indexer] = value instead\n",
      "\n",
      "See the caveats in the documentation: https://pandas.pydata.org/pandas-docs/stable/user_guide/indexing.html#returning-a-view-versus-a-copy\n",
      "  df_cc[f'lag_{i}'] = df_cc['cumulative_confirmed'].shift(i)\n",
      "/var/folders/qy/nr1f_j6j7nx50jtp9tqqgftc0000gn/T/ipykernel_17180/1574099588.py:4: SettingWithCopyWarning: \n",
      "A value is trying to be set on a copy of a slice from a DataFrame.\n",
      "Try using .loc[row_indexer,col_indexer] = value instead\n",
      "\n",
      "See the caveats in the documentation: https://pandas.pydata.org/pandas-docs/stable/user_guide/indexing.html#returning-a-view-versus-a-copy\n",
      "  df_cc[f'lag_{i}'] = df_cc['cumulative_confirmed'].shift(i)\n",
      "/var/folders/qy/nr1f_j6j7nx50jtp9tqqgftc0000gn/T/ipykernel_17180/1574099588.py:4: SettingWithCopyWarning: \n",
      "A value is trying to be set on a copy of a slice from a DataFrame.\n",
      "Try using .loc[row_indexer,col_indexer] = value instead\n",
      "\n",
      "See the caveats in the documentation: https://pandas.pydata.org/pandas-docs/stable/user_guide/indexing.html#returning-a-view-versus-a-copy\n",
      "  df_cc[f'lag_{i}'] = df_cc['cumulative_confirmed'].shift(i)\n",
      "/var/folders/qy/nr1f_j6j7nx50jtp9tqqgftc0000gn/T/ipykernel_17180/1574099588.py:4: SettingWithCopyWarning: \n",
      "A value is trying to be set on a copy of a slice from a DataFrame.\n",
      "Try using .loc[row_indexer,col_indexer] = value instead\n",
      "\n",
      "See the caveats in the documentation: https://pandas.pydata.org/pandas-docs/stable/user_guide/indexing.html#returning-a-view-versus-a-copy\n",
      "  df_cc[f'lag_{i}'] = df_cc['cumulative_confirmed'].shift(i)\n",
      "/var/folders/qy/nr1f_j6j7nx50jtp9tqqgftc0000gn/T/ipykernel_17180/1574099588.py:4: SettingWithCopyWarning: \n",
      "A value is trying to be set on a copy of a slice from a DataFrame.\n",
      "Try using .loc[row_indexer,col_indexer] = value instead\n",
      "\n",
      "See the caveats in the documentation: https://pandas.pydata.org/pandas-docs/stable/user_guide/indexing.html#returning-a-view-versus-a-copy\n",
      "  df_cc[f'lag_{i}'] = df_cc['cumulative_confirmed'].shift(i)\n",
      "/var/folders/qy/nr1f_j6j7nx50jtp9tqqgftc0000gn/T/ipykernel_17180/1574099588.py:6: SettingWithCopyWarning: \n",
      "A value is trying to be set on a copy of a slice from a DataFrame\n",
      "\n",
      "See the caveats in the documentation: https://pandas.pydata.org/pandas-docs/stable/user_guide/indexing.html#returning-a-view-versus-a-copy\n",
      "  df_cc.dropna(inplace = True)\n"
     ]
    }
   ],
   "source": [
    "# Add lag = 20 columns to df_cc and drop nulls\n",
    "\n",
    "for i in range(1,11):\n",
    "    df_cc[f'lag_{i}'] = df_cc['cumulative_confirmed'].shift(i)\n",
    "    \n",
    "df_cc.dropna(inplace = True)"
   ]
  },
  {
   "cell_type": "code",
   "execution_count": 95,
   "id": "9817fec8-250d-44cb-bc4f-7431bc7683f4",
   "metadata": {
    "tags": []
   },
   "outputs": [],
   "source": [
    "# TTS the y-lagged dataframe\n",
    "\n",
    "X_train, X_test, y_train, y_test = train_test_split(df_cc.drop(columns = 'cumulative_confirmed'),\n",
    "                                                    df_cc['cumulative_confirmed'],\n",
    "                                                    shuffle = False)"
   ]
  },
  {
   "cell_type": "code",
   "execution_count": 73,
   "id": "ef9bbcdb-f0c4-45c4-9206-ad2d02c54c02",
   "metadata": {
    "tags": []
   },
   "outputs": [
    {
     "data": {
      "image/png": "[encoded data removed]",
      "text/plain": [
       "<Figure size 1200x600 with 1 Axes>"
      ]
     },
     "metadata": {},
     "output_type": "display_data"
    }
   ],
   "source": [
    "# Plot the TTS to ensure y is split properly\n",
    "\n",
    "plt.figure(figsize = (12, 6))\n",
    "plt.plot(y_train, label = 'y_train')\n",
    "plt.plot(y_test, label = 'y_test')\n",
    "plt.title('Cumulative Confirmed TTS')\n",
    "plt.xlabel('Date')\n",
    "plt.ylabel('Cumulative Confirmed Covid-19 cases')\n",
    "plt.legend();"
   ]
  },
  {
   "cell_type": "code",
   "execution_count": 74,
   "id": "ac3a2527-e245-42f6-85f4-b47867608d95",
   "metadata": {
    "tags": []
   },
   "outputs": [
    {
     "data": {
      "text/html": [
       "<style>#sk-container-id-4 {color: black;}#sk-container-id-4 pre{padding: 0;}#sk-container-id-4 div.sk-toggleable {background-color: white;}#sk-container-id-4 label.sk-toggleable__label {cursor: pointer;display: block;width: 100%;margin-bottom: 0;padding: 0.3em;box-sizing: border-box;text-align: center;}#sk-container-id-4 label.sk-toggleable__label-arrow:before {content: \"▸\";float: left;margin-right: 0.25em;color: #696969;}#sk-container-id-4 label.sk-toggleable__label-arrow:hover:before {color: black;}#sk-container-id-4 div.sk-estimator:hover label.sk-toggleable__label-arrow:before {color: black;}#sk-container-id-4 div.sk-toggleable__content {max-height: 0;max-width: 0;overflow: hidden;text-align: left;background-color: #f0f8ff;}#sk-container-id-4 div.sk-toggleable__content pre {margin: 0.2em;color: black;border-radius: 0.25em;background-color: #f0f8ff;}#sk-container-id-4 input.sk-toggleable__control:checked~div.sk-toggleable__content {max-height: 200px;max-width: 100%;overflow: auto;}#sk-container-id-4 input.sk-toggleable__control:checked~label.sk-toggleable__label-arrow:before {content: \"▾\";}#sk-container-id-4 div.sk-estimator input.sk-toggleable__control:checked~label.sk-toggleable__label {background-color: #d4ebff;}#sk-container-id-4 div.sk-label input.sk-toggleable__control:checked~label.sk-toggleable__label {background-color: #d4ebff;}#sk-container-id-4 input.sk-hidden--visually {border: 0;clip: rect(1px 1px 1px 1px);clip: rect(1px, 1px, 1px, 1px);height: 1px;margin: -1px;overflow: hidden;padding: 0;position: absolute;width: 1px;}#sk-container-id-4 div.sk-estimator {font-family: monospace;background-color: #f0f8ff;border: 1px dotted black;border-radius: 0.25em;box-sizing: border-box;margin-bottom: 0.5em;}#sk-container-id-4 div.sk-estimator:hover {background-color: #d4ebff;}#sk-container-id-4 div.sk-parallel-item::after {content: \"\";width: 100%;border-bottom: 1px solid gray;flex-grow: 1;}#sk-container-id-4 div.sk-label:hover label.sk-toggleable__label {background-color: #d4ebff;}#sk-container-id-4 div.sk-serial::before {content: \"\";position: absolute;border-left: 1px solid gray;box-sizing: border-box;top: 0;bottom: 0;left: 50%;z-index: 0;}#sk-container-id-4 div.sk-serial {display: flex;flex-direction: column;align-items: center;background-color: white;padding-right: 0.2em;padding-left: 0.2em;position: relative;}#sk-container-id-4 div.sk-item {position: relative;z-index: 1;}#sk-container-id-4 div.sk-parallel {display: flex;align-items: stretch;justify-content: center;background-color: white;position: relative;}#sk-container-id-4 div.sk-item::before, #sk-container-id-4 div.sk-parallel-item::before {content: \"\";position: absolute;border-left: 1px solid gray;box-sizing: border-box;top: 0;bottom: 0;left: 50%;z-index: -1;}#sk-container-id-4 div.sk-parallel-item {display: flex;flex-direction: column;z-index: 1;position: relative;background-color: white;}#sk-container-id-4 div.sk-parallel-item:first-child::after {align-self: flex-end;width: 50%;}#sk-container-id-4 div.sk-parallel-item:last-child::after {align-self: flex-start;width: 50%;}#sk-container-id-4 div.sk-parallel-item:only-child::after {width: 0;}#sk-container-id-4 div.sk-dashed-wrapped {border: 1px dashed gray;margin: 0 0.4em 0.5em 0.4em;box-sizing: border-box;padding-bottom: 0.4em;background-color: white;}#sk-container-id-4 div.sk-label label {font-family: monospace;font-weight: bold;display: inline-block;line-height: 1.2em;}#sk-container-id-4 div.sk-label-container {text-align: center;}#sk-container-id-4 div.sk-container {/* jupyter's `normalize.less` sets `[hidden] { display: none; }` but bootstrap.min.css set `[hidden] { display: none !important; }` so we also need the `!important` here to be able to override the default hidden behavior on the sphinx rendered scikit-learn.org. See: https://github.com/scikit-learn/scikit-learn/issues/21755 */display: inline-block !important;position: relative;}#sk-container-id-4 div.sk-text-repr-fallback {display: none;}</style><div id=\"sk-container-id-4\" class=\"sk-top-container\"><div class=\"sk-text-repr-fallback\"><pre>LinearRegression()</pre><b>In a Jupyter environment, please rerun this cell to show the HTML representation or trust the notebook. <br />On GitHub, the HTML representation is unable to render, please try loading this page with nbviewer.org.</b></div><div class=\"sk-container\" hidden><div class=\"sk-item\"><div class=\"sk-estimator sk-toggleable\"><input class=\"sk-toggleable__control sk-hidden--visually\" id=\"sk-estimator-id-4\" type=\"checkbox\" checked><label for=\"sk-estimator-id-4\" class=\"sk-toggleable__label sk-toggleable__label-arrow\">LinearRegression</label><div class=\"sk-toggleable__content\"><pre>LinearRegression()</pre></div></div></div></div></div>"
      ],
      "text/plain": [
       "LinearRegression()"
      ]
     },
     "execution_count": 74,
     "metadata": {},
     "output_type": "execute_result"
    }
   ],
   "source": [
    "# Instantiate and fit a LR model on df_cc\n",
    "\n",
    "lr = LinearRegression()\n",
    "lr.fit(X_train, y_train)"
   ]
  },
  {
   "cell_type": "code",
   "execution_count": 75,
   "id": "ba85c831-16f5-4f75-87c6-12485f1608da",
   "metadata": {
    "tags": []
   },
   "outputs": [],
   "source": [
    "# generate predictions over test set\n",
    "\n",
    "y_preds = lr.predict(X_test)"
   ]
  },
  {
   "cell_type": "code",
   "execution_count": 76,
   "id": "fe5669c8-571c-4bb0-ae7b-3b76173a10c6",
   "metadata": {
    "tags": []
   },
   "outputs": [
    {
     "data": {
      "image/png": "[encoded data removed]",
      "text/plain": [
       "<Figure size 1200x600 with 1 Axes>"
      ]
     },
     "metadata": {},
     "output_type": "display_data"
    }
   ],
   "source": [
    "# plot predictions\n",
    "\n",
    "plt.figure(figsize = (12, 6))\n",
    "plt.plot(y_test, label = 'y_test')\n",
    "plt.plot(y_test.index, y_preds, label = 'y_preds')\n",
    "plt.title('Cumulative Confirmed test vs. preds')\n",
    "plt.xlabel('Date')\n",
    "plt.ylabel('Cumulative Confirmed Covid-19 cases')\n",
    "plt.legend();"
   ]
  },
  {
   "cell_type": "code",
   "execution_count": 117,
   "id": "8660ce1a-c24b-4e9b-82cd-f684d139269a",
   "metadata": {
    "tags": []
   },
   "outputs": [],
   "source": [
    "# Re-establish y\n",
    "\n",
    "df_cc = df_cc[['cumulative_confirmed']]"
   ]
  },
  {
   "cell_type": "code",
   "execution_count": 78,
   "id": "a0bbda0d-87ce-45ed-9a6e-3f74f9a7754f",
   "metadata": {
    "tags": []
   },
   "outputs": [
    {
     "data": {
      "text/plain": [
       "(0.5332669889187962,\n",
       " 0.9858499051442031,\n",
       " 21,\n",
       " 812,\n",
       " {'1%': -3.4384289321263126,\n",
       "  '5%': -2.865105979079729,\n",
       "  '10%': -2.568668841575869},\n",
       " 19769.95955184543)"
      ]
     },
     "execution_count": 78,
     "metadata": {},
     "output_type": "execute_result"
    }
   ],
   "source": [
    "# Augmented Dickey-Fuller test to determine stationarity\n",
    "\n",
    "adfuller(df_cc)"
   ]
  },
  {
   "cell_type": "markdown",
   "id": "5d1b8360-50b5-4c54-abb7-aba5461773e2",
   "metadata": {},
   "source": [
    "P-value is nearly 1, much greater than 0.05, so we can conclude the time series is not stationarity. We must improve stationarity to use ARIMA."
   ]
  },
  {
   "cell_type": "markdown",
   "id": "2fa69194-e68f-48e1-ab1f-f1d687af9cad",
   "metadata": {},
   "source": [
    "### Detrend dataset to improve stationarity\n",
    "Source: GA 9.04-lesson-forecasint-ii"
   ]
  },
  {
   "cell_type": "code",
   "execution_count": 79,
   "id": "b509d7a3-884c-4122-ab3d-d3d34ad066fd",
   "metadata": {
    "tags": []
   },
   "outputs": [],
   "source": [
    "# reconfigure y in order to detrend\n",
    "\n",
    "X = pd.to_numeric(df_cc.index)\n",
    "X = X.to_numpy().reshape(-1, 1)\n",
    "y = df_cc['cumulative_confirmed']"
   ]
  },
  {
   "cell_type": "code",
   "execution_count": 84,
   "id": "76b941e5-3385-4090-9cdb-0c5f5cdc0eb2",
   "metadata": {
    "tags": []
   },
   "outputs": [
    {
     "data": {
      "text/html": [
       "<style>#sk-container-id-5 {color: black;}#sk-container-id-5 pre{padding: 0;}#sk-container-id-5 div.sk-toggleable {background-color: white;}#sk-container-id-5 label.sk-toggleable__label {cursor: pointer;display: block;width: 100%;margin-bottom: 0;padding: 0.3em;box-sizing: border-box;text-align: center;}#sk-container-id-5 label.sk-toggleable__label-arrow:before {content: \"▸\";float: left;margin-right: 0.25em;color: #696969;}#sk-container-id-5 label.sk-toggleable__label-arrow:hover:before {color: black;}#sk-container-id-5 div.sk-estimator:hover label.sk-toggleable__label-arrow:before {color: black;}#sk-container-id-5 div.sk-toggleable__content {max-height: 0;max-width: 0;overflow: hidden;text-align: left;background-color: #f0f8ff;}#sk-container-id-5 div.sk-toggleable__content pre {margin: 0.2em;color: black;border-radius: 0.25em;background-color: #f0f8ff;}#sk-container-id-5 input.sk-toggleable__control:checked~div.sk-toggleable__content {max-height: 200px;max-width: 100%;overflow: auto;}#sk-container-id-5 input.sk-toggleable__control:checked~label.sk-toggleable__label-arrow:before {content: \"▾\";}#sk-container-id-5 div.sk-estimator input.sk-toggleable__control:checked~label.sk-toggleable__label {background-color: #d4ebff;}#sk-container-id-5 div.sk-label input.sk-toggleable__control:checked~label.sk-toggleable__label {background-color: #d4ebff;}#sk-container-id-5 input.sk-hidden--visually {border: 0;clip: rect(1px 1px 1px 1px);clip: rect(1px, 1px, 1px, 1px);height: 1px;margin: -1px;overflow: hidden;padding: 0;position: absolute;width: 1px;}#sk-container-id-5 div.sk-estimator {font-family: monospace;background-color: #f0f8ff;border: 1px dotted black;border-radius: 0.25em;box-sizing: border-box;margin-bottom: 0.5em;}#sk-container-id-5 div.sk-estimator:hover {background-color: #d4ebff;}#sk-container-id-5 div.sk-parallel-item::after {content: \"\";width: 100%;border-bottom: 1px solid gray;flex-grow: 1;}#sk-container-id-5 div.sk-label:hover label.sk-toggleable__label {background-color: #d4ebff;}#sk-container-id-5 div.sk-serial::before {content: \"\";position: absolute;border-left: 1px solid gray;box-sizing: border-box;top: 0;bottom: 0;left: 50%;z-index: 0;}#sk-container-id-5 div.sk-serial {display: flex;flex-direction: column;align-items: center;background-color: white;padding-right: 0.2em;padding-left: 0.2em;position: relative;}#sk-container-id-5 div.sk-item {position: relative;z-index: 1;}#sk-container-id-5 div.sk-parallel {display: flex;align-items: stretch;justify-content: center;background-color: white;position: relative;}#sk-container-id-5 div.sk-item::before, #sk-container-id-5 div.sk-parallel-item::before {content: \"\";position: absolute;border-left: 1px solid gray;box-sizing: border-box;top: 0;bottom: 0;left: 50%;z-index: -1;}#sk-container-id-5 div.sk-parallel-item {display: flex;flex-direction: column;z-index: 1;position: relative;background-color: white;}#sk-container-id-5 div.sk-parallel-item:first-child::after {align-self: flex-end;width: 50%;}#sk-container-id-5 div.sk-parallel-item:last-child::after {align-self: flex-start;width: 50%;}#sk-container-id-5 div.sk-parallel-item:only-child::after {width: 0;}#sk-container-id-5 div.sk-dashed-wrapped {border: 1px dashed gray;margin: 0 0.4em 0.5em 0.4em;box-sizing: border-box;padding-bottom: 0.4em;background-color: white;}#sk-container-id-5 div.sk-label label {font-family: monospace;font-weight: bold;display: inline-block;line-height: 1.2em;}#sk-container-id-5 div.sk-label-container {text-align: center;}#sk-container-id-5 div.sk-container {/* jupyter's `normalize.less` sets `[hidden] { display: none; }` but bootstrap.min.css set `[hidden] { display: none !important; }` so we also need the `!important` here to be able to override the default hidden behavior on the sphinx rendered scikit-learn.org. See: https://github.com/scikit-learn/scikit-learn/issues/21755 */display: inline-block !important;position: relative;}#sk-container-id-5 div.sk-text-repr-fallback {display: none;}</style><div id=\"sk-container-id-5\" class=\"sk-top-container\"><div class=\"sk-text-repr-fallback\"><pre>LinearRegression()</pre><b>In a Jupyter environment, please rerun this cell to show the HTML representation or trust the notebook. <br />On GitHub, the HTML representation is unable to render, please try loading this page with nbviewer.org.</b></div><div class=\"sk-container\" hidden><div class=\"sk-item\"><div class=\"sk-estimator sk-toggleable\"><input class=\"sk-toggleable__control sk-hidden--visually\" id=\"sk-estimator-id-5\" type=\"checkbox\" checked><label for=\"sk-estimator-id-5\" class=\"sk-toggleable__label sk-toggleable__label-arrow\">LinearRegression</label><div class=\"sk-toggleable__content\"><pre>LinearRegression()</pre></div></div></div></div></div>"
      ],
      "text/plain": [
       "LinearRegression()"
      ]
     },
     "execution_count": 84,
     "metadata": {},
     "output_type": "execute_result"
    }
   ],
   "source": [
    "lr = LinearRegression()\n",
    "lr.fit(X, y)"
   ]
  },
  {
   "cell_type": "code",
   "execution_count": 88,
   "id": "605bdc9f-d0a9-40e7-a340-e9162323d74e",
   "metadata": {
    "tags": []
   },
   "outputs": [],
   "source": [
    "pred = lr.predict(X)\n",
    "detrend = y - pred"
   ]
  },
  {
   "cell_type": "code",
   "execution_count": 89,
   "id": "cddedbbb-1247-4b43-a2df-fdf880d607c6",
   "metadata": {
    "tags": []
   },
   "outputs": [
    {
     "data": {
      "image/png": "[encoded data removed]",
      "text/plain": [
       "<Figure size 640x480 with 1 Axes>"
      ]
     },
     "metadata": {},
     "output_type": "display_data"
    }
   ],
   "source": [
    "plt.plot(X, y);\n",
    "plt.plot(X, detrend);"
   ]
  },
  {
   "cell_type": "code",
   "execution_count": 110,
   "id": "234e0d95-7aa8-4cf7-a5c5-b7d9285f34b1",
   "metadata": {
    "tags": []
   },
   "outputs": [
    {
     "data": {
      "text/plain": [
       "(-2.2039502066534595,\n",
       " 0.20481488497148148,\n",
       " 21,\n",
       " 812,\n",
       " {'1%': -3.4384289321263126,\n",
       "  '5%': -2.865105979079729,\n",
       "  '10%': -2.568668841575869},\n",
       " 19765.2684939286)"
      ]
     },
     "execution_count": 110,
     "metadata": {},
     "output_type": "execute_result"
    }
   ],
   "source": [
    "adfuller(detrend)"
   ]
  },
  {
   "cell_type": "markdown",
   "id": "9b8afd0d-0a52-403d-9357-05277438c59d",
   "metadata": {},
   "source": [
    "Detrending did not improve p-value to the point the dataset is stationary."
   ]
  },
  {
   "cell_type": "markdown",
   "id": "e184b8ab-edb5-41b6-ae34-52c85c25c04a",
   "metadata": {},
   "source": [
    "### Difference dataset to improve stationarity"
   ]
  },
  {
   "cell_type": "code",
   "execution_count": 118,
   "id": "0095b8d9-441b-48a3-9aab-cf596721e0c4",
   "metadata": {
    "tags": []
   },
   "outputs": [],
   "source": [
    "# difference dataset\n",
    "\n",
    "df_cc['difference'] = df_cc['cumulative_confirmed'].diff()"
   ]
  },
  {
   "cell_type": "code",
   "execution_count": 119,
   "id": "e612abee-167f-4578-8ecc-57a6e5562148",
   "metadata": {
    "tags": []
   },
   "outputs": [
    {
     "data": {
      "image/png": "[encoded data removed]",
      "text/plain": [
       "<Figure size 640x480 with 1 Axes>"
      ]
     },
     "metadata": {},
     "output_type": "display_data"
    }
   ],
   "source": [
    "df_cc.plot();"
   ]
  },
  {
   "cell_type": "code",
   "execution_count": 121,
   "id": "c4b3e641-6592-4d00-a85a-f70c518e0794",
   "metadata": {
    "tags": []
   },
   "outputs": [],
   "source": [
    "df_cc.dropna(inplace = True)"
   ]
  },
  {
   "cell_type": "code",
   "execution_count": 122,
   "id": "a1fcb0e9-7b3b-4276-aa42-66dac7d8095e",
   "metadata": {
    "tags": []
   },
   "outputs": [
    {
     "data": {
      "text/plain": [
       "(-3.3920477026494003,\n",
       " 0.011232970633197104,\n",
       " 21,\n",
       " 811,\n",
       " {'1%': -3.4384389256151358,\n",
       "  '5%': -2.8651103842072048,\n",
       "  '10%': -2.568671188193778},\n",
       " 19744.78532156366)"
      ]
     },
     "execution_count": 122,
     "metadata": {},
     "output_type": "execute_result"
    }
   ],
   "source": [
    "adfuller(df_cc.difference)"
   ]
  },
  {
   "cell_type": "markdown",
   "id": "f19345b7-df37-4cd0-981c-deb90a96a257",
   "metadata": {},
   "source": [
    "Using difference, p-value is now below 0.05; dataset exhibits stationarity."
   ]
  },
  {
   "cell_type": "markdown",
   "id": "bf214440-8920-4f04-9a7c-20bad74fd023",
   "metadata": {},
   "source": [
    "### Create ARIMA model"
   ]
  },
  {
   "cell_type": "code",
   "execution_count": 126,
   "id": "e94648a2-ff68-4fc2-a1a7-f3ff16752aea",
   "metadata": {
    "tags": []
   },
   "outputs": [],
   "source": [
    "y_train, y_test = temporal_train_test_split(df_cc['cumulative_confirmed'], test_size = 240)"
   ]
  },
  {
   "cell_type": "code",
   "execution_count": 127,
   "id": "39956458-c0f9-4a00-a717-bbf34557cdac",
   "metadata": {
    "tags": []
   },
   "outputs": [
    {
     "name": "stdout",
     "output_type": "stream",
     "text": [
      "Performing stepwise search to minimize aic\n",
      " ARIMA(2,1,2)(0,0,0)[0] intercept   : AIC=13905.052, Time=0.27 sec\n",
      " ARIMA(0,1,0)(0,0,0)[0] intercept   : AIC=14845.084, Time=0.02 sec\n",
      " ARIMA(1,1,0)(0,0,0)[0] intercept   : AIC=14178.344, Time=0.02 sec\n",
      " ARIMA(0,1,1)(0,0,0)[0] intercept   : AIC=14590.104, Time=0.06 sec\n",
      " ARIMA(0,1,0)(0,0,0)[0]             : AIC=15271.412, Time=0.01 sec\n",
      " ARIMA(1,1,2)(0,0,0)[0] intercept   : AIC=13949.201, Time=0.11 sec\n",
      " ARIMA(2,1,1)(0,0,0)[0] intercept   : AIC=13958.516, Time=0.18 sec\n",
      " ARIMA(3,1,2)(0,0,0)[0] intercept   : AIC=13887.371, Time=0.29 sec\n",
      " ARIMA(3,1,1)(0,0,0)[0] intercept   : AIC=13927.213, Time=0.14 sec\n",
      " ARIMA(4,1,2)(0,0,0)[0] intercept   : AIC=13881.933, Time=0.46 sec\n",
      " ARIMA(4,1,1)(0,0,0)[0] intercept   : AIC=13910.145, Time=0.24 sec\n",
      " ARIMA(5,1,2)(0,0,0)[0] intercept   : AIC=13871.144, Time=0.53 sec\n",
      " ARIMA(5,1,1)(0,0,0)[0] intercept   : AIC=13905.892, Time=0.39 sec\n",
      " ARIMA(5,1,3)(0,0,0)[0] intercept   : AIC=13898.069, Time=1.10 sec\n",
      " ARIMA(4,1,3)(0,0,0)[0] intercept   : AIC=13800.371, Time=0.93 sec\n",
      " ARIMA(3,1,3)(0,0,0)[0] intercept   : AIC=13769.364, Time=0.76 sec\n",
      " ARIMA(2,1,3)(0,0,0)[0] intercept   : AIC=13879.741, Time=0.48 sec\n",
      " ARIMA(3,1,4)(0,0,0)[0] intercept   : AIC=13821.095, Time=0.61 sec\n",
      " ARIMA(2,1,4)(0,0,0)[0] intercept   : AIC=13868.755, Time=0.47 sec\n",
      " ARIMA(4,1,4)(0,0,0)[0] intercept   : AIC=13812.021, Time=0.66 sec\n",
      " ARIMA(3,1,3)(0,0,0)[0]             : AIC=13767.522, Time=0.61 sec\n",
      " ARIMA(2,1,3)(0,0,0)[0]             : AIC=13872.299, Time=0.59 sec\n",
      " ARIMA(3,1,2)(0,0,0)[0]             : AIC=13834.345, Time=0.31 sec\n",
      " ARIMA(4,1,3)(0,0,0)[0]             : AIC=13809.174, Time=0.69 sec\n",
      " ARIMA(3,1,4)(0,0,0)[0]             : AIC=13816.799, Time=0.79 sec\n",
      " ARIMA(2,1,2)(0,0,0)[0]             : AIC=13894.015, Time=0.49 sec\n",
      " ARIMA(2,1,4)(0,0,0)[0]             : AIC=13857.418, Time=0.43 sec\n",
      " ARIMA(4,1,2)(0,0,0)[0]             : AIC=13833.703, Time=0.47 sec\n",
      " ARIMA(4,1,4)(0,0,0)[0]             : AIC=13810.409, Time=0.86 sec\n",
      "\n",
      "Best model:  ARIMA(3,1,3)(0,0,0)[0]          \n",
      "Total fit time: 12.967 seconds\n"
     ]
    }
   ],
   "source": [
    "model = pmd.auto_arima(y_train, d = 1, seasonal = False, trace = True)"
   ]
  },
  {
   "cell_type": "code",
   "execution_count": 128,
   "id": "837034c1-035a-4d50-9532-4e37dc87119e",
   "metadata": {
    "tags": []
   },
   "outputs": [
    {
     "data": {
      "text/html": [
       "<style>#sk-container-id-7 {color: black;}#sk-container-id-7 pre{padding: 0;}#sk-container-id-7 div.sk-toggleable {background-color: white;}#sk-container-id-7 label.sk-toggleable__label {cursor: pointer;display: block;width: 100%;margin-bottom: 0;padding: 0.3em;box-sizing: border-box;text-align: center;}#sk-container-id-7 label.sk-toggleable__label-arrow:before {content: \"▸\";float: left;margin-right: 0.25em;color: #696969;}#sk-container-id-7 label.sk-toggleable__label-arrow:hover:before {color: black;}#sk-container-id-7 div.sk-estimator:hover label.sk-toggleable__label-arrow:before {color: black;}#sk-container-id-7 div.sk-toggleable__content {max-height: 0;max-width: 0;overflow: hidden;text-align: left;background-color: #f0f8ff;}#sk-container-id-7 div.sk-toggleable__content pre {margin: 0.2em;color: black;border-radius: 0.25em;background-color: #f0f8ff;}#sk-container-id-7 input.sk-toggleable__control:checked~div.sk-toggleable__content {max-height: 200px;max-width: 100%;overflow: auto;}#sk-container-id-7 input.sk-toggleable__control:checked~label.sk-toggleable__label-arrow:before {content: \"▾\";}#sk-container-id-7 div.sk-estimator input.sk-toggleable__control:checked~label.sk-toggleable__label {background-color: #d4ebff;}#sk-container-id-7 div.sk-label input.sk-toggleable__control:checked~label.sk-toggleable__label {background-color: #d4ebff;}#sk-container-id-7 input.sk-hidden--visually {border: 0;clip: rect(1px 1px 1px 1px);clip: rect(1px, 1px, 1px, 1px);height: 1px;margin: -1px;overflow: hidden;padding: 0;position: absolute;width: 1px;}#sk-container-id-7 div.sk-estimator {font-family: monospace;background-color: #f0f8ff;border: 1px dotted black;border-radius: 0.25em;box-sizing: border-box;margin-bottom: 0.5em;}#sk-container-id-7 div.sk-estimator:hover {background-color: #d4ebff;}#sk-container-id-7 div.sk-parallel-item::after {content: \"\";width: 100%;border-bottom: 1px solid gray;flex-grow: 1;}#sk-container-id-7 div.sk-label:hover label.sk-toggleable__label {background-color: #d4ebff;}#sk-container-id-7 div.sk-serial::before {content: \"\";position: absolute;border-left: 1px solid gray;box-sizing: border-box;top: 0;bottom: 0;left: 50%;z-index: 0;}#sk-container-id-7 div.sk-serial {display: flex;flex-direction: column;align-items: center;background-color: white;padding-right: 0.2em;padding-left: 0.2em;position: relative;}#sk-container-id-7 div.sk-item {position: relative;z-index: 1;}#sk-container-id-7 div.sk-parallel {display: flex;align-items: stretch;justify-content: center;background-color: white;position: relative;}#sk-container-id-7 div.sk-item::before, #sk-container-id-7 div.sk-parallel-item::before {content: \"\";position: absolute;border-left: 1px solid gray;box-sizing: border-box;top: 0;bottom: 0;left: 50%;z-index: -1;}#sk-container-id-7 div.sk-parallel-item {display: flex;flex-direction: column;z-index: 1;position: relative;background-color: white;}#sk-container-id-7 div.sk-parallel-item:first-child::after {align-self: flex-end;width: 50%;}#sk-container-id-7 div.sk-parallel-item:last-child::after {align-self: flex-start;width: 50%;}#sk-container-id-7 div.sk-parallel-item:only-child::after {width: 0;}#sk-container-id-7 div.sk-dashed-wrapped {border: 1px dashed gray;margin: 0 0.4em 0.5em 0.4em;box-sizing: border-box;padding-bottom: 0.4em;background-color: white;}#sk-container-id-7 div.sk-label label {font-family: monospace;font-weight: bold;display: inline-block;line-height: 1.2em;}#sk-container-id-7 div.sk-label-container {text-align: center;}#sk-container-id-7 div.sk-container {/* jupyter's `normalize.less` sets `[hidden] { display: none; }` but bootstrap.min.css set `[hidden] { display: none !important; }` so we also need the `!important` here to be able to override the default hidden behavior on the sphinx rendered scikit-learn.org. See: https://github.com/scikit-learn/scikit-learn/issues/21755 */display: inline-block !important;position: relative;}#sk-container-id-7 div.sk-text-repr-fallback {display: none;}</style><div id=\"sk-container-id-7\" class=\"sk-top-container\"><div class=\"sk-text-repr-fallback\"><pre> ARIMA(3,1,3)(0,0,0)[0]          </pre><b>In a Jupyter environment, please rerun this cell to show the HTML representation or trust the notebook. <br />On GitHub, the HTML representation is unable to render, please try loading this page with nbviewer.org.</b></div><div class=\"sk-container\" hidden><div class=\"sk-item\"><div class=\"sk-estimator sk-toggleable\"><input class=\"sk-toggleable__control sk-hidden--visually\" id=\"sk-estimator-id-7\" type=\"checkbox\" checked><label for=\"sk-estimator-id-7\" class=\"sk-toggleable__label sk-toggleable__label-arrow\">ARIMA</label><div class=\"sk-toggleable__content\"><pre> ARIMA(3,1,3)(0,0,0)[0]          </pre></div></div></div></div></div>"
      ],
      "text/plain": [
       "ARIMA(order=(3, 1, 3), scoring_args={}, suppress_warnings=True,\n",
       "      with_intercept=False)"
      ]
     },
     "execution_count": 128,
     "metadata": {},
     "output_type": "execute_result"
    }
   ],
   "source": [
    "model"
   ]
  },
  {
   "cell_type": "code",
   "execution_count": 130,
   "id": "b6b22a5d-cfc9-4136-bec0-f0f1dd6ca0f9",
   "metadata": {
    "tags": []
   },
   "outputs": [],
   "source": [
    "auto_arima_preds = model.predict(240)"
   ]
  },
  {
   "cell_type": "code",
   "execution_count": 131,
   "id": "a2bd90f6-a66a-43fb-b814-a6282e51ec0c",
   "metadata": {
    "tags": []
   },
   "outputs": [
    {
     "data": {
      "image/png": "[encoded data removed]",
      "text/plain": [
       "<Figure size 1200x600 with 1 Axes>"
      ]
     },
     "metadata": {},
     "output_type": "display_data"
    }
   ],
   "source": [
    "# plot predictions\n",
    "\n",
    "plt.figure(figsize = (12, 6))\n",
    "plt.plot(y_train, label = 'y_train')\n",
    "plt.plot(y_test, label = 'y_test')\n",
    "plt.plot(y_test.index, auto_arima_preds, label = 'auto_arima')\n",
    "plt.title('Cumulative Confirmed Train/Test vs. Auto Arima Predictions')\n",
    "plt.xlabel('Date')\n",
    "plt.ylabel('Cumulative Confirmed Covid-19 cases')\n",
    "plt.legend();"
   ]
  },
  {
   "cell_type": "code",
   "execution_count": null,
   "id": "4bf726ec-88ff-40fc-b4a0-f030a2a7d72b",
   "metadata": {},
   "outputs": [],
   "source": []
  }
 ],
 "metadata": {
  "kernelspec": {
   "display_name": "Python 3 (ipykernel)",
   "language": "python",
   "name": "python3"
  },
  "language_info": {
   "codemirror_mode": {
    "name": "ipython",
    "version": 3
   },
   "file_extension": ".py",
   "mimetype": "text/x-python",
   "name": "python",
   "nbconvert_exporter": "python",
   "pygments_lexer": "ipython3",
   "version": "3.11.5"
  }
 },
 "nbformat": 4,
 "nbformat_minor": 5
}
